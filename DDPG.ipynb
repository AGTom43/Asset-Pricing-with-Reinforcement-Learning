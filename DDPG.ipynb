{
  "cells": [
    {
      "cell_type": "markdown",
      "metadata": {
        "id": "cMk1Du3gQ6DX"
      },
      "source": [
        "# DDPG Main"
      ]
    },
    {
      "cell_type": "markdown",
      "metadata": {
        "id": "2Kxx9aOfQ6DZ"
      },
      "source": [
        "## Data Preprocessing"
      ]
    },
    {
      "cell_type": "code",
      "execution_count": 3,
      "metadata": {
        "colab": {
          "base_uri": "https://localhost:8080/"
        },
        "id": "kFzpwTVuQ6Da",
        "outputId": "9c9977f6-7b86-4d79-a869-e1a2393625e8"
      },
      "outputs": [
        {
          "output_type": "stream",
          "name": "stdout",
          "text": [
            "Mounted at /content/drive\n",
            "                     Date  Last Price    Volume  SMAVG (15)\n",
            "2345  2023-03-06 19:30:00    0.701005  0.088367         NaN\n",
            "2344  2023-03-06 20:00:00    0.685666  0.067463         NaN\n",
            "2343  2023-03-06 20:30:00    0.706041  0.203586         NaN\n",
            "2342  2023-03-07 14:30:00    0.658422  0.154177         NaN\n",
            "2341  2023-03-07 15:00:00    0.650180  0.116092    0.104411\n",
            "...                   ...         ...       ...         ...\n",
            "476   2023-09-29 19:00:00    0.853936  0.068144    0.135628\n",
            "475   2023-09-29 19:30:00    0.876830  0.072069    0.134349\n",
            "474   2023-09-29 20:00:00    0.874999  0.090113    0.137765\n",
            "473   2023-09-29 20:30:00    0.881409  0.306496    0.180971\n",
            "472   2023-10-02 14:30:00    0.794870  0.171930    0.194260\n",
            "\n",
            "[1874 rows x 4 columns]\n"
          ]
        }
      ],
      "source": [
        "import pandas as pd\n",
        "from sklearn.preprocessing import MinMaxScaler\n",
        "\n",
        "# Load data\n",
        "#C:\\Users\\rohit\\OneDrive\\Documents\\Asset-Pricing-with-Reinforcement-Learning\\XOM_30_minute_6_month_data.csv\n",
        "# df = pd.read_csv('XOM_30_minute_6_month_data.csv', parse_dates=['Date'])\n",
        "from google.colab import drive\n",
        "drive.mount('/content/drive')\n",
        "\n",
        "OneDayFiveYears = '/content/drive/MyDrive/UniYear3/RL/XOM_1_day_5_years_price_data.csv'\n",
        "ThirtyMinSixMonths = '/content/drive/MyDrive/UniYear3/RL/XOM_30_minute_6_month_data.csv'\n",
        "\n",
        "# Load CSV data\n",
        "df = pd.read_csv(ThirtyMinSixMonths)\n",
        "df.sort_values('Date', inplace=True)\n",
        "\n",
        "# Normalize\n",
        "scaler = MinMaxScaler()\n",
        "df[['Last Price', 'Volume', 'SMAVG (15)']] = scaler.fit_transform(df[['Last Price', 'Volume', 'SMAVG (15)']])\n",
        "\n",
        "# Split into training and testing sets\n",
        "train_size = int(len(df) * 0.8)\n",
        "train_df = df[:train_size]\n",
        "test_df = df[train_size:]\n",
        "\n",
        "print(train_df[10:])"
      ]
    },
    {
      "cell_type": "code",
      "source": [
        "%pip install gymnasium"
      ],
      "metadata": {
        "colab": {
          "base_uri": "https://localhost:8080/"
        },
        "id": "jAsP4aaFRWIE",
        "outputId": "28311f9a-e213-4934-9207-122996a4a308"
      },
      "execution_count": 4,
      "outputs": [
        {
          "output_type": "stream",
          "name": "stdout",
          "text": [
            "Collecting gymnasium\n",
            "  Downloading gymnasium-0.29.1-py3-none-any.whl (953 kB)\n",
            "\u001b[?25l     \u001b[90m━━━━━━━━━━━━━━━━━━━━━━━━━━━━━━━━━━━━━━━━\u001b[0m \u001b[32m0.0/953.9 kB\u001b[0m \u001b[31m?\u001b[0m eta \u001b[36m-:--:--\u001b[0m\r\u001b[2K     \u001b[91m━━━━━━━━\u001b[0m\u001b[91m╸\u001b[0m\u001b[90m━━━━━━━━━━━━━━━━━━━━━━━━━━━━━━━\u001b[0m \u001b[32m204.8/953.9 kB\u001b[0m \u001b[31m6.1 MB/s\u001b[0m eta \u001b[36m0:00:01\u001b[0m\r\u001b[2K     \u001b[91m━━━━━━━━━━━━━━━━━━━━━━━━━━━━━━━━━\u001b[0m\u001b[90m╺\u001b[0m\u001b[90m━━━━━━\u001b[0m \u001b[32m798.7/953.9 kB\u001b[0m \u001b[31m11.7 MB/s\u001b[0m eta \u001b[36m0:00:01\u001b[0m\r\u001b[2K     \u001b[90m━━━━━━━━━━━━━━━━━━━━━━━━━━━━━━━━━━━━━━━━\u001b[0m \u001b[32m953.9/953.9 kB\u001b[0m \u001b[31m11.0 MB/s\u001b[0m eta \u001b[36m0:00:00\u001b[0m\n",
            "\u001b[?25hRequirement already satisfied: numpy>=1.21.0 in /usr/local/lib/python3.10/dist-packages (from gymnasium) (1.23.5)\n",
            "Requirement already satisfied: cloudpickle>=1.2.0 in /usr/local/lib/python3.10/dist-packages (from gymnasium) (2.2.1)\n",
            "Requirement already satisfied: typing-extensions>=4.3.0 in /usr/local/lib/python3.10/dist-packages (from gymnasium) (4.5.0)\n",
            "Collecting farama-notifications>=0.0.1 (from gymnasium)\n",
            "  Downloading Farama_Notifications-0.0.4-py3-none-any.whl (2.5 kB)\n",
            "Installing collected packages: farama-notifications, gymnasium\n",
            "Successfully installed farama-notifications-0.0.4 gymnasium-0.29.1\n"
          ]
        }
      ]
    },
    {
      "cell_type": "markdown",
      "metadata": {
        "id": "nmVR7Q_5Q6Dd"
      },
      "source": [
        "## Environment"
      ]
    },
    {
      "cell_type": "code",
      "execution_count": 5,
      "metadata": {
        "id": "DgmwP_2aQ6Df"
      },
      "outputs": [],
      "source": [
        "import torch\n",
        "import torch.nn as nn\n",
        "import torch.optim as optim\n",
        "import numpy as np\n",
        "import gymnasium\n",
        "from gymnasium import spaces\n",
        "import pandas as pd\n",
        "from sklearn.preprocessing import MinMaxScaler\n",
        "\n",
        "\n",
        "class DDPGTradingEnv(gymnasium.Env):\n",
        "\n",
        "  def __init__(self, df):\n",
        "    super().__init__()\n",
        "\n",
        "    self.df = df\n",
        "    self.current_step = 0\n",
        "    self.total_steps = len(df) - 1\n",
        "\n",
        "    # Negatives mean quantity to sell, 0 is hold, positives mean buy\n",
        "    self.action_space = spaces.Box(low=-1, high=1, shape=(1, ), dtype=np.float32)\n",
        "    # Observation space: normalized last price, normalized shares held, normalized cash balance\n",
        "    self.observation_space = spaces.Box(low=0, high=1, shape=(3,), dtype=np.float32)\n",
        "\n",
        "    self.reset()\n",
        "\n",
        "  def reset(self):\n",
        "    self.current_step = 0\n",
        "    self.total_profit = 0\n",
        "    self.initial_balance = 10000\n",
        "    self.cash_balance = self.initial_balance\n",
        "    self.shares_held = 0\n",
        "    self.portfolio_value = self.cash_balance\n",
        "\n",
        "    self.previous_portfolio_value = self.portfolio_value\n",
        "    # For plotting\n",
        "    self.portfolio_history = [self.portfolio_value]\n",
        "\n",
        "    return self.get_observation()\n",
        "\n",
        "  def get_observation(self):\n",
        "    current_price = self.df.loc[self.current_step, 'Last Price']\n",
        "    return np.array([current_price, self.shares_held, self.cash_balance])\n",
        "\n",
        "  # Action space is one number between -1 and 1.\n",
        "  def take_action(self, action_value):\n",
        "    current_price = self.df.loc[self.current_step, 'Last Price']\n",
        "    if action_value > 0:\n",
        "      self.buy_stock(action_value, current_price)\n",
        "    elif action_value < 0:\n",
        "      self.sell_stock(action_value, current_price)\n",
        "    # Update the portfolio value\n",
        "    self.previous_portfolio_value = self.portfolio_value\n",
        "    self.portfolio_value = self.cash_balance + (self.shares_held * current_price)\n",
        "\n",
        "  def buy_stock(self, num_stocks, current_price):\n",
        "    self.cash_balance -= (num_stocks * current_price)\n",
        "    self.shares_held += num_stocks\n",
        "\n",
        "  def sell_stock(self, num_stocks, current_price):\n",
        "    self.cash_balance += (num_stocks * current_price)\n",
        "    self.shares_held -= num_stocks\n",
        "\n",
        "  def step(self, action):\n",
        "    self.current_step += 1\n",
        "    self.take_action(action)\n",
        "    reward = self.calculate_reward()\n",
        "    terminated = (self.current_step >= len(self.df) - 1)\n",
        "    observation = self.get_observation()\n",
        "    info = {'current_step': self.current_step, 'portfolio_value': self.portfolio_value}\n",
        "    self.portfolio_history.append(self.portfolio_value)\n",
        "    return observation, reward, terminated, info\n",
        "\n",
        "  def render(self, mode='human'):\n",
        "    if mode == 'human':\n",
        "      print(f\"Step: {self.current_step}, Portfolio Value: {self.portfolio_value}\")\n",
        "\n",
        "  # The reward is the change in portfolio value the next time_step\n",
        "  def calculate_reward(self):\n",
        "    reward = self.portfolio_value - self.previous_portfolio_value\n",
        "    return reward"
      ]
    },
    {
      "cell_type": "markdown",
      "metadata": {
        "id": "dgQErZ0uQ6Dg"
      },
      "source": [
        "## DDPG Classes"
      ]
    },
    {
      "cell_type": "code",
      "execution_count": 6,
      "metadata": {
        "id": "Q7IWZPkKQ6Di"
      },
      "outputs": [],
      "source": [
        "# Because DDPG is an off-policy actor-critic policy-gradient algorithm, this means that the critic\n",
        "# evaluates the actor, but because they are off-policy, the agents act according to their own\n",
        "# policy but learn according to the target policy.\n",
        "\n",
        "import random\n",
        "from collections import deque\n",
        "import torch\n",
        "import torch.nn as nn\n",
        "import torch.nn.functional as F\n",
        "import torch.optim as optim\n",
        "\n",
        "# Initialise environment:\n",
        "env = DDPGTradingEnv(df)\n",
        "\n",
        "# # Pseudocode line 1:\n",
        "# # Initialize replay memory 𝐷 to capacity 𝑁\n",
        "# N = 1000\n",
        "# replay_memory = []\n",
        "# # replay_memory = deque(maxlen=N)\n",
        "# # Initialise minibatch size\n",
        "# minibatch_size = 50\n",
        "\n",
        "# # Input: Current state\n",
        "# # Output: Action to be taken\n",
        "# # class Actor(nn.Module):\n",
        "# #     def __init__(self, input_dim, output_dim, hidden_size=128):\n",
        "# #         super(Actor, self).__init__()\n",
        "\n",
        "# #     def forward(self, state):\n",
        "# #         return 0.5\n",
        "\n",
        "# # # Input: Current State & Actor's action\n",
        "# # # Output: Expected value of state-action pair\n",
        "# # class Critic(nn.Module):\n",
        "# #     def __init__(self, input_dim, output_dim, hidden_size=128):\n",
        "# #         super(Critic, self).__init__()\n",
        "\n",
        "# #     def forward(self, state, action):\n",
        "# #         return 0.5\n",
        "\n",
        "# # Pseudocode line 2 & 3:\n",
        "# # Initialize actor network 𝜋̂ 1 with parameters 𝒘1 arbitrarily\n",
        "# # Initialize target actor network 𝜋̂ 2 with parameters 𝒘2=𝒘1\n",
        "# state_dim = 3\n",
        "# action_dim = 1\n",
        "# actor_model = Actor(state_dim, action_dim)\n",
        "# target_actor_model = Actor(state_dim, action_dim)\n",
        "\n",
        "# # Pseudocode line 4 & 5:\n",
        "# # Initialize critic network 𝑞̂ 1 with parameters 𝜽1 arbitrarily\n",
        "# # Initialize target critic network 𝑞̂ 2 with parameters 𝜽2=𝜽1\n",
        "# critic_model = Critic(state_dim + action_dim, 1)\n",
        "# target_critic_model = Critic(state_dim + action_dim, 1)\n",
        "\n",
        "# # Pseudocode line 6: Algorithm parameters: target network learning rate 𝛽>0\n",
        "# beta = 0.005\n",
        "# # Gamma is the discount factor (importance of future rewards)\n",
        "# gamma = 0.9\n",
        "\n",
        "# # This is for the gradient descent, we will probably put this in a learn method in the DDPG class\n",
        "# lr = 0.005\n",
        "# optimizer_critic = optim.Adam(critic_model.parameters(), lr=lr)\n",
        "# optimizer_actor = optim.Adam(actor_model.parameters(), lr=lr)\n",
        "\n",
        "# # Loop for each episode:\n",
        "# num_episodes = 100\n",
        "# for i in range(num_episodes):\n",
        "#     # Initialise random process ϵ for action exploration\n",
        "#     epsilon = 0.1\n",
        "#     # Initialise S\n",
        "#     state = env.reset()\n",
        "\n",
        "#     # Loop for each step of episode (each time step in df)\n",
        "#     terminated = False\n",
        "#     while not terminated:\n",
        "#         # Select action 𝐴←𝜋̂ 1(𝑆,𝒘1)+\n",
        "#         action = actor_model.forward(state)\n",
        "#         # Execute action 𝐴, observe reward 𝑅 and next-state 𝑆′\n",
        "#         new_state, reward, terminated, info = env.step(action)\n",
        "#         # Store transition (𝑆,𝐴,𝑅,𝑆′) in 𝐷\n",
        "#         transition = (state, action, reward, new_state)\n",
        "#         replay_memory.append(transition)\n",
        "#         # For each transition (𝑆𝑗,𝐴𝑗,𝑅𝑗,𝑆′𝑗) in minibatch sampled from 𝐷:\n",
        "#         minibatch_sampled_from_D = random.sample(replay_memory, minibatch_size)\n",
        "#         for transition in minibatch_sampled_from_D:\n",
        "#             # 𝑦←𝑅𝑗+𝛾𝑞̂ 2(𝑆′𝑗,𝜋̂ 2(𝑆′𝑗,𝒘2),𝜽2)\n",
        "#             state, action, reward, new_state = transition\n",
        "#             # 𝜋̂ 2(𝑆′𝑗,𝒘2)\n",
        "#             target_actor_model_output = target_actor_model.forward(new_state)\n",
        "#             y = reward + gamma * target_critic_model.forward(new_state, target_actor_model_output)\n",
        "#             # Perform gradient descent step ∇𝜽1(𝑦−𝑞̂ 1(𝑆𝑗,𝐴𝑗,𝜽1))2 for critic (critic learning from target critic)\n",
        "#             critic_output = critic_model.forward(state, action)\n",
        "#             critic_loss = F.mse_loss(critic_output, y)\n",
        "#             optimizer_critic.zero_grad()\n",
        "#             critic_loss.backward()\n",
        "#             optimizer_critic.step()\n",
        "#             # Perform gradient ascent step ∇𝑤1𝐸[𝑞̂ 1(𝑆𝑗,𝜋̂ 1(𝑆𝑗,𝒘1),𝜽1)] for actor (actor learning from critic)\n",
        "#             actor_output = actor_model.forward(state)\n",
        "#             actor_loss = -torch.mean(critic_model(state, actor_output))\n",
        "#             optimizer_actor.zero_grad()\n",
        "#             actor_loss.backward()\n",
        "#             optimizer_actor.step()\n",
        "#         # Update target actor network parameters 𝒘2←𝛽𝒘1+(1−𝛽)𝒘2\n",
        "\n",
        "#         # Update target critic network parameters 𝜽2←𝛽𝜽1+(1−𝛽)𝜽2\n",
        "\n",
        "\n",
        "\n"
      ]
    },
    {
      "cell_type": "markdown",
      "metadata": {
        "id": "Hfh934AtQ6Dj"
      },
      "source": [
        "### Actor Class TEST"
      ]
    },
    {
      "cell_type": "code",
      "execution_count": 7,
      "metadata": {
        "id": "nHCt3gg3Q6Dj"
      },
      "outputs": [],
      "source": [
        "class Actor(nn.Module):\n",
        "    def __init__(self, state_dim, action_dim, hidden1_units, hidden2_units):\n",
        "        super(Actor, self).__init__()\n",
        "        self.fc1 = nn.Linear(state_dim, hidden1_units)\n",
        "        self.fc2 = nn.Linear(hidden1_units, hidden2_units)\n",
        "        self.fc3 = nn.Linear(hidden2_units, action_dim)\n",
        "\n",
        "    def forward(self, state):\n",
        "        x = F.relu(self.fc1(state))\n",
        "        x = F.relu(self.fc2(x))\n",
        "        x = torch.tanh(self.fc3(x))  # Output with tanh activation for bounded actions\n",
        "        return x"
      ]
    },
    {
      "cell_type": "markdown",
      "metadata": {
        "id": "1Fa-LlIjQ6Dm"
      },
      "source": [
        "### Critic Class TEST"
      ]
    },
    {
      "cell_type": "code",
      "execution_count": 10,
      "metadata": {
        "id": "sv8hLJn-Q6Dm"
      },
      "outputs": [],
      "source": [
        "# Critic Network\n",
        "class Critic(nn.Module):\n",
        "    def __init__(self, state_dim, action_dim, hidden1_units, hidden2_units):\n",
        "        super(Critic, self).__init__()\n",
        "        self.fc1_state = nn.Linear(state_dim, hidden1_units)\n",
        "        self.fc2_state = nn.Linear(hidden1_units, hidden2_units)\n",
        "\n",
        "        self.fc2_action = nn.Linear(action_dim, hidden2_units)\n",
        "\n",
        "        self.fc3 = nn.Linear(hidden2_units * 2, 1)  # Combined layer\n",
        "\n",
        "    def forward(self, state, action):\n",
        "        x_state = F.relu(self.fc1_state(state))\n",
        "        x_state = F.relu(self.fc2_state(x_state))\n",
        "\n",
        "        x_action = F.relu(self.fc2_action(action))\n",
        "\n",
        "        x = torch.cat((x_state, x_action), dim=1)\n",
        "        x = F.relu(x)\n",
        "        x = self.fc3(x)  # Q-value output\n",
        "        return x"
      ]
    },
    {
      "cell_type": "markdown",
      "metadata": {
        "id": "UBNVjcqiQ6Dn"
      },
      "source": [
        "## Training TEST"
      ]
    },
    {
      "cell_type": "code",
      "execution_count": 26,
      "metadata": {
        "colab": {
          "base_uri": "https://localhost:8080/"
        },
        "id": "kl-XBgPYQ6Do",
        "outputId": "b2030ae9-174f-4a1d-8db3-818db9db414b"
      },
      "outputs": [
        {
          "output_type": "stream",
          "name": "stderr",
          "text": [
            "<ipython-input-5-488850091d8d>:43: VisibleDeprecationWarning: Creating an ndarray from ragged nested sequences (which is a list-or-tuple of lists-or-tuples-or ndarrays with different lengths or shapes) is deprecated. If you meant to do this, you must specify 'dtype=object' when creating the ndarray.\n",
            "  return np.array([current_price, self.shares_held, self.cash_balance])\n",
            "<ipython-input-26-eb77438ffd80>:122: UserWarning: Using a target size (torch.Size([64, 64, 1])) that is different to the input size (torch.Size([64, 1])). This will likely lead to incorrect results due to broadcasting. Please ensure they have the same size.\n",
            "  critic_loss = F.mse_loss(critic_outputs, y)\n"
          ]
        }
      ],
      "source": [
        "# Initialize networks\n",
        "state_dim = 3\n",
        "action_dim = 1\n",
        "hidden1_units = 64  # Number of units in the first hidden layer\n",
        "hidden2_units = 64  # Number of units in the second hidden layer\n",
        "actor_model = Actor(state_dim, action_dim, hidden1_units, hidden2_units)\n",
        "critic_model = Critic(state_dim, action_dim, hidden1_units, hidden2_units)\n",
        "\n",
        "target_actor_model = Actor(state_dim, action_dim, hidden1_units, hidden2_units)\n",
        "target_critic_model = Critic(state_dim, action_dim, hidden1_units, hidden2_units)\n",
        "\n",
        "# Set target networks' parameters equal to the main networks' parameters\n",
        "target_actor_model.load_state_dict(actor_model.state_dict())\n",
        "target_critic_model.load_state_dict(critic_model.state_dict())\n",
        "\n",
        "# Define algorithm parameters\n",
        "beta = 0.005\n",
        "gamma = 0.9\n",
        "lr = 0.005\n",
        "optimizer_critic = optim.Adam(critic_model.parameters(), lr=lr)\n",
        "optimizer_actor = optim.Adam(actor_model.parameters(), lr=lr)\n",
        "\n",
        "# Initialize environment and replay memory\n",
        "# env = ...  # Initialize your environment\n",
        "replay_memory = []  # Initialize your replay memory\n",
        "\n",
        "num_episodes = 50\n",
        "minibatch_size = 64\n",
        "\n",
        "# for i in range(num_episodes):\n",
        "#     epsilon = 0.1\n",
        "#     state = env.reset()\n",
        "#     terminated = False\n",
        "\n",
        "#     while not terminated:\n",
        "#         action = actor_model(torch.FloatTensor(state))\n",
        "#         action = action.detach().numpy()\n",
        "#         # Add exploration noise (optional)\n",
        "#         action += epsilon * np.random.randn(action_dim)\n",
        "\n",
        "#         new_state, reward, terminated, info = env.step(action)\n",
        "#         # print(new_state)\n",
        "#         new_state = [new_state[0],new_state[1],new_state[2]] # because new_state is originally an numpy array object and torch couldn't change that to tensor\n",
        "#         # print(type(new_state),type(reward),type(terminated),type(info))\n",
        "\n",
        "#         transition = (torch.FloatTensor(state), torch.FloatTensor(action), reward, torch.FloatTensor(new_state))\n",
        "#         replay_memory.append(transition)\n",
        "\n",
        "#         # Sample a minibatch from the replay memory\n",
        "#         if len(replay_memory) <= minibatch_size:\n",
        "#             minibatch_sampled_from_D = replay_memory\n",
        "#         else:\n",
        "#             minibatch_sampled_from_D = random.sample(replay_memory, minibatch_size)\n",
        "\n",
        "#         for transition in minibatch_sampled_from_D:\n",
        "#                 state, action, reward, new_state = transition\n",
        "\n",
        "#                 new_state_tensor = torch.FloatTensor(new_state)\n",
        "\n",
        "#                 target_actor_output = target_actor_model(new_state_tensor)\n",
        "\n",
        "#                 reward_tensor = torch.FloatTensor(reward)\n",
        "#                 y = reward_tensor + gamma * target_critic_model(new_state_tensor, target_actor_output)\n",
        "\n",
        "#                 critic_output = critic_model(state, action)\n",
        "#                 critic_loss = nn.MSELoss()(critic_output, y.detach())\n",
        "\n",
        "#                 optimizer_critic.zero_grad()\n",
        "#                 critic_loss.backward()\n",
        "#                 optimizer_critic.step()\n",
        "\n",
        "#                 # Update actor\n",
        "#                 actor_output = actor_model(state)\n",
        "#                 actor_loss = -torch.mean(critic_model(state, actor_output))\n",
        "\n",
        "#                 optimizer_actor.zero_grad()\n",
        "#                 actor_loss.backward()\n",
        "#                 optimizer_actor.step()\n",
        "\n",
        "#                 # Soft update of target networks\n",
        "#                 for target_param, param in zip(target_actor_model.parameters(), actor_model.parameters()):\n",
        "#                     target_param.data.copy_(beta * param.data + (1 - beta) * target_param.data)\n",
        "\n",
        "#                 for target_param, param in zip(target_critic_model.parameters(), critic_model.parameters()):\n",
        "#                     target_param.data.copy_(beta * param.data + (1 - beta) * target_param.data)\n",
        "\n",
        "#                 state = new_state  # Update the current state\n",
        "total_loss = []\n",
        "for i in range(num_episodes):\n",
        "    epsilon = 0.1\n",
        "    state = env.reset()\n",
        "    terminated = False\n",
        "    loss = []\n",
        "    while not terminated:\n",
        "        action = actor_model(torch.FloatTensor(state)).detach().numpy()\n",
        "        action += epsilon * np.random.randn(action_dim)\n",
        "\n",
        "        new_state, reward, terminated, info = env.step(action)\n",
        "        new_state = torch.FloatTensor([new_state[0], new_state[1], new_state[2]])\n",
        "\n",
        "        transition = (torch.FloatTensor(state), torch.FloatTensor(action), torch.FloatTensor([reward]), new_state)\n",
        "        replay_memory.append(transition)\n",
        "\n",
        "        state = new_state  # Update the current state\n",
        "\n",
        "    if len(replay_memory) > minibatch_size:\n",
        "        minibatch = random.sample(replay_memory, minibatch_size)\n",
        "        batch = list(zip(*minibatch))\n",
        "\n",
        "        states_batch = torch.stack(batch[0])\n",
        "        actions_batch = torch.stack(batch[1])\n",
        "        rewards_batch = torch.stack(batch[2])\n",
        "        next_states_batch = torch.stack(batch[3])\n",
        "\n",
        "        target_actor_outputs = target_actor_model(next_states_batch)\n",
        "        target_critic_values = target_critic_model(next_states_batch, target_actor_outputs).detach()\n",
        "\n",
        "        y = rewards_batch + gamma * target_critic_values\n",
        "\n",
        "        # Update critic\n",
        "        critic_outputs = critic_model(states_batch, actions_batch)\n",
        "        critic_loss = F.mse_loss(critic_outputs, y)\n",
        "        optimizer_critic.zero_grad()\n",
        "        critic_loss.backward()\n",
        "        optimizer_critic.step()\n",
        "\n",
        "        # Update actor\n",
        "        actor_outputs = actor_model(states_batch)\n",
        "        actor_loss = -torch.mean(critic_model(states_batch, actor_outputs))\n",
        "\n",
        "        loss.append(-1 * actor_loss.detach().numpy())\n",
        "\n",
        "        optimizer_actor.zero_grad()\n",
        "        actor_loss.backward()\n",
        "        optimizer_actor.step()\n",
        "\n",
        "        # Soft update of target networks\n",
        "        for target_param, param in zip(target_actor_model.parameters(), actor_model.parameters()):\n",
        "            target_param.data.copy_(beta * param.data + (1 - beta) * target_param.data)\n",
        "\n",
        "        for target_param, param in zip(target_critic_model.parameters(), critic_model.parameters()):\n",
        "            target_param.data.copy_(beta * param.data + (1 - beta) * target_param.data)\n",
        "\n",
        "    x = np.mean(loss)\n",
        "    total_loss.append(x)"
      ]
    },
    {
      "cell_type": "code",
      "source": [
        "# Set the actor model to evaluation mode\n",
        "actor_model.eval()\n",
        "\n",
        "# Number of episodes for testing\n",
        "num_test_episodes = 10\n",
        "\n",
        "for episode in range(num_test_episodes):\n",
        "    state = env.reset()\n",
        "    terminated = False\n",
        "    total_reward = 0\n",
        "\n",
        "    while not terminated:\n",
        "        # Use the trained actor to select actions (no exploration noise during testing)\n",
        "        with torch.no_grad():\n",
        "            action = actor_model(torch.FloatTensor(state)).detach().numpy()\n",
        "\n",
        "        # Take the action in the environment\n",
        "        new_state, reward, terminated, _ = env.step(action)\n",
        "        total_reward += reward\n",
        "        state = torch.FloatTensor([new_state[0], new_state[1], new_state[2]])\n",
        "\n",
        "    print(f\"Episode {episode + 1}, Total Reward: {total_reward}\")"
      ],
      "metadata": {
        "colab": {
          "base_uri": "https://localhost:8080/"
        },
        "id": "JV0MBinknRxd",
        "outputId": "3198e6f6-55cd-4a81-efa4-ba7f1e1e5381"
      },
      "execution_count": 16,
      "outputs": [
        {
          "output_type": "stream",
          "name": "stderr",
          "text": [
            "<ipython-input-5-488850091d8d>:43: VisibleDeprecationWarning: Creating an ndarray from ragged nested sequences (which is a list-or-tuple of lists-or-tuples-or ndarrays with different lengths or shapes) is deprecated. If you meant to do this, you must specify 'dtype=object' when creating the ndarray.\n",
            "  return np.array([current_price, self.shares_held, self.cash_balance])\n"
          ]
        },
        {
          "output_type": "stream",
          "name": "stdout",
          "text": [
            "Episode 1, Total Reward: [379.82422]\n",
            "Episode 2, Total Reward: [379.82422]\n",
            "Episode 3, Total Reward: [379.82422]\n",
            "Episode 4, Total Reward: [379.82422]\n",
            "Episode 5, Total Reward: [379.82422]\n",
            "Episode 6, Total Reward: [379.82422]\n",
            "Episode 7, Total Reward: [379.82422]\n",
            "Episode 8, Total Reward: [379.82422]\n",
            "Episode 9, Total Reward: [379.82422]\n",
            "Episode 10, Total Reward: [379.82422]\n"
          ]
        }
      ]
    },
    {
      "cell_type": "code",
      "execution_count": 27,
      "metadata": {
        "colab": {
          "base_uri": "https://localhost:8080/",
          "height": 449
        },
        "id": "vMBQ47smQ6Do",
        "outputId": "f752c4de-ac14-431c-96af-7956aa55ca8c"
      },
      "outputs": [
        {
          "output_type": "display_data",
          "data": {
            "text/plain": [
              "<Figure size 640x480 with 1 Axes>"
            ],
            "image/png": "[encoded data removed]"
          },
          "metadata": {}
        }
      ],
      "source": [
        "import matplotlib.pyplot as plt\n",
        "\n",
        "# Plotting the profit change\n",
        "#plt.plot(env.portfolio_history)\n",
        "plt.plot(total_loss)\n",
        "#plt.title(\"Profit Change Over Time\")\n",
        "plt.xlabel(\"Steps\")\n",
        "plt.ylabel(\"Actor Loss\")\n",
        "plt.show()"
      ]
    }
  ],
  "metadata": {
    "colab": {
      "provenance": [],
      "gpuType": "T4"
    },
    "kernelspec": {
      "display_name": "Python 3",
      "name": "python3"
    },
    "language_info": {
      "codemirror_mode": {
        "name": "ipython",
        "version": 3
      },
      "file_extension": ".py",
      "mimetype": "text/x-python",
      "name": "python",
      "nbconvert_exporter": "python",
      "pygments_lexer": "ipython3",
      "version": "3.11.2"
    },
    "accelerator": "GPU"
  },
  "nbformat": 4,
  "nbformat_minor": 0
}