{
 "cells": [
  {
   "cell_type": "markdown",
   "metadata": {},
   "source": [
    "# DDPG Main"
   ]
  },
  {
   "cell_type": "markdown",
   "metadata": {},
   "source": [
    "## Data Preprocessing"
   ]
  },
  {
   "cell_type": "code",
   "execution_count": 323,
   "metadata": {},
   "outputs": [
    {
     "name": "stdout",
     "output_type": "stream",
     "text": [
      "                    Date  Last Price    Volume  SMAVG (15)     10_MA\n",
      "10   2023-03-08 18:00:00    0.499995  0.043372    0.074594  0.544225\n",
      "11   2023-03-08 18:30:00    0.521974  0.046837    0.076402  0.535888\n",
      "12   2023-03-08 19:00:00    0.527885  0.038593    0.075786  0.527086\n",
      "13   2023-03-08 19:30:00    0.505948  0.067524    0.078888  0.512765\n",
      "14   2023-03-08 20:00:00    0.492211  0.085734    0.084456  0.499824\n",
      "...                  ...         ...       ...         ...       ...\n",
      "1861 2023-10-02 15:00:00    0.755034  0.144825    0.184963  0.865106\n",
      "1862 2023-10-02 15:30:00    0.762818  0.113712    0.166506  0.851449\n",
      "1863 2023-10-02 16:00:00    0.764192  0.092697    0.157100  0.838893\n",
      "1864 2023-10-02 16:30:00    0.761445  0.078738    0.145187  0.827026\n",
      "1865 2023-10-02 17:00:00    0.771747  0.055809    0.135850  0.818920\n",
      "\n",
      "[1856 rows x 5 columns]\n"
     ]
    }
   ],
   "source": [
    "import pandas as pd\n",
    "from sklearn.preprocessing import MinMaxScaler\n",
    "import random\n",
    "from collections import deque\n",
    "import torch.nn as nn\n",
    "import torch.nn.functional as F\n",
    "import torch.optim as optim\n",
    "import torch\n",
    "import numpy as np\n",
    "import gymnasium\n",
    "from gymnasium import spaces\n",
    "\n",
    "\n",
    "# Load data\n",
    "#C:\\Users\\rohit\\OneDrive\\Documents\\Asset-Pricing-with-Reinforcement-Learning\\XOM_30_minute_6_month_data.csv\n",
    "df = pd.read_csv('XOM_30_minute_6_month_data.csv', parse_dates=['Date'])\n",
    "df.sort_values('Date', inplace=True)\n",
    "\n",
    "# Calculate the 10-period moving average\n",
    "# df['10_MA'] = df['Last Price'].rolling(window=10).mean()\n",
    "# df.to_csv('XOM_30_minute_6_month_data.csv', index=False)\n",
    "\n",
    "# Used for unnormalization\n",
    "last_price_scaler = MinMaxScaler()\n",
    "last_price_scaler.fit(df[['Last Price']])\n",
    "# Normalise data\n",
    "scaler = MinMaxScaler()\n",
    "df[['Last Price', 'Volume', 'SMAVG (15)', '10_MA']] = scaler.fit_transform(df[['Last Price', 'Volume', 'SMAVG (15)', '10_MA']])\n",
    "\n",
    "\n",
    "# Split into training and testing sets\n",
    "train_size = int(len(df) * 0.8)\n",
    "train_df = df[:train_size]\n",
    "test_df = df[train_size:]\n",
    "\n",
    "print(train_df[10:])"
   ]
  },
  {
   "cell_type": "markdown",
   "metadata": {},
   "source": [
    "## Environment"
   ]
  },
  {
   "cell_type": "code",
   "execution_count": 324,
   "metadata": {},
   "outputs": [],
   "source": [
    "class DDPGTradingEnv(gymnasium.Env):\n",
    "\n",
    "  def __init__(self, df):\n",
    "    super().__init__()\n",
    "    \n",
    "    self.df = df\n",
    "    self.current_step = 0\n",
    "    self.total_steps = 650 #len(df) - 1\n",
    "\n",
    "    # Negatives mean quantity to sell, 0 is hold, positives mean buy\n",
    "    self.action_space = spaces.Box(low=-1, high=1, shape=(1, ), dtype=np.float32)\n",
    "    # Observation space: normalized last price, normalized shares held, normalized cash balance\n",
    "    self.observation_space = spaces.Box(low=0, high=1, shape=(5,), dtype=np.float32)\n",
    "\n",
    "    self.reset()\n",
    "\n",
    "  def reset(self):\n",
    "    self.current_step = 0\n",
    "    self.total_profit = 0\n",
    "    self.cash_balance = 10000\n",
    "    self.max_share_order = 90\n",
    "    self.shares_held = 0\n",
    "    self.portfolio_value = self.cash_balance\n",
    "    self.previous_portfolio_value = self.portfolio_value\n",
    "    # For plotting\n",
    "    self.portfolio_history = [np.array([self.portfolio_value], dtype=np.float32)]\n",
    "\n",
    "    return self.get_observation()\n",
    "\n",
    "  def get_observation(self):\n",
    "    current_price = self.df.loc[self.current_step, 'Last Price']\n",
    "    volume = self.df['Volume'].iloc[self.current_step]\n",
    "    MA_10 = self.df['10_MA'].iloc[self.current_step]\n",
    "    return np.array([float(current_price), float(self.shares_held), float(self.cash_balance), float(volume), float(MA_10)])\n",
    "\n",
    "  def take_action(self, num_shares):\n",
    "    normalised_current_price = self.df.loc[self.current_step, 'Last Price']\n",
    "    # Inverse transform to get the un-normalized current price\n",
    "    current_price = last_price_scaler.inverse_transform([[normalised_current_price]])\n",
    "    # Checks if we have enough cash to buy\n",
    "    print(\"num_shares: \", num_shares)\n",
    "    print(\"current_price: \", current_price)\n",
    "    if num_shares > 0 and self.cash_balance > (num_shares*current_price):\n",
    "      self.buy_stock(num_shares, current_price)\n",
    "    # Checks we have enough shares to sell\n",
    "    elif num_shares < 0 and self.shares_held > -num_shares:\n",
    "      self.sell_stock(-num_shares, current_price)\n",
    "    # Update the portfolio value\n",
    "    self.previous_portfolio_value = self.portfolio_value\n",
    "    self.portfolio_value = self.cash_balance + (self.shares_held * current_price)\n",
    "\n",
    "  def buy_stock(self, num_stocks, current_price):\n",
    "    print(\"buying\")\n",
    "    self.cash_balance -= (num_stocks * current_price)\n",
    "    self.shares_held += num_stocks\n",
    "\n",
    "  def sell_stock(self, num_stocks, current_price):\n",
    "    print(\"selling\")\n",
    "    self.cash_balance += (num_stocks * current_price)\n",
    "    self.shares_held -= num_stocks\n",
    "\n",
    "  # Action space is one number between -1 and 1.\n",
    "  def step(self, action):\n",
    "    print(\"Shares held: \", self.shares_held)\n",
    "    print(\"Cash balance: \", self.cash_balance)\n",
    "    print(\"Portfolio value: \", self.portfolio_value)\n",
    "    self.current_step += 1\n",
    "    self.take_action(action*self.max_share_order)\n",
    "    reward = self.calculate_reward()\n",
    "    terminated = (self.current_step >= self.total_steps)\n",
    "    observation = self.get_observation()\n",
    "    info = {'current_step': self.current_step, 'portfolio_value': self.portfolio_value}\n",
    "    self.portfolio_history.append(self.portfolio_value)\n",
    "    return observation, reward, terminated, info\n",
    "\n",
    "  def render(self, mode='human'):\n",
    "    if mode == 'human':\n",
    "      print(f\"Step: {self.current_step}, Portfolio Value: {self.portfolio_value}\")\n",
    "\n",
    "  # The reward is the change in portfolio value the next time_step\n",
    "  def calculate_reward(self):\n",
    "    reward = self.portfolio_value - self.previous_portfolio_value\n",
    "    return reward"
   ]
  },
  {
   "cell_type": "markdown",
   "metadata": {},
   "source": [
    "## DDPG Classes"
   ]
  },
  {
   "cell_type": "markdown",
   "metadata": {},
   "source": [
    "## Actor & Critic Class"
   ]
  },
  {
   "cell_type": "code",
   "execution_count": 325,
   "metadata": {},
   "outputs": [],
   "source": [
    "# Input: Current state\n",
    "# Output: Action to be taken\n",
    "class Actor(nn.Module):\n",
    "    def __init__(self, state_dim, action_dim, hidden_size=128):\n",
    "        super(Actor, self).__init__()\n",
    "        self.fc1 = nn.Linear(state_dim, 64)\n",
    "        self.fc2 = nn.Linear(64, 64)\n",
    "        self.fc3 = nn.Linear(64, action_dim)\n",
    "\n",
    "    def forward(self, state):\n",
    "        x = F.relu(self.fc1(state))\n",
    "        x = F.relu(self.fc2(x))\n",
    "        x = torch.tanh(self.fc3(x))\n",
    "        return x\n",
    "    \n",
    "# Input: Current State & Actor's action\n",
    "# Output: Expected value of state-action pair\n",
    "class Critic(nn.Module):\n",
    "    def __init__(self, state_dim, action_dim, hidden_size=128):\n",
    "        super(Critic, self).__init__()\n",
    "        self.fc1_state = nn.Linear(state_dim, 64)\n",
    "        self.fc2_state = nn.Linear(64, 64)\n",
    "        self.fc2_action = nn.Linear(action_dim, 64)\n",
    "        self.fc3 = nn.Linear(128, 1)\n",
    "\n",
    "    def forward(self, state, action):\n",
    "        x_state = F.relu(self.fc1_state(state))\n",
    "        x_state = F.relu(self.fc2_state(x_state))\n",
    "\n",
    "        x_action = F.relu(self.fc2_action(action))\n",
    "\n",
    "        x = torch.cat((x_state, x_action), dim=0)\n",
    "        x = F.relu(x)\n",
    "        x = self.fc3(x)\n",
    "        return x"
   ]
  },
  {
   "cell_type": "markdown",
   "metadata": {},
   "source": [
    "## DDPG Class"
   ]
  },
  {
   "cell_type": "code",
   "execution_count": 326,
   "metadata": {},
   "outputs": [
    {
     "name": "stdout",
     "output_type": "stream",
     "text": [
      "action:  [1.]\n",
      "Shares held:  0\n",
      "Cash balance:  10000\n",
      "Portfolio value:  10000\n",
      "num_shares:  [85.84467]\n",
      "current_price:  [[111.4]]\n",
      "buying\n",
      "action:  [0.9996856]\n",
      "Shares held:  [85.84467]\n",
      "Cash balance:  [[436.90341034]]\n",
      "Portfolio value:  [[10000.]]\n",
      "num_shares:  [52.684185]\n",
      "current_price:  [[111.62]]\n",
      "action:  [1.]\n",
      "Shares held:  [85.84467]\n",
      "Cash balance:  [[436.90341034]]\n",
      "Portfolio value:  [[10018.88582809]]\n",
      "num_shares:  [23.850977]\n",
      "current_price:  [[112.22]]\n",
      "action:  [1.]\n",
      "Shares held:  [85.84467]\n",
      "Cash balance:  [[436.90341034]]\n",
      "Portfolio value:  [[10070.39263199]]\n",
      "num_shares:  [86.008896]\n",
      "current_price:  [[111.65]]\n",
      "action:  [1.]\n",
      "Shares held:  [85.84467]\n",
      "Cash balance:  [[436.90341034]]\n",
      "Portfolio value:  [[10021.46116829]]\n",
      "num_shares:  [76.446205]\n",
      "current_price:  [[110.855]]\n",
      "action:  [1.]\n",
      "Shares held:  [85.84467]\n",
      "Cash balance:  [[436.90341034]]\n",
      "Portfolio value:  [[9953.21465313]]\n",
      "num_shares:  [166.28853]\n",
      "current_price:  [[110.6934]]\n",
      "action:  [1.]\n",
      "Shares held:  [85.84467]\n",
      "Cash balance:  [[436.90341034]]\n",
      "Portfolio value:  [[9939.34215395]]\n",
      "num_shares:  [119.01611]\n",
      "current_price:  [[109.69]]\n",
      "action:  [1.]\n",
      "Shares held:  [85.84467]\n",
      "Cash balance:  [[436.90341034]]\n",
      "Portfolio value:  [[9853.2056089]]\n",
      "num_shares:  [122.10871]\n",
      "current_price:  [[109.61]]\n",
      "action:  [1.]\n",
      "Shares held:  [85.84467]\n",
      "Cash balance:  [[436.90341034]]\n",
      "Portfolio value:  [[9846.33803505]]\n",
      "num_shares:  [98.794395]\n",
      "current_price:  [[109.81]]\n",
      "action:  [1.]\n",
      "Shares held:  [85.84467]\n",
      "Cash balance:  [[436.90341034]]\n",
      "Portfolio value:  [[9863.50696968]]\n",
      "num_shares:  [91.13936]\n",
      "current_price:  [[109.29]]\n",
      "action:  [1.]\n",
      "Shares held:  [85.84467]\n",
      "Cash balance:  [[436.90341034]]\n",
      "Portfolio value:  [[9818.86773964]]\n",
      "num_shares:  [29.644712]\n",
      "current_price:  [[109.77]]\n"
     ]
    },
    {
     "name": "stderr",
     "output_type": "stream",
     "text": [
      "/Library/Frameworks/Python.framework/Versions/3.11/lib/python3.11/site-packages/torch/nn/modules/loss.py:535: UserWarning: Using a target size (torch.Size([1, 1])) that is different to the input size (torch.Size([1])). This will likely lead to incorrect results due to broadcasting. Please ensure they have the same size.\n",
      "  return F.mse_loss(input, target, reduction=self.reduction)\n",
      "/Library/Frameworks/Python.framework/Versions/3.11/lib/python3.11/site-packages/torch/nn/modules/loss.py:535: UserWarning: Using a target size (torch.Size([1, 1])) that is different to the input size (torch.Size([1])). This will likely lead to incorrect results due to broadcasting. Please ensure they have the same size.\n",
      "  return F.mse_loss(input, target, reduction=self.reduction)\n",
      "/Library/Frameworks/Python.framework/Versions/3.11/lib/python3.11/site-packages/torch/nn/modules/loss.py:535: UserWarning: Using a target size (torch.Size([1, 1])) that is different to the input size (torch.Size([1])). This will likely lead to incorrect results due to broadcasting. Please ensure they have the same size.\n",
      "  return F.mse_loss(input, target, reduction=self.reduction)\n",
      "/Library/Frameworks/Python.framework/Versions/3.11/lib/python3.11/site-packages/torch/nn/modules/loss.py:535: UserWarning: Using a target size (torch.Size([1, 1])) that is different to the input size (torch.Size([1])). This will likely lead to incorrect results due to broadcasting. Please ensure they have the same size.\n",
      "  return F.mse_loss(input, target, reduction=self.reduction)\n",
      "/Library/Frameworks/Python.framework/Versions/3.11/lib/python3.11/site-packages/torch/nn/modules/loss.py:535: UserWarning: Using a target size (torch.Size([1, 1])) that is different to the input size (torch.Size([1])). This will likely lead to incorrect results due to broadcasting. Please ensure they have the same size.\n",
      "  return F.mse_loss(input, target, reduction=self.reduction)\n",
      "/Library/Frameworks/Python.framework/Versions/3.11/lib/python3.11/site-packages/torch/nn/modules/loss.py:535: UserWarning: Using a target size (torch.Size([1, 1])) that is different to the input size (torch.Size([1])). This will likely lead to incorrect results due to broadcasting. Please ensure they have the same size.\n",
      "  return F.mse_loss(input, target, reduction=self.reduction)\n",
      "/Library/Frameworks/Python.framework/Versions/3.11/lib/python3.11/site-packages/torch/nn/modules/loss.py:535: UserWarning: Using a target size (torch.Size([1, 1])) that is different to the input size (torch.Size([1])). This will likely lead to incorrect results due to broadcasting. Please ensure they have the same size.\n",
      "  return F.mse_loss(input, target, reduction=self.reduction)\n",
      "/Library/Frameworks/Python.framework/Versions/3.11/lib/python3.11/site-packages/torch/nn/modules/loss.py:535: UserWarning: Using a target size (torch.Size([1, 1])) that is different to the input size (torch.Size([1])). This will likely lead to incorrect results due to broadcasting. Please ensure they have the same size.\n",
      "  return F.mse_loss(input, target, reduction=self.reduction)\n",
      "/Library/Frameworks/Python.framework/Versions/3.11/lib/python3.11/site-packages/torch/nn/modules/loss.py:535: UserWarning: Using a target size (torch.Size([1, 1])) that is different to the input size (torch.Size([1])). This will likely lead to incorrect results due to broadcasting. Please ensure they have the same size.\n",
      "  return F.mse_loss(input, target, reduction=self.reduction)\n",
      "/Library/Frameworks/Python.framework/Versions/3.11/lib/python3.11/site-packages/torch/nn/modules/loss.py:535: UserWarning: Using a target size (torch.Size([1, 1])) that is different to the input size (torch.Size([1])). This will likely lead to incorrect results due to broadcasting. Please ensure they have the same size.\n",
      "  return F.mse_loss(input, target, reduction=self.reduction)\n",
      "/Library/Frameworks/Python.framework/Versions/3.11/lib/python3.11/site-packages/torch/nn/modules/loss.py:535: UserWarning: Using a target size (torch.Size([1, 1])) that is different to the input size (torch.Size([1])). This will likely lead to incorrect results due to broadcasting. Please ensure they have the same size.\n",
      "  return F.mse_loss(input, target, reduction=self.reduction)\n"
     ]
    },
    {
     "name": "stdout",
     "output_type": "stream",
     "text": [
      "action:  [1.]\n",
      "Shares held:  [85.84467]\n",
      "Cash balance:  [[436.90341034]]\n",
      "Portfolio value:  [[9860.07318275]]\n",
      "num_shares:  [174.87737]\n",
      "current_price:  [[109.8991]]\n",
      "action:  [1.]\n",
      "Shares held:  [85.84467]\n",
      "Cash balance:  [[436.90341034]]\n",
      "Portfolio value:  [[9871.15573006]]\n",
      "num_shares:  [212.2922]\n",
      "current_price:  [[109.42]]\n",
      "action:  [1.]\n",
      "Shares held:  [85.84467]\n",
      "Cash balance:  [[436.90341034]]\n",
      "Portfolio value:  [[9830.02754715]]\n",
      "num_shares:  [86.67401]\n",
      "current_price:  [[109.12]]\n",
      "action:  [1.]\n",
      "Shares held:  [85.84467]\n",
      "Cash balance:  [[436.90341034]]\n",
      "Portfolio value:  [[9804.2741452]]\n",
      "num_shares:  [115.07204]\n",
      "current_price:  [[110.]]\n",
      "action:  [1.]\n",
      "Shares held:  [85.84467]\n",
      "Cash balance:  [[436.90341034]]\n",
      "Portfolio value:  [[9879.81745758]]\n",
      "num_shares:  [146.02773]\n",
      "current_price:  [[111.54]]\n",
      "action:  [1.]\n",
      "Shares held:  [85.84467]\n",
      "Cash balance:  [[436.90341034]]\n",
      "Portfolio value:  [[10012.01825424]]\n",
      "num_shares:  [119.11775]\n",
      "current_price:  [[111.12]]\n",
      "action:  [1.]\n",
      "Shares held:  [85.84467]\n",
      "Cash balance:  [[436.90341034]]\n",
      "Portfolio value:  [[9975.96349152]]\n",
      "num_shares:  [122.91588]\n",
      "current_price:  [[111.13]]\n"
     ]
    },
    {
     "name": "stderr",
     "output_type": "stream",
     "text": [
      "/Library/Frameworks/Python.framework/Versions/3.11/lib/python3.11/site-packages/torch/nn/modules/loss.py:535: UserWarning: Using a target size (torch.Size([1, 1])) that is different to the input size (torch.Size([1])). This will likely lead to incorrect results due to broadcasting. Please ensure they have the same size.\n",
      "  return F.mse_loss(input, target, reduction=self.reduction)\n",
      "/Library/Frameworks/Python.framework/Versions/3.11/lib/python3.11/site-packages/torch/nn/modules/loss.py:535: UserWarning: Using a target size (torch.Size([1, 1])) that is different to the input size (torch.Size([1])). This will likely lead to incorrect results due to broadcasting. Please ensure they have the same size.\n",
      "  return F.mse_loss(input, target, reduction=self.reduction)\n",
      "/Library/Frameworks/Python.framework/Versions/3.11/lib/python3.11/site-packages/torch/nn/modules/loss.py:535: UserWarning: Using a target size (torch.Size([1, 1])) that is different to the input size (torch.Size([1])). This will likely lead to incorrect results due to broadcasting. Please ensure they have the same size.\n",
      "  return F.mse_loss(input, target, reduction=self.reduction)\n",
      "/Library/Frameworks/Python.framework/Versions/3.11/lib/python3.11/site-packages/torch/nn/modules/loss.py:535: UserWarning: Using a target size (torch.Size([1, 1])) that is different to the input size (torch.Size([1])). This will likely lead to incorrect results due to broadcasting. Please ensure they have the same size.\n",
      "  return F.mse_loss(input, target, reduction=self.reduction)\n",
      "/Library/Frameworks/Python.framework/Versions/3.11/lib/python3.11/site-packages/torch/nn/modules/loss.py:535: UserWarning: Using a target size (torch.Size([1, 1])) that is different to the input size (torch.Size([1])). This will likely lead to incorrect results due to broadcasting. Please ensure they have the same size.\n",
      "  return F.mse_loss(input, target, reduction=self.reduction)\n",
      "/Library/Frameworks/Python.framework/Versions/3.11/lib/python3.11/site-packages/torch/nn/modules/loss.py:535: UserWarning: Using a target size (torch.Size([1, 1])) that is different to the input size (torch.Size([1])). This will likely lead to incorrect results due to broadcasting. Please ensure they have the same size.\n",
      "  return F.mse_loss(input, target, reduction=self.reduction)\n",
      "/Library/Frameworks/Python.framework/Versions/3.11/lib/python3.11/site-packages/torch/nn/modules/loss.py:535: UserWarning: Using a target size (torch.Size([1, 1])) that is different to the input size (torch.Size([1])). This will likely lead to incorrect results due to broadcasting. Please ensure they have the same size.\n",
      "  return F.mse_loss(input, target, reduction=self.reduction)\n"
     ]
    },
    {
     "name": "stdout",
     "output_type": "stream",
     "text": [
      "action:  [1.]\n",
      "Shares held:  [85.84467]\n",
      "Cash balance:  [[436.90341034]]\n",
      "Portfolio value:  [[9976.82193825]]\n",
      "num_shares:  [63.71238]\n",
      "current_price:  [[111.22]]\n",
      "action:  [1.]\n",
      "Shares held:  [85.84467]\n",
      "Cash balance:  [[436.90341034]]\n",
      "Portfolio value:  [[9984.54795883]]\n",
      "num_shares:  [121.72267]\n",
      "current_price:  [[110.96]]\n",
      "action:  [1.]\n",
      "Shares held:  [85.84467]\n",
      "Cash balance:  [[436.90341034]]\n",
      "Portfolio value:  [[9962.22834381]]\n",
      "num_shares:  [21.552444]\n",
      "current_price:  [[110.87]]\n",
      "action:  [1.]\n",
      "Shares held:  [85.84467]\n",
      "Cash balance:  [[436.90341034]]\n",
      "Portfolio value:  [[9954.50232323]]\n",
      "num_shares:  [162.16698]\n",
      "current_price:  [[110.61]]\n"
     ]
    },
    {
     "name": "stderr",
     "output_type": "stream",
     "text": [
      "/Library/Frameworks/Python.framework/Versions/3.11/lib/python3.11/site-packages/torch/nn/modules/loss.py:535: UserWarning: Using a target size (torch.Size([1, 1])) that is different to the input size (torch.Size([1])). This will likely lead to incorrect results due to broadcasting. Please ensure they have the same size.\n",
      "  return F.mse_loss(input, target, reduction=self.reduction)\n",
      "/Library/Frameworks/Python.framework/Versions/3.11/lib/python3.11/site-packages/torch/nn/modules/loss.py:535: UserWarning: Using a target size (torch.Size([1, 1])) that is different to the input size (torch.Size([1])). This will likely lead to incorrect results due to broadcasting. Please ensure they have the same size.\n",
      "  return F.mse_loss(input, target, reduction=self.reduction)\n",
      "/Library/Frameworks/Python.framework/Versions/3.11/lib/python3.11/site-packages/torch/nn/modules/loss.py:535: UserWarning: Using a target size (torch.Size([1, 1])) that is different to the input size (torch.Size([1])). This will likely lead to incorrect results due to broadcasting. Please ensure they have the same size.\n",
      "  return F.mse_loss(input, target, reduction=self.reduction)\n",
      "/Library/Frameworks/Python.framework/Versions/3.11/lib/python3.11/site-packages/torch/nn/modules/loss.py:535: UserWarning: Using a target size (torch.Size([1, 1])) that is different to the input size (torch.Size([1])). This will likely lead to incorrect results due to broadcasting. Please ensure they have the same size.\n",
      "  return F.mse_loss(input, target, reduction=self.reduction)\n"
     ]
    },
    {
     "name": "stdout",
     "output_type": "stream",
     "text": [
      "action:  [1.]\n",
      "Shares held:  [85.84467]\n",
      "Cash balance:  [[436.90341034]]\n",
      "Portfolio value:  [[9932.18270821]]\n",
      "num_shares:  [164.8369]\n",
      "current_price:  [[110.4]]\n",
      "action:  [1.]\n",
      "Shares held:  [85.84467]\n",
      "Cash balance:  [[436.90341034]]\n",
      "Portfolio value:  [[9914.15532684]]\n",
      "num_shares:  [71.14453]\n",
      "current_price:  [[110.08]]\n",
      "action:  [1.]\n",
      "Shares held:  [85.84467]\n",
      "Cash balance:  [[436.90341034]]\n",
      "Portfolio value:  [[9886.68503143]]\n",
      "num_shares:  [44.8348]\n",
      "current_price:  [[110.21]]\n",
      "action:  [1.]\n",
      "Shares held:  [85.84467]\n",
      "Cash balance:  [[436.90341034]]\n",
      "Portfolio value:  [[9897.84483894]]\n",
      "num_shares:  [159.06873]\n",
      "current_price:  [[109.84]]\n"
     ]
    },
    {
     "name": "stderr",
     "output_type": "stream",
     "text": [
      "/Library/Frameworks/Python.framework/Versions/3.11/lib/python3.11/site-packages/torch/nn/modules/loss.py:535: UserWarning: Using a target size (torch.Size([1, 1])) that is different to the input size (torch.Size([1])). This will likely lead to incorrect results due to broadcasting. Please ensure they have the same size.\n",
      "  return F.mse_loss(input, target, reduction=self.reduction)\n",
      "/Library/Frameworks/Python.framework/Versions/3.11/lib/python3.11/site-packages/torch/nn/modules/loss.py:535: UserWarning: Using a target size (torch.Size([1, 1])) that is different to the input size (torch.Size([1])). This will likely lead to incorrect results due to broadcasting. Please ensure they have the same size.\n",
      "  return F.mse_loss(input, target, reduction=self.reduction)\n",
      "/Library/Frameworks/Python.framework/Versions/3.11/lib/python3.11/site-packages/torch/nn/modules/loss.py:535: UserWarning: Using a target size (torch.Size([1, 1])) that is different to the input size (torch.Size([1])). This will likely lead to incorrect results due to broadcasting. Please ensure they have the same size.\n",
      "  return F.mse_loss(input, target, reduction=self.reduction)\n",
      "/Library/Frameworks/Python.framework/Versions/3.11/lib/python3.11/site-packages/torch/nn/modules/loss.py:535: UserWarning: Using a target size (torch.Size([1, 1])) that is different to the input size (torch.Size([1])). This will likely lead to incorrect results due to broadcasting. Please ensure they have the same size.\n",
      "  return F.mse_loss(input, target, reduction=self.reduction)\n"
     ]
    },
    {
     "name": "stdout",
     "output_type": "stream",
     "text": [
      "action:  [1.]\n",
      "Shares held:  [85.84467]\n",
      "Cash balance:  [[436.90341034]]\n",
      "Portfolio value:  [[9866.08230988]]\n",
      "num_shares:  [159.21045]\n",
      "current_price:  [[109.48]]\n",
      "action:  [1.]\n",
      "Shares held:  [85.84467]\n",
      "Cash balance:  [[436.90341034]]\n",
      "Portfolio value:  [[9835.17822754]]\n",
      "num_shares:  [41.037617]\n",
      "current_price:  [[109.17]]\n",
      "action:  [1.]\n",
      "Shares held:  [85.84467]\n",
      "Cash balance:  [[436.90341034]]\n",
      "Portfolio value:  [[9808.56637886]]\n",
      "num_shares:  [106.65834]\n",
      "current_price:  [[110.73]]\n"
     ]
    },
    {
     "name": "stderr",
     "output_type": "stream",
     "text": [
      "/Library/Frameworks/Python.framework/Versions/3.11/lib/python3.11/site-packages/torch/nn/modules/loss.py:535: UserWarning: Using a target size (torch.Size([1, 1])) that is different to the input size (torch.Size([1])). This will likely lead to incorrect results due to broadcasting. Please ensure they have the same size.\n",
      "  return F.mse_loss(input, target, reduction=self.reduction)\n",
      "/Library/Frameworks/Python.framework/Versions/3.11/lib/python3.11/site-packages/torch/nn/modules/loss.py:535: UserWarning: Using a target size (torch.Size([1, 1])) that is different to the input size (torch.Size([1])). This will likely lead to incorrect results due to broadcasting. Please ensure they have the same size.\n",
      "  return F.mse_loss(input, target, reduction=self.reduction)\n",
      "/Library/Frameworks/Python.framework/Versions/3.11/lib/python3.11/site-packages/torch/nn/modules/loss.py:535: UserWarning: Using a target size (torch.Size([1, 1])) that is different to the input size (torch.Size([1])). This will likely lead to incorrect results due to broadcasting. Please ensure they have the same size.\n",
      "  return F.mse_loss(input, target, reduction=self.reduction)\n"
     ]
    },
    {
     "name": "stdout",
     "output_type": "stream",
     "text": [
      "action:  [1.]\n",
      "Shares held:  [85.84467]\n",
      "Cash balance:  [[436.90341034]]\n",
      "Portfolio value:  [[9942.48406898]]\n",
      "num_shares:  [100.934204]\n",
      "current_price:  [[109.61]]\n",
      "action:  [1.]\n",
      "Shares held:  [85.84467]\n",
      "Cash balance:  [[436.90341034]]\n",
      "Portfolio value:  [[9846.33803505]]\n",
      "num_shares:  [68.69336]\n",
      "current_price:  [[109.74]]\n",
      "action:  [1.]\n",
      "Shares held:  [85.84467]\n",
      "Cash balance:  [[436.90341034]]\n",
      "Portfolio value:  [[9857.49784256]]\n",
      "num_shares:  [12.542626]\n",
      "current_price:  [[110.39]]\n"
     ]
    },
    {
     "name": "stderr",
     "output_type": "stream",
     "text": [
      "/Library/Frameworks/Python.framework/Versions/3.11/lib/python3.11/site-packages/torch/nn/modules/loss.py:535: UserWarning: Using a target size (torch.Size([1, 1])) that is different to the input size (torch.Size([1])). This will likely lead to incorrect results due to broadcasting. Please ensure they have the same size.\n",
      "  return F.mse_loss(input, target, reduction=self.reduction)\n",
      "/Library/Frameworks/Python.framework/Versions/3.11/lib/python3.11/site-packages/torch/nn/modules/loss.py:535: UserWarning: Using a target size (torch.Size([1, 1])) that is different to the input size (torch.Size([1])). This will likely lead to incorrect results due to broadcasting. Please ensure they have the same size.\n",
      "  return F.mse_loss(input, target, reduction=self.reduction)\n",
      "/Library/Frameworks/Python.framework/Versions/3.11/lib/python3.11/site-packages/torch/nn/modules/loss.py:535: UserWarning: Using a target size (torch.Size([1, 1])) that is different to the input size (torch.Size([1])). This will likely lead to incorrect results due to broadcasting. Please ensure they have the same size.\n",
      "  return F.mse_loss(input, target, reduction=self.reduction)\n"
     ]
    },
    {
     "name": "stdout",
     "output_type": "stream",
     "text": [
      "action:  [1.]\n",
      "Shares held:  [85.84467]\n",
      "Cash balance:  [[436.90341034]]\n",
      "Portfolio value:  [[9913.29688011]]\n",
      "num_shares:  [22.871038]\n",
      "current_price:  [[109.4]]\n",
      "action:  [1.]\n",
      "Shares held:  [85.84467]\n",
      "Cash balance:  [[436.90341034]]\n",
      "Portfolio value:  [[9828.31065369]]\n",
      "num_shares:  [9.599957]\n",
      "current_price:  [[109.58]]\n",
      "action:  [1.]\n",
      "Shares held:  [85.84467]\n",
      "Cash balance:  [[436.90341034]]\n",
      "Portfolio value:  [[9843.76269485]]\n",
      "num_shares:  [110.0996]\n",
      "current_price:  [[108.92]]\n"
     ]
    },
    {
     "name": "stderr",
     "output_type": "stream",
     "text": [
      "/Library/Frameworks/Python.framework/Versions/3.11/lib/python3.11/site-packages/torch/nn/modules/loss.py:535: UserWarning: Using a target size (torch.Size([1, 1])) that is different to the input size (torch.Size([1])). This will likely lead to incorrect results due to broadcasting. Please ensure they have the same size.\n",
      "  return F.mse_loss(input, target, reduction=self.reduction)\n",
      "/Library/Frameworks/Python.framework/Versions/3.11/lib/python3.11/site-packages/torch/nn/modules/loss.py:535: UserWarning: Using a target size (torch.Size([1, 1])) that is different to the input size (torch.Size([1])). This will likely lead to incorrect results due to broadcasting. Please ensure they have the same size.\n",
      "  return F.mse_loss(input, target, reduction=self.reduction)\n",
      "/Library/Frameworks/Python.framework/Versions/3.11/lib/python3.11/site-packages/torch/nn/modules/loss.py:535: UserWarning: Using a target size (torch.Size([1, 1])) that is different to the input size (torch.Size([1])). This will likely lead to incorrect results due to broadcasting. Please ensure they have the same size.\n",
      "  return F.mse_loss(input, target, reduction=self.reduction)\n"
     ]
    },
    {
     "name": "stdout",
     "output_type": "stream",
     "text": [
      "action:  [1.]\n",
      "Shares held:  [85.84467]\n",
      "Cash balance:  [[436.90341034]]\n",
      "Portfolio value:  [[9787.10521057]]\n",
      "num_shares:  [57.271435]\n",
      "current_price:  [[108.3]]\n",
      "action:  [1.]\n",
      "Shares held:  [85.84467]\n",
      "Cash balance:  [[436.90341034]]\n",
      "Portfolio value:  [[9733.88151321]]\n",
      "num_shares:  [126.93237]\n",
      "current_price:  [[107.85]]\n",
      "action:  [1.]\n",
      "Shares held:  [85.84467]\n",
      "Cash balance:  [[436.90341034]]\n",
      "Portfolio value:  [[9695.25141029]]\n",
      "num_shares:  [137.34157]\n",
      "current_price:  [[107.63]]\n",
      "action:  [1.]\n",
      "Shares held:  [85.84467]\n",
      "Cash balance:  [[436.90341034]]\n",
      "Portfolio value:  [[9676.3655822]]\n",
      "num_shares:  [130.26215]\n",
      "current_price:  [[108.05]]\n"
     ]
    },
    {
     "name": "stderr",
     "output_type": "stream",
     "text": [
      "/Library/Frameworks/Python.framework/Versions/3.11/lib/python3.11/site-packages/torch/nn/modules/loss.py:535: UserWarning: Using a target size (torch.Size([1, 1])) that is different to the input size (torch.Size([1])). This will likely lead to incorrect results due to broadcasting. Please ensure they have the same size.\n",
      "  return F.mse_loss(input, target, reduction=self.reduction)\n",
      "/Library/Frameworks/Python.framework/Versions/3.11/lib/python3.11/site-packages/torch/nn/modules/loss.py:535: UserWarning: Using a target size (torch.Size([1, 1])) that is different to the input size (torch.Size([1])). This will likely lead to incorrect results due to broadcasting. Please ensure they have the same size.\n",
      "  return F.mse_loss(input, target, reduction=self.reduction)\n",
      "/Library/Frameworks/Python.framework/Versions/3.11/lib/python3.11/site-packages/torch/nn/modules/loss.py:535: UserWarning: Using a target size (torch.Size([1, 1])) that is different to the input size (torch.Size([1])). This will likely lead to incorrect results due to broadcasting. Please ensure they have the same size.\n",
      "  return F.mse_loss(input, target, reduction=self.reduction)\n",
      "/Library/Frameworks/Python.framework/Versions/3.11/lib/python3.11/site-packages/torch/nn/modules/loss.py:535: UserWarning: Using a target size (torch.Size([1, 1])) that is different to the input size (torch.Size([1])). This will likely lead to incorrect results due to broadcasting. Please ensure they have the same size.\n",
      "  return F.mse_loss(input, target, reduction=self.reduction)\n"
     ]
    },
    {
     "name": "stdout",
     "output_type": "stream",
     "text": [
      "action:  [1.]\n",
      "Shares held:  [85.84467]\n",
      "Cash balance:  [[436.90341034]]\n",
      "Portfolio value:  [[9712.42034492]]\n",
      "num_shares:  [-3.5540795]\n",
      "current_price:  [[107.76]]\n",
      "selling\n",
      "action:  [1.]\n",
      "Shares held:  [82.290596]\n",
      "Cash balance:  [[819.89102077]]\n",
      "Portfolio value:  [[9687.52564663]]\n",
      "num_shares:  [-24.078957]\n",
      "current_price:  [[107.8]]\n",
      "selling\n",
      "action:  [1.]\n",
      "Shares held:  [58.21164]\n",
      "Cash balance:  [[3415.60254269]]\n",
      "Portfolio value:  [[9690.81727047]]\n",
      "num_shares:  [37.737083]\n",
      "current_price:  [[105.53]]\n"
     ]
    },
    {
     "name": "stderr",
     "output_type": "stream",
     "text": [
      "/Library/Frameworks/Python.framework/Versions/3.11/lib/python3.11/site-packages/torch/nn/modules/loss.py:535: UserWarning: Using a target size (torch.Size([1, 1])) that is different to the input size (torch.Size([1])). This will likely lead to incorrect results due to broadcasting. Please ensure they have the same size.\n",
      "  return F.mse_loss(input, target, reduction=self.reduction)\n",
      "/Library/Frameworks/Python.framework/Versions/3.11/lib/python3.11/site-packages/torch/nn/modules/loss.py:535: UserWarning: Using a target size (torch.Size([1, 1])) that is different to the input size (torch.Size([1])). This will likely lead to incorrect results due to broadcasting. Please ensure they have the same size.\n",
      "  return F.mse_loss(input, target, reduction=self.reduction)\n",
      "/Library/Frameworks/Python.framework/Versions/3.11/lib/python3.11/site-packages/torch/nn/modules/loss.py:535: UserWarning: Using a target size (torch.Size([1, 1])) that is different to the input size (torch.Size([1])). This will likely lead to incorrect results due to broadcasting. Please ensure they have the same size.\n",
      "  return F.mse_loss(input, target, reduction=self.reduction)\n"
     ]
    },
    {
     "name": "stdout",
     "output_type": "stream",
     "text": [
      "action:  [1.]\n",
      "Shares held:  [58.21164]\n",
      "Cash balance:  [[3415.60254269]]\n",
      "Portfolio value:  [[9558.67684902]]\n",
      "num_shares:  [91.81594]\n",
      "current_price:  [[105.74]]\n",
      "action:  [1.]\n",
      "Shares held:  [58.21164]\n",
      "Cash balance:  [[3415.60254269]]\n",
      "Portfolio value:  [[9570.9012933]]\n",
      "num_shares:  [120.05604]\n",
      "current_price:  [[107.84]]\n",
      "action:  [1.]\n",
      "Shares held:  [58.21164]\n",
      "Cash balance:  [[3415.60254269]]\n",
      "Portfolio value:  [[9693.14573605]]\n",
      "num_shares:  [-37.840168]\n",
      "current_price:  [[107.33]]\n",
      "selling\n"
     ]
    },
    {
     "name": "stderr",
     "output_type": "stream",
     "text": [
      "/Library/Frameworks/Python.framework/Versions/3.11/lib/python3.11/site-packages/torch/nn/modules/loss.py:535: UserWarning: Using a target size (torch.Size([1, 1])) that is different to the input size (torch.Size([1])). This will likely lead to incorrect results due to broadcasting. Please ensure they have the same size.\n",
      "  return F.mse_loss(input, target, reduction=self.reduction)\n",
      "/Library/Frameworks/Python.framework/Versions/3.11/lib/python3.11/site-packages/torch/nn/modules/loss.py:535: UserWarning: Using a target size (torch.Size([1, 1])) that is different to the input size (torch.Size([1])). This will likely lead to incorrect results due to broadcasting. Please ensure they have the same size.\n",
      "  return F.mse_loss(input, target, reduction=self.reduction)\n",
      "/Library/Frameworks/Python.framework/Versions/3.11/lib/python3.11/site-packages/torch/nn/modules/loss.py:535: UserWarning: Using a target size (torch.Size([1, 1])) that is different to the input size (torch.Size([1])). This will likely lead to incorrect results due to broadcasting. Please ensure they have the same size.\n",
      "  return F.mse_loss(input, target, reduction=self.reduction)\n"
     ]
    },
    {
     "name": "stdout",
     "output_type": "stream",
     "text": [
      "action:  [1.]\n",
      "Shares held:  [20.371471]\n",
      "Cash balance:  [[7476.98777405]]\n",
      "Portfolio value:  [[9663.45779995]]\n",
      "num_shares:  [116.65038]\n",
      "current_price:  [[107.36]]\n",
      "action:  [1.]\n",
      "Shares held:  [20.371471]\n",
      "Cash balance:  [[7476.98777405]]\n",
      "Portfolio value:  [[9664.06894409]]\n",
      "num_shares:  [68.98934]\n",
      "current_price:  [[106.92]]\n",
      "buying\n",
      "action:  [1.]\n",
      "Shares held:  [89.36081]\n",
      "Cash balance:  [[100.64735565]]\n",
      "Portfolio value:  [[9655.10508881]]\n",
      "num_shares:  [200.6188]\n",
      "current_price:  [[106.5]]\n"
     ]
    },
    {
     "name": "stderr",
     "output_type": "stream",
     "text": [
      "/Library/Frameworks/Python.framework/Versions/3.11/lib/python3.11/site-packages/torch/nn/modules/loss.py:535: UserWarning: Using a target size (torch.Size([1, 1])) that is different to the input size (torch.Size([1])). This will likely lead to incorrect results due to broadcasting. Please ensure they have the same size.\n",
      "  return F.mse_loss(input, target, reduction=self.reduction)\n",
      "/Library/Frameworks/Python.framework/Versions/3.11/lib/python3.11/site-packages/torch/nn/modules/loss.py:535: UserWarning: Using a target size (torch.Size([1, 1])) that is different to the input size (torch.Size([1])). This will likely lead to incorrect results due to broadcasting. Please ensure they have the same size.\n",
      "  return F.mse_loss(input, target, reduction=self.reduction)\n",
      "/Library/Frameworks/Python.framework/Versions/3.11/lib/python3.11/site-packages/torch/nn/modules/loss.py:535: UserWarning: Using a target size (torch.Size([1, 1])) that is different to the input size (torch.Size([1])). This will likely lead to incorrect results due to broadcasting. Please ensure they have the same size.\n",
      "  return F.mse_loss(input, target, reduction=self.reduction)\n"
     ]
    },
    {
     "name": "stdout",
     "output_type": "stream",
     "text": [
      "action:  [1.]\n",
      "Shares held:  [89.36081]\n",
      "Cash balance:  [[100.64735565]]\n",
      "Portfolio value:  [[9617.57354889]]\n",
      "num_shares:  [154.49602]\n",
      "current_price:  [[106.36]]\n",
      "action:  [1.]\n",
      "Shares held:  [89.36081]\n",
      "Cash balance:  [[100.64735565]]\n",
      "Portfolio value:  [[9605.06303558]]\n",
      "num_shares:  [65.98723]\n",
      "current_price:  [[107.05]]\n",
      "action:  [1.]\n",
      "Shares held:  [89.36081]\n",
      "Cash balance:  [[100.64735565]]\n",
      "Portfolio value:  [[9666.72199402]]\n",
      "num_shares:  [-35.924847]\n",
      "current_price:  [[107.08]]\n",
      "selling\n"
     ]
    },
    {
     "name": "stderr",
     "output_type": "stream",
     "text": [
      "/Library/Frameworks/Python.framework/Versions/3.11/lib/python3.11/site-packages/torch/nn/modules/loss.py:535: UserWarning: Using a target size (torch.Size([1, 1])) that is different to the input size (torch.Size([1])). This will likely lead to incorrect results due to broadcasting. Please ensure they have the same size.\n",
      "  return F.mse_loss(input, target, reduction=self.reduction)\n",
      "/Library/Frameworks/Python.framework/Versions/3.11/lib/python3.11/site-packages/torch/nn/modules/loss.py:535: UserWarning: Using a target size (torch.Size([1, 1])) that is different to the input size (torch.Size([1])). This will likely lead to incorrect results due to broadcasting. Please ensure they have the same size.\n",
      "  return F.mse_loss(input, target, reduction=self.reduction)\n",
      "/Library/Frameworks/Python.framework/Versions/3.11/lib/python3.11/site-packages/torch/nn/modules/loss.py:535: UserWarning: Using a target size (torch.Size([1, 1])) that is different to the input size (torch.Size([1])). This will likely lead to incorrect results due to broadcasting. Please ensure they have the same size.\n",
      "  return F.mse_loss(input, target, reduction=self.reduction)\n"
     ]
    },
    {
     "name": "stdout",
     "output_type": "stream",
     "text": [
      "action:  [1.]\n",
      "Shares held:  [53.435963]\n",
      "Cash balance:  [[3947.47993484]]\n",
      "Portfolio value:  [[9669.4028183]]\n",
      "num_shares:  [56.642242]\n",
      "current_price:  [[106.87]]\n",
      "action:  [1.]\n",
      "Shares held:  [53.435963]\n",
      "Cash balance:  [[3947.47993484]]\n",
      "Portfolio value:  [[9658.18126614]]\n",
      "num_shares:  [176.0488]\n",
      "current_price:  [[106.]]\n",
      "action:  [1.]\n",
      "Shares held:  [53.435963]\n",
      "Cash balance:  [[3947.47993484]]\n",
      "Portfolio value:  [[9611.69197861]]\n",
      "num_shares:  [111.94432]\n",
      "current_price:  [[106.54]]\n"
     ]
    },
    {
     "name": "stderr",
     "output_type": "stream",
     "text": [
      "/Library/Frameworks/Python.framework/Versions/3.11/lib/python3.11/site-packages/torch/nn/modules/loss.py:535: UserWarning: Using a target size (torch.Size([1, 1])) that is different to the input size (torch.Size([1])). This will likely lead to incorrect results due to broadcasting. Please ensure they have the same size.\n",
      "  return F.mse_loss(input, target, reduction=self.reduction)\n",
      "/Library/Frameworks/Python.framework/Versions/3.11/lib/python3.11/site-packages/torch/nn/modules/loss.py:535: UserWarning: Using a target size (torch.Size([1, 1])) that is different to the input size (torch.Size([1])). This will likely lead to incorrect results due to broadcasting. Please ensure they have the same size.\n",
      "  return F.mse_loss(input, target, reduction=self.reduction)\n",
      "/Library/Frameworks/Python.framework/Versions/3.11/lib/python3.11/site-packages/torch/nn/modules/loss.py:535: UserWarning: Using a target size (torch.Size([1, 1])) that is different to the input size (torch.Size([1])). This will likely lead to incorrect results due to broadcasting. Please ensure they have the same size.\n",
      "  return F.mse_loss(input, target, reduction=self.reduction)\n"
     ]
    },
    {
     "name": "stdout",
     "output_type": "stream",
     "text": [
      "action:  [1.]\n",
      "Shares held:  [53.435963]\n",
      "Cash balance:  [[3947.47993484]]\n",
      "Portfolio value:  [[9640.54739845]]\n",
      "num_shares:  [77.28066]\n",
      "current_price:  [[108.45]]\n",
      "action:  [1.]\n",
      "Shares held:  [53.435963]\n",
      "Cash balance:  [[3947.47993484]]\n",
      "Portfolio value:  [[9742.61008717]]\n",
      "num_shares:  [105.05261]\n",
      "current_price:  [[108.11]]\n",
      "action:  [1.]\n",
      "Shares held:  [53.435963]\n",
      "Cash balance:  [[3947.47993484]]\n",
      "Portfolio value:  [[9724.44185986]]\n",
      "num_shares:  [122.3208]\n",
      "current_price:  [[107.935]]\n"
     ]
    },
    {
     "name": "stderr",
     "output_type": "stream",
     "text": [
      "/Library/Frameworks/Python.framework/Versions/3.11/lib/python3.11/site-packages/torch/nn/modules/loss.py:535: UserWarning: Using a target size (torch.Size([1, 1])) that is different to the input size (torch.Size([1])). This will likely lead to incorrect results due to broadcasting. Please ensure they have the same size.\n",
      "  return F.mse_loss(input, target, reduction=self.reduction)\n",
      "/Library/Frameworks/Python.framework/Versions/3.11/lib/python3.11/site-packages/torch/nn/modules/loss.py:535: UserWarning: Using a target size (torch.Size([1, 1])) that is different to the input size (torch.Size([1])). This will likely lead to incorrect results due to broadcasting. Please ensure they have the same size.\n",
      "  return F.mse_loss(input, target, reduction=self.reduction)\n",
      "/Library/Frameworks/Python.framework/Versions/3.11/lib/python3.11/site-packages/torch/nn/modules/loss.py:535: UserWarning: Using a target size (torch.Size([1, 1])) that is different to the input size (torch.Size([1])). This will likely lead to incorrect results due to broadcasting. Please ensure they have the same size.\n",
      "  return F.mse_loss(input, target, reduction=self.reduction)\n"
     ]
    },
    {
     "name": "stdout",
     "output_type": "stream",
     "text": [
      "action:  [1.]\n",
      "Shares held:  [53.435963]\n",
      "Cash balance:  [[3947.47993484]]\n",
      "Portfolio value:  [[9715.09056639]]\n",
      "num_shares:  [35.87309]\n",
      "current_price:  [[108.75]]\n",
      "buying\n",
      "action:  [1.]\n",
      "Shares held:  [89.30905]\n",
      "Cash balance:  [[46.28152386]]\n",
      "Portfolio value:  [[9758.64087597]]\n",
      "num_shares:  [108.375206]\n",
      "current_price:  [[108.6375]]\n",
      "action:  [1.]\n",
      "Shares held:  [89.30905]\n",
      "Cash balance:  [[46.28152386]]\n",
      "Portfolio value:  [[9748.59360767]]\n",
      "num_shares:  [59.138252]\n",
      "current_price:  [[107.74]]\n"
     ]
    },
    {
     "name": "stderr",
     "output_type": "stream",
     "text": [
      "/Library/Frameworks/Python.framework/Versions/3.11/lib/python3.11/site-packages/torch/nn/modules/loss.py:535: UserWarning: Using a target size (torch.Size([1, 1])) that is different to the input size (torch.Size([1])). This will likely lead to incorrect results due to broadcasting. Please ensure they have the same size.\n",
      "  return F.mse_loss(input, target, reduction=self.reduction)\n",
      "/Library/Frameworks/Python.framework/Versions/3.11/lib/python3.11/site-packages/torch/nn/modules/loss.py:535: UserWarning: Using a target size (torch.Size([1, 1])) that is different to the input size (torch.Size([1])). This will likely lead to incorrect results due to broadcasting. Please ensure they have the same size.\n",
      "  return F.mse_loss(input, target, reduction=self.reduction)\n",
      "/Library/Frameworks/Python.framework/Versions/3.11/lib/python3.11/site-packages/torch/nn/modules/loss.py:535: UserWarning: Using a target size (torch.Size([1, 1])) that is different to the input size (torch.Size([1])). This will likely lead to incorrect results due to broadcasting. Please ensure they have the same size.\n",
      "  return F.mse_loss(input, target, reduction=self.reduction)\n"
     ]
    },
    {
     "name": "stdout",
     "output_type": "stream",
     "text": [
      "action:  [1.]\n",
      "Shares held:  [89.30905]\n",
      "Cash balance:  [[46.28152386]]\n",
      "Portfolio value:  [[9668.43873394]]\n",
      "num_shares:  [31.64538]\n",
      "current_price:  [[107.505]]\n",
      "action:  [1.]\n",
      "Shares held:  [89.30905]\n",
      "Cash balance:  [[46.28152386]]\n",
      "Portfolio value:  [[9647.45110683]]\n",
      "num_shares:  [146.41747]\n",
      "current_price:  [[107.1]]\n",
      "action:  [1.]\n",
      "Shares held:  [89.30905]\n",
      "Cash balance:  [[46.28152386]]\n",
      "Portfolio value:  [[9611.28094097]]\n",
      "num_shares:  [155.51624]\n",
      "current_price:  [[107.21]]\n"
     ]
    },
    {
     "name": "stderr",
     "output_type": "stream",
     "text": [
      "/Library/Frameworks/Python.framework/Versions/3.11/lib/python3.11/site-packages/torch/nn/modules/loss.py:535: UserWarning: Using a target size (torch.Size([1, 1])) that is different to the input size (torch.Size([1])). This will likely lead to incorrect results due to broadcasting. Please ensure they have the same size.\n",
      "  return F.mse_loss(input, target, reduction=self.reduction)\n",
      "/Library/Frameworks/Python.framework/Versions/3.11/lib/python3.11/site-packages/torch/nn/modules/loss.py:535: UserWarning: Using a target size (torch.Size([1, 1])) that is different to the input size (torch.Size([1])). This will likely lead to incorrect results due to broadcasting. Please ensure they have the same size.\n",
      "  return F.mse_loss(input, target, reduction=self.reduction)\n",
      "/Library/Frameworks/Python.framework/Versions/3.11/lib/python3.11/site-packages/torch/nn/modules/loss.py:535: UserWarning: Using a target size (torch.Size([1, 1])) that is different to the input size (torch.Size([1])). This will likely lead to incorrect results due to broadcasting. Please ensure they have the same size.\n",
      "  return F.mse_loss(input, target, reduction=self.reduction)\n"
     ]
    },
    {
     "name": "stdout",
     "output_type": "stream",
     "text": [
      "action:  [1.]\n",
      "Shares held:  [89.30905]\n",
      "Cash balance:  [[46.28152386]]\n",
      "Portfolio value:  [[9621.10493664]]\n",
      "num_shares:  [100.034035]\n",
      "current_price:  [[106.87]]\n",
      "action:  [1.]\n",
      "Shares held:  [89.30905]\n",
      "Cash balance:  [[46.28152386]]\n",
      "Portfolio value:  [[9590.73985912]]\n",
      "num_shares:  [33.274986]\n",
      "current_price:  [[105.94]]\n",
      "action:  [1.]\n",
      "Shares held:  [89.30905]\n",
      "Cash balance:  [[46.28152386]]\n",
      "Portfolio value:  [[9507.68244122]]\n",
      "num_shares:  [110.78593]\n",
      "current_price:  [[106.025]]\n"
     ]
    },
    {
     "name": "stderr",
     "output_type": "stream",
     "text": [
      "/Library/Frameworks/Python.framework/Versions/3.11/lib/python3.11/site-packages/torch/nn/modules/loss.py:535: UserWarning: Using a target size (torch.Size([1, 1])) that is different to the input size (torch.Size([1])). This will likely lead to incorrect results due to broadcasting. Please ensure they have the same size.\n",
      "  return F.mse_loss(input, target, reduction=self.reduction)\n",
      "/Library/Frameworks/Python.framework/Versions/3.11/lib/python3.11/site-packages/torch/nn/modules/loss.py:535: UserWarning: Using a target size (torch.Size([1, 1])) that is different to the input size (torch.Size([1])). This will likely lead to incorrect results due to broadcasting. Please ensure they have the same size.\n",
      "  return F.mse_loss(input, target, reduction=self.reduction)\n",
      "/Library/Frameworks/Python.framework/Versions/3.11/lib/python3.11/site-packages/torch/nn/modules/loss.py:535: UserWarning: Using a target size (torch.Size([1, 1])) that is different to the input size (torch.Size([1])). This will likely lead to incorrect results due to broadcasting. Please ensure they have the same size.\n",
      "  return F.mse_loss(input, target, reduction=self.reduction)\n"
     ]
    },
    {
     "name": "stdout",
     "output_type": "stream",
     "text": [
      "action:  [1.]\n",
      "Shares held:  [89.30905]\n",
      "Cash balance:  [[46.28152386]]\n",
      "Portfolio value:  [[9515.27371059]]\n",
      "num_shares:  [152.02959]\n",
      "current_price:  [[106.9]]\n",
      "action:  [1.]\n",
      "Shares held:  [89.30905]\n",
      "Cash balance:  [[46.28152386]]\n",
      "Portfolio value:  [[9593.41913067]]\n",
      "num_shares:  [152.22969]\n",
      "current_price:  [[102.845]]\n",
      "action:  [1.]\n",
      "Shares held:  [89.30905]\n",
      "Cash balance:  [[46.28152386]]\n",
      "Portfolio value:  [[9231.27092678]]\n",
      "num_shares:  [132.48535]\n",
      "current_price:  [[103.24]]\n"
     ]
    },
    {
     "name": "stderr",
     "output_type": "stream",
     "text": [
      "/Library/Frameworks/Python.framework/Versions/3.11/lib/python3.11/site-packages/torch/nn/modules/loss.py:535: UserWarning: Using a target size (torch.Size([1, 1])) that is different to the input size (torch.Size([1])). This will likely lead to incorrect results due to broadcasting. Please ensure they have the same size.\n",
      "  return F.mse_loss(input, target, reduction=self.reduction)\n",
      "/Library/Frameworks/Python.framework/Versions/3.11/lib/python3.11/site-packages/torch/nn/modules/loss.py:535: UserWarning: Using a target size (torch.Size([1, 1])) that is different to the input size (torch.Size([1])). This will likely lead to incorrect results due to broadcasting. Please ensure they have the same size.\n",
      "  return F.mse_loss(input, target, reduction=self.reduction)\n",
      "/Library/Frameworks/Python.framework/Versions/3.11/lib/python3.11/site-packages/torch/nn/modules/loss.py:535: UserWarning: Using a target size (torch.Size([1, 1])) that is different to the input size (torch.Size([1])). This will likely lead to incorrect results due to broadcasting. Please ensure they have the same size.\n",
      "  return F.mse_loss(input, target, reduction=self.reduction)\n"
     ]
    },
    {
     "name": "stdout",
     "output_type": "stream",
     "text": [
      "action:  [1.]\n",
      "Shares held:  [89.30905]\n",
      "Cash balance:  [[46.28152386]]\n",
      "Portfolio value:  [[9266.54800213]]\n",
      "num_shares:  [104.678825]\n",
      "current_price:  [[102.52]]\n",
      "action:  [1.]\n",
      "Shares held:  [89.30905]\n",
      "Cash balance:  [[46.28152386]]\n",
      "Portfolio value:  [[9202.24548504]]\n",
      "num_shares:  [123.28891]\n",
      "current_price:  [[102.42]]\n",
      "action:  [1.]\n",
      "Shares held:  [89.30905]\n",
      "Cash balance:  [[46.28152386]]\n",
      "Portfolio value:  [[9193.31457989]]\n",
      "num_shares:  [93.003395]\n",
      "current_price:  [[101.37]]\n"
     ]
    },
    {
     "name": "stderr",
     "output_type": "stream",
     "text": [
      "/Library/Frameworks/Python.framework/Versions/3.11/lib/python3.11/site-packages/torch/nn/modules/loss.py:535: UserWarning: Using a target size (torch.Size([1, 1])) that is different to the input size (torch.Size([1])). This will likely lead to incorrect results due to broadcasting. Please ensure they have the same size.\n",
      "  return F.mse_loss(input, target, reduction=self.reduction)\n",
      "/Library/Frameworks/Python.framework/Versions/3.11/lib/python3.11/site-packages/torch/nn/modules/loss.py:535: UserWarning: Using a target size (torch.Size([1, 1])) that is different to the input size (torch.Size([1])). This will likely lead to incorrect results due to broadcasting. Please ensure they have the same size.\n",
      "  return F.mse_loss(input, target, reduction=self.reduction)\n",
      "/Library/Frameworks/Python.framework/Versions/3.11/lib/python3.11/site-packages/torch/nn/modules/loss.py:535: UserWarning: Using a target size (torch.Size([1, 1])) that is different to the input size (torch.Size([1])). This will likely lead to incorrect results due to broadcasting. Please ensure they have the same size.\n",
      "  return F.mse_loss(input, target, reduction=self.reduction)\n"
     ]
    },
    {
     "name": "stdout",
     "output_type": "stream",
     "text": [
      "action:  [1.]\n",
      "Shares held:  [89.30905]\n",
      "Cash balance:  [[46.28152386]]\n",
      "Portfolio value:  [[9099.5400758]]\n",
      "num_shares:  [137.95541]\n",
      "current_price:  [[100.8286]]\n",
      "action:  [1.]\n",
      "Shares held:  [89.30905]\n",
      "Cash balance:  [[46.28152386]]\n",
      "Portfolio value:  [[9051.18815531]]\n",
      "num_shares:  [125.46539]\n",
      "current_price:  [[100.39]]\n",
      "action:  [1.]\n",
      "Shares held:  [89.30905]\n",
      "Cash balance:  [[46.28152386]]\n",
      "Portfolio value:  [[9012.01720531]]\n",
      "num_shares:  [181.89795]\n",
      "current_price:  [[101.18]]\n"
     ]
    },
    {
     "name": "stderr",
     "output_type": "stream",
     "text": [
      "/Library/Frameworks/Python.framework/Versions/3.11/lib/python3.11/site-packages/torch/nn/modules/loss.py:535: UserWarning: Using a target size (torch.Size([1, 1])) that is different to the input size (torch.Size([1])). This will likely lead to incorrect results due to broadcasting. Please ensure they have the same size.\n",
      "  return F.mse_loss(input, target, reduction=self.reduction)\n",
      "/Library/Frameworks/Python.framework/Versions/3.11/lib/python3.11/site-packages/torch/nn/modules/loss.py:535: UserWarning: Using a target size (torch.Size([1, 1])) that is different to the input size (torch.Size([1])). This will likely lead to incorrect results due to broadcasting. Please ensure they have the same size.\n",
      "  return F.mse_loss(input, target, reduction=self.reduction)\n",
      "/Library/Frameworks/Python.framework/Versions/3.11/lib/python3.11/site-packages/torch/nn/modules/loss.py:535: UserWarning: Using a target size (torch.Size([1, 1])) that is different to the input size (torch.Size([1])). This will likely lead to incorrect results due to broadcasting. Please ensure they have the same size.\n",
      "  return F.mse_loss(input, target, reduction=self.reduction)\n"
     ]
    },
    {
     "name": "stdout",
     "output_type": "stream",
     "text": [
      "action:  [1.]\n",
      "Shares held:  [89.30905]\n",
      "Cash balance:  [[46.28152386]]\n",
      "Portfolio value:  [[9082.57135601]]\n",
      "num_shares:  [94.05845]\n",
      "current_price:  [[100.94]]\n",
      "action:  [1.]\n",
      "Shares held:  [89.30905]\n",
      "Cash balance:  [[46.28152386]]\n",
      "Portfolio value:  [[9061.13718365]]\n",
      "num_shares:  [76.37515]\n",
      "current_price:  [[101.5611]]\n",
      "action:  [1.]\n",
      "Shares held:  [89.30905]\n",
      "Cash balance:  [[46.28152386]]\n",
      "Portfolio value:  [[9116.60703554]]\n",
      "num_shares:  [181.1096]\n",
      "current_price:  [[101.84]]\n"
     ]
    },
    {
     "name": "stderr",
     "output_type": "stream",
     "text": [
      "/Library/Frameworks/Python.framework/Versions/3.11/lib/python3.11/site-packages/torch/nn/modules/loss.py:535: UserWarning: Using a target size (torch.Size([1, 1])) that is different to the input size (torch.Size([1])). This will likely lead to incorrect results due to broadcasting. Please ensure they have the same size.\n",
      "  return F.mse_loss(input, target, reduction=self.reduction)\n",
      "/Library/Frameworks/Python.framework/Versions/3.11/lib/python3.11/site-packages/torch/nn/modules/loss.py:535: UserWarning: Using a target size (torch.Size([1, 1])) that is different to the input size (torch.Size([1])). This will likely lead to incorrect results due to broadcasting. Please ensure they have the same size.\n",
      "  return F.mse_loss(input, target, reduction=self.reduction)\n",
      "/Library/Frameworks/Python.framework/Versions/3.11/lib/python3.11/site-packages/torch/nn/modules/loss.py:535: UserWarning: Using a target size (torch.Size([1, 1])) that is different to the input size (torch.Size([1])). This will likely lead to incorrect results due to broadcasting. Please ensure they have the same size.\n",
      "  return F.mse_loss(input, target, reduction=self.reduction)\n"
     ]
    },
    {
     "name": "stdout",
     "output_type": "stream",
     "text": [
      "action:  [1.]\n",
      "Shares held:  [89.30905]\n",
      "Cash balance:  [[46.28152386]]\n",
      "Portfolio value:  [[9141.51533001]]\n",
      "num_shares:  [44.49044]\n",
      "current_price:  [[101.42]]\n",
      "action:  [1.]\n",
      "Shares held:  [89.30905]\n",
      "Cash balance:  [[46.28152386]]\n",
      "Portfolio value:  [[9104.00552837]]\n",
      "num_shares:  [77.610504]\n",
      "current_price:  [[101.65]]\n",
      "action:  [1.]\n",
      "Shares held:  [89.30905]\n",
      "Cash balance:  [[46.28152386]]\n",
      "Portfolio value:  [[9124.54661022]]\n",
      "num_shares:  [178.95036]\n",
      "current_price:  [[100.11]]\n"
     ]
    },
    {
     "name": "stderr",
     "output_type": "stream",
     "text": [
      "/Library/Frameworks/Python.framework/Versions/3.11/lib/python3.11/site-packages/torch/nn/modules/loss.py:535: UserWarning: Using a target size (torch.Size([1, 1])) that is different to the input size (torch.Size([1])). This will likely lead to incorrect results due to broadcasting. Please ensure they have the same size.\n",
      "  return F.mse_loss(input, target, reduction=self.reduction)\n",
      "/Library/Frameworks/Python.framework/Versions/3.11/lib/python3.11/site-packages/torch/nn/modules/loss.py:535: UserWarning: Using a target size (torch.Size([1, 1])) that is different to the input size (torch.Size([1])). This will likely lead to incorrect results due to broadcasting. Please ensure they have the same size.\n",
      "  return F.mse_loss(input, target, reduction=self.reduction)\n",
      "/Library/Frameworks/Python.framework/Versions/3.11/lib/python3.11/site-packages/torch/nn/modules/loss.py:535: UserWarning: Using a target size (torch.Size([1, 1])) that is different to the input size (torch.Size([1])). This will likely lead to incorrect results due to broadcasting. Please ensure they have the same size.\n",
      "  return F.mse_loss(input, target, reduction=self.reduction)\n"
     ]
    },
    {
     "name": "stdout",
     "output_type": "stream",
     "text": [
      "action:  [1.]\n",
      "Shares held:  [89.30905]\n",
      "Cash balance:  [[46.28152386]]\n",
      "Portfolio value:  [[8987.01067089]]\n",
      "num_shares:  [25.29264]\n",
      "current_price:  [[98.3702]]\n",
      "action:  [1.]\n",
      "Shares held:  [89.30905]\n",
      "Cash balance:  [[46.28152386]]\n",
      "Portfolio value:  [[8831.63078307]]\n",
      "num_shares:  [69.75319]\n",
      "current_price:  [[100.1]]\n",
      "action:  [1.]\n",
      "Shares held:  [89.30905]\n",
      "Cash balance:  [[46.28152386]]\n",
      "Portfolio value:  [[8986.11758038]]\n",
      "num_shares:  [75.24125]\n",
      "current_price:  [[99.8321]]\n"
     ]
    },
    {
     "name": "stderr",
     "output_type": "stream",
     "text": [
      "/Library/Frameworks/Python.framework/Versions/3.11/lib/python3.11/site-packages/torch/nn/modules/loss.py:535: UserWarning: Using a target size (torch.Size([1, 1])) that is different to the input size (torch.Size([1])). This will likely lead to incorrect results due to broadcasting. Please ensure they have the same size.\n",
      "  return F.mse_loss(input, target, reduction=self.reduction)\n",
      "/Library/Frameworks/Python.framework/Versions/3.11/lib/python3.11/site-packages/torch/nn/modules/loss.py:535: UserWarning: Using a target size (torch.Size([1, 1])) that is different to the input size (torch.Size([1])). This will likely lead to incorrect results due to broadcasting. Please ensure they have the same size.\n",
      "  return F.mse_loss(input, target, reduction=self.reduction)\n",
      "/Library/Frameworks/Python.framework/Versions/3.11/lib/python3.11/site-packages/torch/nn/modules/loss.py:535: UserWarning: Using a target size (torch.Size([1, 1])) that is different to the input size (torch.Size([1])). This will likely lead to incorrect results due to broadcasting. Please ensure they have the same size.\n",
      "  return F.mse_loss(input, target, reduction=self.reduction)\n"
     ]
    },
    {
     "name": "stdout",
     "output_type": "stream",
     "text": [
      "action:  [1.]\n",
      "Shares held:  [89.30905]\n",
      "Cash balance:  [[46.28152386]]\n",
      "Portfolio value:  [[8962.19168548]]\n",
      "num_shares:  [127.98697]\n",
      "current_price:  [[99.74]]\n",
      "action:  [1.]\n",
      "Shares held:  [89.30905]\n",
      "Cash balance:  [[46.28152386]]\n",
      "Portfolio value:  [[8953.96632183]]\n",
      "num_shares:  [93.93421]\n",
      "current_price:  [[100.24]]\n",
      "action:  [1.]\n",
      "Shares held:  [89.30905]\n",
      "Cash balance:  [[46.28152386]]\n",
      "Portfolio value:  [[8998.62084759]]\n",
      "num_shares:  [60.02269]\n",
      "current_price:  [[101.17]]\n"
     ]
    },
    {
     "name": "stderr",
     "output_type": "stream",
     "text": [
      "/Library/Frameworks/Python.framework/Versions/3.11/lib/python3.11/site-packages/torch/nn/modules/loss.py:535: UserWarning: Using a target size (torch.Size([1, 1])) that is different to the input size (torch.Size([1])). This will likely lead to incorrect results due to broadcasting. Please ensure they have the same size.\n",
      "  return F.mse_loss(input, target, reduction=self.reduction)\n",
      "/Library/Frameworks/Python.framework/Versions/3.11/lib/python3.11/site-packages/torch/nn/modules/loss.py:535: UserWarning: Using a target size (torch.Size([1, 1])) that is different to the input size (torch.Size([1])). This will likely lead to incorrect results due to broadcasting. Please ensure they have the same size.\n",
      "  return F.mse_loss(input, target, reduction=self.reduction)\n",
      "/Library/Frameworks/Python.framework/Versions/3.11/lib/python3.11/site-packages/torch/nn/modules/loss.py:535: UserWarning: Using a target size (torch.Size([1, 1])) that is different to the input size (torch.Size([1])). This will likely lead to incorrect results due to broadcasting. Please ensure they have the same size.\n",
      "  return F.mse_loss(input, target, reduction=self.reduction)\n"
     ]
    },
    {
     "name": "stdout",
     "output_type": "stream",
     "text": [
      "action:  [1.]\n",
      "Shares held:  [89.30905]\n",
      "Cash balance:  [[46.28152386]]\n",
      "Portfolio value:  [[9081.6782655]]\n",
      "num_shares:  [55.916195]\n",
      "current_price:  [[101.04]]\n",
      "action:  [1.]\n",
      "Shares held:  [89.30905]\n",
      "Cash balance:  [[46.28152386]]\n",
      "Portfolio value:  [[9070.0680888]]\n",
      "num_shares:  [111.76173]\n",
      "current_price:  [[101.14]]\n",
      "action:  [1.]\n",
      "Shares held:  [89.30905]\n",
      "Cash balance:  [[46.28152386]]\n",
      "Portfolio value:  [[9078.99899395]]\n",
      "num_shares:  [101.597725]\n",
      "current_price:  [[100.7219]]\n"
     ]
    },
    {
     "name": "stderr",
     "output_type": "stream",
     "text": [
      "/Library/Frameworks/Python.framework/Versions/3.11/lib/python3.11/site-packages/torch/nn/modules/loss.py:535: UserWarning: Using a target size (torch.Size([1, 1])) that is different to the input size (torch.Size([1])). This will likely lead to incorrect results due to broadcasting. Please ensure they have the same size.\n",
      "  return F.mse_loss(input, target, reduction=self.reduction)\n",
      "/Library/Frameworks/Python.framework/Versions/3.11/lib/python3.11/site-packages/torch/nn/modules/loss.py:535: UserWarning: Using a target size (torch.Size([1, 1])) that is different to the input size (torch.Size([1])). This will likely lead to incorrect results due to broadcasting. Please ensure they have the same size.\n",
      "  return F.mse_loss(input, target, reduction=self.reduction)\n",
      "/Library/Frameworks/Python.framework/Versions/3.11/lib/python3.11/site-packages/torch/nn/modules/loss.py:535: UserWarning: Using a target size (torch.Size([1, 1])) that is different to the input size (torch.Size([1])). This will likely lead to incorrect results due to broadcasting. Please ensure they have the same size.\n",
      "  return F.mse_loss(input, target, reduction=self.reduction)\n"
     ]
    },
    {
     "name": "stdout",
     "output_type": "stream",
     "text": [
      "action:  [1.]\n",
      "Shares held:  [89.30905]\n",
      "Cash balance:  [[46.28152386]]\n",
      "Portfolio value:  [[9041.65887951]]\n",
      "num_shares:  [148.2037]\n",
      "current_price:  [[100.98]]\n",
      "action:  [1.]\n",
      "Shares held:  [89.30905]\n",
      "Cash balance:  [[46.28152386]]\n",
      "Portfolio value:  [[9064.70954571]]\n",
      "num_shares:  [198.48145]\n",
      "current_price:  [[101.]]\n",
      "action:  [1.]\n",
      "Shares held:  [89.30905]\n",
      "Cash balance:  [[46.28152386]]\n",
      "Portfolio value:  [[9066.49572674]]\n",
      "num_shares:  [65.65174]\n",
      "current_price:  [[101.02]]\n"
     ]
    },
    {
     "name": "stderr",
     "output_type": "stream",
     "text": [
      "/Library/Frameworks/Python.framework/Versions/3.11/lib/python3.11/site-packages/torch/nn/modules/loss.py:535: UserWarning: Using a target size (torch.Size([1, 1])) that is different to the input size (torch.Size([1])). This will likely lead to incorrect results due to broadcasting. Please ensure they have the same size.\n",
      "  return F.mse_loss(input, target, reduction=self.reduction)\n",
      "/Library/Frameworks/Python.framework/Versions/3.11/lib/python3.11/site-packages/torch/nn/modules/loss.py:535: UserWarning: Using a target size (torch.Size([1, 1])) that is different to the input size (torch.Size([1])). This will likely lead to incorrect results due to broadcasting. Please ensure they have the same size.\n",
      "  return F.mse_loss(input, target, reduction=self.reduction)\n",
      "/Library/Frameworks/Python.framework/Versions/3.11/lib/python3.11/site-packages/torch/nn/modules/loss.py:535: UserWarning: Using a target size (torch.Size([1, 1])) that is different to the input size (torch.Size([1])). This will likely lead to incorrect results due to broadcasting. Please ensure they have the same size.\n",
      "  return F.mse_loss(input, target, reduction=self.reduction)\n"
     ]
    },
    {
     "name": "stdout",
     "output_type": "stream",
     "text": [
      "action:  [1.]\n",
      "Shares held:  [89.30905]\n",
      "Cash balance:  [[46.28152386]]\n",
      "Portfolio value:  [[9068.28190777]]\n",
      "num_shares:  [40.24086]\n",
      "current_price:  [[100.9]]\n",
      "action:  [1.]\n",
      "Shares held:  [89.30905]\n",
      "Cash balance:  [[46.28152386]]\n",
      "Portfolio value:  [[9057.56482159]]\n",
      "num_shares:  [130.5668]\n",
      "current_price:  [[100.03]]\n",
      "action:  [1.]\n",
      "Shares held:  [89.30905]\n",
      "Cash balance:  [[46.28152386]]\n",
      "Portfolio value:  [[8979.86594677]]\n",
      "num_shares:  [176.73827]\n",
      "current_price:  [[99.65]]\n"
     ]
    },
    {
     "name": "stderr",
     "output_type": "stream",
     "text": [
      "/Library/Frameworks/Python.framework/Versions/3.11/lib/python3.11/site-packages/torch/nn/modules/loss.py:535: UserWarning: Using a target size (torch.Size([1, 1])) that is different to the input size (torch.Size([1])). This will likely lead to incorrect results due to broadcasting. Please ensure they have the same size.\n",
      "  return F.mse_loss(input, target, reduction=self.reduction)\n",
      "/Library/Frameworks/Python.framework/Versions/3.11/lib/python3.11/site-packages/torch/nn/modules/loss.py:535: UserWarning: Using a target size (torch.Size([1, 1])) that is different to the input size (torch.Size([1])). This will likely lead to incorrect results due to broadcasting. Please ensure they have the same size.\n",
      "  return F.mse_loss(input, target, reduction=self.reduction)\n",
      "/Library/Frameworks/Python.framework/Versions/3.11/lib/python3.11/site-packages/torch/nn/modules/loss.py:535: UserWarning: Using a target size (torch.Size([1, 1])) that is different to the input size (torch.Size([1])). This will likely lead to incorrect results due to broadcasting. Please ensure they have the same size.\n",
      "  return F.mse_loss(input, target, reduction=self.reduction)\n"
     ]
    },
    {
     "name": "stdout",
     "output_type": "stream",
     "text": [
      "action:  [1.]\n",
      "Shares held:  [89.30905]\n",
      "Cash balance:  [[46.28152386]]\n",
      "Portfolio value:  [[8945.92850719]]\n",
      "num_shares:  [5.7446938]\n",
      "current_price:  [[99.77]]\n",
      "action:  [1.]\n",
      "Shares held:  [89.30905]\n",
      "Cash balance:  [[46.28152386]]\n",
      "Portfolio value:  [[8956.64559338]]\n",
      "num_shares:  [33.321636]\n",
      "current_price:  [[100.14]]\n",
      "action:  [1.]\n",
      "Shares held:  [89.30905]\n",
      "Cash balance:  [[46.28152386]]\n",
      "Portfolio value:  [[8989.68994244]]\n",
      "num_shares:  [36.556694]\n",
      "current_price:  [[100.56]]\n"
     ]
    },
    {
     "name": "stderr",
     "output_type": "stream",
     "text": [
      "/Library/Frameworks/Python.framework/Versions/3.11/lib/python3.11/site-packages/torch/nn/modules/loss.py:535: UserWarning: Using a target size (torch.Size([1, 1])) that is different to the input size (torch.Size([1])). This will likely lead to incorrect results due to broadcasting. Please ensure they have the same size.\n",
      "  return F.mse_loss(input, target, reduction=self.reduction)\n",
      "/Library/Frameworks/Python.framework/Versions/3.11/lib/python3.11/site-packages/torch/nn/modules/loss.py:535: UserWarning: Using a target size (torch.Size([1, 1])) that is different to the input size (torch.Size([1])). This will likely lead to incorrect results due to broadcasting. Please ensure they have the same size.\n",
      "  return F.mse_loss(input, target, reduction=self.reduction)\n",
      "/Library/Frameworks/Python.framework/Versions/3.11/lib/python3.11/site-packages/torch/nn/modules/loss.py:535: UserWarning: Using a target size (torch.Size([1, 1])) that is different to the input size (torch.Size([1])). This will likely lead to incorrect results due to broadcasting. Please ensure they have the same size.\n",
      "  return F.mse_loss(input, target, reduction=self.reduction)\n"
     ]
    },
    {
     "name": "stdout",
     "output_type": "stream",
     "text": [
      "action:  [1.]\n",
      "Shares held:  [89.30905]\n",
      "Cash balance:  [[46.28152386]]\n",
      "Portfolio value:  [[9027.19974407]]\n",
      "num_shares:  [123.8222]\n",
      "current_price:  [[100.27]]\n",
      "action:  [1.]\n",
      "Shares held:  [89.30905]\n",
      "Cash balance:  [[46.28152386]]\n",
      "Portfolio value:  [[9001.30011913]]\n",
      "num_shares:  [109.89696]\n",
      "current_price:  [[100.]]\n",
      "action:  [1.]\n",
      "Shares held:  [89.30905]\n",
      "Cash balance:  [[46.28152386]]\n",
      "Portfolio value:  [[8977.18667522]]\n",
      "num_shares:  [57.1219]\n",
      "current_price:  [[100.13]]\n"
     ]
    },
    {
     "name": "stderr",
     "output_type": "stream",
     "text": [
      "/Library/Frameworks/Python.framework/Versions/3.11/lib/python3.11/site-packages/torch/nn/modules/loss.py:535: UserWarning: Using a target size (torch.Size([1, 1])) that is different to the input size (torch.Size([1])). This will likely lead to incorrect results due to broadcasting. Please ensure they have the same size.\n",
      "  return F.mse_loss(input, target, reduction=self.reduction)\n",
      "/Library/Frameworks/Python.framework/Versions/3.11/lib/python3.11/site-packages/torch/nn/modules/loss.py:535: UserWarning: Using a target size (torch.Size([1, 1])) that is different to the input size (torch.Size([1])). This will likely lead to incorrect results due to broadcasting. Please ensure they have the same size.\n",
      "  return F.mse_loss(input, target, reduction=self.reduction)\n",
      "/Library/Frameworks/Python.framework/Versions/3.11/lib/python3.11/site-packages/torch/nn/modules/loss.py:535: UserWarning: Using a target size (torch.Size([1, 1])) that is different to the input size (torch.Size([1])). This will likely lead to incorrect results due to broadcasting. Please ensure they have the same size.\n",
      "  return F.mse_loss(input, target, reduction=self.reduction)\n"
     ]
    },
    {
     "name": "stdout",
     "output_type": "stream",
     "text": [
      "action:  [1.]\n",
      "Shares held:  [89.30905]\n",
      "Cash balance:  [[46.28152386]]\n",
      "Portfolio value:  [[8988.79685192]]\n",
      "num_shares:  [79.02852]\n",
      "current_price:  [[99.9]]\n",
      "action:  [1.]\n",
      "Shares held:  [89.30905]\n",
      "Cash balance:  [[46.28152386]]\n",
      "Portfolio value:  [[8968.25577007]]\n",
      "num_shares:  [108.071106]\n",
      "current_price:  [[100.03]]\n",
      "action:  [1.]\n",
      "Shares held:  [89.30905]\n",
      "Cash balance:  [[46.28152386]]\n",
      "Portfolio value:  [[8979.86594677]]\n",
      "num_shares:  [140.80147]\n",
      "current_price:  [[99.985]]\n"
     ]
    },
    {
     "name": "stderr",
     "output_type": "stream",
     "text": [
      "/Library/Frameworks/Python.framework/Versions/3.11/lib/python3.11/site-packages/torch/nn/modules/loss.py:535: UserWarning: Using a target size (torch.Size([1, 1])) that is different to the input size (torch.Size([1])). This will likely lead to incorrect results due to broadcasting. Please ensure they have the same size.\n",
      "  return F.mse_loss(input, target, reduction=self.reduction)\n",
      "/Library/Frameworks/Python.framework/Versions/3.11/lib/python3.11/site-packages/torch/nn/modules/loss.py:535: UserWarning: Using a target size (torch.Size([1, 1])) that is different to the input size (torch.Size([1])). This will likely lead to incorrect results due to broadcasting. Please ensure they have the same size.\n",
      "  return F.mse_loss(input, target, reduction=self.reduction)\n",
      "/Library/Frameworks/Python.framework/Versions/3.11/lib/python3.11/site-packages/torch/nn/modules/loss.py:535: UserWarning: Using a target size (torch.Size([1, 1])) that is different to the input size (torch.Size([1])). This will likely lead to incorrect results due to broadcasting. Please ensure they have the same size.\n",
      "  return F.mse_loss(input, target, reduction=self.reduction)\n"
     ]
    },
    {
     "name": "stdout",
     "output_type": "stream",
     "text": [
      "action:  [1.]\n",
      "Shares held:  [89.30905]\n",
      "Cash balance:  [[46.28152386]]\n",
      "Portfolio value:  [[8975.84703945]]\n",
      "num_shares:  [12.9585]\n",
      "current_price:  [[99.86]]\n",
      "action:  [1.]\n",
      "Shares held:  [89.30905]\n",
      "Cash balance:  [[46.28152386]]\n",
      "Portfolio value:  [[8964.68340801]]\n",
      "num_shares:  [45.855576]\n",
      "current_price:  [[100.615]]\n",
      "action:  [1.]\n",
      "Shares held:  [89.30905]\n",
      "Cash balance:  [[46.28152386]]\n",
      "Portfolio value:  [[9032.11174191]]\n",
      "num_shares:  [170.85358]\n",
      "current_price:  [[100.89]]\n"
     ]
    },
    {
     "name": "stderr",
     "output_type": "stream",
     "text": [
      "/Library/Frameworks/Python.framework/Versions/3.11/lib/python3.11/site-packages/torch/nn/modules/loss.py:535: UserWarning: Using a target size (torch.Size([1, 1])) that is different to the input size (torch.Size([1])). This will likely lead to incorrect results due to broadcasting. Please ensure they have the same size.\n",
      "  return F.mse_loss(input, target, reduction=self.reduction)\n",
      "/Library/Frameworks/Python.framework/Versions/3.11/lib/python3.11/site-packages/torch/nn/modules/loss.py:535: UserWarning: Using a target size (torch.Size([1, 1])) that is different to the input size (torch.Size([1])). This will likely lead to incorrect results due to broadcasting. Please ensure they have the same size.\n",
      "  return F.mse_loss(input, target, reduction=self.reduction)\n",
      "/Library/Frameworks/Python.framework/Versions/3.11/lib/python3.11/site-packages/torch/nn/modules/loss.py:535: UserWarning: Using a target size (torch.Size([1, 1])) that is different to the input size (torch.Size([1])). This will likely lead to incorrect results due to broadcasting. Please ensure they have the same size.\n",
      "  return F.mse_loss(input, target, reduction=self.reduction)\n"
     ]
    },
    {
     "name": "stdout",
     "output_type": "stream",
     "text": [
      "action:  [1.]\n",
      "Shares held:  [89.30905]\n",
      "Cash balance:  [[46.28152386]]\n",
      "Portfolio value:  [[9056.67173107]]\n",
      "num_shares:  [138.73189]\n",
      "current_price:  [[100.74]]\n",
      "action:  [1.]\n",
      "Shares held:  [89.30905]\n",
      "Cash balance:  [[46.28152386]]\n",
      "Portfolio value:  [[9043.27537334]]\n",
      "num_shares:  [92.77391]\n",
      "current_price:  [[101.5]]\n",
      "action:  [1.]\n",
      "Shares held:  [89.30905]\n",
      "Cash balance:  [[46.28152386]]\n",
      "Portfolio value:  [[9111.15025249]]\n",
      "num_shares:  [35.573875]\n",
      "current_price:  [[101.19]]\n"
     ]
    },
    {
     "name": "stderr",
     "output_type": "stream",
     "text": [
      "/Library/Frameworks/Python.framework/Versions/3.11/lib/python3.11/site-packages/torch/nn/modules/loss.py:535: UserWarning: Using a target size (torch.Size([1, 1])) that is different to the input size (torch.Size([1])). This will likely lead to incorrect results due to broadcasting. Please ensure they have the same size.\n",
      "  return F.mse_loss(input, target, reduction=self.reduction)\n",
      "/Library/Frameworks/Python.framework/Versions/3.11/lib/python3.11/site-packages/torch/nn/modules/loss.py:535: UserWarning: Using a target size (torch.Size([1, 1])) that is different to the input size (torch.Size([1])). This will likely lead to incorrect results due to broadcasting. Please ensure they have the same size.\n",
      "  return F.mse_loss(input, target, reduction=self.reduction)\n",
      "/Library/Frameworks/Python.framework/Versions/3.11/lib/python3.11/site-packages/torch/nn/modules/loss.py:535: UserWarning: Using a target size (torch.Size([1, 1])) that is different to the input size (torch.Size([1])). This will likely lead to incorrect results due to broadcasting. Please ensure they have the same size.\n",
      "  return F.mse_loss(input, target, reduction=self.reduction)\n"
     ]
    },
    {
     "name": "stdout",
     "output_type": "stream",
     "text": [
      "action:  [1.]\n",
      "Shares held:  [89.30905]\n",
      "Cash balance:  [[46.28152386]]\n",
      "Portfolio value:  [[9083.46444653]]\n",
      "num_shares:  [139.15578]\n",
      "current_price:  [[101.15]]\n",
      "action:  [1.]\n",
      "Shares held:  [89.30905]\n",
      "Cash balance:  [[46.28152386]]\n",
      "Portfolio value:  [[9079.89208447]]\n",
      "num_shares:  [20.086267]\n",
      "current_price:  [[101.46]]\n",
      "action:  [1.]\n",
      "Shares held:  [89.30905]\n",
      "Cash balance:  [[46.28152386]]\n",
      "Portfolio value:  [[9107.57789043]]\n",
      "num_shares:  [43.447628]\n",
      "current_price:  [[101.74]]\n"
     ]
    },
    {
     "name": "stderr",
     "output_type": "stream",
     "text": [
      "/Library/Frameworks/Python.framework/Versions/3.11/lib/python3.11/site-packages/torch/nn/modules/loss.py:535: UserWarning: Using a target size (torch.Size([1, 1])) that is different to the input size (torch.Size([1])). This will likely lead to incorrect results due to broadcasting. Please ensure they have the same size.\n",
      "  return F.mse_loss(input, target, reduction=self.reduction)\n",
      "/Library/Frameworks/Python.framework/Versions/3.11/lib/python3.11/site-packages/torch/nn/modules/loss.py:535: UserWarning: Using a target size (torch.Size([1, 1])) that is different to the input size (torch.Size([1])). This will likely lead to incorrect results due to broadcasting. Please ensure they have the same size.\n",
      "  return F.mse_loss(input, target, reduction=self.reduction)\n",
      "/Library/Frameworks/Python.framework/Versions/3.11/lib/python3.11/site-packages/torch/nn/modules/loss.py:535: UserWarning: Using a target size (torch.Size([1, 1])) that is different to the input size (torch.Size([1])). This will likely lead to incorrect results due to broadcasting. Please ensure they have the same size.\n",
      "  return F.mse_loss(input, target, reduction=self.reduction)\n"
     ]
    },
    {
     "name": "stdout",
     "output_type": "stream",
     "text": [
      "action:  [1.]\n",
      "Shares held:  [89.30905]\n",
      "Cash balance:  [[46.28152386]]\n",
      "Portfolio value:  [[9132.58442486]]\n",
      "num_shares:  [86.23143]\n",
      "current_price:  [[102.1232]]\n",
      "action:  [1.]\n",
      "Shares held:  [89.30905]\n",
      "Cash balance:  [[46.28152386]]\n",
      "Portfolio value:  [[9166.8076534]]\n",
      "num_shares:  [70.49162]\n",
      "current_price:  [[102.06]]\n",
      "action:  [1.]\n",
      "Shares held:  [89.30905]\n",
      "Cash balance:  [[46.28152386]]\n",
      "Portfolio value:  [[9161.16332134]]\n",
      "num_shares:  [83.26327]\n",
      "current_price:  [[101.92]]\n"
     ]
    },
    {
     "name": "stderr",
     "output_type": "stream",
     "text": [
      "/Library/Frameworks/Python.framework/Versions/3.11/lib/python3.11/site-packages/torch/nn/modules/loss.py:535: UserWarning: Using a target size (torch.Size([1, 1])) that is different to the input size (torch.Size([1])). This will likely lead to incorrect results due to broadcasting. Please ensure they have the same size.\n",
      "  return F.mse_loss(input, target, reduction=self.reduction)\n",
      "/Library/Frameworks/Python.framework/Versions/3.11/lib/python3.11/site-packages/torch/nn/modules/loss.py:535: UserWarning: Using a target size (torch.Size([1, 1])) that is different to the input size (torch.Size([1])). This will likely lead to incorrect results due to broadcasting. Please ensure they have the same size.\n",
      "  return F.mse_loss(input, target, reduction=self.reduction)\n",
      "/Library/Frameworks/Python.framework/Versions/3.11/lib/python3.11/site-packages/torch/nn/modules/loss.py:535: UserWarning: Using a target size (torch.Size([1, 1])) that is different to the input size (torch.Size([1])). This will likely lead to incorrect results due to broadcasting. Please ensure they have the same size.\n",
      "  return F.mse_loss(input, target, reduction=self.reduction)\n"
     ]
    },
    {
     "name": "stdout",
     "output_type": "stream",
     "text": [
      "action:  [1.]\n",
      "Shares held:  [89.30905]\n",
      "Cash balance:  [[46.28152386]]\n",
      "Portfolio value:  [[9148.66005413]]\n",
      "num_shares:  [74.81951]\n",
      "current_price:  [[102.08]]\n",
      "action:  [1.]\n",
      "Shares held:  [89.30905]\n",
      "Cash balance:  [[46.28152386]]\n",
      "Portfolio value:  [[9162.94950237]]\n",
      "num_shares:  [99.62929]\n",
      "current_price:  [[102.24]]\n",
      "action:  [1.]\n",
      "Shares held:  [89.30905]\n",
      "Cash balance:  [[46.28152386]]\n",
      "Portfolio value:  [[9177.23895061]]\n",
      "num_shares:  [41.62631]\n",
      "current_price:  [[106.445]]\n"
     ]
    },
    {
     "name": "stderr",
     "output_type": "stream",
     "text": [
      "/Library/Frameworks/Python.framework/Versions/3.11/lib/python3.11/site-packages/torch/nn/modules/loss.py:535: UserWarning: Using a target size (torch.Size([1, 1])) that is different to the input size (torch.Size([1])). This will likely lead to incorrect results due to broadcasting. Please ensure they have the same size.\n",
      "  return F.mse_loss(input, target, reduction=self.reduction)\n",
      "/Library/Frameworks/Python.framework/Versions/3.11/lib/python3.11/site-packages/torch/nn/modules/loss.py:535: UserWarning: Using a target size (torch.Size([1, 1])) that is different to the input size (torch.Size([1])). This will likely lead to incorrect results due to broadcasting. Please ensure they have the same size.\n",
      "  return F.mse_loss(input, target, reduction=self.reduction)\n",
      "/Library/Frameworks/Python.framework/Versions/3.11/lib/python3.11/site-packages/torch/nn/modules/loss.py:535: UserWarning: Using a target size (torch.Size([1, 1])) that is different to the input size (torch.Size([1])). This will likely lead to incorrect results due to broadcasting. Please ensure they have the same size.\n",
      "  return F.mse_loss(input, target, reduction=self.reduction)\n"
     ]
    },
    {
     "name": "stdout",
     "output_type": "stream",
     "text": [
      "action:  [1.]\n",
      "Shares held:  [89.30905]\n",
      "Cash balance:  [[46.28152386]]\n",
      "Portfolio value:  [[9552.78351223]]\n",
      "num_shares:  [40.54875]\n",
      "current_price:  [[105.75]]\n",
      "action:  [1.]\n",
      "Shares held:  [89.30905]\n",
      "Cash balance:  [[46.28152386]]\n",
      "Portfolio value:  [[9490.71372143]]\n",
      "num_shares:  [94.50888]\n",
      "current_price:  [[106.04]]\n",
      "action:  [1.]\n",
      "Shares held:  [89.30905]\n",
      "Cash balance:  [[46.28152386]]\n",
      "Portfolio value:  [[9516.61334637]]\n",
      "num_shares:  [132.57106]\n",
      "current_price:  [[106.03]]\n"
     ]
    },
    {
     "name": "stderr",
     "output_type": "stream",
     "text": [
      "/Library/Frameworks/Python.framework/Versions/3.11/lib/python3.11/site-packages/torch/nn/modules/loss.py:535: UserWarning: Using a target size (torch.Size([1, 1])) that is different to the input size (torch.Size([1])). This will likely lead to incorrect results due to broadcasting. Please ensure they have the same size.\n",
      "  return F.mse_loss(input, target, reduction=self.reduction)\n",
      "/Library/Frameworks/Python.framework/Versions/3.11/lib/python3.11/site-packages/torch/nn/modules/loss.py:535: UserWarning: Using a target size (torch.Size([1, 1])) that is different to the input size (torch.Size([1])). This will likely lead to incorrect results due to broadcasting. Please ensure they have the same size.\n",
      "  return F.mse_loss(input, target, reduction=self.reduction)\n",
      "/Library/Frameworks/Python.framework/Versions/3.11/lib/python3.11/site-packages/torch/nn/modules/loss.py:535: UserWarning: Using a target size (torch.Size([1, 1])) that is different to the input size (torch.Size([1])). This will likely lead to incorrect results due to broadcasting. Please ensure they have the same size.\n",
      "  return F.mse_loss(input, target, reduction=self.reduction)\n"
     ]
    },
    {
     "name": "stdout",
     "output_type": "stream",
     "text": [
      "action:  [1.]\n",
      "Shares held:  [89.30905]\n",
      "Cash balance:  [[46.28152386]]\n",
      "Portfolio value:  [[9515.72025585]]\n",
      "num_shares:  [113.93976]\n",
      "current_price:  [[105.8501]]\n",
      "action:  [1.]\n",
      "Shares held:  [89.30905]\n",
      "Cash balance:  [[46.28152386]]\n",
      "Portfolio value:  [[9499.65355748]]\n",
      "num_shares:  [76.68001]\n",
      "current_price:  [[106.14]]\n",
      "action:  [1.]\n",
      "Shares held:  [89.30905]\n",
      "Cash balance:  [[46.28152386]]\n",
      "Portfolio value:  [[9525.54425152]]\n",
      "num_shares:  [118.35801]\n",
      "current_price:  [[106.23]]\n"
     ]
    },
    {
     "name": "stderr",
     "output_type": "stream",
     "text": [
      "/Library/Frameworks/Python.framework/Versions/3.11/lib/python3.11/site-packages/torch/nn/modules/loss.py:535: UserWarning: Using a target size (torch.Size([1, 1])) that is different to the input size (torch.Size([1])). This will likely lead to incorrect results due to broadcasting. Please ensure they have the same size.\n",
      "  return F.mse_loss(input, target, reduction=self.reduction)\n",
      "/Library/Frameworks/Python.framework/Versions/3.11/lib/python3.11/site-packages/torch/nn/modules/loss.py:535: UserWarning: Using a target size (torch.Size([1, 1])) that is different to the input size (torch.Size([1])). This will likely lead to incorrect results due to broadcasting. Please ensure they have the same size.\n",
      "  return F.mse_loss(input, target, reduction=self.reduction)\n",
      "/Library/Frameworks/Python.framework/Versions/3.11/lib/python3.11/site-packages/torch/nn/modules/loss.py:535: UserWarning: Using a target size (torch.Size([1, 1])) that is different to the input size (torch.Size([1])). This will likely lead to incorrect results due to broadcasting. Please ensure they have the same size.\n",
      "  return F.mse_loss(input, target, reduction=self.reduction)\n"
     ]
    },
    {
     "name": "stdout",
     "output_type": "stream",
     "text": [
      "action:  [1.]\n",
      "Shares held:  [89.30905]\n",
      "Cash balance:  [[46.28152386]]\n",
      "Portfolio value:  [[9533.58206615]]\n",
      "num_shares:  [78.21298]\n",
      "current_price:  [[106.67]]\n",
      "action:  [1.]\n",
      "Shares held:  [89.30905]\n",
      "Cash balance:  [[46.28152386]]\n",
      "Portfolio value:  [[9572.87804882]]\n",
      "num_shares:  [134.07443]\n",
      "current_price:  [[106.28]]\n",
      "action:  [1.]\n",
      "Shares held:  [89.30905]\n",
      "Cash balance:  [[46.28152386]]\n",
      "Portfolio value:  [[9538.04751873]]\n",
      "num_shares:  [123.02493]\n",
      "current_price:  [[106.92]]\n"
     ]
    },
    {
     "name": "stderr",
     "output_type": "stream",
     "text": [
      "/Library/Frameworks/Python.framework/Versions/3.11/lib/python3.11/site-packages/torch/nn/modules/loss.py:535: UserWarning: Using a target size (torch.Size([1, 1])) that is different to the input size (torch.Size([1])). This will likely lead to incorrect results due to broadcasting. Please ensure they have the same size.\n",
      "  return F.mse_loss(input, target, reduction=self.reduction)\n",
      "/Library/Frameworks/Python.framework/Versions/3.11/lib/python3.11/site-packages/torch/nn/modules/loss.py:535: UserWarning: Using a target size (torch.Size([1, 1])) that is different to the input size (torch.Size([1])). This will likely lead to incorrect results due to broadcasting. Please ensure they have the same size.\n",
      "  return F.mse_loss(input, target, reduction=self.reduction)\n",
      "/Library/Frameworks/Python.framework/Versions/3.11/lib/python3.11/site-packages/torch/nn/modules/loss.py:535: UserWarning: Using a target size (torch.Size([1, 1])) that is different to the input size (torch.Size([1])). This will likely lead to incorrect results due to broadcasting. Please ensure they have the same size.\n",
      "  return F.mse_loss(input, target, reduction=self.reduction)\n"
     ]
    },
    {
     "name": "stdout",
     "output_type": "stream",
     "text": [
      "action:  [1.]\n",
      "Shares held:  [89.30905]\n",
      "Cash balance:  [[46.28152386]]\n",
      "Portfolio value:  [[9595.2053117]]\n",
      "num_shares:  [129.64122]\n",
      "current_price:  [[106.87]]\n",
      "action:  [1.]\n",
      "Shares held:  [89.30905]\n",
      "Cash balance:  [[46.28152386]]\n",
      "Portfolio value:  [[9590.73985912]]\n",
      "num_shares:  [90.06175]\n",
      "current_price:  [[106.97]]\n",
      "action:  [1.]\n",
      "Shares held:  [89.30905]\n",
      "Cash balance:  [[46.28152386]]\n",
      "Portfolio value:  [[9599.67076427]]\n",
      "num_shares:  [121.71942]\n",
      "current_price:  [[107.08]]\n"
     ]
    },
    {
     "name": "stderr",
     "output_type": "stream",
     "text": [
      "/Library/Frameworks/Python.framework/Versions/3.11/lib/python3.11/site-packages/torch/nn/modules/loss.py:535: UserWarning: Using a target size (torch.Size([1, 1])) that is different to the input size (torch.Size([1])). This will likely lead to incorrect results due to broadcasting. Please ensure they have the same size.\n",
      "  return F.mse_loss(input, target, reduction=self.reduction)\n",
      "/Library/Frameworks/Python.framework/Versions/3.11/lib/python3.11/site-packages/torch/nn/modules/loss.py:535: UserWarning: Using a target size (torch.Size([1, 1])) that is different to the input size (torch.Size([1])). This will likely lead to incorrect results due to broadcasting. Please ensure they have the same size.\n",
      "  return F.mse_loss(input, target, reduction=self.reduction)\n",
      "/Library/Frameworks/Python.framework/Versions/3.11/lib/python3.11/site-packages/torch/nn/modules/loss.py:535: UserWarning: Using a target size (torch.Size([1, 1])) that is different to the input size (torch.Size([1])). This will likely lead to incorrect results due to broadcasting. Please ensure they have the same size.\n",
      "  return F.mse_loss(input, target, reduction=self.reduction)\n"
     ]
    },
    {
     "name": "stdout",
     "output_type": "stream",
     "text": [
      "action:  [1.]\n",
      "Shares held:  [89.30905]\n",
      "Cash balance:  [[46.28152386]]\n",
      "Portfolio value:  [[9609.49475994]]\n",
      "num_shares:  [117.57609]\n",
      "current_price:  [[106.725]]\n",
      "action:  [1.]\n",
      "Shares held:  [89.30905]\n",
      "Cash balance:  [[46.28152386]]\n",
      "Portfolio value:  [[9577.79004665]]\n",
      "num_shares:  [62.543835]\n",
      "current_price:  [[106.37]]\n",
      "action:  [1.]\n",
      "Shares held:  [89.30905]\n",
      "Cash balance:  [[46.28152386]]\n",
      "Portfolio value:  [[9546.08533337]]\n",
      "num_shares:  [121.8444]\n",
      "current_price:  [[107.045]]\n"
     ]
    },
    {
     "name": "stderr",
     "output_type": "stream",
     "text": [
      "/Library/Frameworks/Python.framework/Versions/3.11/lib/python3.11/site-packages/torch/nn/modules/loss.py:535: UserWarning: Using a target size (torch.Size([1, 1])) that is different to the input size (torch.Size([1])). This will likely lead to incorrect results due to broadcasting. Please ensure they have the same size.\n",
      "  return F.mse_loss(input, target, reduction=self.reduction)\n",
      "/Library/Frameworks/Python.framework/Versions/3.11/lib/python3.11/site-packages/torch/nn/modules/loss.py:535: UserWarning: Using a target size (torch.Size([1, 1])) that is different to the input size (torch.Size([1])). This will likely lead to incorrect results due to broadcasting. Please ensure they have the same size.\n",
      "  return F.mse_loss(input, target, reduction=self.reduction)\n",
      "/Library/Frameworks/Python.framework/Versions/3.11/lib/python3.11/site-packages/torch/nn/modules/loss.py:535: UserWarning: Using a target size (torch.Size([1, 1])) that is different to the input size (torch.Size([1])). This will likely lead to incorrect results due to broadcasting. Please ensure they have the same size.\n",
      "  return F.mse_loss(input, target, reduction=self.reduction)\n"
     ]
    },
    {
     "name": "stdout",
     "output_type": "stream",
     "text": [
      "action:  [1.]\n",
      "Shares held:  [89.30905]\n",
      "Cash balance:  [[46.28152386]]\n",
      "Portfolio value:  [[9606.36894314]]\n",
      "num_shares:  [-2.9061534]\n",
      "current_price:  [[106.82]]\n",
      "selling\n",
      "action:  [1.]\n",
      "Shares held:  [86.4029]\n",
      "Cash balance:  [[356.71683437]]\n",
      "Portfolio value:  [[9586.27468669]]\n",
      "num_shares:  [95.84415]\n",
      "current_price:  [[106.56]]\n",
      "action:  [1.]\n",
      "Shares held:  [86.4029]\n",
      "Cash balance:  [[356.71683437]]\n",
      "Portfolio value:  [[9563.80993251]]\n",
      "num_shares:  [87.56505]\n",
      "current_price:  [[106.47]]\n"
     ]
    },
    {
     "name": "stderr",
     "output_type": "stream",
     "text": [
      "/Library/Frameworks/Python.framework/Versions/3.11/lib/python3.11/site-packages/torch/nn/modules/loss.py:535: UserWarning: Using a target size (torch.Size([1, 1])) that is different to the input size (torch.Size([1])). This will likely lead to incorrect results due to broadcasting. Please ensure they have the same size.\n",
      "  return F.mse_loss(input, target, reduction=self.reduction)\n",
      "/Library/Frameworks/Python.framework/Versions/3.11/lib/python3.11/site-packages/torch/nn/modules/loss.py:535: UserWarning: Using a target size (torch.Size([1, 1])) that is different to the input size (torch.Size([1])). This will likely lead to incorrect results due to broadcasting. Please ensure they have the same size.\n",
      "  return F.mse_loss(input, target, reduction=self.reduction)\n",
      "/Library/Frameworks/Python.framework/Versions/3.11/lib/python3.11/site-packages/torch/nn/modules/loss.py:535: UserWarning: Using a target size (torch.Size([1, 1])) that is different to the input size (torch.Size([1])). This will likely lead to incorrect results due to broadcasting. Please ensure they have the same size.\n",
      "  return F.mse_loss(input, target, reduction=self.reduction)\n"
     ]
    },
    {
     "name": "stdout",
     "output_type": "stream",
     "text": [
      "action:  [1.]\n",
      "Shares held:  [86.4029]\n",
      "Cash balance:  [[356.71683437]]\n",
      "Portfolio value:  [[9556.03367145]]\n",
      "num_shares:  [83.84273]\n",
      "current_price:  [[106.3269]]\n",
      "action:  [1.]\n",
      "Shares held:  [86.4029]\n",
      "Cash balance:  [[356.71683437]]\n",
      "Portfolio value:  [[9543.66941636]]\n",
      "num_shares:  [44.16095]\n",
      "current_price:  [[106.36]]\n",
      "action:  [1.]\n",
      "Shares held:  [86.4029]\n",
      "Cash balance:  [[356.71683437]]\n",
      "Portfolio value:  [[9546.52935237]]\n",
      "num_shares:  [140.42638]\n",
      "current_price:  [[106.276]]\n"
     ]
    },
    {
     "name": "stderr",
     "output_type": "stream",
     "text": [
      "/Library/Frameworks/Python.framework/Versions/3.11/lib/python3.11/site-packages/torch/nn/modules/loss.py:535: UserWarning: Using a target size (torch.Size([1, 1])) that is different to the input size (torch.Size([1])). This will likely lead to incorrect results due to broadcasting. Please ensure they have the same size.\n",
      "  return F.mse_loss(input, target, reduction=self.reduction)\n",
      "/Library/Frameworks/Python.framework/Versions/3.11/lib/python3.11/site-packages/torch/nn/modules/loss.py:535: UserWarning: Using a target size (torch.Size([1, 1])) that is different to the input size (torch.Size([1])). This will likely lead to incorrect results due to broadcasting. Please ensure they have the same size.\n",
      "  return F.mse_loss(input, target, reduction=self.reduction)\n",
      "/Library/Frameworks/Python.framework/Versions/3.11/lib/python3.11/site-packages/torch/nn/modules/loss.py:535: UserWarning: Using a target size (torch.Size([1, 1])) that is different to the input size (torch.Size([1])). This will likely lead to incorrect results due to broadcasting. Please ensure they have the same size.\n",
      "  return F.mse_loss(input, target, reduction=self.reduction)\n"
     ]
    },
    {
     "name": "stdout",
     "output_type": "stream",
     "text": [
      "action:  [1.]\n",
      "Shares held:  [86.4029]\n",
      "Cash balance:  [[356.71683437]]\n",
      "Portfolio value:  [[9539.27150872]]\n",
      "num_shares:  [91.49152]\n",
      "current_price:  [[106.4901]]\n",
      "action:  [1.]\n",
      "Shares held:  [86.4029]\n",
      "Cash balance:  [[356.71683437]]\n",
      "Portfolio value:  [[9557.77036975]]\n",
      "num_shares:  [140.88004]\n",
      "current_price:  [[106.25]]\n",
      "action:  [1.]\n",
      "Shares held:  [86.4029]\n",
      "Cash balance:  [[356.71683437]]\n",
      "Portfolio value:  [[9537.0250333]]\n",
      "num_shares:  [94.34151]\n",
      "current_price:  [[106.02]]\n"
     ]
    },
    {
     "name": "stderr",
     "output_type": "stream",
     "text": [
      "/Library/Frameworks/Python.framework/Versions/3.11/lib/python3.11/site-packages/torch/nn/modules/loss.py:535: UserWarning: Using a target size (torch.Size([1, 1])) that is different to the input size (torch.Size([1])). This will likely lead to incorrect results due to broadcasting. Please ensure they have the same size.\n",
      "  return F.mse_loss(input, target, reduction=self.reduction)\n",
      "/Library/Frameworks/Python.framework/Versions/3.11/lib/python3.11/site-packages/torch/nn/modules/loss.py:535: UserWarning: Using a target size (torch.Size([1, 1])) that is different to the input size (torch.Size([1])). This will likely lead to incorrect results due to broadcasting. Please ensure they have the same size.\n",
      "  return F.mse_loss(input, target, reduction=self.reduction)\n",
      "/Library/Frameworks/Python.framework/Versions/3.11/lib/python3.11/site-packages/torch/nn/modules/loss.py:535: UserWarning: Using a target size (torch.Size([1, 1])) that is different to the input size (torch.Size([1])). This will likely lead to incorrect results due to broadcasting. Please ensure they have the same size.\n",
      "  return F.mse_loss(input, target, reduction=self.reduction)\n"
     ]
    },
    {
     "name": "stdout",
     "output_type": "stream",
     "text": [
      "action:  [1.]\n",
      "Shares held:  [86.4029]\n",
      "Cash balance:  [[356.71683437]]\n",
      "Portfolio value:  [[9517.15236614]]\n",
      "num_shares:  [49.31238]\n",
      "current_price:  [[104.58]]\n",
      "action:  [1.]\n",
      "Shares held:  [86.4029]\n",
      "Cash balance:  [[356.71683437]]\n",
      "Portfolio value:  [[9392.73218914]]\n",
      "num_shares:  [74.28103]\n",
      "current_price:  [[105.33]]\n",
      "action:  [1.]\n",
      "Shares held:  [86.4029]\n",
      "Cash balance:  [[356.71683437]]\n",
      "Portfolio value:  [[9457.53436466]]\n",
      "num_shares:  [60.8079]\n",
      "current_price:  [[105.59]]\n"
     ]
    },
    {
     "name": "stderr",
     "output_type": "stream",
     "text": [
      "/Library/Frameworks/Python.framework/Versions/3.11/lib/python3.11/site-packages/torch/nn/modules/loss.py:535: UserWarning: Using a target size (torch.Size([1, 1])) that is different to the input size (torch.Size([1])). This will likely lead to incorrect results due to broadcasting. Please ensure they have the same size.\n",
      "  return F.mse_loss(input, target, reduction=self.reduction)\n",
      "/Library/Frameworks/Python.framework/Versions/3.11/lib/python3.11/site-packages/torch/nn/modules/loss.py:535: UserWarning: Using a target size (torch.Size([1, 1])) that is different to the input size (torch.Size([1])). This will likely lead to incorrect results due to broadcasting. Please ensure they have the same size.\n",
      "  return F.mse_loss(input, target, reduction=self.reduction)\n",
      "/Library/Frameworks/Python.framework/Versions/3.11/lib/python3.11/site-packages/torch/nn/modules/loss.py:535: UserWarning: Using a target size (torch.Size([1, 1])) that is different to the input size (torch.Size([1])). This will likely lead to incorrect results due to broadcasting. Please ensure they have the same size.\n",
      "  return F.mse_loss(input, target, reduction=self.reduction)\n"
     ]
    },
    {
     "name": "stdout",
     "output_type": "stream",
     "text": [
      "action:  [1.]\n",
      "Shares held:  [86.4029]\n",
      "Cash balance:  [[356.71683437]]\n",
      "Portfolio value:  [[9479.99911884]]\n",
      "num_shares:  [114.229614]\n",
      "current_price:  [[105.91]]\n",
      "action:  [1.]\n",
      "Shares held:  [86.4029]\n",
      "Cash balance:  [[356.71683437]]\n",
      "Portfolio value:  [[9507.64804706]]\n",
      "num_shares:  [-23.45378]\n",
      "current_price:  [[106.12]]\n",
      "selling\n",
      "action:  [1.]\n",
      "Shares held:  [62.94912]\n",
      "Cash balance:  [[2845.63188526]]\n",
      "Portfolio value:  [[9525.7924538]]\n",
      "num_shares:  [74.75626]\n",
      "current_price:  [[105.75]]\n"
     ]
    },
    {
     "name": "stderr",
     "output_type": "stream",
     "text": [
      "/Library/Frameworks/Python.framework/Versions/3.11/lib/python3.11/site-packages/torch/nn/modules/loss.py:535: UserWarning: Using a target size (torch.Size([1, 1])) that is different to the input size (torch.Size([1])). This will likely lead to incorrect results due to broadcasting. Please ensure they have the same size.\n",
      "  return F.mse_loss(input, target, reduction=self.reduction)\n",
      "/Library/Frameworks/Python.framework/Versions/3.11/lib/python3.11/site-packages/torch/nn/modules/loss.py:535: UserWarning: Using a target size (torch.Size([1, 1])) that is different to the input size (torch.Size([1])). This will likely lead to incorrect results due to broadcasting. Please ensure they have the same size.\n",
      "  return F.mse_loss(input, target, reduction=self.reduction)\n",
      "/Library/Frameworks/Python.framework/Versions/3.11/lib/python3.11/site-packages/torch/nn/modules/loss.py:535: UserWarning: Using a target size (torch.Size([1, 1])) that is different to the input size (torch.Size([1])). This will likely lead to incorrect results due to broadcasting. Please ensure they have the same size.\n",
      "  return F.mse_loss(input, target, reduction=self.reduction)\n"
     ]
    },
    {
     "name": "stdout",
     "output_type": "stream",
     "text": [
      "action:  [1.]\n",
      "Shares held:  [62.94912]\n",
      "Cash balance:  [[2845.63188526]]\n",
      "Portfolio value:  [[9502.50127956]]\n",
      "num_shares:  [153.96535]\n",
      "current_price:  [[105.05]]\n",
      "action:  [1.]\n",
      "Shares held:  [62.94912]\n",
      "Cash balance:  [[2845.63188526]]\n",
      "Portfolio value:  [[9458.43689586]]\n",
      "num_shares:  [81.38158]\n",
      "current_price:  [[104.65]]\n",
      "action:  [1.]\n",
      "Shares held:  [62.94912]\n",
      "Cash balance:  [[2845.63188526]]\n",
      "Portfolio value:  [[9433.25724803]]\n",
      "num_shares:  [87.64648]\n",
      "current_price:  [[104.]]\n"
     ]
    },
    {
     "name": "stderr",
     "output_type": "stream",
     "text": [
      "/Library/Frameworks/Python.framework/Versions/3.11/lib/python3.11/site-packages/torch/nn/modules/loss.py:535: UserWarning: Using a target size (torch.Size([1, 1])) that is different to the input size (torch.Size([1])). This will likely lead to incorrect results due to broadcasting. Please ensure they have the same size.\n",
      "  return F.mse_loss(input, target, reduction=self.reduction)\n",
      "/Library/Frameworks/Python.framework/Versions/3.11/lib/python3.11/site-packages/torch/nn/modules/loss.py:535: UserWarning: Using a target size (torch.Size([1, 1])) that is different to the input size (torch.Size([1])). This will likely lead to incorrect results due to broadcasting. Please ensure they have the same size.\n",
      "  return F.mse_loss(input, target, reduction=self.reduction)\n",
      "/Library/Frameworks/Python.framework/Versions/3.11/lib/python3.11/site-packages/torch/nn/modules/loss.py:535: UserWarning: Using a target size (torch.Size([1, 1])) that is different to the input size (torch.Size([1])). This will likely lead to incorrect results due to broadcasting. Please ensure they have the same size.\n",
      "  return F.mse_loss(input, target, reduction=self.reduction)\n"
     ]
    },
    {
     "name": "stdout",
     "output_type": "stream",
     "text": [
      "action:  [1.]\n",
      "Shares held:  [62.94912]\n",
      "Cash balance:  [[2845.63188526]]\n",
      "Portfolio value:  [[9392.34032032]]\n",
      "num_shares:  [111.276955]\n",
      "current_price:  [[103.87]]\n",
      "action:  [1.]\n",
      "Shares held:  [62.94912]\n",
      "Cash balance:  [[2845.63188526]]\n",
      "Portfolio value:  [[9384.15693477]]\n",
      "num_shares:  [25.5771]\n",
      "current_price:  [[103.479]]\n",
      "buying\n",
      "action:  [1.]\n",
      "Shares held:  [88.52622]\n",
      "Cash balance:  [[198.93907636]]\n",
      "Portfolio value:  [[9359.54402639]]\n",
      "num_shares:  [136.79358]\n",
      "current_price:  [[102.97]]\n"
     ]
    },
    {
     "name": "stderr",
     "output_type": "stream",
     "text": [
      "/Library/Frameworks/Python.framework/Versions/3.11/lib/python3.11/site-packages/torch/nn/modules/loss.py:535: UserWarning: Using a target size (torch.Size([1, 1])) that is different to the input size (torch.Size([1])). This will likely lead to incorrect results due to broadcasting. Please ensure they have the same size.\n",
      "  return F.mse_loss(input, target, reduction=self.reduction)\n",
      "/Library/Frameworks/Python.framework/Versions/3.11/lib/python3.11/site-packages/torch/nn/modules/loss.py:535: UserWarning: Using a target size (torch.Size([1, 1])) that is different to the input size (torch.Size([1])). This will likely lead to incorrect results due to broadcasting. Please ensure they have the same size.\n",
      "  return F.mse_loss(input, target, reduction=self.reduction)\n",
      "/Library/Frameworks/Python.framework/Versions/3.11/lib/python3.11/site-packages/torch/nn/modules/loss.py:535: UserWarning: Using a target size (torch.Size([1, 1])) that is different to the input size (torch.Size([1])). This will likely lead to incorrect results due to broadcasting. Please ensure they have the same size.\n",
      "  return F.mse_loss(input, target, reduction=self.reduction)\n"
     ]
    },
    {
     "name": "stdout",
     "output_type": "stream",
     "text": [
      "action:  [1.]\n",
      "Shares held:  [88.52622]\n",
      "Cash balance:  [[198.93907636]]\n",
      "Portfolio value:  [[9314.48417928]]\n",
      "num_shares:  [147.25119]\n",
      "current_price:  [[102.855]]\n",
      "action:  [1.]\n",
      "Shares held:  [88.52622]\n",
      "Cash balance:  [[198.93907636]]\n",
      "Portfolio value:  [[9304.30366372]]\n",
      "num_shares:  [73.74696]\n",
      "current_price:  [[103.31]]\n",
      "action:  [1.]\n",
      "Shares held:  [88.52622]\n",
      "Cash balance:  [[198.93907636]]\n",
      "Portfolio value:  [[9344.58309483]]\n",
      "num_shares:  [105.63896]\n",
      "current_price:  [[101.5]]\n"
     ]
    },
    {
     "name": "stderr",
     "output_type": "stream",
     "text": [
      "/Library/Frameworks/Python.framework/Versions/3.11/lib/python3.11/site-packages/torch/nn/modules/loss.py:535: UserWarning: Using a target size (torch.Size([1, 1])) that is different to the input size (torch.Size([1])). This will likely lead to incorrect results due to broadcasting. Please ensure they have the same size.\n",
      "  return F.mse_loss(input, target, reduction=self.reduction)\n",
      "/Library/Frameworks/Python.framework/Versions/3.11/lib/python3.11/site-packages/torch/nn/modules/loss.py:535: UserWarning: Using a target size (torch.Size([1, 1])) that is different to the input size (torch.Size([1])). This will likely lead to incorrect results due to broadcasting. Please ensure they have the same size.\n",
      "  return F.mse_loss(input, target, reduction=self.reduction)\n",
      "/Library/Frameworks/Python.framework/Versions/3.11/lib/python3.11/site-packages/torch/nn/modules/loss.py:535: UserWarning: Using a target size (torch.Size([1, 1])) that is different to the input size (torch.Size([1])). This will likely lead to incorrect results due to broadcasting. Please ensure they have the same size.\n",
      "  return F.mse_loss(input, target, reduction=self.reduction)\n"
     ]
    },
    {
     "name": "stdout",
     "output_type": "stream",
     "text": [
      "action:  [1.]\n",
      "Shares held:  [88.52622]\n",
      "Cash balance:  [[198.93907636]]\n",
      "Portfolio value:  [[9184.3506326]]\n",
      "num_shares:  [92.79221]\n",
      "current_price:  [[102.12]]\n",
      "action:  [1.]\n",
      "Shares held:  [88.52622]\n",
      "Cash balance:  [[198.93907636]]\n",
      "Portfolio value:  [[9239.23689038]]\n",
      "num_shares:  [155.6956]\n",
      "current_price:  [[101.2]]\n",
      "action:  [1.]\n",
      "Shares held:  [88.52622]\n",
      "Cash balance:  [[198.93907636]]\n",
      "Portfolio value:  [[9157.79276593]]\n",
      "num_shares:  [107.928474]\n",
      "current_price:  [[101.8]]\n"
     ]
    },
    {
     "name": "stderr",
     "output_type": "stream",
     "text": [
      "/Library/Frameworks/Python.framework/Versions/3.11/lib/python3.11/site-packages/torch/nn/modules/loss.py:535: UserWarning: Using a target size (torch.Size([1, 1])) that is different to the input size (torch.Size([1])). This will likely lead to incorrect results due to broadcasting. Please ensure they have the same size.\n",
      "  return F.mse_loss(input, target, reduction=self.reduction)\n",
      "/Library/Frameworks/Python.framework/Versions/3.11/lib/python3.11/site-packages/torch/nn/modules/loss.py:535: UserWarning: Using a target size (torch.Size([1, 1])) that is different to the input size (torch.Size([1])). This will likely lead to incorrect results due to broadcasting. Please ensure they have the same size.\n",
      "  return F.mse_loss(input, target, reduction=self.reduction)\n",
      "/Library/Frameworks/Python.framework/Versions/3.11/lib/python3.11/site-packages/torch/nn/modules/loss.py:535: UserWarning: Using a target size (torch.Size([1, 1])) that is different to the input size (torch.Size([1])). This will likely lead to incorrect results due to broadcasting. Please ensure they have the same size.\n",
      "  return F.mse_loss(input, target, reduction=self.reduction)\n"
     ]
    },
    {
     "name": "stdout",
     "output_type": "stream",
     "text": [
      "action:  [1.]\n",
      "Shares held:  [88.52622]\n",
      "Cash balance:  [[198.93907636]]\n",
      "Portfolio value:  [[9210.90849927]]\n",
      "num_shares:  [124.607124]\n",
      "current_price:  [[103.2]]\n",
      "action:  [1.]\n",
      "Shares held:  [88.52622]\n",
      "Cash balance:  [[198.93907636]]\n",
      "Portfolio value:  [[9334.84521039]]\n",
      "num_shares:  [83.00275]\n",
      "current_price:  [[102.805]]\n",
      "action:  [1.]\n",
      "Shares held:  [88.52622]\n",
      "Cash balance:  [[198.93907636]]\n",
      "Portfolio value:  [[9299.87735261]]\n",
      "num_shares:  [67.55931]\n",
      "current_price:  [[103.21]]\n"
     ]
    },
    {
     "name": "stderr",
     "output_type": "stream",
     "text": [
      "/Library/Frameworks/Python.framework/Versions/3.11/lib/python3.11/site-packages/torch/nn/modules/loss.py:535: UserWarning: Using a target size (torch.Size([1, 1])) that is different to the input size (torch.Size([1])). This will likely lead to incorrect results due to broadcasting. Please ensure they have the same size.\n",
      "  return F.mse_loss(input, target, reduction=self.reduction)\n",
      "/Library/Frameworks/Python.framework/Versions/3.11/lib/python3.11/site-packages/torch/nn/modules/loss.py:535: UserWarning: Using a target size (torch.Size([1, 1])) that is different to the input size (torch.Size([1])). This will likely lead to incorrect results due to broadcasting. Please ensure they have the same size.\n",
      "  return F.mse_loss(input, target, reduction=self.reduction)\n",
      "/Library/Frameworks/Python.framework/Versions/3.11/lib/python3.11/site-packages/torch/nn/modules/loss.py:535: UserWarning: Using a target size (torch.Size([1, 1])) that is different to the input size (torch.Size([1])). This will likely lead to incorrect results due to broadcasting. Please ensure they have the same size.\n",
      "  return F.mse_loss(input, target, reduction=self.reduction)\n"
     ]
    },
    {
     "name": "stdout",
     "output_type": "stream",
     "text": [
      "action:  [1.]\n",
      "Shares held:  [88.52622]\n",
      "Cash balance:  [[198.93907636]]\n",
      "Portfolio value:  [[9335.73047261]]\n",
      "num_shares:  [76.989784]\n",
      "current_price:  [[103.33]]\n",
      "action:  [1.]\n",
      "Shares held:  [88.52622]\n",
      "Cash balance:  [[198.93907636]]\n",
      "Portfolio value:  [[9346.35361928]]\n",
      "num_shares:  [132.1092]\n",
      "current_price:  [[103.25]]\n",
      "action:  [1.]\n",
      "Shares held:  [88.52622]\n",
      "Cash balance:  [[198.93907636]]\n",
      "Portfolio value:  [[9339.2715215]]\n",
      "num_shares:  [90.52006]\n",
      "current_price:  [[103.5]]\n"
     ]
    },
    {
     "name": "stderr",
     "output_type": "stream",
     "text": [
      "/Library/Frameworks/Python.framework/Versions/3.11/lib/python3.11/site-packages/torch/nn/modules/loss.py:535: UserWarning: Using a target size (torch.Size([1, 1])) that is different to the input size (torch.Size([1])). This will likely lead to incorrect results due to broadcasting. Please ensure they have the same size.\n",
      "  return F.mse_loss(input, target, reduction=self.reduction)\n",
      "/Library/Frameworks/Python.framework/Versions/3.11/lib/python3.11/site-packages/torch/nn/modules/loss.py:535: UserWarning: Using a target size (torch.Size([1, 1])) that is different to the input size (torch.Size([1])). This will likely lead to incorrect results due to broadcasting. Please ensure they have the same size.\n",
      "  return F.mse_loss(input, target, reduction=self.reduction)\n",
      "/Library/Frameworks/Python.framework/Versions/3.11/lib/python3.11/site-packages/torch/nn/modules/loss.py:535: UserWarning: Using a target size (torch.Size([1, 1])) that is different to the input size (torch.Size([1])). This will likely lead to incorrect results due to broadcasting. Please ensure they have the same size.\n",
      "  return F.mse_loss(input, target, reduction=self.reduction)\n"
     ]
    },
    {
     "name": "stdout",
     "output_type": "stream",
     "text": [
      "action:  [1.]\n",
      "Shares held:  [88.52622]\n",
      "Cash balance:  [[198.93907636]]\n",
      "Portfolio value:  [[9361.40307706]]\n",
      "num_shares:  [126.84362]\n",
      "current_price:  [[103.6721]]\n",
      "action:  [1.]\n",
      "Shares held:  [88.52622]\n",
      "Cash balance:  [[198.93907636]]\n",
      "Portfolio value:  [[9376.6384399]]\n",
      "num_shares:  [68.32592]\n",
      "current_price:  [[103.71]]\n",
      "action:  [1.]\n",
      "Shares held:  [88.52622]\n",
      "Cash balance:  [[198.93907636]]\n",
      "Portfolio value:  [[9379.99358373]]\n",
      "num_shares:  [90.12733]\n",
      "current_price:  [[103.47]]\n"
     ]
    },
    {
     "name": "stderr",
     "output_type": "stream",
     "text": [
      "/Library/Frameworks/Python.framework/Versions/3.11/lib/python3.11/site-packages/torch/nn/modules/loss.py:535: UserWarning: Using a target size (torch.Size([1, 1])) that is different to the input size (torch.Size([1])). This will likely lead to incorrect results due to broadcasting. Please ensure they have the same size.\n",
      "  return F.mse_loss(input, target, reduction=self.reduction)\n",
      "/Library/Frameworks/Python.framework/Versions/3.11/lib/python3.11/site-packages/torch/nn/modules/loss.py:535: UserWarning: Using a target size (torch.Size([1, 1])) that is different to the input size (torch.Size([1])). This will likely lead to incorrect results due to broadcasting. Please ensure they have the same size.\n",
      "  return F.mse_loss(input, target, reduction=self.reduction)\n",
      "/Library/Frameworks/Python.framework/Versions/3.11/lib/python3.11/site-packages/torch/nn/modules/loss.py:535: UserWarning: Using a target size (torch.Size([1, 1])) that is different to the input size (torch.Size([1])). This will likely lead to incorrect results due to broadcasting. Please ensure they have the same size.\n",
      "  return F.mse_loss(input, target, reduction=self.reduction)\n"
     ]
    },
    {
     "name": "stdout",
     "output_type": "stream",
     "text": [
      "action:  [1.]\n",
      "Shares held:  [88.52622]\n",
      "Cash balance:  [[198.93907636]]\n",
      "Portfolio value:  [[9358.74729039]]\n",
      "num_shares:  [105.35646]\n",
      "current_price:  [[104.58]]\n",
      "action:  [1.]\n",
      "Shares held:  [88.52622]\n",
      "Cash balance:  [[198.93907636]]\n",
      "Portfolio value:  [[9457.01139707]]\n",
      "num_shares:  [76.731285]\n",
      "current_price:  [[104.13]]\n",
      "action:  [1.]\n",
      "Shares held:  [88.52622]\n",
      "Cash balance:  [[198.93907636]]\n",
      "Portfolio value:  [[9417.17459706]]\n",
      "num_shares:  [107.07687]\n",
      "current_price:  [[104.21]]\n"
     ]
    },
    {
     "name": "stderr",
     "output_type": "stream",
     "text": [
      "/Library/Frameworks/Python.framework/Versions/3.11/lib/python3.11/site-packages/torch/nn/modules/loss.py:535: UserWarning: Using a target size (torch.Size([1, 1])) that is different to the input size (torch.Size([1])). This will likely lead to incorrect results due to broadcasting. Please ensure they have the same size.\n",
      "  return F.mse_loss(input, target, reduction=self.reduction)\n",
      "/Library/Frameworks/Python.framework/Versions/3.11/lib/python3.11/site-packages/torch/nn/modules/loss.py:535: UserWarning: Using a target size (torch.Size([1, 1])) that is different to the input size (torch.Size([1])). This will likely lead to incorrect results due to broadcasting. Please ensure they have the same size.\n",
      "  return F.mse_loss(input, target, reduction=self.reduction)\n",
      "/Library/Frameworks/Python.framework/Versions/3.11/lib/python3.11/site-packages/torch/nn/modules/loss.py:535: UserWarning: Using a target size (torch.Size([1, 1])) that is different to the input size (torch.Size([1])). This will likely lead to incorrect results due to broadcasting. Please ensure they have the same size.\n",
      "  return F.mse_loss(input, target, reduction=self.reduction)\n"
     ]
    },
    {
     "name": "stdout",
     "output_type": "stream",
     "text": [
      "action:  [1.]\n",
      "Shares held:  [88.52622]\n",
      "Cash balance:  [[198.93907636]]\n",
      "Portfolio value:  [[9424.25669484]]\n",
      "num_shares:  [81.815]\n",
      "current_price:  [[104.49]]\n",
      "action:  [1.]\n",
      "Shares held:  [88.52622]\n",
      "Cash balance:  [[198.93907636]]\n",
      "Portfolio value:  [[9449.04403706]]\n",
      "num_shares:  [106.25029]\n",
      "current_price:  [[105.27]]\n",
      "action:  [1.]\n",
      "Shares held:  [88.52622]\n",
      "Cash balance:  [[198.93907636]]\n",
      "Portfolio value:  [[9518.0944904]]\n",
      "num_shares:  [23.849735]\n",
      "current_price:  [[105.93]]\n"
     ]
    },
    {
     "name": "stderr",
     "output_type": "stream",
     "text": [
      "/Library/Frameworks/Python.framework/Versions/3.11/lib/python3.11/site-packages/torch/nn/modules/loss.py:535: UserWarning: Using a target size (torch.Size([1, 1])) that is different to the input size (torch.Size([1])). This will likely lead to incorrect results due to broadcasting. Please ensure they have the same size.\n",
      "  return F.mse_loss(input, target, reduction=self.reduction)\n",
      "/Library/Frameworks/Python.framework/Versions/3.11/lib/python3.11/site-packages/torch/nn/modules/loss.py:535: UserWarning: Using a target size (torch.Size([1, 1])) that is different to the input size (torch.Size([1])). This will likely lead to incorrect results due to broadcasting. Please ensure they have the same size.\n",
      "  return F.mse_loss(input, target, reduction=self.reduction)\n",
      "/Library/Frameworks/Python.framework/Versions/3.11/lib/python3.11/site-packages/torch/nn/modules/loss.py:535: UserWarning: Using a target size (torch.Size([1, 1])) that is different to the input size (torch.Size([1])). This will likely lead to incorrect results due to broadcasting. Please ensure they have the same size.\n",
      "  return F.mse_loss(input, target, reduction=self.reduction)\n"
     ]
    },
    {
     "name": "stdout",
     "output_type": "stream",
     "text": [
      "action:  [1.]\n",
      "Shares held:  [88.52622]\n",
      "Cash balance:  [[198.93907636]]\n",
      "Portfolio value:  [[9576.52179707]]\n",
      "num_shares:  [74.68034]\n",
      "current_price:  [[105.73]]\n",
      "action:  [1.]\n",
      "Shares held:  [88.52622]\n",
      "Cash balance:  [[198.93907636]]\n",
      "Portfolio value:  [[9558.81655263]]\n",
      "num_shares:  [93.2154]\n",
      "current_price:  [[105.87]]\n",
      "action:  [1.]\n",
      "Shares held:  [88.52622]\n",
      "Cash balance:  [[198.93907636]]\n",
      "Portfolio value:  [[9571.21022374]]\n",
      "num_shares:  [79.456696]\n",
      "current_price:  [[105.94]]\n"
     ]
    },
    {
     "name": "stderr",
     "output_type": "stream",
     "text": [
      "/Library/Frameworks/Python.framework/Versions/3.11/lib/python3.11/site-packages/torch/nn/modules/loss.py:535: UserWarning: Using a target size (torch.Size([1, 1])) that is different to the input size (torch.Size([1])). This will likely lead to incorrect results due to broadcasting. Please ensure they have the same size.\n",
      "  return F.mse_loss(input, target, reduction=self.reduction)\n",
      "/Library/Frameworks/Python.framework/Versions/3.11/lib/python3.11/site-packages/torch/nn/modules/loss.py:535: UserWarning: Using a target size (torch.Size([1, 1])) that is different to the input size (torch.Size([1])). This will likely lead to incorrect results due to broadcasting. Please ensure they have the same size.\n",
      "  return F.mse_loss(input, target, reduction=self.reduction)\n",
      "/Library/Frameworks/Python.framework/Versions/3.11/lib/python3.11/site-packages/torch/nn/modules/loss.py:535: UserWarning: Using a target size (torch.Size([1, 1])) that is different to the input size (torch.Size([1])). This will likely lead to incorrect results due to broadcasting. Please ensure they have the same size.\n",
      "  return F.mse_loss(input, target, reduction=self.reduction)\n"
     ]
    },
    {
     "name": "stdout",
     "output_type": "stream",
     "text": [
      "action:  [1.]\n",
      "Shares held:  [88.52622]\n",
      "Cash balance:  [[198.93907636]]\n",
      "Portfolio value:  [[9577.4070593]]\n",
      "num_shares:  [128.30667]\n",
      "current_price:  [[106.105]]\n",
      "action:  [1.]\n",
      "Shares held:  [88.52622]\n",
      "Cash balance:  [[198.93907636]]\n",
      "Portfolio value:  [[9592.01388596]]\n",
      "num_shares:  [31.390213]\n",
      "current_price:  [[106.31]]\n"
     ]
    },
    {
     "name": "stderr",
     "output_type": "stream",
     "text": [
      "/Library/Frameworks/Python.framework/Versions/3.11/lib/python3.11/site-packages/torch/nn/modules/loss.py:535: UserWarning: Using a target size (torch.Size([1, 1])) that is different to the input size (torch.Size([1])). This will likely lead to incorrect results due to broadcasting. Please ensure they have the same size.\n",
      "  return F.mse_loss(input, target, reduction=self.reduction)\n",
      "/Library/Frameworks/Python.framework/Versions/3.11/lib/python3.11/site-packages/torch/nn/modules/loss.py:535: UserWarning: Using a target size (torch.Size([1, 1])) that is different to the input size (torch.Size([1])). This will likely lead to incorrect results due to broadcasting. Please ensure they have the same size.\n",
      "  return F.mse_loss(input, target, reduction=self.reduction)\n"
     ]
    },
    {
     "name": "stdout",
     "output_type": "stream",
     "text": [
      "action:  [1.]\n",
      "Shares held:  [88.52622]\n",
      "Cash balance:  [[198.93907636]]\n",
      "Portfolio value:  [[9610.16176152]]\n",
      "num_shares:  [64.41929]\n",
      "current_price:  [[106.245]]\n",
      "action:  [1.]\n",
      "Shares held:  [88.52622]\n",
      "Cash balance:  [[198.93907636]]\n",
      "Portfolio value:  [[9604.40755708]]\n",
      "num_shares:  [146.92584]\n",
      "current_price:  [[105.79]]\n",
      "action:  [1.]\n",
      "Shares held:  [88.52622]\n",
      "Cash balance:  [[198.93907636]]\n",
      "Portfolio value:  [[9564.12812596]]\n",
      "num_shares:  [137.54617]\n",
      "current_price:  [[106.53]]\n"
     ]
    },
    {
     "name": "stderr",
     "output_type": "stream",
     "text": [
      "/Library/Frameworks/Python.framework/Versions/3.11/lib/python3.11/site-packages/torch/nn/modules/loss.py:535: UserWarning: Using a target size (torch.Size([1, 1])) that is different to the input size (torch.Size([1])). This will likely lead to incorrect results due to broadcasting. Please ensure they have the same size.\n",
      "  return F.mse_loss(input, target, reduction=self.reduction)\n",
      "/Library/Frameworks/Python.framework/Versions/3.11/lib/python3.11/site-packages/torch/nn/modules/loss.py:535: UserWarning: Using a target size (torch.Size([1, 1])) that is different to the input size (torch.Size([1])). This will likely lead to incorrect results due to broadcasting. Please ensure they have the same size.\n",
      "  return F.mse_loss(input, target, reduction=self.reduction)\n",
      "/Library/Frameworks/Python.framework/Versions/3.11/lib/python3.11/site-packages/torch/nn/modules/loss.py:535: UserWarning: Using a target size (torch.Size([1, 1])) that is different to the input size (torch.Size([1])). This will likely lead to incorrect results due to broadcasting. Please ensure they have the same size.\n",
      "  return F.mse_loss(input, target, reduction=self.reduction)\n"
     ]
    },
    {
     "name": "stdout",
     "output_type": "stream",
     "text": [
      "action:  [1.]\n",
      "Shares held:  [88.52622]\n",
      "Cash balance:  [[198.93907636]]\n",
      "Portfolio value:  [[9629.63753041]]\n",
      "num_shares:  [9.742626]\n",
      "current_price:  [[107.23]]\n",
      "action:  [1.]\n",
      "Shares held:  [88.52622]\n",
      "Cash balance:  [[198.93907636]]\n",
      "Portfolio value:  [[9691.60588597]]\n",
      "num_shares:  [75.45892]\n",
      "current_price:  [[107.05]]\n",
      "action:  [1.]\n",
      "Shares held:  [88.52622]\n",
      "Cash balance:  [[198.93907636]]\n",
      "Portfolio value:  [[9675.67116597]]\n",
      "num_shares:  [51.556194]\n",
      "current_price:  [[106.97]]\n"
     ]
    },
    {
     "name": "stderr",
     "output_type": "stream",
     "text": [
      "/Library/Frameworks/Python.framework/Versions/3.11/lib/python3.11/site-packages/torch/nn/modules/loss.py:535: UserWarning: Using a target size (torch.Size([1, 1])) that is different to the input size (torch.Size([1])). This will likely lead to incorrect results due to broadcasting. Please ensure they have the same size.\n",
      "  return F.mse_loss(input, target, reduction=self.reduction)\n",
      "/Library/Frameworks/Python.framework/Versions/3.11/lib/python3.11/site-packages/torch/nn/modules/loss.py:535: UserWarning: Using a target size (torch.Size([1, 1])) that is different to the input size (torch.Size([1])). This will likely lead to incorrect results due to broadcasting. Please ensure they have the same size.\n",
      "  return F.mse_loss(input, target, reduction=self.reduction)\n",
      "/Library/Frameworks/Python.framework/Versions/3.11/lib/python3.11/site-packages/torch/nn/modules/loss.py:535: UserWarning: Using a target size (torch.Size([1, 1])) that is different to the input size (torch.Size([1])). This will likely lead to incorrect results due to broadcasting. Please ensure they have the same size.\n",
      "  return F.mse_loss(input, target, reduction=self.reduction)\n"
     ]
    },
    {
     "name": "stdout",
     "output_type": "stream",
     "text": [
      "action:  [1.]\n",
      "Shares held:  [88.52622]\n",
      "Cash balance:  [[198.93907636]]\n",
      "Portfolio value:  [[9668.58906819]]\n",
      "num_shares:  [102.21004]\n",
      "current_price:  [[107.46]]\n",
      "action:  [1.]\n",
      "Shares held:  [88.52622]\n",
      "Cash balance:  [[198.93907636]]\n",
      "Portfolio value:  [[9711.96691708]]\n",
      "num_shares:  [80.451965]\n",
      "current_price:  [[107.37]]\n",
      "action:  [1.]\n",
      "Shares held:  [88.52622]\n",
      "Cash balance:  [[198.93907636]]\n",
      "Portfolio value:  [[9703.99955708]]\n",
      "num_shares:  [48.68582]\n",
      "current_price:  [[107.635]]\n"
     ]
    },
    {
     "name": "stderr",
     "output_type": "stream",
     "text": [
      "/Library/Frameworks/Python.framework/Versions/3.11/lib/python3.11/site-packages/torch/nn/modules/loss.py:535: UserWarning: Using a target size (torch.Size([1, 1])) that is different to the input size (torch.Size([1])). This will likely lead to incorrect results due to broadcasting. Please ensure they have the same size.\n",
      "  return F.mse_loss(input, target, reduction=self.reduction)\n",
      "/Library/Frameworks/Python.framework/Versions/3.11/lib/python3.11/site-packages/torch/nn/modules/loss.py:535: UserWarning: Using a target size (torch.Size([1, 1])) that is different to the input size (torch.Size([1])). This will likely lead to incorrect results due to broadcasting. Please ensure they have the same size.\n",
      "  return F.mse_loss(input, target, reduction=self.reduction)\n",
      "/Library/Frameworks/Python.framework/Versions/3.11/lib/python3.11/site-packages/torch/nn/modules/loss.py:535: UserWarning: Using a target size (torch.Size([1, 1])) that is different to the input size (torch.Size([1])). This will likely lead to incorrect results due to broadcasting. Please ensure they have the same size.\n",
      "  return F.mse_loss(input, target, reduction=self.reduction)\n"
     ]
    },
    {
     "name": "stdout",
     "output_type": "stream",
     "text": [
      "action:  [1.]\n",
      "Shares held:  [88.52622]\n",
      "Cash balance:  [[198.93907636]]\n",
      "Portfolio value:  [[9727.45900597]]\n",
      "num_shares:  [76.415634]\n",
      "current_price:  [[107.25]]\n",
      "action:  [1.]\n",
      "Shares held:  [88.52622]\n",
      "Cash balance:  [[198.93907636]]\n",
      "Portfolio value:  [[9693.37641042]]\n",
      "num_shares:  [97.13149]\n",
      "current_price:  [[106.96]]\n",
      "action:  [1.]\n",
      "Shares held:  [88.52622]\n",
      "Cash balance:  [[198.93907636]]\n",
      "Portfolio value:  [[9667.70380597]]\n",
      "num_shares:  [113.683304]\n",
      "current_price:  [[106.94]]\n"
     ]
    },
    {
     "name": "stderr",
     "output_type": "stream",
     "text": [
      "/Library/Frameworks/Python.framework/Versions/3.11/lib/python3.11/site-packages/torch/nn/modules/loss.py:535: UserWarning: Using a target size (torch.Size([1, 1])) that is different to the input size (torch.Size([1])). This will likely lead to incorrect results due to broadcasting. Please ensure they have the same size.\n",
      "  return F.mse_loss(input, target, reduction=self.reduction)\n",
      "/Library/Frameworks/Python.framework/Versions/3.11/lib/python3.11/site-packages/torch/nn/modules/loss.py:535: UserWarning: Using a target size (torch.Size([1, 1])) that is different to the input size (torch.Size([1])). This will likely lead to incorrect results due to broadcasting. Please ensure they have the same size.\n",
      "  return F.mse_loss(input, target, reduction=self.reduction)\n",
      "/Library/Frameworks/Python.framework/Versions/3.11/lib/python3.11/site-packages/torch/nn/modules/loss.py:535: UserWarning: Using a target size (torch.Size([1, 1])) that is different to the input size (torch.Size([1])). This will likely lead to incorrect results due to broadcasting. Please ensure they have the same size.\n",
      "  return F.mse_loss(input, target, reduction=self.reduction)\n"
     ]
    },
    {
     "name": "stdout",
     "output_type": "stream",
     "text": [
      "action:  [1.]\n",
      "Shares held:  [88.52622]\n",
      "Cash balance:  [[198.93907636]]\n",
      "Portfolio value:  [[9665.93328153]]\n",
      "num_shares:  [112.251434]\n",
      "current_price:  [[107.19]]\n",
      "action:  [1.]\n",
      "Shares held:  [88.52622]\n",
      "Cash balance:  [[198.93907636]]\n",
      "Portfolio value:  [[9688.06483708]]\n",
      "num_shares:  [70.42846]\n",
      "current_price:  [[107.125]]\n",
      "action:  [1.]\n",
      "Shares held:  [88.52622]\n",
      "Cash balance:  [[198.93907636]]\n",
      "Portfolio value:  [[9682.31063264]]\n",
      "num_shares:  [172.09315]\n",
      "current_price:  [[107.16]]\n"
     ]
    },
    {
     "name": "stderr",
     "output_type": "stream",
     "text": [
      "/Library/Frameworks/Python.framework/Versions/3.11/lib/python3.11/site-packages/torch/nn/modules/loss.py:535: UserWarning: Using a target size (torch.Size([1, 1])) that is different to the input size (torch.Size([1])). This will likely lead to incorrect results due to broadcasting. Please ensure they have the same size.\n",
      "  return F.mse_loss(input, target, reduction=self.reduction)\n",
      "/Library/Frameworks/Python.framework/Versions/3.11/lib/python3.11/site-packages/torch/nn/modules/loss.py:535: UserWarning: Using a target size (torch.Size([1, 1])) that is different to the input size (torch.Size([1])). This will likely lead to incorrect results due to broadcasting. Please ensure they have the same size.\n",
      "  return F.mse_loss(input, target, reduction=self.reduction)\n",
      "/Library/Frameworks/Python.framework/Versions/3.11/lib/python3.11/site-packages/torch/nn/modules/loss.py:535: UserWarning: Using a target size (torch.Size([1, 1])) that is different to the input size (torch.Size([1])). This will likely lead to incorrect results due to broadcasting. Please ensure they have the same size.\n",
      "  return F.mse_loss(input, target, reduction=self.reduction)\n"
     ]
    },
    {
     "name": "stdout",
     "output_type": "stream",
     "text": [
      "action:  [1.]\n",
      "Shares held:  [88.52622]\n",
      "Cash balance:  [[198.93907636]]\n",
      "Portfolio value:  [[9685.40905042]]\n",
      "num_shares:  [112.51249]\n",
      "current_price:  [[108.26]]\n",
      "action:  [1.]\n",
      "Shares held:  [88.52622]\n",
      "Cash balance:  [[198.93907636]]\n",
      "Portfolio value:  [[9782.78789487]]\n",
      "num_shares:  [142.04254]\n",
      "current_price:  [[108.58]]\n",
      "action:  [1.]\n",
      "Shares held:  [88.52622]\n",
      "Cash balance:  [[198.93907636]]\n",
      "Portfolio value:  [[9811.11628598]]\n",
      "num_shares:  [82.03599]\n",
      "current_price:  [[108.59]]\n"
     ]
    },
    {
     "name": "stderr",
     "output_type": "stream",
     "text": [
      "/Library/Frameworks/Python.framework/Versions/3.11/lib/python3.11/site-packages/torch/nn/modules/loss.py:535: UserWarning: Using a target size (torch.Size([1, 1])) that is different to the input size (torch.Size([1])). This will likely lead to incorrect results due to broadcasting. Please ensure they have the same size.\n",
      "  return F.mse_loss(input, target, reduction=self.reduction)\n",
      "/Library/Frameworks/Python.framework/Versions/3.11/lib/python3.11/site-packages/torch/nn/modules/loss.py:535: UserWarning: Using a target size (torch.Size([1, 1])) that is different to the input size (torch.Size([1])). This will likely lead to incorrect results due to broadcasting. Please ensure they have the same size.\n",
      "  return F.mse_loss(input, target, reduction=self.reduction)\n",
      "/Library/Frameworks/Python.framework/Versions/3.11/lib/python3.11/site-packages/torch/nn/modules/loss.py:535: UserWarning: Using a target size (torch.Size([1, 1])) that is different to the input size (torch.Size([1])). This will likely lead to incorrect results due to broadcasting. Please ensure they have the same size.\n",
      "  return F.mse_loss(input, target, reduction=self.reduction)\n"
     ]
    },
    {
     "name": "stdout",
     "output_type": "stream",
     "text": [
      "action:  [1.]\n",
      "Shares held:  [88.52622]\n",
      "Cash balance:  [[198.93907636]]\n",
      "Portfolio value:  [[9812.0015482]]\n",
      "num_shares:  [108.3439]\n",
      "current_price:  [[108.1554]]\n",
      "action:  [1.]\n",
      "Shares held:  [88.52622]\n",
      "Cash balance:  [[198.93907636]]\n",
      "Portfolio value:  [[9773.52805202]]\n",
      "num_shares:  [86.42809]\n",
      "current_price:  [[108.22]]\n",
      "action:  [1.]\n",
      "Shares held:  [88.52622]\n",
      "Cash balance:  [[198.93907636]]\n",
      "Portfolio value:  [[9779.24684598]]\n",
      "num_shares:  [211.79692]\n",
      "current_price:  [[108.175]]\n"
     ]
    },
    {
     "name": "stderr",
     "output_type": "stream",
     "text": [
      "/Library/Frameworks/Python.framework/Versions/3.11/lib/python3.11/site-packages/torch/nn/modules/loss.py:535: UserWarning: Using a target size (torch.Size([1, 1])) that is different to the input size (torch.Size([1])). This will likely lead to incorrect results due to broadcasting. Please ensure they have the same size.\n",
      "  return F.mse_loss(input, target, reduction=self.reduction)\n",
      "/Library/Frameworks/Python.framework/Versions/3.11/lib/python3.11/site-packages/torch/nn/modules/loss.py:535: UserWarning: Using a target size (torch.Size([1, 1])) that is different to the input size (torch.Size([1])). This will likely lead to incorrect results due to broadcasting. Please ensure they have the same size.\n",
      "  return F.mse_loss(input, target, reduction=self.reduction)\n",
      "/Library/Frameworks/Python.framework/Versions/3.11/lib/python3.11/site-packages/torch/nn/modules/loss.py:535: UserWarning: Using a target size (torch.Size([1, 1])) that is different to the input size (torch.Size([1])). This will likely lead to incorrect results due to broadcasting. Please ensure they have the same size.\n",
      "  return F.mse_loss(input, target, reduction=self.reduction)\n"
     ]
    },
    {
     "name": "stdout",
     "output_type": "stream",
     "text": [
      "action:  [1.]\n",
      "Shares held:  [88.52622]\n",
      "Cash balance:  [[198.93907636]]\n",
      "Portfolio value:  [[9775.26316598]]\n",
      "num_shares:  [34.000874]\n",
      "current_price:  [[108.37]]\n",
      "action:  [1.]\n",
      "Shares held:  [88.52622]\n",
      "Cash balance:  [[198.93907636]]\n",
      "Portfolio value:  [[9792.52577931]]\n",
      "num_shares:  [23.29222]\n",
      "current_price:  [[108.45]]\n",
      "action:  [1.]\n",
      "Shares held:  [88.52622]\n",
      "Cash balance:  [[198.93907636]]\n",
      "Portfolio value:  [[9799.60787709]]\n",
      "num_shares:  [99.33204]\n",
      "current_price:  [[108.335]]\n"
     ]
    },
    {
     "name": "stderr",
     "output_type": "stream",
     "text": [
      "/Library/Frameworks/Python.framework/Versions/3.11/lib/python3.11/site-packages/torch/nn/modules/loss.py:535: UserWarning: Using a target size (torch.Size([1, 1])) that is different to the input size (torch.Size([1])). This will likely lead to incorrect results due to broadcasting. Please ensure they have the same size.\n",
      "  return F.mse_loss(input, target, reduction=self.reduction)\n",
      "/Library/Frameworks/Python.framework/Versions/3.11/lib/python3.11/site-packages/torch/nn/modules/loss.py:535: UserWarning: Using a target size (torch.Size([1, 1])) that is different to the input size (torch.Size([1])). This will likely lead to incorrect results due to broadcasting. Please ensure they have the same size.\n",
      "  return F.mse_loss(input, target, reduction=self.reduction)\n",
      "/Library/Frameworks/Python.framework/Versions/3.11/lib/python3.11/site-packages/torch/nn/modules/loss.py:535: UserWarning: Using a target size (torch.Size([1, 1])) that is different to the input size (torch.Size([1])). This will likely lead to incorrect results due to broadcasting. Please ensure they have the same size.\n",
      "  return F.mse_loss(input, target, reduction=self.reduction)\n"
     ]
    },
    {
     "name": "stdout",
     "output_type": "stream",
     "text": [
      "action:  [1.]\n",
      "Shares held:  [88.52622]\n",
      "Cash balance:  [[198.93907636]]\n",
      "Portfolio value:  [[9789.42736154]]\n",
      "num_shares:  [8.437147]\n",
      "current_price:  [[108.61]]\n",
      "action:  [1.]\n",
      "Shares held:  [88.52622]\n",
      "Cash balance:  [[198.93907636]]\n",
      "Portfolio value:  [[9813.77207265]]\n",
      "num_shares:  [85.98765]\n",
      "current_price:  [[108.935]]\n"
     ]
    },
    {
     "name": "stderr",
     "output_type": "stream",
     "text": [
      "/Library/Frameworks/Python.framework/Versions/3.11/lib/python3.11/site-packages/torch/nn/modules/loss.py:535: UserWarning: Using a target size (torch.Size([1, 1])) that is different to the input size (torch.Size([1])). This will likely lead to incorrect results due to broadcasting. Please ensure they have the same size.\n",
      "  return F.mse_loss(input, target, reduction=self.reduction)\n",
      "/Library/Frameworks/Python.framework/Versions/3.11/lib/python3.11/site-packages/torch/nn/modules/loss.py:535: UserWarning: Using a target size (torch.Size([1, 1])) that is different to the input size (torch.Size([1])). This will likely lead to incorrect results due to broadcasting. Please ensure they have the same size.\n",
      "  return F.mse_loss(input, target, reduction=self.reduction)\n"
     ]
    },
    {
     "name": "stdout",
     "output_type": "stream",
     "text": [
      "action:  [1.]\n",
      "Shares held:  [88.52622]\n",
      "Cash balance:  [[198.93907636]]\n",
      "Portfolio value:  [[9842.54309487]]\n",
      "num_shares:  [147.25908]\n",
      "current_price:  [[108.65]]\n",
      "action:  [1.]\n",
      "Shares held:  [88.52622]\n",
      "Cash balance:  [[198.93907636]]\n",
      "Portfolio value:  [[9817.31312154]]\n",
      "num_shares:  [167.39255]\n",
      "current_price:  [[109.06]]\n",
      "action:  [1.]\n",
      "Shares held:  [88.52622]\n",
      "Cash balance:  [[198.93907636]]\n",
      "Portfolio value:  [[9853.60887265]]\n",
      "num_shares:  [120.35155]\n",
      "current_price:  [[109.19]]\n"
     ]
    },
    {
     "name": "stderr",
     "output_type": "stream",
     "text": [
      "/Library/Frameworks/Python.framework/Versions/3.11/lib/python3.11/site-packages/torch/nn/modules/loss.py:535: UserWarning: Using a target size (torch.Size([1, 1])) that is different to the input size (torch.Size([1])). This will likely lead to incorrect results due to broadcasting. Please ensure they have the same size.\n",
      "  return F.mse_loss(input, target, reduction=self.reduction)\n",
      "/Library/Frameworks/Python.framework/Versions/3.11/lib/python3.11/site-packages/torch/nn/modules/loss.py:535: UserWarning: Using a target size (torch.Size([1, 1])) that is different to the input size (torch.Size([1])). This will likely lead to incorrect results due to broadcasting. Please ensure they have the same size.\n",
      "  return F.mse_loss(input, target, reduction=self.reduction)\n",
      "/Library/Frameworks/Python.framework/Versions/3.11/lib/python3.11/site-packages/torch/nn/modules/loss.py:535: UserWarning: Using a target size (torch.Size([1, 1])) that is different to the input size (torch.Size([1])). This will likely lead to incorrect results due to broadcasting. Please ensure they have the same size.\n",
      "  return F.mse_loss(input, target, reduction=self.reduction)\n"
     ]
    },
    {
     "name": "stdout",
     "output_type": "stream",
     "text": [
      "action:  [1.]\n",
      "Shares held:  [88.52622]\n",
      "Cash balance:  [[198.93907636]]\n",
      "Portfolio value:  [[9865.11728154]]\n",
      "num_shares:  [28.934319]\n",
      "current_price:  [[108.85]]\n",
      "action:  [1.]\n",
      "Shares held:  [88.52622]\n",
      "Cash balance:  [[198.93907636]]\n",
      "Portfolio value:  [[9835.01836598]]\n",
      "num_shares:  [74.45506]\n",
      "current_price:  [[108.96]]\n",
      "action:  [1.]\n",
      "Shares held:  [88.52622]\n",
      "Cash balance:  [[198.93907636]]\n",
      "Portfolio value:  [[9844.75625043]]\n",
      "num_shares:  [64.993515]\n",
      "current_price:  [[109.04]]\n"
     ]
    },
    {
     "name": "stderr",
     "output_type": "stream",
     "text": [
      "/Library/Frameworks/Python.framework/Versions/3.11/lib/python3.11/site-packages/torch/nn/modules/loss.py:535: UserWarning: Using a target size (torch.Size([1, 1])) that is different to the input size (torch.Size([1])). This will likely lead to incorrect results due to broadcasting. Please ensure they have the same size.\n",
      "  return F.mse_loss(input, target, reduction=self.reduction)\n",
      "/Library/Frameworks/Python.framework/Versions/3.11/lib/python3.11/site-packages/torch/nn/modules/loss.py:535: UserWarning: Using a target size (torch.Size([1, 1])) that is different to the input size (torch.Size([1])). This will likely lead to incorrect results due to broadcasting. Please ensure they have the same size.\n",
      "  return F.mse_loss(input, target, reduction=self.reduction)\n",
      "/Library/Frameworks/Python.framework/Versions/3.11/lib/python3.11/site-packages/torch/nn/modules/loss.py:535: UserWarning: Using a target size (torch.Size([1, 1])) that is different to the input size (torch.Size([1])). This will likely lead to incorrect results due to broadcasting. Please ensure they have the same size.\n",
      "  return F.mse_loss(input, target, reduction=self.reduction)\n"
     ]
    },
    {
     "name": "stdout",
     "output_type": "stream",
     "text": [
      "action:  [1.]\n",
      "Shares held:  [88.52622]\n",
      "Cash balance:  [[198.93907636]]\n",
      "Portfolio value:  [[9851.83834821]]\n",
      "num_shares:  [110.50048]\n",
      "current_price:  [[109.02]]\n",
      "action:  [1.]\n",
      "Shares held:  [88.52622]\n",
      "Cash balance:  [[198.93907636]]\n",
      "Portfolio value:  [[9850.06782376]]\n",
      "num_shares:  [159.20757]\n",
      "current_price:  [[109.11]]\n",
      "action:  [1.]\n",
      "Shares held:  [88.52622]\n",
      "Cash balance:  [[198.93907636]]\n",
      "Portfolio value:  [[9858.03518376]]\n",
      "num_shares:  [127.85009]\n",
      "current_price:  [[109.07]]\n"
     ]
    },
    {
     "name": "stderr",
     "output_type": "stream",
     "text": [
      "/Library/Frameworks/Python.framework/Versions/3.11/lib/python3.11/site-packages/torch/nn/modules/loss.py:535: UserWarning: Using a target size (torch.Size([1, 1])) that is different to the input size (torch.Size([1])). This will likely lead to incorrect results due to broadcasting. Please ensure they have the same size.\n",
      "  return F.mse_loss(input, target, reduction=self.reduction)\n",
      "/Library/Frameworks/Python.framework/Versions/3.11/lib/python3.11/site-packages/torch/nn/modules/loss.py:535: UserWarning: Using a target size (torch.Size([1, 1])) that is different to the input size (torch.Size([1])). This will likely lead to incorrect results due to broadcasting. Please ensure they have the same size.\n",
      "  return F.mse_loss(input, target, reduction=self.reduction)\n",
      "/Library/Frameworks/Python.framework/Versions/3.11/lib/python3.11/site-packages/torch/nn/modules/loss.py:535: UserWarning: Using a target size (torch.Size([1, 1])) that is different to the input size (torch.Size([1])). This will likely lead to incorrect results due to broadcasting. Please ensure they have the same size.\n",
      "  return F.mse_loss(input, target, reduction=self.reduction)\n"
     ]
    },
    {
     "name": "stdout",
     "output_type": "stream",
     "text": [
      "action:  [1.]\n",
      "Shares held:  [88.52622]\n",
      "Cash balance:  [[198.93907636]]\n",
      "Portfolio value:  [[9854.49413487]]\n",
      "num_shares:  [43.479527]\n",
      "current_price:  [[109.145]]\n",
      "action:  [1.]\n",
      "Shares held:  [88.52622]\n",
      "Cash balance:  [[198.93907636]]\n",
      "Portfolio value:  [[9861.13360154]]\n",
      "num_shares:  [64.530945]\n",
      "current_price:  [[109.16]]\n",
      "action:  [1.]\n",
      "Shares held:  [88.52622]\n",
      "Cash balance:  [[198.93907636]]\n",
      "Portfolio value:  [[9862.46149487]]\n",
      "num_shares:  [128.27187]\n",
      "current_price:  [[109.28]]\n"
     ]
    },
    {
     "name": "stderr",
     "output_type": "stream",
     "text": [
      "/Library/Frameworks/Python.framework/Versions/3.11/lib/python3.11/site-packages/torch/nn/modules/loss.py:535: UserWarning: Using a target size (torch.Size([1, 1])) that is different to the input size (torch.Size([1])). This will likely lead to incorrect results due to broadcasting. Please ensure they have the same size.\n",
      "  return F.mse_loss(input, target, reduction=self.reduction)\n",
      "/Library/Frameworks/Python.framework/Versions/3.11/lib/python3.11/site-packages/torch/nn/modules/loss.py:535: UserWarning: Using a target size (torch.Size([1, 1])) that is different to the input size (torch.Size([1])). This will likely lead to incorrect results due to broadcasting. Please ensure they have the same size.\n",
      "  return F.mse_loss(input, target, reduction=self.reduction)\n",
      "/Library/Frameworks/Python.framework/Versions/3.11/lib/python3.11/site-packages/torch/nn/modules/loss.py:535: UserWarning: Using a target size (torch.Size([1, 1])) that is different to the input size (torch.Size([1])). This will likely lead to incorrect results due to broadcasting. Please ensure they have the same size.\n",
      "  return F.mse_loss(input, target, reduction=self.reduction)\n"
     ]
    },
    {
     "name": "stdout",
     "output_type": "stream",
     "text": [
      "action:  [1.]\n",
      "Shares held:  [88.52622]\n",
      "Cash balance:  [[198.93907636]]\n",
      "Portfolio value:  [[9873.08464154]]\n",
      "num_shares:  [-1.6309843]\n",
      "current_price:  [[109.3508]]\n",
      "selling\n",
      "action:  [1.]\n",
      "Shares held:  [86.89524]\n",
      "Cash balance:  [[377.28851504]]\n",
      "Portfolio value:  [[9879.35261093]]\n",
      "num_shares:  [154.06635]\n",
      "current_price:  [[109.475]]\n"
     ]
    },
    {
     "name": "stderr",
     "output_type": "stream",
     "text": [
      "/Library/Frameworks/Python.framework/Versions/3.11/lib/python3.11/site-packages/torch/nn/modules/loss.py:535: UserWarning: Using a target size (torch.Size([1, 1])) that is different to the input size (torch.Size([1])). This will likely lead to incorrect results due to broadcasting. Please ensure they have the same size.\n",
      "  return F.mse_loss(input, target, reduction=self.reduction)\n",
      "/Library/Frameworks/Python.framework/Versions/3.11/lib/python3.11/site-packages/torch/nn/modules/loss.py:535: UserWarning: Using a target size (torch.Size([1, 1])) that is different to the input size (torch.Size([1])). This will likely lead to incorrect results due to broadcasting. Please ensure they have the same size.\n",
      "  return F.mse_loss(input, target, reduction=self.reduction)\n"
     ]
    },
    {
     "name": "stdout",
     "output_type": "stream",
     "text": [
      "action:  [1.]\n",
      "Shares held:  [86.89524]\n",
      "Cash balance:  [[377.28851504]]\n",
      "Portfolio value:  [[9890.14499984]]\n",
      "num_shares:  [124.28659]\n",
      "current_price:  [[109.49]]\n"
     ]
    },
    {
     "name": "stderr",
     "output_type": "stream",
     "text": [
      "/Library/Frameworks/Python.framework/Versions/3.11/lib/python3.11/site-packages/torch/nn/modules/loss.py:535: UserWarning: Using a target size (torch.Size([1, 1])) that is different to the input size (torch.Size([1])). This will likely lead to incorrect results due to broadcasting. Please ensure they have the same size.\n",
      "  return F.mse_loss(input, target, reduction=self.reduction)\n"
     ]
    },
    {
     "name": "stdout",
     "output_type": "stream",
     "text": [
      "action:  [1.]\n",
      "Shares held:  [86.89524]\n",
      "Cash balance:  [[377.28851504]]\n",
      "Portfolio value:  [[9891.44842845]]\n",
      "num_shares:  [75.451675]\n",
      "current_price:  [[109.45]]\n",
      "action:  [1.]\n",
      "Shares held:  [86.89524]\n",
      "Cash balance:  [[377.28851504]]\n",
      "Portfolio value:  [[9887.97261882]]\n",
      "num_shares:  [70.44283]\n",
      "current_price:  [[109.39]]\n"
     ]
    },
    {
     "name": "stderr",
     "output_type": "stream",
     "text": [
      "/Library/Frameworks/Python.framework/Versions/3.11/lib/python3.11/site-packages/torch/nn/modules/loss.py:535: UserWarning: Using a target size (torch.Size([1, 1])) that is different to the input size (torch.Size([1])). This will likely lead to incorrect results due to broadcasting. Please ensure they have the same size.\n",
      "  return F.mse_loss(input, target, reduction=self.reduction)\n",
      "/Library/Frameworks/Python.framework/Versions/3.11/lib/python3.11/site-packages/torch/nn/modules/loss.py:535: UserWarning: Using a target size (torch.Size([1, 1])) that is different to the input size (torch.Size([1])). This will likely lead to incorrect results due to broadcasting. Please ensure they have the same size.\n",
      "  return F.mse_loss(input, target, reduction=self.reduction)\n"
     ]
    },
    {
     "name": "stdout",
     "output_type": "stream",
     "text": [
      "action:  [1.]\n",
      "Shares held:  [86.89524]\n",
      "Cash balance:  [[377.28851504]]\n",
      "Portfolio value:  [[9882.75890437]]\n",
      "num_shares:  [100.782745]\n",
      "current_price:  [[109.47]]\n",
      "action:  [1.]\n",
      "Shares held:  [86.89524]\n",
      "Cash balance:  [[377.28851504]]\n",
      "Portfolio value:  [[9889.71052363]]\n",
      "num_shares:  [67.724525]\n",
      "current_price:  [[109.74]]\n",
      "action:  [1.]\n",
      "Shares held:  [86.89524]\n",
      "Cash balance:  [[377.28851504]]\n",
      "Portfolio value:  [[9913.17223864]]\n",
      "num_shares:  [83.667595]\n",
      "current_price:  [[109.9099]]\n"
     ]
    },
    {
     "name": "stderr",
     "output_type": "stream",
     "text": [
      "/Library/Frameworks/Python.framework/Versions/3.11/lib/python3.11/site-packages/torch/nn/modules/loss.py:535: UserWarning: Using a target size (torch.Size([1, 1])) that is different to the input size (torch.Size([1])). This will likely lead to incorrect results due to broadcasting. Please ensure they have the same size.\n",
      "  return F.mse_loss(input, target, reduction=self.reduction)\n",
      "/Library/Frameworks/Python.framework/Versions/3.11/lib/python3.11/site-packages/torch/nn/modules/loss.py:535: UserWarning: Using a target size (torch.Size([1, 1])) that is different to the input size (torch.Size([1])). This will likely lead to incorrect results due to broadcasting. Please ensure they have the same size.\n",
      "  return F.mse_loss(input, target, reduction=self.reduction)\n",
      "/Library/Frameworks/Python.framework/Versions/3.11/lib/python3.11/site-packages/torch/nn/modules/loss.py:535: UserWarning: Using a target size (torch.Size([1, 1])) that is different to the input size (torch.Size([1])). This will likely lead to incorrect results due to broadcasting. Please ensure they have the same size.\n",
      "  return F.mse_loss(input, target, reduction=self.reduction)\n"
     ]
    },
    {
     "name": "stdout",
     "output_type": "stream",
     "text": [
      "action:  [1.]\n",
      "Shares held:  [86.89524]\n",
      "Cash balance:  [[377.28851504]]\n",
      "Portfolio value:  [[9927.93574005]]\n",
      "num_shares:  [-35.47312]\n",
      "current_price:  [[109.86]]\n",
      "selling\n",
      "action:  [1.]\n",
      "Shares held:  [51.42212]\n",
      "Cash balance:  [[4274.36565875]]\n",
      "Portfolio value:  [[9923.59966754]]\n",
      "num_shares:  [93.08835]\n",
      "current_price:  [[109.69]]\n",
      "action:  [1.]\n",
      "Shares held:  [51.42212]\n",
      "Cash balance:  [[4274.36565875]]\n",
      "Portfolio value:  [[9914.85790728]]\n",
      "num_shares:  [78.02249]\n",
      "current_price:  [[109.55]]\n"
     ]
    },
    {
     "name": "stderr",
     "output_type": "stream",
     "text": [
      "/Library/Frameworks/Python.framework/Versions/3.11/lib/python3.11/site-packages/torch/nn/modules/loss.py:535: UserWarning: Using a target size (torch.Size([1, 1])) that is different to the input size (torch.Size([1])). This will likely lead to incorrect results due to broadcasting. Please ensure they have the same size.\n",
      "  return F.mse_loss(input, target, reduction=self.reduction)\n",
      "/Library/Frameworks/Python.framework/Versions/3.11/lib/python3.11/site-packages/torch/nn/modules/loss.py:535: UserWarning: Using a target size (torch.Size([1, 1])) that is different to the input size (torch.Size([1])). This will likely lead to incorrect results due to broadcasting. Please ensure they have the same size.\n",
      "  return F.mse_loss(input, target, reduction=self.reduction)\n",
      "/Library/Frameworks/Python.framework/Versions/3.11/lib/python3.11/site-packages/torch/nn/modules/loss.py:535: UserWarning: Using a target size (torch.Size([1, 1])) that is different to the input size (torch.Size([1])). This will likely lead to incorrect results due to broadcasting. Please ensure they have the same size.\n",
      "  return F.mse_loss(input, target, reduction=self.reduction)\n"
     ]
    },
    {
     "name": "stdout",
     "output_type": "stream",
     "text": [
      "action:  [1.]\n",
      "Shares held:  [51.42212]\n",
      "Cash balance:  [[4274.36565875]]\n",
      "Portfolio value:  [[9907.6588106]]\n",
      "num_shares:  [90.46401]\n",
      "current_price:  [[109.54]]\n",
      "action:  [1.]\n",
      "Shares held:  [51.42212]\n",
      "Cash balance:  [[4274.36565875]]\n",
      "Portfolio value:  [[9907.14458941]]\n",
      "num_shares:  [-10.4507675]\n",
      "current_price:  [[109.675]]\n",
      "selling\n",
      "action:  [1.]\n",
      "Shares held:  [40.97135]\n",
      "Cash balance:  [[5420.55358619]]\n",
      "Portfolio value:  [[9914.0865755]]\n",
      "num_shares:  [128.54312]\n",
      "current_price:  [[109.32]]\n"
     ]
    },
    {
     "name": "stderr",
     "output_type": "stream",
     "text": [
      "/Library/Frameworks/Python.framework/Versions/3.11/lib/python3.11/site-packages/torch/nn/modules/loss.py:535: UserWarning: Using a target size (torch.Size([1, 1])) that is different to the input size (torch.Size([1])). This will likely lead to incorrect results due to broadcasting. Please ensure they have the same size.\n",
      "  return F.mse_loss(input, target, reduction=self.reduction)\n",
      "/Library/Frameworks/Python.framework/Versions/3.11/lib/python3.11/site-packages/torch/nn/modules/loss.py:535: UserWarning: Using a target size (torch.Size([1, 1])) that is different to the input size (torch.Size([1])). This will likely lead to incorrect results due to broadcasting. Please ensure they have the same size.\n",
      "  return F.mse_loss(input, target, reduction=self.reduction)\n",
      "/Library/Frameworks/Python.framework/Versions/3.11/lib/python3.11/site-packages/torch/nn/modules/loss.py:535: UserWarning: Using a target size (torch.Size([1, 1])) that is different to the input size (torch.Size([1])). This will likely lead to incorrect results due to broadcasting. Please ensure they have the same size.\n",
      "  return F.mse_loss(input, target, reduction=self.reduction)\n"
     ]
    },
    {
     "name": "stdout",
     "output_type": "stream",
     "text": [
      "action:  [1.]\n",
      "Shares held:  [40.97135]\n",
      "Cash balance:  [[5420.55358619]]\n",
      "Portfolio value:  [[9899.54174567]]\n",
      "num_shares:  [14.165134]\n",
      "current_price:  [[109.45]]\n",
      "buying\n",
      "action:  [1.]\n",
      "Shares held:  [55.136486]\n",
      "Cash balance:  [[3870.17962283]]\n",
      "Portfolio value:  [[9904.86802138]]\n",
      "num_shares:  [80.21207]\n",
      "current_price:  [[109.66]]\n",
      "action:  [1.]\n",
      "Shares held:  [55.136486]\n",
      "Cash balance:  [[3870.17962283]]\n",
      "Portfolio value:  [[9916.44668345]]\n",
      "num_shares:  [85.71669]\n",
      "current_price:  [[115.98]]\n"
     ]
    },
    {
     "name": "stderr",
     "output_type": "stream",
     "text": [
      "/Library/Frameworks/Python.framework/Versions/3.11/lib/python3.11/site-packages/torch/nn/modules/loss.py:535: UserWarning: Using a target size (torch.Size([1, 1])) that is different to the input size (torch.Size([1])). This will likely lead to incorrect results due to broadcasting. Please ensure they have the same size.\n",
      "  return F.mse_loss(input, target, reduction=self.reduction)\n",
      "/Library/Frameworks/Python.framework/Versions/3.11/lib/python3.11/site-packages/torch/nn/modules/loss.py:535: UserWarning: Using a target size (torch.Size([1, 1])) that is different to the input size (torch.Size([1])). This will likely lead to incorrect results due to broadcasting. Please ensure they have the same size.\n",
      "  return F.mse_loss(input, target, reduction=self.reduction)\n",
      "/Library/Frameworks/Python.framework/Versions/3.11/lib/python3.11/site-packages/torch/nn/modules/loss.py:535: UserWarning: Using a target size (torch.Size([1, 1])) that is different to the input size (torch.Size([1])). This will likely lead to incorrect results due to broadcasting. Please ensure they have the same size.\n",
      "  return F.mse_loss(input, target, reduction=self.reduction)\n"
     ]
    },
    {
     "name": "stdout",
     "output_type": "stream",
     "text": [
      "action:  [1.]\n",
      "Shares held:  [55.136486]\n",
      "Cash balance:  [[3870.17962283]]\n",
      "Portfolio value:  [[10264.90927531]]\n",
      "num_shares:  [69.92417]\n",
      "current_price:  [[116.11]]\n",
      "action:  [1.]\n",
      "Shares held:  [55.136486]\n",
      "Cash balance:  [[3870.17962283]]\n",
      "Portfolio value:  [[10272.0770185]]\n",
      "num_shares:  [110.38201]\n",
      "current_price:  [[115.57]]\n",
      "action:  [1.]\n",
      "Shares held:  [55.136486]\n",
      "Cash balance:  [[3870.17962283]]\n",
      "Portfolio value:  [[10242.30331603]]\n",
      "num_shares:  [57.03961]\n",
      "current_price:  [[115.8]]\n"
     ]
    },
    {
     "name": "stderr",
     "output_type": "stream",
     "text": [
      "/Library/Frameworks/Python.framework/Versions/3.11/lib/python3.11/site-packages/torch/nn/modules/loss.py:535: UserWarning: Using a target size (torch.Size([1, 1])) that is different to the input size (torch.Size([1])). This will likely lead to incorrect results due to broadcasting. Please ensure they have the same size.\n",
      "  return F.mse_loss(input, target, reduction=self.reduction)\n",
      "/Library/Frameworks/Python.framework/Versions/3.11/lib/python3.11/site-packages/torch/nn/modules/loss.py:535: UserWarning: Using a target size (torch.Size([1, 1])) that is different to the input size (torch.Size([1])). This will likely lead to incorrect results due to broadcasting. Please ensure they have the same size.\n",
      "  return F.mse_loss(input, target, reduction=self.reduction)\n",
      "/Library/Frameworks/Python.framework/Versions/3.11/lib/python3.11/site-packages/torch/nn/modules/loss.py:535: UserWarning: Using a target size (torch.Size([1, 1])) that is different to the input size (torch.Size([1])). This will likely lead to incorrect results due to broadcasting. Please ensure they have the same size.\n",
      "  return F.mse_loss(input, target, reduction=self.reduction)\n"
     ]
    },
    {
     "name": "stdout",
     "output_type": "stream",
     "text": [
      "action:  [1.]\n",
      "Shares held:  [55.136486]\n",
      "Cash balance:  [[3870.17962283]]\n",
      "Portfolio value:  [[10254.98470782]]\n",
      "num_shares:  [205.8954]\n",
      "current_price:  [[115.67]]\n",
      "action:  [1.]\n",
      "Shares held:  [55.136486]\n",
      "Cash balance:  [[3870.17962283]]\n",
      "Portfolio value:  [[10247.81696463]]\n",
      "num_shares:  [76.098045]\n",
      "current_price:  [[115.74]]\n",
      "action:  [1.]\n",
      "Shares held:  [55.136486]\n",
      "Cash balance:  [[3870.17962283]]\n",
      "Portfolio value:  [[10251.67651866]]\n",
      "num_shares:  [97.96776]\n",
      "current_price:  [[115.765]]\n"
     ]
    },
    {
     "name": "stderr",
     "output_type": "stream",
     "text": [
      "/Library/Frameworks/Python.framework/Versions/3.11/lib/python3.11/site-packages/torch/nn/modules/loss.py:535: UserWarning: Using a target size (torch.Size([1, 1])) that is different to the input size (torch.Size([1])). This will likely lead to incorrect results due to broadcasting. Please ensure they have the same size.\n",
      "  return F.mse_loss(input, target, reduction=self.reduction)\n",
      "/Library/Frameworks/Python.framework/Versions/3.11/lib/python3.11/site-packages/torch/nn/modules/loss.py:535: UserWarning: Using a target size (torch.Size([1, 1])) that is different to the input size (torch.Size([1])). This will likely lead to incorrect results due to broadcasting. Please ensure they have the same size.\n",
      "  return F.mse_loss(input, target, reduction=self.reduction)\n",
      "/Library/Frameworks/Python.framework/Versions/3.11/lib/python3.11/site-packages/torch/nn/modules/loss.py:535: UserWarning: Using a target size (torch.Size([1, 1])) that is different to the input size (torch.Size([1])). This will likely lead to incorrect results due to broadcasting. Please ensure they have the same size.\n",
      "  return F.mse_loss(input, target, reduction=self.reduction)\n"
     ]
    },
    {
     "name": "stdout",
     "output_type": "stream",
     "text": [
      "action:  [1.]\n",
      "Shares held:  [55.136486]\n",
      "Cash balance:  [[3870.17962283]]\n",
      "Portfolio value:  [[10253.05493081]]\n",
      "num_shares:  [-6.8658905]\n",
      "current_price:  [[115.88]]\n",
      "selling\n",
      "action:  [1.]\n",
      "Shares held:  [48.270596]\n",
      "Cash balance:  [[4665.79901431]]\n",
      "Portfolio value:  [[10259.3956267]]\n",
      "num_shares:  [99.51064]\n",
      "current_price:  [[115.66]]\n",
      "action:  [1.]\n",
      "Shares held:  [48.270596]\n",
      "Cash balance:  [[4665.79901431]]\n",
      "Portfolio value:  [[10248.77609568]]\n",
      "num_shares:  [101.93759]\n",
      "current_price:  [[116.]]\n"
     ]
    },
    {
     "name": "stderr",
     "output_type": "stream",
     "text": [
      "/Library/Frameworks/Python.framework/Versions/3.11/lib/python3.11/site-packages/torch/nn/modules/loss.py:535: UserWarning: Using a target size (torch.Size([1, 1])) that is different to the input size (torch.Size([1])). This will likely lead to incorrect results due to broadcasting. Please ensure they have the same size.\n",
      "  return F.mse_loss(input, target, reduction=self.reduction)\n",
      "/Library/Frameworks/Python.framework/Versions/3.11/lib/python3.11/site-packages/torch/nn/modules/loss.py:535: UserWarning: Using a target size (torch.Size([1, 1])) that is different to the input size (torch.Size([1])). This will likely lead to incorrect results due to broadcasting. Please ensure they have the same size.\n",
      "  return F.mse_loss(input, target, reduction=self.reduction)\n",
      "/Library/Frameworks/Python.framework/Versions/3.11/lib/python3.11/site-packages/torch/nn/modules/loss.py:535: UserWarning: Using a target size (torch.Size([1, 1])) that is different to the input size (torch.Size([1])). This will likely lead to incorrect results due to broadcasting. Please ensure they have the same size.\n",
      "  return F.mse_loss(input, target, reduction=self.reduction)\n"
     ]
    },
    {
     "name": "stdout",
     "output_type": "stream",
     "text": [
      "action:  [1.]\n",
      "Shares held:  [48.270596]\n",
      "Cash balance:  [[4665.79901431]]\n",
      "Portfolio value:  [[10265.18809817]]\n",
      "num_shares:  [119.158936]\n",
      "current_price:  [[116.45]]\n",
      "action:  [1.]\n",
      "Shares held:  [48.270596]\n",
      "Cash balance:  [[4665.79901431]]\n",
      "Portfolio value:  [[10286.90986617]]\n",
      "num_shares:  [77.62371]\n",
      "current_price:  [[116.79]]\n",
      "action:  [1.]\n",
      "Shares held:  [48.270596]\n",
      "Cash balance:  [[4665.79901431]]\n",
      "Portfolio value:  [[10303.32186866]]\n",
      "num_shares:  [47.284748]\n",
      "current_price:  [[116.12]]\n"
     ]
    },
    {
     "name": "stderr",
     "output_type": "stream",
     "text": [
      "/Library/Frameworks/Python.framework/Versions/3.11/lib/python3.11/site-packages/torch/nn/modules/loss.py:535: UserWarning: Using a target size (torch.Size([1, 1])) that is different to the input size (torch.Size([1])). This will likely lead to incorrect results due to broadcasting. Please ensure they have the same size.\n",
      "  return F.mse_loss(input, target, reduction=self.reduction)\n",
      "/Library/Frameworks/Python.framework/Versions/3.11/lib/python3.11/site-packages/torch/nn/modules/loss.py:535: UserWarning: Using a target size (torch.Size([1, 1])) that is different to the input size (torch.Size([1])). This will likely lead to incorrect results due to broadcasting. Please ensure they have the same size.\n",
      "  return F.mse_loss(input, target, reduction=self.reduction)\n",
      "/Library/Frameworks/Python.framework/Versions/3.11/lib/python3.11/site-packages/torch/nn/modules/loss.py:535: UserWarning: Using a target size (torch.Size([1, 1])) that is different to the input size (torch.Size([1])). This will likely lead to incorrect results due to broadcasting. Please ensure they have the same size.\n",
      "  return F.mse_loss(input, target, reduction=self.reduction)\n"
     ]
    },
    {
     "name": "stdout",
     "output_type": "stream",
     "text": [
      "action:  [1.]\n",
      "Shares held:  [48.270596]\n",
      "Cash balance:  [[4665.79901431]]\n",
      "Portfolio value:  [[10270.98056964]]\n",
      "num_shares:  [42.5525]\n",
      "current_price:  [[115.86]]\n",
      "action:  [1.]\n",
      "Shares held:  [48.270596]\n",
      "Cash balance:  [[4665.79901431]]\n",
      "Portfolio value:  [[10258.43021479]]\n",
      "num_shares:  [146.20557]\n",
      "current_price:  [[115.44]]\n",
      "action:  [1.]\n",
      "Shares held:  [48.270596]\n",
      "Cash balance:  [[4665.79901431]]\n",
      "Portfolio value:  [[10238.15656466]]\n",
      "num_shares:  [144.98703]\n",
      "current_price:  [[115.07]]\n"
     ]
    },
    {
     "name": "stderr",
     "output_type": "stream",
     "text": [
      "/Library/Frameworks/Python.framework/Versions/3.11/lib/python3.11/site-packages/torch/nn/modules/loss.py:535: UserWarning: Using a target size (torch.Size([1, 1])) that is different to the input size (torch.Size([1])). This will likely lead to incorrect results due to broadcasting. Please ensure they have the same size.\n",
      "  return F.mse_loss(input, target, reduction=self.reduction)\n",
      "/Library/Frameworks/Python.framework/Versions/3.11/lib/python3.11/site-packages/torch/nn/modules/loss.py:535: UserWarning: Using a target size (torch.Size([1, 1])) that is different to the input size (torch.Size([1])). This will likely lead to incorrect results due to broadcasting. Please ensure they have the same size.\n",
      "  return F.mse_loss(input, target, reduction=self.reduction)\n",
      "/Library/Frameworks/Python.framework/Versions/3.11/lib/python3.11/site-packages/torch/nn/modules/loss.py:535: UserWarning: Using a target size (torch.Size([1, 1])) that is different to the input size (torch.Size([1])). This will likely lead to incorrect results due to broadcasting. Please ensure they have the same size.\n",
      "  return F.mse_loss(input, target, reduction=self.reduction)\n"
     ]
    },
    {
     "name": "stdout",
     "output_type": "stream",
     "text": [
      "action:  [1.]\n",
      "Shares held:  [48.270596]\n",
      "Cash balance:  [[4665.79901431]]\n",
      "Portfolio value:  [[10220.29644431]]\n",
      "num_shares:  [85.12756]\n",
      "current_price:  [[114.93]]\n",
      "action:  [1.]\n",
      "Shares held:  [48.270596]\n",
      "Cash balance:  [[4665.79901431]]\n",
      "Portfolio value:  [[10213.53856093]]\n",
      "num_shares:  [110.90279]\n",
      "current_price:  [[114.63]]\n",
      "action:  [1.]\n",
      "Shares held:  [48.270596]\n",
      "Cash balance:  [[4665.79901431]]\n",
      "Portfolio value:  [[10199.05738227]]\n",
      "num_shares:  [63.656914]\n",
      "current_price:  [[115.06]]\n"
     ]
    },
    {
     "name": "stderr",
     "output_type": "stream",
     "text": [
      "/Library/Frameworks/Python.framework/Versions/3.11/lib/python3.11/site-packages/torch/nn/modules/loss.py:535: UserWarning: Using a target size (torch.Size([1, 1])) that is different to the input size (torch.Size([1])). This will likely lead to incorrect results due to broadcasting. Please ensure they have the same size.\n",
      "  return F.mse_loss(input, target, reduction=self.reduction)\n",
      "/Library/Frameworks/Python.framework/Versions/3.11/lib/python3.11/site-packages/torch/nn/modules/loss.py:535: UserWarning: Using a target size (torch.Size([1, 1])) that is different to the input size (torch.Size([1])). This will likely lead to incorrect results due to broadcasting. Please ensure they have the same size.\n",
      "  return F.mse_loss(input, target, reduction=self.reduction)\n",
      "/Library/Frameworks/Python.framework/Versions/3.11/lib/python3.11/site-packages/torch/nn/modules/loss.py:535: UserWarning: Using a target size (torch.Size([1, 1])) that is different to the input size (torch.Size([1])). This will likely lead to incorrect results due to broadcasting. Please ensure they have the same size.\n",
      "  return F.mse_loss(input, target, reduction=self.reduction)\n"
     ]
    },
    {
     "name": "stdout",
     "output_type": "stream",
     "text": [
      "action:  [1.]\n",
      "Shares held:  [48.270596]\n",
      "Cash balance:  [[4665.79901431]]\n",
      "Portfolio value:  [[10219.81373835]]\n",
      "num_shares:  [95.465126]\n",
      "current_price:  [[115.15]]\n",
      "action:  [1.]\n",
      "Shares held:  [48.270596]\n",
      "Cash balance:  [[4665.79901431]]\n",
      "Portfolio value:  [[10224.15809195]]\n",
      "num_shares:  [51.49915]\n",
      "current_price:  [[115.52]]\n",
      "action:  [1.]\n",
      "Shares held:  [48.270596]\n",
      "Cash balance:  [[4665.79901431]]\n",
      "Portfolio value:  [[10242.01821231]]\n",
      "num_shares:  [51.202656]\n",
      "current_price:  [[115.33]]\n"
     ]
    },
    {
     "name": "stderr",
     "output_type": "stream",
     "text": [
      "/Library/Frameworks/Python.framework/Versions/3.11/lib/python3.11/site-packages/torch/nn/modules/loss.py:535: UserWarning: Using a target size (torch.Size([1, 1])) that is different to the input size (torch.Size([1])). This will likely lead to incorrect results due to broadcasting. Please ensure they have the same size.\n",
      "  return F.mse_loss(input, target, reduction=self.reduction)\n",
      "/Library/Frameworks/Python.framework/Versions/3.11/lib/python3.11/site-packages/torch/nn/modules/loss.py:535: UserWarning: Using a target size (torch.Size([1, 1])) that is different to the input size (torch.Size([1])). This will likely lead to incorrect results due to broadcasting. Please ensure they have the same size.\n",
      "  return F.mse_loss(input, target, reduction=self.reduction)\n",
      "/Library/Frameworks/Python.framework/Versions/3.11/lib/python3.11/site-packages/torch/nn/modules/loss.py:535: UserWarning: Using a target size (torch.Size([1, 1])) that is different to the input size (torch.Size([1])). This will likely lead to incorrect results due to broadcasting. Please ensure they have the same size.\n",
      "  return F.mse_loss(input, target, reduction=self.reduction)\n"
     ]
    },
    {
     "name": "stdout",
     "output_type": "stream",
     "text": [
      "action:  [1.]\n",
      "Shares held:  [48.270596]\n",
      "Cash balance:  [[4665.79901431]]\n",
      "Portfolio value:  [[10232.84679915]]\n",
      "num_shares:  [137.76198]\n",
      "current_price:  [[115.11]]\n",
      "action:  [1.]\n",
      "Shares held:  [48.270596]\n",
      "Cash balance:  [[4665.79901431]]\n",
      "Portfolio value:  [[10222.22726813]]\n",
      "num_shares:  [93.37439]\n",
      "current_price:  [[115.01]]\n",
      "action:  [1.]\n",
      "Shares held:  [48.270596]\n",
      "Cash balance:  [[4665.79901431]]\n",
      "Portfolio value:  [[10217.40020858]]\n",
      "num_shares:  [109.4529]\n",
      "current_price:  [[114.74]]\n"
     ]
    },
    {
     "name": "stderr",
     "output_type": "stream",
     "text": [
      "/Library/Frameworks/Python.framework/Versions/3.11/lib/python3.11/site-packages/torch/nn/modules/loss.py:535: UserWarning: Using a target size (torch.Size([1, 1])) that is different to the input size (torch.Size([1])). This will likely lead to incorrect results due to broadcasting. Please ensure they have the same size.\n",
      "  return F.mse_loss(input, target, reduction=self.reduction)\n",
      "/Library/Frameworks/Python.framework/Versions/3.11/lib/python3.11/site-packages/torch/nn/modules/loss.py:535: UserWarning: Using a target size (torch.Size([1, 1])) that is different to the input size (torch.Size([1])). This will likely lead to incorrect results due to broadcasting. Please ensure they have the same size.\n",
      "  return F.mse_loss(input, target, reduction=self.reduction)\n",
      "/Library/Frameworks/Python.framework/Versions/3.11/lib/python3.11/site-packages/torch/nn/modules/loss.py:535: UserWarning: Using a target size (torch.Size([1, 1])) that is different to the input size (torch.Size([1])). This will likely lead to incorrect results due to broadcasting. Please ensure they have the same size.\n",
      "  return F.mse_loss(input, target, reduction=self.reduction)\n"
     ]
    },
    {
     "name": "stdout",
     "output_type": "stream",
     "text": [
      "action:  [1.]\n",
      "Shares held:  [48.270596]\n",
      "Cash balance:  [[4665.79901431]]\n",
      "Portfolio value:  [[10204.36714778]]\n",
      "num_shares:  [124.22177]\n",
      "current_price:  [[115.02]]\n",
      "action:  [1.]\n",
      "Shares held:  [48.270596]\n",
      "Cash balance:  [[4665.79901431]]\n",
      "Portfolio value:  [[10217.88291453]]\n",
      "num_shares:  [150.44948]\n",
      "current_price:  [[115.68]]\n",
      "action:  [1.]\n",
      "Shares held:  [48.270596]\n",
      "Cash balance:  [[4665.79901431]]\n",
      "Portfolio value:  [[10249.74150759]]\n",
      "num_shares:  [127.617584]\n",
      "current_price:  [[114.65]]\n"
     ]
    },
    {
     "name": "stderr",
     "output_type": "stream",
     "text": [
      "/Library/Frameworks/Python.framework/Versions/3.11/lib/python3.11/site-packages/torch/nn/modules/loss.py:535: UserWarning: Using a target size (torch.Size([1, 1])) that is different to the input size (torch.Size([1])). This will likely lead to incorrect results due to broadcasting. Please ensure they have the same size.\n",
      "  return F.mse_loss(input, target, reduction=self.reduction)\n",
      "/Library/Frameworks/Python.framework/Versions/3.11/lib/python3.11/site-packages/torch/nn/modules/loss.py:535: UserWarning: Using a target size (torch.Size([1, 1])) that is different to the input size (torch.Size([1])). This will likely lead to incorrect results due to broadcasting. Please ensure they have the same size.\n",
      "  return F.mse_loss(input, target, reduction=self.reduction)\n",
      "/Library/Frameworks/Python.framework/Versions/3.11/lib/python3.11/site-packages/torch/nn/modules/loss.py:535: UserWarning: Using a target size (torch.Size([1, 1])) that is different to the input size (torch.Size([1])). This will likely lead to incorrect results due to broadcasting. Please ensure they have the same size.\n",
      "  return F.mse_loss(input, target, reduction=self.reduction)\n"
     ]
    },
    {
     "name": "stdout",
     "output_type": "stream",
     "text": [
      "action:  [1.]\n",
      "Shares held:  [48.270596]\n",
      "Cash balance:  [[4665.79901431]]\n",
      "Portfolio value:  [[10200.02279418]]\n",
      "num_shares:  [38.323944]\n",
      "current_price:  [[114.78]]\n",
      "buying\n",
      "action:  [1.]\n",
      "Shares held:  [86.59454]\n",
      "Cash balance:  [[266.97671145]]\n",
      "Portfolio value:  [[10206.29840945]]\n",
      "num_shares:  [74.11519]\n",
      "current_price:  [[114.82]]\n",
      "action:  [1.]\n",
      "Shares held:  [86.59454]\n",
      "Cash balance:  [[266.97671145]]\n",
      "Portfolio value:  [[10209.76219119]]\n",
      "num_shares:  [171.53114]\n",
      "current_price:  [[115.72]]\n"
     ]
    },
    {
     "name": "stderr",
     "output_type": "stream",
     "text": [
      "/Library/Frameworks/Python.framework/Versions/3.11/lib/python3.11/site-packages/torch/nn/modules/loss.py:535: UserWarning: Using a target size (torch.Size([1, 1])) that is different to the input size (torch.Size([1])). This will likely lead to incorrect results due to broadcasting. Please ensure they have the same size.\n",
      "  return F.mse_loss(input, target, reduction=self.reduction)\n",
      "/Library/Frameworks/Python.framework/Versions/3.11/lib/python3.11/site-packages/torch/nn/modules/loss.py:535: UserWarning: Using a target size (torch.Size([1, 1])) that is different to the input size (torch.Size([1])). This will likely lead to incorrect results due to broadcasting. Please ensure they have the same size.\n",
      "  return F.mse_loss(input, target, reduction=self.reduction)\n",
      "/Library/Frameworks/Python.framework/Versions/3.11/lib/python3.11/site-packages/torch/nn/modules/loss.py:535: UserWarning: Using a target size (torch.Size([1, 1])) that is different to the input size (torch.Size([1])). This will likely lead to incorrect results due to broadcasting. Please ensure they have the same size.\n",
      "  return F.mse_loss(input, target, reduction=self.reduction)\n"
     ]
    },
    {
     "name": "stdout",
     "output_type": "stream",
     "text": [
      "action:  [1.]\n",
      "Shares held:  [86.59454]\n",
      "Cash balance:  [[266.97671145]]\n",
      "Portfolio value:  [[10287.6972803]]\n",
      "num_shares:  [77.41595]\n",
      "current_price:  [[115.43]]\n",
      "action:  [1.]\n",
      "Shares held:  [86.59454]\n",
      "Cash balance:  [[266.97671145]]\n",
      "Portfolio value:  [[10262.5848627]]\n",
      "num_shares:  [20.93456]\n",
      "current_price:  [[115.39]]\n",
      "action:  [1.]\n",
      "Shares held:  [86.59454]\n",
      "Cash balance:  [[266.97671145]]\n",
      "Portfolio value:  [[10259.12108096]]\n",
      "num_shares:  [94.26167]\n",
      "current_price:  [[115.81]]\n"
     ]
    },
    {
     "name": "stderr",
     "output_type": "stream",
     "text": [
      "/Library/Frameworks/Python.framework/Versions/3.11/lib/python3.11/site-packages/torch/nn/modules/loss.py:535: UserWarning: Using a target size (torch.Size([1, 1])) that is different to the input size (torch.Size([1])). This will likely lead to incorrect results due to broadcasting. Please ensure they have the same size.\n",
      "  return F.mse_loss(input, target, reduction=self.reduction)\n",
      "/Library/Frameworks/Python.framework/Versions/3.11/lib/python3.11/site-packages/torch/nn/modules/loss.py:535: UserWarning: Using a target size (torch.Size([1, 1])) that is different to the input size (torch.Size([1])). This will likely lead to incorrect results due to broadcasting. Please ensure they have the same size.\n",
      "  return F.mse_loss(input, target, reduction=self.reduction)\n",
      "/Library/Frameworks/Python.framework/Versions/3.11/lib/python3.11/site-packages/torch/nn/modules/loss.py:535: UserWarning: Using a target size (torch.Size([1, 1])) that is different to the input size (torch.Size([1])). This will likely lead to incorrect results due to broadcasting. Please ensure they have the same size.\n",
      "  return F.mse_loss(input, target, reduction=self.reduction)\n"
     ]
    },
    {
     "name": "stdout",
     "output_type": "stream",
     "text": [
      "action:  [1.]\n",
      "Shares held:  [86.59454]\n",
      "Cash balance:  [[266.97671145]]\n",
      "Portfolio value:  [[10295.49078921]]\n",
      "num_shares:  [59.923634]\n",
      "current_price:  [[116.01]]\n",
      "action:  [1.]\n",
      "Shares held:  [86.59454]\n",
      "Cash balance:  [[266.97671145]]\n",
      "Portfolio value:  [[10312.8096979]]\n",
      "num_shares:  [82.976654]\n",
      "current_price:  [[116.34]]\n",
      "action:  [1.]\n",
      "Shares held:  [86.59454]\n",
      "Cash balance:  [[266.97671145]]\n",
      "Portfolio value:  [[10341.38589724]]\n",
      "num_shares:  [35.21705]\n",
      "current_price:  [[116.38]]\n"
     ]
    },
    {
     "name": "stderr",
     "output_type": "stream",
     "text": [
      "/Library/Frameworks/Python.framework/Versions/3.11/lib/python3.11/site-packages/torch/nn/modules/loss.py:535: UserWarning: Using a target size (torch.Size([1, 1])) that is different to the input size (torch.Size([1])). This will likely lead to incorrect results due to broadcasting. Please ensure they have the same size.\n",
      "  return F.mse_loss(input, target, reduction=self.reduction)\n",
      "/Library/Frameworks/Python.framework/Versions/3.11/lib/python3.11/site-packages/torch/nn/modules/loss.py:535: UserWarning: Using a target size (torch.Size([1, 1])) that is different to the input size (torch.Size([1])). This will likely lead to incorrect results due to broadcasting. Please ensure they have the same size.\n",
      "  return F.mse_loss(input, target, reduction=self.reduction)\n",
      "/Library/Frameworks/Python.framework/Versions/3.11/lib/python3.11/site-packages/torch/nn/modules/loss.py:535: UserWarning: Using a target size (torch.Size([1, 1])) that is different to the input size (torch.Size([1])). This will likely lead to incorrect results due to broadcasting. Please ensure they have the same size.\n",
      "  return F.mse_loss(input, target, reduction=self.reduction)\n"
     ]
    },
    {
     "name": "stdout",
     "output_type": "stream",
     "text": [
      "action:  [1.]\n",
      "Shares held:  [86.59454]\n",
      "Cash balance:  [[266.97671145]]\n",
      "Portfolio value:  [[10344.84967898]]\n",
      "num_shares:  [60.924854]\n",
      "current_price:  [[116.5]]\n",
      "action:  [1.]\n",
      "Shares held:  [86.59454]\n",
      "Cash balance:  [[266.97671145]]\n",
      "Portfolio value:  [[10355.2410242]]\n",
      "num_shares:  [133.4885]\n",
      "current_price:  [[116.99]]\n",
      "action:  [1.]\n",
      "Shares held:  [86.59454]\n",
      "Cash balance:  [[266.97671145]]\n",
      "Portfolio value:  [[10397.67235049]]\n",
      "num_shares:  [34.473087]\n",
      "current_price:  [[116.86]]\n"
     ]
    },
    {
     "name": "stderr",
     "output_type": "stream",
     "text": [
      "/Library/Frameworks/Python.framework/Versions/3.11/lib/python3.11/site-packages/torch/nn/modules/loss.py:535: UserWarning: Using a target size (torch.Size([1, 1])) that is different to the input size (torch.Size([1])). This will likely lead to incorrect results due to broadcasting. Please ensure they have the same size.\n",
      "  return F.mse_loss(input, target, reduction=self.reduction)\n",
      "/Library/Frameworks/Python.framework/Versions/3.11/lib/python3.11/site-packages/torch/nn/modules/loss.py:535: UserWarning: Using a target size (torch.Size([1, 1])) that is different to the input size (torch.Size([1])). This will likely lead to incorrect results due to broadcasting. Please ensure they have the same size.\n",
      "  return F.mse_loss(input, target, reduction=self.reduction)\n",
      "/Library/Frameworks/Python.framework/Versions/3.11/lib/python3.11/site-packages/torch/nn/modules/loss.py:535: UserWarning: Using a target size (torch.Size([1, 1])) that is different to the input size (torch.Size([1])). This will likely lead to incorrect results due to broadcasting. Please ensure they have the same size.\n",
      "  return F.mse_loss(input, target, reduction=self.reduction)\n"
     ]
    },
    {
     "name": "stdout",
     "output_type": "stream",
     "text": [
      "action:  [1.]\n",
      "Shares held:  [86.59454]\n",
      "Cash balance:  [[266.97671145]]\n",
      "Portfolio value:  [[10386.41505984]]\n",
      "num_shares:  [95.23472]\n",
      "current_price:  [[116.66]]\n",
      "action:  [1.]\n",
      "Shares held:  [86.59454]\n",
      "Cash balance:  [[266.97671145]]\n",
      "Portfolio value:  [[10369.09615115]]\n",
      "num_shares:  [92.240944]\n",
      "current_price:  [[116.32]]\n",
      "action:  [1.]\n",
      "Shares held:  [86.59454]\n",
      "Cash balance:  [[266.97671145]]\n",
      "Portfolio value:  [[10339.65400637]]\n",
      "num_shares:  [62.134384]\n",
      "current_price:  [[115.9745]]\n"
     ]
    },
    {
     "name": "stderr",
     "output_type": "stream",
     "text": [
      "/Library/Frameworks/Python.framework/Versions/3.11/lib/python3.11/site-packages/torch/nn/modules/loss.py:535: UserWarning: Using a target size (torch.Size([1, 1])) that is different to the input size (torch.Size([1])). This will likely lead to incorrect results due to broadcasting. Please ensure they have the same size.\n",
      "  return F.mse_loss(input, target, reduction=self.reduction)\n",
      "/Library/Frameworks/Python.framework/Versions/3.11/lib/python3.11/site-packages/torch/nn/modules/loss.py:535: UserWarning: Using a target size (torch.Size([1, 1])) that is different to the input size (torch.Size([1])). This will likely lead to incorrect results due to broadcasting. Please ensure they have the same size.\n",
      "  return F.mse_loss(input, target, reduction=self.reduction)\n",
      "/Library/Frameworks/Python.framework/Versions/3.11/lib/python3.11/site-packages/torch/nn/modules/loss.py:535: UserWarning: Using a target size (torch.Size([1, 1])) that is different to the input size (torch.Size([1])). This will likely lead to incorrect results due to broadcasting. Please ensure they have the same size.\n",
      "  return F.mse_loss(input, target, reduction=self.reduction)\n"
     ]
    },
    {
     "name": "stdout",
     "output_type": "stream",
     "text": [
      "action:  [1.]\n",
      "Shares held:  [86.59454]\n",
      "Cash balance:  [[266.97671145]]\n",
      "Portfolio value:  [[10309.73559161]]\n",
      "num_shares:  [156.6165]\n",
      "current_price:  [[116.4]]\n",
      "action:  [1.]\n",
      "Shares held:  [86.59454]\n",
      "Cash balance:  [[266.97671145]]\n",
      "Portfolio value:  [[10346.58156985]]\n",
      "num_shares:  [120.51094]\n",
      "current_price:  [[116.06]]\n",
      "action:  [1.]\n",
      "Shares held:  [86.59454]\n",
      "Cash balance:  [[266.97671145]]\n",
      "Portfolio value:  [[10317.13942508]]\n",
      "num_shares:  [114.037]\n",
      "current_price:  [[116.25]]\n"
     ]
    },
    {
     "name": "stderr",
     "output_type": "stream",
     "text": [
      "/Library/Frameworks/Python.framework/Versions/3.11/lib/python3.11/site-packages/torch/nn/modules/loss.py:535: UserWarning: Using a target size (torch.Size([1, 1])) that is different to the input size (torch.Size([1])). This will likely lead to incorrect results due to broadcasting. Please ensure they have the same size.\n",
      "  return F.mse_loss(input, target, reduction=self.reduction)\n",
      "/Library/Frameworks/Python.framework/Versions/3.11/lib/python3.11/site-packages/torch/nn/modules/loss.py:535: UserWarning: Using a target size (torch.Size([1, 1])) that is different to the input size (torch.Size([1])). This will likely lead to incorrect results due to broadcasting. Please ensure they have the same size.\n",
      "  return F.mse_loss(input, target, reduction=self.reduction)\n",
      "/Library/Frameworks/Python.framework/Versions/3.11/lib/python3.11/site-packages/torch/nn/modules/loss.py:535: UserWarning: Using a target size (torch.Size([1, 1])) that is different to the input size (torch.Size([1])). This will likely lead to incorrect results due to broadcasting. Please ensure they have the same size.\n",
      "  return F.mse_loss(input, target, reduction=self.reduction)\n"
     ]
    },
    {
     "name": "stdout",
     "output_type": "stream",
     "text": [
      "action:  [1.]\n",
      "Shares held:  [86.59454]\n",
      "Cash balance:  [[266.97671145]]\n",
      "Portfolio value:  [[10333.59238833]]\n",
      "num_shares:  [140.87622]\n",
      "current_price:  [[116.55]]\n",
      "action:  [1.]\n",
      "Shares held:  [86.59454]\n",
      "Cash balance:  [[266.97671145]]\n",
      "Portfolio value:  [[10359.57075137]]\n",
      "num_shares:  [129.26852]\n",
      "current_price:  [[116.39]]\n",
      "action:  [1.]\n",
      "Shares held:  [86.59454]\n",
      "Cash balance:  [[266.97671145]]\n",
      "Portfolio value:  [[10345.71562442]]\n",
      "num_shares:  [153.62965]\n",
      "current_price:  [[116.1]]\n"
     ]
    },
    {
     "name": "stderr",
     "output_type": "stream",
     "text": [
      "/Library/Frameworks/Python.framework/Versions/3.11/lib/python3.11/site-packages/torch/nn/modules/loss.py:535: UserWarning: Using a target size (torch.Size([1, 1])) that is different to the input size (torch.Size([1])). This will likely lead to incorrect results due to broadcasting. Please ensure they have the same size.\n",
      "  return F.mse_loss(input, target, reduction=self.reduction)\n",
      "/Library/Frameworks/Python.framework/Versions/3.11/lib/python3.11/site-packages/torch/nn/modules/loss.py:535: UserWarning: Using a target size (torch.Size([1, 1])) that is different to the input size (torch.Size([1])). This will likely lead to incorrect results due to broadcasting. Please ensure they have the same size.\n",
      "  return F.mse_loss(input, target, reduction=self.reduction)\n",
      "/Library/Frameworks/Python.framework/Versions/3.11/lib/python3.11/site-packages/torch/nn/modules/loss.py:535: UserWarning: Using a target size (torch.Size([1, 1])) that is different to the input size (torch.Size([1])). This will likely lead to incorrect results due to broadcasting. Please ensure they have the same size.\n",
      "  return F.mse_loss(input, target, reduction=self.reduction)\n"
     ]
    },
    {
     "name": "stdout",
     "output_type": "stream",
     "text": [
      "action:  [1.]\n",
      "Shares held:  [86.59454]\n",
      "Cash balance:  [[266.97671145]]\n",
      "Portfolio value:  [[10320.60320681]]\n",
      "num_shares:  [167.13326]\n",
      "current_price:  [[115.51]]\n",
      "action:  [1.]\n",
      "Shares held:  [86.59454]\n",
      "Cash balance:  [[266.97671145]]\n",
      "Portfolio value:  [[10269.51242617]]\n",
      "num_shares:  [33.335026]\n",
      "current_price:  [[115.06]]\n",
      "action:  [1.]\n",
      "Shares held:  [86.59454]\n",
      "Cash balance:  [[266.97671145]]\n",
      "Portfolio value:  [[10230.54488162]]\n",
      "num_shares:  [123.06868]\n",
      "current_price:  [[115.055]]\n"
     ]
    },
    {
     "name": "stderr",
     "output_type": "stream",
     "text": [
      "/Library/Frameworks/Python.framework/Versions/3.11/lib/python3.11/site-packages/torch/nn/modules/loss.py:535: UserWarning: Using a target size (torch.Size([1, 1])) that is different to the input size (torch.Size([1])). This will likely lead to incorrect results due to broadcasting. Please ensure they have the same size.\n",
      "  return F.mse_loss(input, target, reduction=self.reduction)\n",
      "/Library/Frameworks/Python.framework/Versions/3.11/lib/python3.11/site-packages/torch/nn/modules/loss.py:535: UserWarning: Using a target size (torch.Size([1, 1])) that is different to the input size (torch.Size([1])). This will likely lead to incorrect results due to broadcasting. Please ensure they have the same size.\n",
      "  return F.mse_loss(input, target, reduction=self.reduction)\n",
      "/Library/Frameworks/Python.framework/Versions/3.11/lib/python3.11/site-packages/torch/nn/modules/loss.py:535: UserWarning: Using a target size (torch.Size([1, 1])) that is different to the input size (torch.Size([1])). This will likely lead to incorrect results due to broadcasting. Please ensure they have the same size.\n",
      "  return F.mse_loss(input, target, reduction=self.reduction)\n"
     ]
    },
    {
     "name": "stdout",
     "output_type": "stream",
     "text": [
      "action:  [1.]\n",
      "Shares held:  [86.59454]\n",
      "Cash balance:  [[266.97671145]]\n",
      "Portfolio value:  [[10230.1119089]]\n",
      "num_shares:  [198.6718]\n",
      "current_price:  [[115.685]]\n",
      "action:  [1.]\n",
      "Shares held:  [86.59454]\n",
      "Cash balance:  [[266.97671145]]\n",
      "Portfolio value:  [[10284.66647128]]\n",
      "num_shares:  [127.96617]\n",
      "current_price:  [[115.71]]\n",
      "action:  [1.]\n",
      "Shares held:  [86.59454]\n",
      "Cash balance:  [[266.97671145]]\n",
      "Portfolio value:  [[10286.83133487]]\n",
      "num_shares:  [159.50214]\n",
      "current_price:  [[115.22]]\n"
     ]
    },
    {
     "name": "stderr",
     "output_type": "stream",
     "text": [
      "/Library/Frameworks/Python.framework/Versions/3.11/lib/python3.11/site-packages/torch/nn/modules/loss.py:535: UserWarning: Using a target size (torch.Size([1, 1])) that is different to the input size (torch.Size([1])). This will likely lead to incorrect results due to broadcasting. Please ensure they have the same size.\n",
      "  return F.mse_loss(input, target, reduction=self.reduction)\n",
      "/Library/Frameworks/Python.framework/Versions/3.11/lib/python3.11/site-packages/torch/nn/modules/loss.py:535: UserWarning: Using a target size (torch.Size([1, 1])) that is different to the input size (torch.Size([1])). This will likely lead to incorrect results due to broadcasting. Please ensure they have the same size.\n",
      "  return F.mse_loss(input, target, reduction=self.reduction)\n",
      "/Library/Frameworks/Python.framework/Versions/3.11/lib/python3.11/site-packages/torch/nn/modules/loss.py:535: UserWarning: Using a target size (torch.Size([1, 1])) that is different to the input size (torch.Size([1])). This will likely lead to incorrect results due to broadcasting. Please ensure they have the same size.\n",
      "  return F.mse_loss(input, target, reduction=self.reduction)\n"
     ]
    },
    {
     "name": "stdout",
     "output_type": "stream",
     "text": [
      "action:  [1.]\n",
      "Shares held:  [86.59454]\n",
      "Cash balance:  [[266.97671145]]\n",
      "Portfolio value:  [[10244.40000857]]\n",
      "num_shares:  [138.73549]\n",
      "current_price:  [[115.38]]\n",
      "action:  [1.]\n",
      "Shares held:  [86.59454]\n",
      "Cash balance:  [[266.97671145]]\n",
      "Portfolio value:  [[10258.25513552]]\n",
      "num_shares:  [58.49137]\n",
      "current_price:  [[114.9375]]\n",
      "action:  [1.]\n",
      "Shares held:  [86.59454]\n",
      "Cash balance:  [[266.97671145]]\n",
      "Portfolio value:  [[10219.93705004]]\n",
      "num_shares:  [113.842834]\n",
      "current_price:  [[114.995]]\n"
     ]
    },
    {
     "name": "stderr",
     "output_type": "stream",
     "text": [
      "/Library/Frameworks/Python.framework/Versions/3.11/lib/python3.11/site-packages/torch/nn/modules/loss.py:535: UserWarning: Using a target size (torch.Size([1, 1])) that is different to the input size (torch.Size([1])). This will likely lead to incorrect results due to broadcasting. Please ensure they have the same size.\n",
      "  return F.mse_loss(input, target, reduction=self.reduction)\n",
      "/Library/Frameworks/Python.framework/Versions/3.11/lib/python3.11/site-packages/torch/nn/modules/loss.py:535: UserWarning: Using a target size (torch.Size([1, 1])) that is different to the input size (torch.Size([1])). This will likely lead to incorrect results due to broadcasting. Please ensure they have the same size.\n",
      "  return F.mse_loss(input, target, reduction=self.reduction)\n",
      "/Library/Frameworks/Python.framework/Versions/3.11/lib/python3.11/site-packages/torch/nn/modules/loss.py:535: UserWarning: Using a target size (torch.Size([1, 1])) that is different to the input size (torch.Size([1])). This will likely lead to incorrect results due to broadcasting. Please ensure they have the same size.\n",
      "  return F.mse_loss(input, target, reduction=self.reduction)\n"
     ]
    },
    {
     "name": "stdout",
     "output_type": "stream",
     "text": [
      "action:  [1.]\n",
      "Shares held:  [86.59454]\n",
      "Cash balance:  [[266.97671145]]\n",
      "Portfolio value:  [[10224.91623629]]\n",
      "num_shares:  [20.245554]\n",
      "current_price:  [[114.95]]\n",
      "action:  [1.]\n",
      "Shares held:  [86.59454]\n",
      "Cash balance:  [[266.97671145]]\n",
      "Portfolio value:  [[10221.01948184]]\n",
      "num_shares:  [64.38321]\n",
      "current_price:  [[114.75]]\n",
      "action:  [1.]\n",
      "Shares held:  [86.59454]\n",
      "Cash balance:  [[266.97671145]]\n",
      "Portfolio value:  [[10203.70057315]]\n",
      "num_shares:  [172.05583]\n",
      "current_price:  [[114.755]]\n"
     ]
    },
    {
     "name": "stderr",
     "output_type": "stream",
     "text": [
      "/Library/Frameworks/Python.framework/Versions/3.11/lib/python3.11/site-packages/torch/nn/modules/loss.py:535: UserWarning: Using a target size (torch.Size([1, 1])) that is different to the input size (torch.Size([1])). This will likely lead to incorrect results due to broadcasting. Please ensure they have the same size.\n",
      "  return F.mse_loss(input, target, reduction=self.reduction)\n",
      "/Library/Frameworks/Python.framework/Versions/3.11/lib/python3.11/site-packages/torch/nn/modules/loss.py:535: UserWarning: Using a target size (torch.Size([1, 1])) that is different to the input size (torch.Size([1])). This will likely lead to incorrect results due to broadcasting. Please ensure they have the same size.\n",
      "  return F.mse_loss(input, target, reduction=self.reduction)\n",
      "/Library/Frameworks/Python.framework/Versions/3.11/lib/python3.11/site-packages/torch/nn/modules/loss.py:535: UserWarning: Using a target size (torch.Size([1, 1])) that is different to the input size (torch.Size([1])). This will likely lead to incorrect results due to broadcasting. Please ensure they have the same size.\n",
      "  return F.mse_loss(input, target, reduction=self.reduction)\n"
     ]
    },
    {
     "name": "stdout",
     "output_type": "stream",
     "text": [
      "action:  [1.]\n",
      "Shares held:  [86.59454]\n",
      "Cash balance:  [[266.97671145]]\n",
      "Portfolio value:  [[10204.13354586]]\n",
      "num_shares:  [80.22443]\n",
      "current_price:  [[114.67]]\n",
      "action:  [1.]\n",
      "Shares held:  [86.59454]\n",
      "Cash balance:  [[266.97671145]]\n",
      "Portfolio value:  [[10196.77300967]]\n",
      "num_shares:  [130.77754]\n",
      "current_price:  [[114.5304]]\n",
      "action:  [1.]\n",
      "Shares held:  [86.59454]\n",
      "Cash balance:  [[266.97671145]]\n",
      "Portfolio value:  [[10184.6844114]]\n",
      "num_shares:  [89.329315]\n",
      "current_price:  [[114.46]]\n"
     ]
    },
    {
     "name": "stderr",
     "output_type": "stream",
     "text": [
      "/Library/Frameworks/Python.framework/Versions/3.11/lib/python3.11/site-packages/torch/nn/modules/loss.py:535: UserWarning: Using a target size (torch.Size([1, 1])) that is different to the input size (torch.Size([1])). This will likely lead to incorrect results due to broadcasting. Please ensure they have the same size.\n",
      "  return F.mse_loss(input, target, reduction=self.reduction)\n",
      "/Library/Frameworks/Python.framework/Versions/3.11/lib/python3.11/site-packages/torch/nn/modules/loss.py:535: UserWarning: Using a target size (torch.Size([1, 1])) that is different to the input size (torch.Size([1])). This will likely lead to incorrect results due to broadcasting. Please ensure they have the same size.\n",
      "  return F.mse_loss(input, target, reduction=self.reduction)\n",
      "/Library/Frameworks/Python.framework/Versions/3.11/lib/python3.11/site-packages/torch/nn/modules/loss.py:535: UserWarning: Using a target size (torch.Size([1, 1])) that is different to the input size (torch.Size([1])). This will likely lead to incorrect results due to broadcasting. Please ensure they have the same size.\n",
      "  return F.mse_loss(input, target, reduction=self.reduction)\n"
     ]
    },
    {
     "name": "stdout",
     "output_type": "stream",
     "text": [
      "action:  [1.]\n",
      "Shares held:  [86.59454]\n",
      "Cash balance:  [[266.97671145]]\n",
      "Portfolio value:  [[10178.58815554]]\n",
      "num_shares:  [108.9254]\n",
      "current_price:  [[114.5]]\n",
      "action:  [1.]\n",
      "Shares held:  [86.59454]\n",
      "Cash balance:  [[266.97671145]]\n",
      "Portfolio value:  [[10182.05193728]]\n",
      "num_shares:  [130.21243]\n",
      "current_price:  [[114.5275]]\n",
      "action:  [1.]\n",
      "Shares held:  [86.59454]\n",
      "Cash balance:  [[266.97671145]]\n",
      "Portfolio value:  [[10184.43328723]]\n",
      "num_shares:  [125.86885]\n",
      "current_price:  [[115.03]]\n"
     ]
    },
    {
     "name": "stderr",
     "output_type": "stream",
     "text": [
      "/Library/Frameworks/Python.framework/Versions/3.11/lib/python3.11/site-packages/torch/nn/modules/loss.py:535: UserWarning: Using a target size (torch.Size([1, 1])) that is different to the input size (torch.Size([1])). This will likely lead to incorrect results due to broadcasting. Please ensure they have the same size.\n",
      "  return F.mse_loss(input, target, reduction=self.reduction)\n",
      "/Library/Frameworks/Python.framework/Versions/3.11/lib/python3.11/site-packages/torch/nn/modules/loss.py:535: UserWarning: Using a target size (torch.Size([1, 1])) that is different to the input size (torch.Size([1])). This will likely lead to incorrect results due to broadcasting. Please ensure they have the same size.\n",
      "  return F.mse_loss(input, target, reduction=self.reduction)\n",
      "/Library/Frameworks/Python.framework/Versions/3.11/lib/python3.11/site-packages/torch/nn/modules/loss.py:535: UserWarning: Using a target size (torch.Size([1, 1])) that is different to the input size (torch.Size([1])). This will likely lead to incorrect results due to broadcasting. Please ensure they have the same size.\n",
      "  return F.mse_loss(input, target, reduction=self.reduction)\n"
     ]
    },
    {
     "name": "stdout",
     "output_type": "stream",
     "text": [
      "action:  [1.]\n",
      "Shares held:  [86.59454]\n",
      "Cash balance:  [[266.97671145]]\n",
      "Portfolio value:  [[10227.94704531]]\n",
      "num_shares:  [85.58925]\n",
      "current_price:  [[114.96]]\n",
      "action:  [1.]\n",
      "Shares held:  [86.59454]\n",
      "Cash balance:  [[266.97671145]]\n",
      "Portfolio value:  [[10221.88542727]]\n",
      "num_shares:  [7.4166203]\n",
      "current_price:  [[115.33]]\n"
     ]
    },
    {
     "name": "stderr",
     "output_type": "stream",
     "text": [
      "/Library/Frameworks/Python.framework/Versions/3.11/lib/python3.11/site-packages/torch/nn/modules/loss.py:535: UserWarning: Using a target size (torch.Size([1, 1])) that is different to the input size (torch.Size([1])). This will likely lead to incorrect results due to broadcasting. Please ensure they have the same size.\n",
      "  return F.mse_loss(input, target, reduction=self.reduction)\n",
      "/Library/Frameworks/Python.framework/Versions/3.11/lib/python3.11/site-packages/torch/nn/modules/loss.py:535: UserWarning: Using a target size (torch.Size([1, 1])) that is different to the input size (torch.Size([1])). This will likely lead to incorrect results due to broadcasting. Please ensure they have the same size.\n",
      "  return F.mse_loss(input, target, reduction=self.reduction)\n"
     ]
    },
    {
     "name": "stdout",
     "output_type": "stream",
     "text": [
      "action:  [1.]\n",
      "Shares held:  [86.59454]\n",
      "Cash balance:  [[266.97671145]]\n",
      "Portfolio value:  [[10253.92540835]]\n",
      "num_shares:  [99.76185]\n",
      "current_price:  [[116.11]]\n",
      "action:  [1.]\n",
      "Shares held:  [86.59454]\n",
      "Cash balance:  [[266.97671145]]\n",
      "Portfolio value:  [[10321.46915225]]\n",
      "num_shares:  [28.234026]\n",
      "current_price:  [[115.77]]\n"
     ]
    },
    {
     "name": "stderr",
     "output_type": "stream",
     "text": [
      "/Library/Frameworks/Python.framework/Versions/3.11/lib/python3.11/site-packages/torch/nn/modules/loss.py:535: UserWarning: Using a target size (torch.Size([1, 1])) that is different to the input size (torch.Size([1])). This will likely lead to incorrect results due to broadcasting. Please ensure they have the same size.\n",
      "  return F.mse_loss(input, target, reduction=self.reduction)\n",
      "/Library/Frameworks/Python.framework/Versions/3.11/lib/python3.11/site-packages/torch/nn/modules/loss.py:535: UserWarning: Using a target size (torch.Size([1, 1])) that is different to the input size (torch.Size([1])). This will likely lead to incorrect results due to broadcasting. Please ensure they have the same size.\n",
      "  return F.mse_loss(input, target, reduction=self.reduction)\n"
     ]
    },
    {
     "name": "stdout",
     "output_type": "stream",
     "text": [
      "action:  [1.]\n",
      "Shares held:  [86.59454]\n",
      "Cash balance:  [[266.97671145]]\n",
      "Portfolio value:  [[10292.02700747]]\n",
      "num_shares:  [135.36125]\n",
      "current_price:  [[116.01]]\n",
      "action:  [1.]\n",
      "Shares held:  [86.59454]\n",
      "Cash balance:  [[266.97671145]]\n",
      "Portfolio value:  [[10312.8096979]]\n",
      "num_shares:  [89.12083]\n",
      "current_price:  [[115.96]]\n"
     ]
    },
    {
     "name": "stderr",
     "output_type": "stream",
     "text": [
      "/Library/Frameworks/Python.framework/Versions/3.11/lib/python3.11/site-packages/torch/nn/modules/loss.py:535: UserWarning: Using a target size (torch.Size([1, 1])) that is different to the input size (torch.Size([1])). This will likely lead to incorrect results due to broadcasting. Please ensure they have the same size.\n",
      "  return F.mse_loss(input, target, reduction=self.reduction)\n",
      "/Library/Frameworks/Python.framework/Versions/3.11/lib/python3.11/site-packages/torch/nn/modules/loss.py:535: UserWarning: Using a target size (torch.Size([1, 1])) that is different to the input size (torch.Size([1])). This will likely lead to incorrect results due to broadcasting. Please ensure they have the same size.\n",
      "  return F.mse_loss(input, target, reduction=self.reduction)\n"
     ]
    },
    {
     "name": "stdout",
     "output_type": "stream",
     "text": [
      "action:  [1.]\n",
      "Shares held:  [86.59454]\n",
      "Cash balance:  [[266.97671145]]\n",
      "Portfolio value:  [[10308.47997073]]\n",
      "num_shares:  [51.80884]\n",
      "current_price:  [[115.795]]\n",
      "action:  [1.]\n",
      "Shares held:  [86.59454]\n",
      "Cash balance:  [[266.97671145]]\n",
      "Portfolio value:  [[10294.19187106]]\n",
      "num_shares:  [73.53198]\n",
      "current_price:  [[115.9284]]\n",
      "action:  [1.]\n",
      "Shares held:  [86.59454]\n",
      "Cash balance:  [[266.97671145]]\n",
      "Portfolio value:  [[10305.74358316]]\n",
      "num_shares:  [105.63966]\n",
      "current_price:  [[115.73]]\n"
     ]
    },
    {
     "name": "stderr",
     "output_type": "stream",
     "text": [
      "/Library/Frameworks/Python.framework/Versions/3.11/lib/python3.11/site-packages/torch/nn/modules/loss.py:535: UserWarning: Using a target size (torch.Size([1, 1])) that is different to the input size (torch.Size([1])). This will likely lead to incorrect results due to broadcasting. Please ensure they have the same size.\n",
      "  return F.mse_loss(input, target, reduction=self.reduction)\n",
      "/Library/Frameworks/Python.framework/Versions/3.11/lib/python3.11/site-packages/torch/nn/modules/loss.py:535: UserWarning: Using a target size (torch.Size([1, 1])) that is different to the input size (torch.Size([1])). This will likely lead to incorrect results due to broadcasting. Please ensure they have the same size.\n",
      "  return F.mse_loss(input, target, reduction=self.reduction)\n",
      "/Library/Frameworks/Python.framework/Versions/3.11/lib/python3.11/site-packages/torch/nn/modules/loss.py:535: UserWarning: Using a target size (torch.Size([1, 1])) that is different to the input size (torch.Size([1])). This will likely lead to incorrect results due to broadcasting. Please ensure they have the same size.\n",
      "  return F.mse_loss(input, target, reduction=self.reduction)\n"
     ]
    },
    {
     "name": "stdout",
     "output_type": "stream",
     "text": [
      "action:  [1.]\n",
      "Shares held:  [86.59454]\n",
      "Cash balance:  [[266.97671145]]\n",
      "Portfolio value:  [[10288.56322573]]\n",
      "num_shares:  [100.874374]\n",
      "current_price:  [[115.69]]\n",
      "action:  [1.]\n",
      "Shares held:  [86.59454]\n",
      "Cash balance:  [[266.97671145]]\n",
      "Portfolio value:  [[10285.099444]]\n",
      "num_shares:  [68.1411]\n",
      "current_price:  [[115.36]]\n",
      "action:  [1.]\n",
      "Shares held:  [86.59454]\n",
      "Cash balance:  [[266.97671145]]\n",
      "Portfolio value:  [[10256.52324466]]\n",
      "num_shares:  [21.281109]\n",
      "current_price:  [[115.88]]\n"
     ]
    },
    {
     "name": "stderr",
     "output_type": "stream",
     "text": [
      "/Library/Frameworks/Python.framework/Versions/3.11/lib/python3.11/site-packages/torch/nn/modules/loss.py:535: UserWarning: Using a target size (torch.Size([1, 1])) that is different to the input size (torch.Size([1])). This will likely lead to incorrect results due to broadcasting. Please ensure they have the same size.\n",
      "  return F.mse_loss(input, target, reduction=self.reduction)\n",
      "/Library/Frameworks/Python.framework/Versions/3.11/lib/python3.11/site-packages/torch/nn/modules/loss.py:535: UserWarning: Using a target size (torch.Size([1, 1])) that is different to the input size (torch.Size([1])). This will likely lead to incorrect results due to broadcasting. Please ensure they have the same size.\n",
      "  return F.mse_loss(input, target, reduction=self.reduction)\n",
      "/Library/Frameworks/Python.framework/Versions/3.11/lib/python3.11/site-packages/torch/nn/modules/loss.py:535: UserWarning: Using a target size (torch.Size([1, 1])) that is different to the input size (torch.Size([1])). This will likely lead to incorrect results due to broadcasting. Please ensure they have the same size.\n",
      "  return F.mse_loss(input, target, reduction=self.reduction)\n"
     ]
    },
    {
     "name": "stdout",
     "output_type": "stream",
     "text": [
      "action:  [1.]\n",
      "Shares held:  [86.59454]\n",
      "Cash balance:  [[266.97671145]]\n",
      "Portfolio value:  [[10301.55240725]]\n",
      "num_shares:  [19.160723]\n",
      "current_price:  [[116.295]]\n",
      "action:  [1.]\n",
      "Shares held:  [86.59454]\n",
      "Cash balance:  [[266.97671145]]\n",
      "Portfolio value:  [[10337.48914279]]\n",
      "num_shares:  [77.40829]\n",
      "current_price:  [[115.48]]\n",
      "action:  [1.]\n",
      "Shares held:  [86.59454]\n",
      "Cash balance:  [[266.97671145]]\n",
      "Portfolio value:  [[10266.91458987]]\n",
      "num_shares:  [51.106995]\n",
      "current_price:  [[115.29]]\n"
     ]
    },
    {
     "name": "stderr",
     "output_type": "stream",
     "text": [
      "/Library/Frameworks/Python.framework/Versions/3.11/lib/python3.11/site-packages/torch/nn/modules/loss.py:535: UserWarning: Using a target size (torch.Size([1, 1])) that is different to the input size (torch.Size([1])). This will likely lead to incorrect results due to broadcasting. Please ensure they have the same size.\n",
      "  return F.mse_loss(input, target, reduction=self.reduction)\n",
      "/Library/Frameworks/Python.framework/Versions/3.11/lib/python3.11/site-packages/torch/nn/modules/loss.py:535: UserWarning: Using a target size (torch.Size([1, 1])) that is different to the input size (torch.Size([1])). This will likely lead to incorrect results due to broadcasting. Please ensure they have the same size.\n",
      "  return F.mse_loss(input, target, reduction=self.reduction)\n",
      "/Library/Frameworks/Python.framework/Versions/3.11/lib/python3.11/site-packages/torch/nn/modules/loss.py:535: UserWarning: Using a target size (torch.Size([1, 1])) that is different to the input size (torch.Size([1])). This will likely lead to incorrect results due to broadcasting. Please ensure they have the same size.\n",
      "  return F.mse_loss(input, target, reduction=self.reduction)\n"
     ]
    },
    {
     "name": "stdout",
     "output_type": "stream",
     "text": [
      "action:  [1.]\n",
      "Shares held:  [86.59454]\n",
      "Cash balance:  [[266.97671145]]\n",
      "Portfolio value:  [[10250.46162661]]\n",
      "num_shares:  [95.36173]\n",
      "current_price:  [[115.24]]\n",
      "action:  [1.]\n",
      "Shares held:  [86.59454]\n",
      "Cash balance:  [[266.97671145]]\n",
      "Portfolio value:  [[10246.13189944]]\n",
      "num_shares:  [104.974106]\n",
      "current_price:  [[115.53]]\n"
     ]
    },
    {
     "name": "stderr",
     "output_type": "stream",
     "text": [
      "/Library/Frameworks/Python.framework/Versions/3.11/lib/python3.11/site-packages/torch/nn/modules/loss.py:535: UserWarning: Using a target size (torch.Size([1, 1])) that is different to the input size (torch.Size([1])). This will likely lead to incorrect results due to broadcasting. Please ensure they have the same size.\n",
      "  return F.mse_loss(input, target, reduction=self.reduction)\n",
      "/Library/Frameworks/Python.framework/Versions/3.11/lib/python3.11/site-packages/torch/nn/modules/loss.py:535: UserWarning: Using a target size (torch.Size([1, 1])) that is different to the input size (torch.Size([1])). This will likely lead to incorrect results due to broadcasting. Please ensure they have the same size.\n",
      "  return F.mse_loss(input, target, reduction=self.reduction)\n"
     ]
    },
    {
     "name": "stdout",
     "output_type": "stream",
     "text": [
      "action:  [1.]\n",
      "Shares held:  [86.59454]\n",
      "Cash balance:  [[266.97671145]]\n",
      "Portfolio value:  [[10271.24431704]]\n",
      "num_shares:  [129.00879]\n",
      "current_price:  [[115.71]]\n",
      "action:  [1.]\n",
      "Shares held:  [86.59454]\n",
      "Cash balance:  [[266.97671145]]\n",
      "Portfolio value:  [[10286.83133487]]\n",
      "num_shares:  [31.70182]\n",
      "current_price:  [[115.53]]\n",
      "action:  [1.]\n",
      "Shares held:  [86.59454]\n",
      "Cash balance:  [[266.97671145]]\n",
      "Portfolio value:  [[10271.24431704]]\n",
      "num_shares:  [50.677902]\n",
      "current_price:  [[115.51]]\n"
     ]
    },
    {
     "name": "stderr",
     "output_type": "stream",
     "text": [
      "/Library/Frameworks/Python.framework/Versions/3.11/lib/python3.11/site-packages/torch/nn/modules/loss.py:535: UserWarning: Using a target size (torch.Size([1, 1])) that is different to the input size (torch.Size([1])). This will likely lead to incorrect results due to broadcasting. Please ensure they have the same size.\n",
      "  return F.mse_loss(input, target, reduction=self.reduction)\n",
      "/Library/Frameworks/Python.framework/Versions/3.11/lib/python3.11/site-packages/torch/nn/modules/loss.py:535: UserWarning: Using a target size (torch.Size([1, 1])) that is different to the input size (torch.Size([1])). This will likely lead to incorrect results due to broadcasting. Please ensure they have the same size.\n",
      "  return F.mse_loss(input, target, reduction=self.reduction)\n",
      "/Library/Frameworks/Python.framework/Versions/3.11/lib/python3.11/site-packages/torch/nn/modules/loss.py:535: UserWarning: Using a target size (torch.Size([1, 1])) that is different to the input size (torch.Size([1])). This will likely lead to incorrect results due to broadcasting. Please ensure they have the same size.\n",
      "  return F.mse_loss(input, target, reduction=self.reduction)\n"
     ]
    },
    {
     "name": "stdout",
     "output_type": "stream",
     "text": [
      "action:  [1.]\n",
      "Shares held:  [86.59454]\n",
      "Cash balance:  [[266.97671145]]\n",
      "Portfolio value:  [[10269.51242617]]\n",
      "num_shares:  [21.463083]\n",
      "current_price:  [[115.33]]\n",
      "action:  [1.]\n",
      "Shares held:  [86.59454]\n",
      "Cash balance:  [[266.97671145]]\n",
      "Portfolio value:  [[10253.92540835]]\n",
      "num_shares:  [106.842224]\n",
      "current_price:  [[115.31]]\n",
      "action:  [1.]\n",
      "Shares held:  [86.59454]\n",
      "Cash balance:  [[266.97671145]]\n",
      "Portfolio value:  [[10252.19351748]]\n",
      "num_shares:  [83.546196]\n",
      "current_price:  [[115.01]]\n"
     ]
    },
    {
     "name": "stderr",
     "output_type": "stream",
     "text": [
      "/Library/Frameworks/Python.framework/Versions/3.11/lib/python3.11/site-packages/torch/nn/modules/loss.py:535: UserWarning: Using a target size (torch.Size([1, 1])) that is different to the input size (torch.Size([1])). This will likely lead to incorrect results due to broadcasting. Please ensure they have the same size.\n",
      "  return F.mse_loss(input, target, reduction=self.reduction)\n",
      "/Library/Frameworks/Python.framework/Versions/3.11/lib/python3.11/site-packages/torch/nn/modules/loss.py:535: UserWarning: Using a target size (torch.Size([1, 1])) that is different to the input size (torch.Size([1])). This will likely lead to incorrect results due to broadcasting. Please ensure they have the same size.\n",
      "  return F.mse_loss(input, target, reduction=self.reduction)\n",
      "/Library/Frameworks/Python.framework/Versions/3.11/lib/python3.11/site-packages/torch/nn/modules/loss.py:535: UserWarning: Using a target size (torch.Size([1, 1])) that is different to the input size (torch.Size([1])). This will likely lead to incorrect results due to broadcasting. Please ensure they have the same size.\n",
      "  return F.mse_loss(input, target, reduction=self.reduction)\n"
     ]
    },
    {
     "name": "stdout",
     "output_type": "stream",
     "text": [
      "action:  [1.]\n",
      "Shares held:  [86.59454]\n",
      "Cash balance:  [[266.97671145]]\n",
      "Portfolio value:  [[10226.21515445]]\n",
      "num_shares:  [88.329185]\n",
      "current_price:  [[115.18]]\n",
      "action:  [1.]\n",
      "Shares held:  [86.59454]\n",
      "Cash balance:  [[266.97671145]]\n",
      "Portfolio value:  [[10240.93622683]]\n",
      "num_shares:  [100.02525]\n",
      "current_price:  [[114.78]]\n",
      "action:  [1.]\n",
      "Shares held:  [86.59454]\n",
      "Cash balance:  [[266.97671145]]\n",
      "Portfolio value:  [[10206.29840945]]\n",
      "num_shares:  [46.01345]\n",
      "current_price:  [[115.06]]\n"
     ]
    },
    {
     "name": "stderr",
     "output_type": "stream",
     "text": [
      "/Library/Frameworks/Python.framework/Versions/3.11/lib/python3.11/site-packages/torch/nn/modules/loss.py:535: UserWarning: Using a target size (torch.Size([1, 1])) that is different to the input size (torch.Size([1])). This will likely lead to incorrect results due to broadcasting. Please ensure they have the same size.\n",
      "  return F.mse_loss(input, target, reduction=self.reduction)\n",
      "/Library/Frameworks/Python.framework/Versions/3.11/lib/python3.11/site-packages/torch/nn/modules/loss.py:535: UserWarning: Using a target size (torch.Size([1, 1])) that is different to the input size (torch.Size([1])). This will likely lead to incorrect results due to broadcasting. Please ensure they have the same size.\n",
      "  return F.mse_loss(input, target, reduction=self.reduction)\n",
      "/Library/Frameworks/Python.framework/Versions/3.11/lib/python3.11/site-packages/torch/nn/modules/loss.py:535: UserWarning: Using a target size (torch.Size([1, 1])) that is different to the input size (torch.Size([1])). This will likely lead to incorrect results due to broadcasting. Please ensure they have the same size.\n",
      "  return F.mse_loss(input, target, reduction=self.reduction)\n"
     ]
    },
    {
     "name": "stdout",
     "output_type": "stream",
     "text": [
      "action:  [1.]\n",
      "Shares held:  [86.59454]\n",
      "Cash balance:  [[266.97671145]]\n",
      "Portfolio value:  [[10230.54488162]]\n",
      "num_shares:  [113.43239]\n",
      "current_price:  [[114.99]]\n",
      "action:  [1.]\n",
      "Shares held:  [86.59454]\n",
      "Cash balance:  [[266.97671145]]\n",
      "Portfolio value:  [[10224.48326358]]\n",
      "num_shares:  [68.88014]\n",
      "current_price:  [[115.0964]]\n",
      "action:  [1.]\n",
      "Shares held:  [86.59454]\n",
      "Cash balance:  [[266.97671145]]\n",
      "Portfolio value:  [[10233.696923]]\n",
      "num_shares:  [124.03847]\n",
      "current_price:  [[114.9231]]\n"
     ]
    },
    {
     "name": "stderr",
     "output_type": "stream",
     "text": [
      "/Library/Frameworks/Python.framework/Versions/3.11/lib/python3.11/site-packages/torch/nn/modules/loss.py:535: UserWarning: Using a target size (torch.Size([1, 1])) that is different to the input size (torch.Size([1])). This will likely lead to incorrect results due to broadcasting. Please ensure they have the same size.\n",
      "  return F.mse_loss(input, target, reduction=self.reduction)\n",
      "/Library/Frameworks/Python.framework/Versions/3.11/lib/python3.11/site-packages/torch/nn/modules/loss.py:535: UserWarning: Using a target size (torch.Size([1, 1])) that is different to the input size (torch.Size([1])). This will likely lead to incorrect results due to broadcasting. Please ensure they have the same size.\n",
      "  return F.mse_loss(input, target, reduction=self.reduction)\n",
      "/Library/Frameworks/Python.framework/Versions/3.11/lib/python3.11/site-packages/torch/nn/modules/loss.py:535: UserWarning: Using a target size (torch.Size([1, 1])) that is different to the input size (torch.Size([1])). This will likely lead to incorrect results due to broadcasting. Please ensure they have the same size.\n",
      "  return F.mse_loss(input, target, reduction=self.reduction)\n"
     ]
    },
    {
     "name": "stdout",
     "output_type": "stream",
     "text": [
      "action:  [1.]\n",
      "Shares held:  [86.59454]\n",
      "Cash balance:  [[266.97671145]]\n",
      "Portfolio value:  [[10218.69008862]]\n",
      "num_shares:  [136.67064]\n",
      "current_price:  [[115.]]\n",
      "action:  [1.]\n",
      "Shares held:  [86.59454]\n",
      "Cash balance:  [[266.97671145]]\n",
      "Portfolio value:  [[10225.34920901]]\n",
      "num_shares:  [129.12799]\n",
      "current_price:  [[115.07]]\n",
      "action:  [1.]\n",
      "Shares held:  [86.59454]\n",
      "Cash balance:  [[266.97671145]]\n",
      "Portfolio value:  [[10231.41082705]]\n",
      "num_shares:  [133.43732]\n",
      "current_price:  [[115.1]]\n"
     ]
    },
    {
     "name": "stderr",
     "output_type": "stream",
     "text": [
      "/Library/Frameworks/Python.framework/Versions/3.11/lib/python3.11/site-packages/torch/nn/modules/loss.py:535: UserWarning: Using a target size (torch.Size([1, 1])) that is different to the input size (torch.Size([1])). This will likely lead to incorrect results due to broadcasting. Please ensure they have the same size.\n",
      "  return F.mse_loss(input, target, reduction=self.reduction)\n",
      "/Library/Frameworks/Python.framework/Versions/3.11/lib/python3.11/site-packages/torch/nn/modules/loss.py:535: UserWarning: Using a target size (torch.Size([1, 1])) that is different to the input size (torch.Size([1])). This will likely lead to incorrect results due to broadcasting. Please ensure they have the same size.\n",
      "  return F.mse_loss(input, target, reduction=self.reduction)\n",
      "/Library/Frameworks/Python.framework/Versions/3.11/lib/python3.11/site-packages/torch/nn/modules/loss.py:535: UserWarning: Using a target size (torch.Size([1, 1])) that is different to the input size (torch.Size([1])). This will likely lead to incorrect results due to broadcasting. Please ensure they have the same size.\n",
      "  return F.mse_loss(input, target, reduction=self.reduction)\n"
     ]
    },
    {
     "name": "stdout",
     "output_type": "stream",
     "text": [
      "action:  [1.]\n",
      "Shares held:  [86.59454]\n",
      "Cash balance:  [[266.97671145]]\n",
      "Portfolio value:  [[10234.00866336]]\n",
      "num_shares:  [108.280045]\n",
      "current_price:  [[115.4]]\n",
      "action:  [1.]\n",
      "Shares held:  [86.59454]\n",
      "Cash balance:  [[266.97671145]]\n",
      "Portfolio value:  [[10259.98702639]]\n",
      "num_shares:  [139.5859]\n",
      "current_price:  [[115.415]]\n",
      "action:  [1.]\n",
      "Shares held:  [86.59454]\n",
      "Cash balance:  [[266.97671145]]\n",
      "Portfolio value:  [[10261.28594455]]\n",
      "num_shares:  [104.745865]\n",
      "current_price:  [[115.735]]\n"
     ]
    },
    {
     "name": "stderr",
     "output_type": "stream",
     "text": [
      "/Library/Frameworks/Python.framework/Versions/3.11/lib/python3.11/site-packages/torch/nn/modules/loss.py:535: UserWarning: Using a target size (torch.Size([1, 1])) that is different to the input size (torch.Size([1])). This will likely lead to incorrect results due to broadcasting. Please ensure they have the same size.\n",
      "  return F.mse_loss(input, target, reduction=self.reduction)\n",
      "/Library/Frameworks/Python.framework/Versions/3.11/lib/python3.11/site-packages/torch/nn/modules/loss.py:535: UserWarning: Using a target size (torch.Size([1, 1])) that is different to the input size (torch.Size([1])). This will likely lead to incorrect results due to broadcasting. Please ensure they have the same size.\n",
      "  return F.mse_loss(input, target, reduction=self.reduction)\n",
      "/Library/Frameworks/Python.framework/Versions/3.11/lib/python3.11/site-packages/torch/nn/modules/loss.py:535: UserWarning: Using a target size (torch.Size([1, 1])) that is different to the input size (torch.Size([1])). This will likely lead to incorrect results due to broadcasting. Please ensure they have the same size.\n",
      "  return F.mse_loss(input, target, reduction=self.reduction)\n"
     ]
    },
    {
     "name": "stdout",
     "output_type": "stream",
     "text": [
      "action:  [1.]\n",
      "Shares held:  [86.59454]\n",
      "Cash balance:  [[266.97671145]]\n",
      "Portfolio value:  [[10288.99619845]]\n",
      "num_shares:  [131.20497]\n",
      "current_price:  [[115.83]]\n",
      "action:  [1.]\n",
      "Shares held:  [86.59454]\n",
      "Cash balance:  [[266.97671145]]\n",
      "Portfolio value:  [[10297.22268008]]\n",
      "num_shares:  [79.785866]\n",
      "current_price:  [[115.77]]\n",
      "action:  [1.]\n",
      "Shares held:  [86.59454]\n",
      "Cash balance:  [[266.97671145]]\n",
      "Portfolio value:  [[10292.02700747]]\n",
      "num_shares:  [127.27011]\n",
      "current_price:  [[116.02]]\n"
     ]
    },
    {
     "name": "stderr",
     "output_type": "stream",
     "text": [
      "/Library/Frameworks/Python.framework/Versions/3.11/lib/python3.11/site-packages/torch/nn/modules/loss.py:535: UserWarning: Using a target size (torch.Size([1, 1])) that is different to the input size (torch.Size([1])). This will likely lead to incorrect results due to broadcasting. Please ensure they have the same size.\n",
      "  return F.mse_loss(input, target, reduction=self.reduction)\n",
      "/Library/Frameworks/Python.framework/Versions/3.11/lib/python3.11/site-packages/torch/nn/modules/loss.py:535: UserWarning: Using a target size (torch.Size([1, 1])) that is different to the input size (torch.Size([1])). This will likely lead to incorrect results due to broadcasting. Please ensure they have the same size.\n",
      "  return F.mse_loss(input, target, reduction=self.reduction)\n",
      "/Library/Frameworks/Python.framework/Versions/3.11/lib/python3.11/site-packages/torch/nn/modules/loss.py:535: UserWarning: Using a target size (torch.Size([1, 1])) that is different to the input size (torch.Size([1])). This will likely lead to incorrect results due to broadcasting. Please ensure they have the same size.\n",
      "  return F.mse_loss(input, target, reduction=self.reduction)\n"
     ]
    },
    {
     "name": "stdout",
     "output_type": "stream",
     "text": [
      "action:  [1.]\n",
      "Shares held:  [86.59454]\n",
      "Cash balance:  [[266.97671145]]\n",
      "Portfolio value:  [[10313.67564334]]\n",
      "num_shares:  [125.69476]\n",
      "current_price:  [[115.415]]\n",
      "action:  [1.]\n",
      "Shares held:  [86.59454]\n",
      "Cash balance:  [[266.97671145]]\n",
      "Portfolio value:  [[10261.28594455]]\n",
      "num_shares:  [123.158066]\n",
      "current_price:  [[115.36]]\n",
      "action:  [1.]\n",
      "Shares held:  [86.59454]\n",
      "Cash balance:  [[266.97671145]]\n",
      "Portfolio value:  [[10256.52324466]]\n",
      "num_shares:  [105.85974]\n",
      "current_price:  [[115.35]]\n"
     ]
    },
    {
     "name": "stderr",
     "output_type": "stream",
     "text": [
      "/Library/Frameworks/Python.framework/Versions/3.11/lib/python3.11/site-packages/torch/nn/modules/loss.py:535: UserWarning: Using a target size (torch.Size([1, 1])) that is different to the input size (torch.Size([1])). This will likely lead to incorrect results due to broadcasting. Please ensure they have the same size.\n",
      "  return F.mse_loss(input, target, reduction=self.reduction)\n",
      "/Library/Frameworks/Python.framework/Versions/3.11/lib/python3.11/site-packages/torch/nn/modules/loss.py:535: UserWarning: Using a target size (torch.Size([1, 1])) that is different to the input size (torch.Size([1])). This will likely lead to incorrect results due to broadcasting. Please ensure they have the same size.\n",
      "  return F.mse_loss(input, target, reduction=self.reduction)\n",
      "/Library/Frameworks/Python.framework/Versions/3.11/lib/python3.11/site-packages/torch/nn/modules/loss.py:535: UserWarning: Using a target size (torch.Size([1, 1])) that is different to the input size (torch.Size([1])). This will likely lead to incorrect results due to broadcasting. Please ensure they have the same size.\n",
      "  return F.mse_loss(input, target, reduction=self.reduction)\n"
     ]
    },
    {
     "name": "stdout",
     "output_type": "stream",
     "text": [
      "action:  [1.]\n",
      "Shares held:  [86.59454]\n",
      "Cash balance:  [[266.97671145]]\n",
      "Portfolio value:  [[10255.65729922]]\n",
      "num_shares:  [58.19412]\n",
      "current_price:  [[115.68]]\n",
      "action:  [1.]\n",
      "Shares held:  [86.59454]\n",
      "Cash balance:  [[266.97671145]]\n",
      "Portfolio value:  [[10284.23349856]]\n",
      "num_shares:  [18.294165]\n",
      "current_price:  [[115.5]]\n",
      "action:  [1.]\n",
      "Shares held:  [86.59454]\n",
      "Cash balance:  [[266.97671145]]\n",
      "Portfolio value:  [[10268.64648074]]\n",
      "num_shares:  [98.01976]\n",
      "current_price:  [[115.77]]\n"
     ]
    },
    {
     "name": "stderr",
     "output_type": "stream",
     "text": [
      "/Library/Frameworks/Python.framework/Versions/3.11/lib/python3.11/site-packages/torch/nn/modules/loss.py:535: UserWarning: Using a target size (torch.Size([1, 1])) that is different to the input size (torch.Size([1])). This will likely lead to incorrect results due to broadcasting. Please ensure they have the same size.\n",
      "  return F.mse_loss(input, target, reduction=self.reduction)\n",
      "/Library/Frameworks/Python.framework/Versions/3.11/lib/python3.11/site-packages/torch/nn/modules/loss.py:535: UserWarning: Using a target size (torch.Size([1, 1])) that is different to the input size (torch.Size([1])). This will likely lead to incorrect results due to broadcasting. Please ensure they have the same size.\n",
      "  return F.mse_loss(input, target, reduction=self.reduction)\n",
      "/Library/Frameworks/Python.framework/Versions/3.11/lib/python3.11/site-packages/torch/nn/modules/loss.py:535: UserWarning: Using a target size (torch.Size([1, 1])) that is different to the input size (torch.Size([1])). This will likely lead to incorrect results due to broadcasting. Please ensure they have the same size.\n",
      "  return F.mse_loss(input, target, reduction=self.reduction)\n"
     ]
    },
    {
     "name": "stdout",
     "output_type": "stream",
     "text": [
      "action:  [1.]\n",
      "Shares held:  [86.59454]\n",
      "Cash balance:  [[266.97671145]]\n",
      "Portfolio value:  [[10292.02700747]]\n",
      "num_shares:  [117.70375]\n",
      "current_price:  [[115.525]]\n",
      "action:  [1.]\n",
      "Shares held:  [86.59454]\n",
      "Cash balance:  [[266.97671145]]\n",
      "Portfolio value:  [[10270.81134433]]\n",
      "num_shares:  [114.54403]\n",
      "current_price:  [[115.535]]\n",
      "action:  [1.]\n",
      "Shares held:  [86.59454]\n",
      "Cash balance:  [[266.97671145]]\n",
      "Portfolio value:  [[10271.67728976]]\n",
      "num_shares:  [59.564877]\n",
      "current_price:  [[115.86]]\n"
     ]
    },
    {
     "name": "stderr",
     "output_type": "stream",
     "text": [
      "/Library/Frameworks/Python.framework/Versions/3.11/lib/python3.11/site-packages/torch/nn/modules/loss.py:535: UserWarning: Using a target size (torch.Size([1, 1])) that is different to the input size (torch.Size([1])). This will likely lead to incorrect results due to broadcasting. Please ensure they have the same size.\n",
      "  return F.mse_loss(input, target, reduction=self.reduction)\n",
      "/Library/Frameworks/Python.framework/Versions/3.11/lib/python3.11/site-packages/torch/nn/modules/loss.py:535: UserWarning: Using a target size (torch.Size([1, 1])) that is different to the input size (torch.Size([1])). This will likely lead to incorrect results due to broadcasting. Please ensure they have the same size.\n",
      "  return F.mse_loss(input, target, reduction=self.reduction)\n",
      "/Library/Frameworks/Python.framework/Versions/3.11/lib/python3.11/site-packages/torch/nn/modules/loss.py:535: UserWarning: Using a target size (torch.Size([1, 1])) that is different to the input size (torch.Size([1])). This will likely lead to incorrect results due to broadcasting. Please ensure they have the same size.\n",
      "  return F.mse_loss(input, target, reduction=self.reduction)\n"
     ]
    },
    {
     "name": "stdout",
     "output_type": "stream",
     "text": [
      "action:  [1.]\n",
      "Shares held:  [86.59454]\n",
      "Cash balance:  [[266.97671145]]\n",
      "Portfolio value:  [[10299.82051638]]\n",
      "num_shares:  [127.02641]\n",
      "current_price:  [[115.905]]\n",
      "action:  [1.]\n",
      "Shares held:  [86.59454]\n",
      "Cash balance:  [[266.97671145]]\n",
      "Portfolio value:  [[10303.71727084]]\n",
      "num_shares:  [24.66715]\n",
      "current_price:  [[115.79]]\n",
      "action:  [1.]\n",
      "Shares held:  [86.59454]\n",
      "Cash balance:  [[266.97671145]]\n",
      "Portfolio value:  [[10293.75889834]]\n",
      "num_shares:  [105.846756]\n",
      "current_price:  [[116.]]\n"
     ]
    },
    {
     "name": "stderr",
     "output_type": "stream",
     "text": [
      "/Library/Frameworks/Python.framework/Versions/3.11/lib/python3.11/site-packages/torch/nn/modules/loss.py:535: UserWarning: Using a target size (torch.Size([1, 1])) that is different to the input size (torch.Size([1])). This will likely lead to incorrect results due to broadcasting. Please ensure they have the same size.\n",
      "  return F.mse_loss(input, target, reduction=self.reduction)\n",
      "/Library/Frameworks/Python.framework/Versions/3.11/lib/python3.11/site-packages/torch/nn/modules/loss.py:535: UserWarning: Using a target size (torch.Size([1, 1])) that is different to the input size (torch.Size([1])). This will likely lead to incorrect results due to broadcasting. Please ensure they have the same size.\n",
      "  return F.mse_loss(input, target, reduction=self.reduction)\n",
      "/Library/Frameworks/Python.framework/Versions/3.11/lib/python3.11/site-packages/torch/nn/modules/loss.py:535: UserWarning: Using a target size (torch.Size([1, 1])) that is different to the input size (torch.Size([1])). This will likely lead to incorrect results due to broadcasting. Please ensure they have the same size.\n",
      "  return F.mse_loss(input, target, reduction=self.reduction)\n"
     ]
    },
    {
     "name": "stdout",
     "output_type": "stream",
     "text": [
      "action:  [1.]\n",
      "Shares held:  [86.59454]\n",
      "Cash balance:  [[266.97671145]]\n",
      "Portfolio value:  [[10311.94375247]]\n",
      "num_shares:  [89.085106]\n",
      "current_price:  [[116.16]]\n",
      "action:  [1.]\n",
      "Shares held:  [86.59454]\n",
      "Cash balance:  [[266.97671145]]\n",
      "Portfolio value:  [[10325.79887942]]\n",
      "num_shares:  [56.71798]\n",
      "current_price:  [[116.25]]\n",
      "action:  [1.]\n",
      "Shares held:  [86.59454]\n",
      "Cash balance:  [[266.97671145]]\n",
      "Portfolio value:  [[10333.59238833]]\n",
      "num_shares:  [158.32185]\n",
      "current_price:  [[115.69]]\n"
     ]
    },
    {
     "name": "stderr",
     "output_type": "stream",
     "text": [
      "/Library/Frameworks/Python.framework/Versions/3.11/lib/python3.11/site-packages/torch/nn/modules/loss.py:535: UserWarning: Using a target size (torch.Size([1, 1])) that is different to the input size (torch.Size([1])). This will likely lead to incorrect results due to broadcasting. Please ensure they have the same size.\n",
      "  return F.mse_loss(input, target, reduction=self.reduction)\n",
      "/Library/Frameworks/Python.framework/Versions/3.11/lib/python3.11/site-packages/torch/nn/modules/loss.py:535: UserWarning: Using a target size (torch.Size([1, 1])) that is different to the input size (torch.Size([1])). This will likely lead to incorrect results due to broadcasting. Please ensure they have the same size.\n",
      "  return F.mse_loss(input, target, reduction=self.reduction)\n",
      "/Library/Frameworks/Python.framework/Versions/3.11/lib/python3.11/site-packages/torch/nn/modules/loss.py:535: UserWarning: Using a target size (torch.Size([1, 1])) that is different to the input size (torch.Size([1])). This will likely lead to incorrect results due to broadcasting. Please ensure they have the same size.\n",
      "  return F.mse_loss(input, target, reduction=self.reduction)\n"
     ]
    },
    {
     "name": "stdout",
     "output_type": "stream",
     "text": [
      "action:  [1.]\n",
      "Shares held:  [86.59454]\n",
      "Cash balance:  [[266.97671145]]\n",
      "Portfolio value:  [[10285.099444]]\n",
      "num_shares:  [88.86728]\n",
      "current_price:  [[115.12]]\n",
      "action:  [1.]\n",
      "Shares held:  [86.59454]\n",
      "Cash balance:  [[266.97671145]]\n",
      "Portfolio value:  [[10235.74055423]]\n",
      "num_shares:  [136.77295]\n",
      "current_price:  [[115.13]]\n",
      "action:  [1.]\n",
      "Shares held:  [86.59454]\n",
      "Cash balance:  [[266.97671145]]\n",
      "Portfolio value:  [[10236.60649966]]\n",
      "num_shares:  [115.00359]\n",
      "current_price:  [[114.94]]\n"
     ]
    },
    {
     "name": "stderr",
     "output_type": "stream",
     "text": [
      "/Library/Frameworks/Python.framework/Versions/3.11/lib/python3.11/site-packages/torch/nn/modules/loss.py:535: UserWarning: Using a target size (torch.Size([1, 1])) that is different to the input size (torch.Size([1])). This will likely lead to incorrect results due to broadcasting. Please ensure they have the same size.\n",
      "  return F.mse_loss(input, target, reduction=self.reduction)\n",
      "/Library/Frameworks/Python.framework/Versions/3.11/lib/python3.11/site-packages/torch/nn/modules/loss.py:535: UserWarning: Using a target size (torch.Size([1, 1])) that is different to the input size (torch.Size([1])). This will likely lead to incorrect results due to broadcasting. Please ensure they have the same size.\n",
      "  return F.mse_loss(input, target, reduction=self.reduction)\n",
      "/Library/Frameworks/Python.framework/Versions/3.11/lib/python3.11/site-packages/torch/nn/modules/loss.py:535: UserWarning: Using a target size (torch.Size([1, 1])) that is different to the input size (torch.Size([1])). This will likely lead to incorrect results due to broadcasting. Please ensure they have the same size.\n",
      "  return F.mse_loss(input, target, reduction=self.reduction)\n"
     ]
    },
    {
     "name": "stdout",
     "output_type": "stream",
     "text": [
      "action:  [1.]\n",
      "Shares held:  [86.59454]\n",
      "Cash balance:  [[266.97671145]]\n",
      "Portfolio value:  [[10220.1535364]]\n",
      "num_shares:  [152.45665]\n",
      "current_price:  [[114.91]]\n",
      "action:  [1.]\n",
      "Shares held:  [86.59454]\n",
      "Cash balance:  [[266.97671145]]\n",
      "Portfolio value:  [[10217.5557001]]\n",
      "num_shares:  [116.138115]\n",
      "current_price:  [[115.07]]\n",
      "action:  [1.]\n",
      "Shares held:  [86.59454]\n",
      "Cash balance:  [[266.97671145]]\n",
      "Portfolio value:  [[10231.41082705]]\n",
      "num_shares:  [116.8084]\n",
      "current_price:  [[114.74]]\n"
     ]
    },
    {
     "name": "stderr",
     "output_type": "stream",
     "text": [
      "/Library/Frameworks/Python.framework/Versions/3.11/lib/python3.11/site-packages/torch/nn/modules/loss.py:535: UserWarning: Using a target size (torch.Size([1, 1])) that is different to the input size (torch.Size([1])). This will likely lead to incorrect results due to broadcasting. Please ensure they have the same size.\n",
      "  return F.mse_loss(input, target, reduction=self.reduction)\n",
      "/Library/Frameworks/Python.framework/Versions/3.11/lib/python3.11/site-packages/torch/nn/modules/loss.py:535: UserWarning: Using a target size (torch.Size([1, 1])) that is different to the input size (torch.Size([1])). This will likely lead to incorrect results due to broadcasting. Please ensure they have the same size.\n",
      "  return F.mse_loss(input, target, reduction=self.reduction)\n",
      "/Library/Frameworks/Python.framework/Versions/3.11/lib/python3.11/site-packages/torch/nn/modules/loss.py:535: UserWarning: Using a target size (torch.Size([1, 1])) that is different to the input size (torch.Size([1])). This will likely lead to incorrect results due to broadcasting. Please ensure they have the same size.\n",
      "  return F.mse_loss(input, target, reduction=self.reduction)\n"
     ]
    },
    {
     "name": "stdout",
     "output_type": "stream",
     "text": [
      "action:  [1.]\n",
      "Shares held:  [86.59454]\n",
      "Cash balance:  [[266.97671145]]\n",
      "Portfolio value:  [[10202.83462771]]\n",
      "num_shares:  [81.93202]\n",
      "current_price:  [[114.75]]\n",
      "action:  [1.]\n",
      "Shares held:  [86.59454]\n",
      "Cash balance:  [[266.97671145]]\n",
      "Portfolio value:  [[10203.70057315]]\n",
      "num_shares:  [120.68138]\n",
      "current_price:  [[114.8173]]\n",
      "action:  [1.]\n",
      "Shares held:  [86.59454]\n",
      "Cash balance:  [[266.97671145]]\n",
      "Portfolio value:  [[10209.52838592]]\n",
      "num_shares:  [124.77052]\n",
      "current_price:  [[114.9]]\n"
     ]
    },
    {
     "name": "stderr",
     "output_type": "stream",
     "text": [
      "/Library/Frameworks/Python.framework/Versions/3.11/lib/python3.11/site-packages/torch/nn/modules/loss.py:535: UserWarning: Using a target size (torch.Size([1, 1])) that is different to the input size (torch.Size([1])). This will likely lead to incorrect results due to broadcasting. Please ensure they have the same size.\n",
      "  return F.mse_loss(input, target, reduction=self.reduction)\n",
      "/Library/Frameworks/Python.framework/Versions/3.11/lib/python3.11/site-packages/torch/nn/modules/loss.py:535: UserWarning: Using a target size (torch.Size([1, 1])) that is different to the input size (torch.Size([1])). This will likely lead to incorrect results due to broadcasting. Please ensure they have the same size.\n",
      "  return F.mse_loss(input, target, reduction=self.reduction)\n",
      "/Library/Frameworks/Python.framework/Versions/3.11/lib/python3.11/site-packages/torch/nn/modules/loss.py:535: UserWarning: Using a target size (torch.Size([1, 1])) that is different to the input size (torch.Size([1])). This will likely lead to incorrect results due to broadcasting. Please ensure they have the same size.\n",
      "  return F.mse_loss(input, target, reduction=self.reduction)\n"
     ]
    },
    {
     "name": "stdout",
     "output_type": "stream",
     "text": [
      "action:  [1.]\n",
      "Shares held:  [86.59454]\n",
      "Cash balance:  [[266.97671145]]\n",
      "Portfolio value:  [[10216.68975467]]\n",
      "num_shares:  [105.56979]\n",
      "current_price:  [[114.79]]\n",
      "action:  [1.]\n",
      "Shares held:  [86.59454]\n",
      "Cash balance:  [[266.97671145]]\n",
      "Portfolio value:  [[10207.16435488]]\n",
      "num_shares:  [50.82698]\n",
      "current_price:  [[114.8]]\n",
      "action:  [1.]\n",
      "Shares held:  [86.59454]\n",
      "Cash balance:  [[266.97671145]]\n",
      "Portfolio value:  [[10208.03030032]]\n",
      "num_shares:  [110.36369]\n",
      "current_price:  [[115.08]]\n"
     ]
    },
    {
     "name": "stderr",
     "output_type": "stream",
     "text": [
      "/Library/Frameworks/Python.framework/Versions/3.11/lib/python3.11/site-packages/torch/nn/modules/loss.py:535: UserWarning: Using a target size (torch.Size([1, 1])) that is different to the input size (torch.Size([1])). This will likely lead to incorrect results due to broadcasting. Please ensure they have the same size.\n",
      "  return F.mse_loss(input, target, reduction=self.reduction)\n",
      "/Library/Frameworks/Python.framework/Versions/3.11/lib/python3.11/site-packages/torch/nn/modules/loss.py:535: UserWarning: Using a target size (torch.Size([1, 1])) that is different to the input size (torch.Size([1])). This will likely lead to incorrect results due to broadcasting. Please ensure they have the same size.\n",
      "  return F.mse_loss(input, target, reduction=self.reduction)\n",
      "/Library/Frameworks/Python.framework/Versions/3.11/lib/python3.11/site-packages/torch/nn/modules/loss.py:535: UserWarning: Using a target size (torch.Size([1, 1])) that is different to the input size (torch.Size([1])). This will likely lead to incorrect results due to broadcasting. Please ensure they have the same size.\n",
      "  return F.mse_loss(input, target, reduction=self.reduction)\n"
     ]
    },
    {
     "name": "stdout",
     "output_type": "stream",
     "text": [
      "action:  [1.]\n",
      "Shares held:  [86.59454]\n",
      "Cash balance:  [[266.97671145]]\n",
      "Portfolio value:  [[10232.27677249]]\n",
      "num_shares:  [100.32929]\n",
      "current_price:  [[115.12]]\n",
      "action:  [1.]\n",
      "Shares held:  [86.59454]\n",
      "Cash balance:  [[266.97671145]]\n",
      "Portfolio value:  [[10235.74055423]]\n",
      "num_shares:  [48.15712]\n",
      "current_price:  [[115.45]]\n"
     ]
    },
    {
     "name": "stderr",
     "output_type": "stream",
     "text": [
      "/Library/Frameworks/Python.framework/Versions/3.11/lib/python3.11/site-packages/torch/nn/modules/loss.py:535: UserWarning: Using a target size (torch.Size([1, 1])) that is different to the input size (torch.Size([1])). This will likely lead to incorrect results due to broadcasting. Please ensure they have the same size.\n",
      "  return F.mse_loss(input, target, reduction=self.reduction)\n",
      "/Library/Frameworks/Python.framework/Versions/3.11/lib/python3.11/site-packages/torch/nn/modules/loss.py:535: UserWarning: Using a target size (torch.Size([1, 1])) that is different to the input size (torch.Size([1])). This will likely lead to incorrect results due to broadcasting. Please ensure they have the same size.\n",
      "  return F.mse_loss(input, target, reduction=self.reduction)\n"
     ]
    },
    {
     "name": "stdout",
     "output_type": "stream",
     "text": [
      "action:  [1.]\n",
      "Shares held:  [86.59454]\n",
      "Cash balance:  [[266.97671145]]\n",
      "Portfolio value:  [[10264.31675357]]\n",
      "num_shares:  [74.60663]\n",
      "current_price:  [[115.67]]\n",
      "action:  [1.]\n",
      "Shares held:  [86.59454]\n",
      "Cash balance:  [[266.97671145]]\n",
      "Portfolio value:  [[10283.36755313]]\n",
      "num_shares:  [89.98848]\n",
      "current_price:  [[116.28]]\n",
      "action:  [1.]\n",
      "Shares held:  [86.59454]\n",
      "Cash balance:  [[266.97671145]]\n",
      "Portfolio value:  [[10336.19022464]]\n",
      "num_shares:  [43.781273]\n",
      "current_price:  [[116.5001]]\n"
     ]
    },
    {
     "name": "stderr",
     "output_type": "stream",
     "text": [
      "/Library/Frameworks/Python.framework/Versions/3.11/lib/python3.11/site-packages/torch/nn/modules/loss.py:535: UserWarning: Using a target size (torch.Size([1, 1])) that is different to the input size (torch.Size([1])). This will likely lead to incorrect results due to broadcasting. Please ensure they have the same size.\n",
      "  return F.mse_loss(input, target, reduction=self.reduction)\n",
      "/Library/Frameworks/Python.framework/Versions/3.11/lib/python3.11/site-packages/torch/nn/modules/loss.py:535: UserWarning: Using a target size (torch.Size([1, 1])) that is different to the input size (torch.Size([1])). This will likely lead to incorrect results due to broadcasting. Please ensure they have the same size.\n",
      "  return F.mse_loss(input, target, reduction=self.reduction)\n",
      "/Library/Frameworks/Python.framework/Versions/3.11/lib/python3.11/site-packages/torch/nn/modules/loss.py:535: UserWarning: Using a target size (torch.Size([1, 1])) that is different to the input size (torch.Size([1])). This will likely lead to incorrect results due to broadcasting. Please ensure they have the same size.\n",
      "  return F.mse_loss(input, target, reduction=self.reduction)\n"
     ]
    },
    {
     "name": "stdout",
     "output_type": "stream",
     "text": [
      "action:  [1.]\n",
      "Shares held:  [86.59454]\n",
      "Cash balance:  [[266.97671145]]\n",
      "Portfolio value:  [[10355.24968365]]\n",
      "num_shares:  [53.071255]\n",
      "current_price:  [[116.71]]\n",
      "action:  [1.]\n",
      "Shares held:  [86.59454]\n",
      "Cash balance:  [[266.97671145]]\n",
      "Portfolio value:  [[10373.42587832]]\n",
      "num_shares:  [-11.270293]\n",
      "current_price:  [[116.485]]\n",
      "selling\n",
      "action:  [1.]\n",
      "Shares held:  [75.32425]\n",
      "Cash balance:  [[1579.79681902]]\n",
      "Portfolio value:  [[10353.94199496]]\n",
      "num_shares:  [66.28446]\n",
      "current_price:  [[116.67]]\n"
     ]
    },
    {
     "name": "stderr",
     "output_type": "stream",
     "text": [
      "/Library/Frameworks/Python.framework/Versions/3.11/lib/python3.11/site-packages/torch/nn/modules/loss.py:535: UserWarning: Using a target size (torch.Size([1, 1])) that is different to the input size (torch.Size([1])). This will likely lead to incorrect results due to broadcasting. Please ensure they have the same size.\n",
      "  return F.mse_loss(input, target, reduction=self.reduction)\n",
      "/Library/Frameworks/Python.framework/Versions/3.11/lib/python3.11/site-packages/torch/nn/modules/loss.py:535: UserWarning: Using a target size (torch.Size([1, 1])) that is different to the input size (torch.Size([1])). This will likely lead to incorrect results due to broadcasting. Please ensure they have the same size.\n",
      "  return F.mse_loss(input, target, reduction=self.reduction)\n",
      "/Library/Frameworks/Python.framework/Versions/3.11/lib/python3.11/site-packages/torch/nn/modules/loss.py:535: UserWarning: Using a target size (torch.Size([1, 1])) that is different to the input size (torch.Size([1])). This will likely lead to incorrect results due to broadcasting. Please ensure they have the same size.\n",
      "  return F.mse_loss(input, target, reduction=self.reduction)\n"
     ]
    },
    {
     "name": "stdout",
     "output_type": "stream",
     "text": [
      "action:  [1.]\n",
      "Shares held:  [75.32425]\n",
      "Cash balance:  [[1579.79681902]]\n",
      "Portfolio value:  [[10367.87698107]]\n",
      "num_shares:  [33.92303]\n",
      "current_price:  [[116.465]]\n",
      "action:  [1.]\n",
      "Shares held:  [75.32425]\n",
      "Cash balance:  [[1579.79681902]]\n",
      "Portfolio value:  [[10352.43550997]]\n",
      "num_shares:  [113.2555]\n",
      "current_price:  [[116.895]]\n",
      "action:  [1.]\n",
      "Shares held:  [75.32425]\n",
      "Cash balance:  [[1579.79681902]]\n",
      "Portfolio value:  [[10384.82493716]]\n",
      "num_shares:  [97.6818]\n",
      "current_price:  [[117.01]]\n"
     ]
    },
    {
     "name": "stderr",
     "output_type": "stream",
     "text": [
      "/Library/Frameworks/Python.framework/Versions/3.11/lib/python3.11/site-packages/torch/nn/modules/loss.py:535: UserWarning: Using a target size (torch.Size([1, 1])) that is different to the input size (torch.Size([1])). This will likely lead to incorrect results due to broadcasting. Please ensure they have the same size.\n",
      "  return F.mse_loss(input, target, reduction=self.reduction)\n",
      "/Library/Frameworks/Python.framework/Versions/3.11/lib/python3.11/site-packages/torch/nn/modules/loss.py:535: UserWarning: Using a target size (torch.Size([1, 1])) that is different to the input size (torch.Size([1])). This will likely lead to incorrect results due to broadcasting. Please ensure they have the same size.\n",
      "  return F.mse_loss(input, target, reduction=self.reduction)\n",
      "/Library/Frameworks/Python.framework/Versions/3.11/lib/python3.11/site-packages/torch/nn/modules/loss.py:535: UserWarning: Using a target size (torch.Size([1, 1])) that is different to the input size (torch.Size([1])). This will likely lead to incorrect results due to broadcasting. Please ensure they have the same size.\n",
      "  return F.mse_loss(input, target, reduction=self.reduction)\n"
     ]
    },
    {
     "name": "stdout",
     "output_type": "stream",
     "text": [
      "action:  [1.]\n",
      "Shares held:  [75.32425]\n",
      "Cash balance:  [[1579.79681902]]\n",
      "Portfolio value:  [[10393.48722582]]\n",
      "num_shares:  [66.41207]\n",
      "current_price:  [[115.965]]\n",
      "action:  [1.]\n",
      "Shares held:  [75.32425]\n",
      "Cash balance:  [[1579.79681902]]\n",
      "Portfolio value:  [[10314.77338534]]\n",
      "num_shares:  [76.27498]\n",
      "current_price:  [[116.03]]\n",
      "action:  [1.]\n",
      "Shares held:  [75.32425]\n",
      "Cash balance:  [[1579.79681902]]\n",
      "Portfolio value:  [[10319.66946154]]\n",
      "num_shares:  [77.43346]\n",
      "current_price:  [[116.43]]\n"
     ]
    },
    {
     "name": "stderr",
     "output_type": "stream",
     "text": [
      "/Library/Frameworks/Python.framework/Versions/3.11/lib/python3.11/site-packages/torch/nn/modules/loss.py:535: UserWarning: Using a target size (torch.Size([1, 1])) that is different to the input size (torch.Size([1])). This will likely lead to incorrect results due to broadcasting. Please ensure they have the same size.\n",
      "  return F.mse_loss(input, target, reduction=self.reduction)\n",
      "/Library/Frameworks/Python.framework/Versions/3.11/lib/python3.11/site-packages/torch/nn/modules/loss.py:535: UserWarning: Using a target size (torch.Size([1, 1])) that is different to the input size (torch.Size([1])). This will likely lead to incorrect results due to broadcasting. Please ensure they have the same size.\n",
      "  return F.mse_loss(input, target, reduction=self.reduction)\n",
      "/Library/Frameworks/Python.framework/Versions/3.11/lib/python3.11/site-packages/torch/nn/modules/loss.py:535: UserWarning: Using a target size (torch.Size([1, 1])) that is different to the input size (torch.Size([1])). This will likely lead to incorrect results due to broadcasting. Please ensure they have the same size.\n",
      "  return F.mse_loss(input, target, reduction=self.reduction)\n"
     ]
    },
    {
     "name": "stdout",
     "output_type": "stream",
     "text": [
      "action:  [1.]\n",
      "Shares held:  [75.32425]\n",
      "Cash balance:  [[1579.79681902]]\n",
      "Portfolio value:  [[10349.79916125]]\n",
      "num_shares:  [72.1434]\n",
      "current_price:  [[116.42]]\n",
      "action:  [1.]\n",
      "Shares held:  [75.32425]\n",
      "Cash balance:  [[1579.79681902]]\n",
      "Portfolio value:  [[10349.04591875]]\n",
      "num_shares:  [83.71399]\n",
      "current_price:  [[116.18]]\n"
     ]
    },
    {
     "name": "stderr",
     "output_type": "stream",
     "text": [
      "/Library/Frameworks/Python.framework/Versions/3.11/lib/python3.11/site-packages/torch/nn/modules/loss.py:535: UserWarning: Using a target size (torch.Size([1, 1])) that is different to the input size (torch.Size([1])). This will likely lead to incorrect results due to broadcasting. Please ensure they have the same size.\n",
      "  return F.mse_loss(input, target, reduction=self.reduction)\n",
      "/Library/Frameworks/Python.framework/Versions/3.11/lib/python3.11/site-packages/torch/nn/modules/loss.py:535: UserWarning: Using a target size (torch.Size([1, 1])) that is different to the input size (torch.Size([1])). This will likely lead to incorrect results due to broadcasting. Please ensure they have the same size.\n",
      "  return F.mse_loss(input, target, reduction=self.reduction)\n"
     ]
    },
    {
     "name": "stdout",
     "output_type": "stream",
     "text": [
      "action:  [1.]\n",
      "Shares held:  [75.32425]\n",
      "Cash balance:  [[1579.79681902]]\n",
      "Portfolio value:  [[10330.96809893]]\n",
      "num_shares:  [60.938995]\n",
      "current_price:  [[116.05]]\n",
      "action:  [1.]\n",
      "Shares held:  [75.32425]\n",
      "Cash balance:  [[1579.79681902]]\n",
      "Portfolio value:  [[10321.17594652]]\n",
      "num_shares:  [114.97865]\n",
      "current_price:  [[116.5287]]\n"
     ]
    },
    {
     "name": "stderr",
     "output_type": "stream",
     "text": [
      "/Library/Frameworks/Python.framework/Versions/3.11/lib/python3.11/site-packages/torch/nn/modules/loss.py:535: UserWarning: Using a target size (torch.Size([1, 1])) that is different to the input size (torch.Size([1])). This will likely lead to incorrect results due to broadcasting. Please ensure they have the same size.\n",
      "  return F.mse_loss(input, target, reduction=self.reduction)\n",
      "/Library/Frameworks/Python.framework/Versions/3.11/lib/python3.11/site-packages/torch/nn/modules/loss.py:535: UserWarning: Using a target size (torch.Size([1, 1])) that is different to the input size (torch.Size([1])). This will likely lead to incorrect results due to broadcasting. Please ensure they have the same size.\n",
      "  return F.mse_loss(input, target, reduction=self.reduction)\n"
     ]
    },
    {
     "name": "stdout",
     "output_type": "stream",
     "text": [
      "action:  [1.]\n",
      "Shares held:  [75.32425]\n",
      "Cash balance:  [[1579.79681902]]\n",
      "Portfolio value:  [[10357.23366465]]\n",
      "num_shares:  [163.49666]\n",
      "current_price:  [[116.43]]\n",
      "action:  [1.]\n",
      "Shares held:  [75.32425]\n",
      "Cash balance:  [[1579.79681902]]\n",
      "Portfolio value:  [[10349.79916125]]\n",
      "num_shares:  [31.634104]\n",
      "current_price:  [[116.47]]\n",
      "action:  [1.]\n",
      "Shares held:  [75.32425]\n",
      "Cash balance:  [[1579.79681902]]\n",
      "Portfolio value:  [[10352.81213122]]\n",
      "num_shares:  [72.88618]\n",
      "current_price:  [[116.12]]\n"
     ]
    },
    {
     "name": "stderr",
     "output_type": "stream",
     "text": [
      "/Library/Frameworks/Python.framework/Versions/3.11/lib/python3.11/site-packages/torch/nn/modules/loss.py:535: UserWarning: Using a target size (torch.Size([1, 1])) that is different to the input size (torch.Size([1])). This will likely lead to incorrect results due to broadcasting. Please ensure they have the same size.\n",
      "  return F.mse_loss(input, target, reduction=self.reduction)\n",
      "/Library/Frameworks/Python.framework/Versions/3.11/lib/python3.11/site-packages/torch/nn/modules/loss.py:535: UserWarning: Using a target size (torch.Size([1, 1])) that is different to the input size (torch.Size([1])). This will likely lead to incorrect results due to broadcasting. Please ensure they have the same size.\n",
      "  return F.mse_loss(input, target, reduction=self.reduction)\n",
      "/Library/Frameworks/Python.framework/Versions/3.11/lib/python3.11/site-packages/torch/nn/modules/loss.py:535: UserWarning: Using a target size (torch.Size([1, 1])) that is different to the input size (torch.Size([1])). This will likely lead to incorrect results due to broadcasting. Please ensure they have the same size.\n",
      "  return F.mse_loss(input, target, reduction=self.reduction)\n"
     ]
    },
    {
     "name": "stdout",
     "output_type": "stream",
     "text": [
      "action:  [1.]\n",
      "Shares held:  [75.32425]\n",
      "Cash balance:  [[1579.79681902]]\n",
      "Portfolio value:  [[10326.44864397]]\n",
      "num_shares:  [153.53767]\n",
      "current_price:  [[116.1789]]\n",
      "action:  [1.]\n",
      "Shares held:  [75.32425]\n",
      "Cash balance:  [[1579.79681902]]\n",
      "Portfolio value:  [[10330.88524226]]\n",
      "num_shares:  [98.94565]\n",
      "current_price:  [[116.24]]\n",
      "action:  [1.]\n",
      "Shares held:  [75.32425]\n",
      "Cash balance:  [[1579.79681902]]\n",
      "Portfolio value:  [[10335.48755389]]\n",
      "num_shares:  [178.4665]\n",
      "current_price:  [[116.55]]\n"
     ]
    },
    {
     "name": "stderr",
     "output_type": "stream",
     "text": [
      "/Library/Frameworks/Python.framework/Versions/3.11/lib/python3.11/site-packages/torch/nn/modules/loss.py:535: UserWarning: Using a target size (torch.Size([1, 1])) that is different to the input size (torch.Size([1])). This will likely lead to incorrect results due to broadcasting. Please ensure they have the same size.\n",
      "  return F.mse_loss(input, target, reduction=self.reduction)\n",
      "/Library/Frameworks/Python.framework/Versions/3.11/lib/python3.11/site-packages/torch/nn/modules/loss.py:535: UserWarning: Using a target size (torch.Size([1, 1])) that is different to the input size (torch.Size([1])). This will likely lead to incorrect results due to broadcasting. Please ensure they have the same size.\n",
      "  return F.mse_loss(input, target, reduction=self.reduction)\n",
      "/Library/Frameworks/Python.framework/Versions/3.11/lib/python3.11/site-packages/torch/nn/modules/loss.py:535: UserWarning: Using a target size (torch.Size([1, 1])) that is different to the input size (torch.Size([1])). This will likely lead to incorrect results due to broadcasting. Please ensure they have the same size.\n",
      "  return F.mse_loss(input, target, reduction=self.reduction)\n"
     ]
    },
    {
     "name": "stdout",
     "output_type": "stream",
     "text": [
      "action:  [1.]\n",
      "Shares held:  [75.32425]\n",
      "Cash balance:  [[1579.79681902]]\n",
      "Portfolio value:  [[10358.83807116]]\n",
      "num_shares:  [225.36037]\n",
      "current_price:  [[113.51]]\n",
      "action:  [1.]\n",
      "Shares held:  [75.32425]\n",
      "Cash balance:  [[1579.79681902]]\n",
      "Portfolio value:  [[10129.85235338]]\n",
      "num_shares:  [162.77728]\n",
      "current_price:  [[113.57]]\n",
      "action:  [1.]\n",
      "Shares held:  [75.32425]\n",
      "Cash balance:  [[1579.79681902]]\n",
      "Portfolio value:  [[10134.37180834]]\n",
      "num_shares:  [27.513035]\n",
      "current_price:  [[114.13]]\n"
     ]
    },
    {
     "name": "stderr",
     "output_type": "stream",
     "text": [
      "/Library/Frameworks/Python.framework/Versions/3.11/lib/python3.11/site-packages/torch/nn/modules/loss.py:535: UserWarning: Using a target size (torch.Size([1, 1])) that is different to the input size (torch.Size([1])). This will likely lead to incorrect results due to broadcasting. Please ensure they have the same size.\n",
      "  return F.mse_loss(input, target, reduction=self.reduction)\n",
      "/Library/Frameworks/Python.framework/Versions/3.11/lib/python3.11/site-packages/torch/nn/modules/loss.py:535: UserWarning: Using a target size (torch.Size([1, 1])) that is different to the input size (torch.Size([1])). This will likely lead to incorrect results due to broadcasting. Please ensure they have the same size.\n",
      "  return F.mse_loss(input, target, reduction=self.reduction)\n",
      "/Library/Frameworks/Python.framework/Versions/3.11/lib/python3.11/site-packages/torch/nn/modules/loss.py:535: UserWarning: Using a target size (torch.Size([1, 1])) that is different to the input size (torch.Size([1])). This will likely lead to incorrect results due to broadcasting. Please ensure they have the same size.\n",
      "  return F.mse_loss(input, target, reduction=self.reduction)\n"
     ]
    },
    {
     "name": "stdout",
     "output_type": "stream",
     "text": [
      "action:  [1.]\n",
      "Shares held:  [75.32425]\n",
      "Cash balance:  [[1579.79681902]]\n",
      "Portfolio value:  [[10176.55338793]]\n",
      "num_shares:  [119.174]\n",
      "current_price:  [[113.79]]\n",
      "action:  [1.]\n",
      "Shares held:  [75.32425]\n",
      "Cash balance:  [[1579.79681902]]\n",
      "Portfolio value:  [[10150.94314318]]\n",
      "num_shares:  [122.81287]\n",
      "current_price:  [[113.96]]\n",
      "action:  [1.]\n",
      "Shares held:  [75.32425]\n",
      "Cash balance:  [[1579.79681902]]\n",
      "Portfolio value:  [[10163.74826556]]\n",
      "num_shares:  [112.178696]\n",
      "current_price:  [[114.64]]\n"
     ]
    },
    {
     "name": "stderr",
     "output_type": "stream",
     "text": [
      "/Library/Frameworks/Python.framework/Versions/3.11/lib/python3.11/site-packages/torch/nn/modules/loss.py:535: UserWarning: Using a target size (torch.Size([1, 1])) that is different to the input size (torch.Size([1])). This will likely lead to incorrect results due to broadcasting. Please ensure they have the same size.\n",
      "  return F.mse_loss(input, target, reduction=self.reduction)\n",
      "/Library/Frameworks/Python.framework/Versions/3.11/lib/python3.11/site-packages/torch/nn/modules/loss.py:535: UserWarning: Using a target size (torch.Size([1, 1])) that is different to the input size (torch.Size([1])). This will likely lead to incorrect results due to broadcasting. Please ensure they have the same size.\n",
      "  return F.mse_loss(input, target, reduction=self.reduction)\n",
      "/Library/Frameworks/Python.framework/Versions/3.11/lib/python3.11/site-packages/torch/nn/modules/loss.py:535: UserWarning: Using a target size (torch.Size([1, 1])) that is different to the input size (torch.Size([1])). This will likely lead to incorrect results due to broadcasting. Please ensure they have the same size.\n",
      "  return F.mse_loss(input, target, reduction=self.reduction)\n"
     ]
    },
    {
     "name": "stdout",
     "output_type": "stream",
     "text": [
      "action:  [1.]\n",
      "Shares held:  [75.32425]\n",
      "Cash balance:  [[1579.79681902]]\n",
      "Portfolio value:  [[10214.96875506]]\n",
      "num_shares:  [153.01414]\n",
      "current_price:  [[114.82]]\n",
      "action:  [1.]\n",
      "Shares held:  [75.32425]\n",
      "Cash balance:  [[1579.79681902]]\n",
      "Portfolio value:  [[10228.52711993]]\n",
      "num_shares:  [129.95035]\n",
      "current_price:  [[114.93]]\n"
     ]
    },
    {
     "name": "stderr",
     "output_type": "stream",
     "text": [
      "/Library/Frameworks/Python.framework/Versions/3.11/lib/python3.11/site-packages/torch/nn/modules/loss.py:535: UserWarning: Using a target size (torch.Size([1, 1])) that is different to the input size (torch.Size([1])). This will likely lead to incorrect results due to broadcasting. Please ensure they have the same size.\n",
      "  return F.mse_loss(input, target, reduction=self.reduction)\n",
      "/Library/Frameworks/Python.framework/Versions/3.11/lib/python3.11/site-packages/torch/nn/modules/loss.py:535: UserWarning: Using a target size (torch.Size([1, 1])) that is different to the input size (torch.Size([1])). This will likely lead to incorrect results due to broadcasting. Please ensure they have the same size.\n",
      "  return F.mse_loss(input, target, reduction=self.reduction)\n"
     ]
    },
    {
     "name": "stdout",
     "output_type": "stream",
     "text": [
      "action:  [1.]\n",
      "Shares held:  [75.32425]\n",
      "Cash balance:  [[1579.79681902]]\n",
      "Portfolio value:  [[10236.81278734]]\n",
      "num_shares:  [56.428818]\n",
      "current_price:  [[115.105]]\n",
      "action:  [1.]\n",
      "Shares held:  [75.32425]\n",
      "Cash balance:  [[1579.79681902]]\n",
      "Portfolio value:  [[10249.99453097]]\n",
      "num_shares:  [70.933525]\n",
      "current_price:  [[115.1]]\n"
     ]
    },
    {
     "name": "stderr",
     "output_type": "stream",
     "text": [
      "/Library/Frameworks/Python.framework/Versions/3.11/lib/python3.11/site-packages/torch/nn/modules/loss.py:535: UserWarning: Using a target size (torch.Size([1, 1])) that is different to the input size (torch.Size([1])). This will likely lead to incorrect results due to broadcasting. Please ensure they have the same size.\n",
      "  return F.mse_loss(input, target, reduction=self.reduction)\n",
      "/Library/Frameworks/Python.framework/Versions/3.11/lib/python3.11/site-packages/torch/nn/modules/loss.py:535: UserWarning: Using a target size (torch.Size([1, 1])) that is different to the input size (torch.Size([1])). This will likely lead to incorrect results due to broadcasting. Please ensure they have the same size.\n",
      "  return F.mse_loss(input, target, reduction=self.reduction)\n"
     ]
    },
    {
     "name": "stdout",
     "output_type": "stream",
     "text": [
      "action:  [1.]\n",
      "Shares held:  [75.32425]\n",
      "Cash balance:  [[1579.79681902]]\n",
      "Portfolio value:  [[10249.61790972]]\n",
      "num_shares:  [53.568333]\n",
      "current_price:  [[114.81]]\n",
      "action:  [1.]\n",
      "Shares held:  [75.32425]\n",
      "Cash balance:  [[1579.79681902]]\n",
      "Portfolio value:  [[10227.77387743]]\n",
      "num_shares:  [100.13253]\n",
      "current_price:  [[114.6125]]\n",
      "action:  [1.]\n",
      "Shares held:  [75.32425]\n",
      "Cash balance:  [[1579.79681902]]\n",
      "Portfolio value:  [[10212.8973382]]\n",
      "num_shares:  [77.253685]\n",
      "current_price:  [[115.64]]\n"
     ]
    },
    {
     "name": "stderr",
     "output_type": "stream",
     "text": [
      "/Library/Frameworks/Python.framework/Versions/3.11/lib/python3.11/site-packages/torch/nn/modules/loss.py:535: UserWarning: Using a target size (torch.Size([1, 1])) that is different to the input size (torch.Size([1])). This will likely lead to incorrect results due to broadcasting. Please ensure they have the same size.\n",
      "  return F.mse_loss(input, target, reduction=self.reduction)\n",
      "/Library/Frameworks/Python.framework/Versions/3.11/lib/python3.11/site-packages/torch/nn/modules/loss.py:535: UserWarning: Using a target size (torch.Size([1, 1])) that is different to the input size (torch.Size([1])). This will likely lead to incorrect results due to broadcasting. Please ensure they have the same size.\n",
      "  return F.mse_loss(input, target, reduction=self.reduction)\n",
      "/Library/Frameworks/Python.framework/Versions/3.11/lib/python3.11/site-packages/torch/nn/modules/loss.py:535: UserWarning: Using a target size (torch.Size([1, 1])) that is different to the input size (torch.Size([1])). This will likely lead to incorrect results due to broadcasting. Please ensure they have the same size.\n",
      "  return F.mse_loss(input, target, reduction=self.reduction)\n",
      "/Library/Frameworks/Python.framework/Versions/3.11/lib/python3.11/site-packages/torch/nn/modules/loss.py:535: UserWarning: Using a target size (torch.Size([1, 1])) that is different to the input size (torch.Size([1])). This will likely lead to incorrect results due to broadcasting. Please ensure they have the same size.\n",
      "  return F.mse_loss(input, target, reduction=self.reduction)\n"
     ]
    },
    {
     "name": "stdout",
     "output_type": "stream",
     "text": [
      "action:  [1.]\n",
      "Shares held:  [75.32425]\n",
      "Cash balance:  [[1579.79681902]]\n",
      "Portfolio value:  [[10290.29300432]]\n",
      "num_shares:  [86.002975]\n",
      "current_price:  [[115.51]]\n",
      "action:  [1.]\n",
      "Shares held:  [75.32425]\n",
      "Cash balance:  [[1579.79681902]]\n",
      "Portfolio value:  [[10280.50085192]]\n",
      "num_shares:  [104.945076]\n",
      "current_price:  [[116.72]]\n",
      "action:  [1.]\n",
      "Shares held:  [75.32425]\n",
      "Cash balance:  [[1579.79681902]]\n",
      "Portfolio value:  [[10371.64319353]]\n",
      "num_shares:  [50.638165]\n",
      "current_price:  [[116.15]]\n"
     ]
    },
    {
     "name": "stderr",
     "output_type": "stream",
     "text": [
      "/Library/Frameworks/Python.framework/Versions/3.11/lib/python3.11/site-packages/torch/nn/modules/loss.py:535: UserWarning: Using a target size (torch.Size([1, 1])) that is different to the input size (torch.Size([1])). This will likely lead to incorrect results due to broadcasting. Please ensure they have the same size.\n",
      "  return F.mse_loss(input, target, reduction=self.reduction)\n",
      "/Library/Frameworks/Python.framework/Versions/3.11/lib/python3.11/site-packages/torch/nn/modules/loss.py:535: UserWarning: Using a target size (torch.Size([1, 1])) that is different to the input size (torch.Size([1])). This will likely lead to incorrect results due to broadcasting. Please ensure they have the same size.\n",
      "  return F.mse_loss(input, target, reduction=self.reduction)\n"
     ]
    },
    {
     "name": "stdout",
     "output_type": "stream",
     "text": [
      "action:  [1.]\n",
      "Shares held:  [75.32425]\n",
      "Cash balance:  [[1579.79681902]]\n",
      "Portfolio value:  [[10328.70837145]]\n",
      "num_shares:  [70.98756]\n",
      "current_price:  [[116.]]\n",
      "action:  [1.]\n",
      "Shares held:  [75.32425]\n",
      "Cash balance:  [[1579.79681902]]\n",
      "Portfolio value:  [[10317.40973406]]\n",
      "num_shares:  [114.54901]\n",
      "current_price:  [[116.4915]]\n",
      "action:  [1.]\n",
      "Shares held:  [75.32425]\n",
      "Cash balance:  [[1579.79681902]]\n",
      "Portfolio value:  [[10354.43160258]]\n",
      "num_shares:  [110.411095]\n",
      "current_price:  [[116.355]]\n"
     ]
    },
    {
     "name": "stderr",
     "output_type": "stream",
     "text": [
      "/Library/Frameworks/Python.framework/Versions/3.11/lib/python3.11/site-packages/torch/nn/modules/loss.py:535: UserWarning: Using a target size (torch.Size([1, 1])) that is different to the input size (torch.Size([1])). This will likely lead to incorrect results due to broadcasting. Please ensure they have the same size.\n",
      "  return F.mse_loss(input, target, reduction=self.reduction)\n",
      "/Library/Frameworks/Python.framework/Versions/3.11/lib/python3.11/site-packages/torch/nn/modules/loss.py:535: UserWarning: Using a target size (torch.Size([1, 1])) that is different to the input size (torch.Size([1])). This will likely lead to incorrect results due to broadcasting. Please ensure they have the same size.\n",
      "  return F.mse_loss(input, target, reduction=self.reduction)\n",
      "/Library/Frameworks/Python.framework/Versions/3.11/lib/python3.11/site-packages/torch/nn/modules/loss.py:535: UserWarning: Using a target size (torch.Size([1, 1])) that is different to the input size (torch.Size([1])). This will likely lead to incorrect results due to broadcasting. Please ensure they have the same size.\n",
      "  return F.mse_loss(input, target, reduction=self.reduction)\n"
     ]
    },
    {
     "name": "stdout",
     "output_type": "stream",
     "text": [
      "action:  [1.]\n",
      "Shares held:  [75.32425]\n",
      "Cash balance:  [[1579.79681902]]\n",
      "Portfolio value:  [[10344.14984255]]\n",
      "num_shares:  [27.648605]\n",
      "current_price:  [[116.01]]\n",
      "action:  [1.]\n",
      "Shares held:  [75.32425]\n",
      "Cash balance:  [[1579.79681902]]\n",
      "Portfolio value:  [[10318.16297655]]\n",
      "num_shares:  [56.38796]\n",
      "current_price:  [[115.9]]\n"
     ]
    },
    {
     "name": "stderr",
     "output_type": "stream",
     "text": [
      "/Library/Frameworks/Python.framework/Versions/3.11/lib/python3.11/site-packages/torch/nn/modules/loss.py:535: UserWarning: Using a target size (torch.Size([1, 1])) that is different to the input size (torch.Size([1])). This will likely lead to incorrect results due to broadcasting. Please ensure they have the same size.\n",
      "  return F.mse_loss(input, target, reduction=self.reduction)\n",
      "/Library/Frameworks/Python.framework/Versions/3.11/lib/python3.11/site-packages/torch/nn/modules/loss.py:535: UserWarning: Using a target size (torch.Size([1, 1])) that is different to the input size (torch.Size([1])). This will likely lead to incorrect results due to broadcasting. Please ensure they have the same size.\n",
      "  return F.mse_loss(input, target, reduction=self.reduction)\n"
     ]
    },
    {
     "name": "stdout",
     "output_type": "stream",
     "text": [
      "action:  [1.]\n",
      "Shares held:  [75.32425]\n",
      "Cash balance:  [[1579.79681902]]\n",
      "Portfolio value:  [[10309.87730913]]\n",
      "num_shares:  [24.73661]\n",
      "current_price:  [[116.41]]\n",
      "action:  [1.]\n",
      "Shares held:  [75.32425]\n",
      "Cash balance:  [[1579.79681902]]\n",
      "Portfolio value:  [[10348.29267626]]\n",
      "num_shares:  [104.00353]\n",
      "current_price:  [[116.2146]]\n"
     ]
    },
    {
     "name": "stderr",
     "output_type": "stream",
     "text": [
      "/Library/Frameworks/Python.framework/Versions/3.11/lib/python3.11/site-packages/torch/nn/modules/loss.py:535: UserWarning: Using a target size (torch.Size([1, 1])) that is different to the input size (torch.Size([1])). This will likely lead to incorrect results due to broadcasting. Please ensure they have the same size.\n",
      "  return F.mse_loss(input, target, reduction=self.reduction)\n",
      "/Library/Frameworks/Python.framework/Versions/3.11/lib/python3.11/site-packages/torch/nn/modules/loss.py:535: UserWarning: Using a target size (torch.Size([1, 1])) that is different to the input size (torch.Size([1])). This will likely lead to incorrect results due to broadcasting. Please ensure they have the same size.\n",
      "  return F.mse_loss(input, target, reduction=self.reduction)\n"
     ]
    },
    {
     "name": "stdout",
     "output_type": "stream",
     "text": [
      "action:  [1.]\n",
      "Shares held:  [75.32425]\n",
      "Cash balance:  [[1579.79681902]]\n",
      "Portfolio value:  [[10333.57431795]]\n",
      "num_shares:  [29.731161]\n",
      "current_price:  [[116.05]]\n",
      "action:  [1.]\n",
      "Shares held:  [75.32425]\n",
      "Cash balance:  [[1579.79681902]]\n",
      "Portfolio value:  [[10321.17594652]]\n",
      "num_shares:  [139.82935]\n",
      "current_price:  [[115.905]]\n"
     ]
    },
    {
     "name": "stderr",
     "output_type": "stream",
     "text": [
      "/Library/Frameworks/Python.framework/Versions/3.11/lib/python3.11/site-packages/torch/nn/modules/loss.py:535: UserWarning: Using a target size (torch.Size([1, 1])) that is different to the input size (torch.Size([1])). This will likely lead to incorrect results due to broadcasting. Please ensure they have the same size.\n",
      "  return F.mse_loss(input, target, reduction=self.reduction)\n",
      "/Library/Frameworks/Python.framework/Versions/3.11/lib/python3.11/site-packages/torch/nn/modules/loss.py:535: UserWarning: Using a target size (torch.Size([1, 1])) that is different to the input size (torch.Size([1])). This will likely lead to incorrect results due to broadcasting. Please ensure they have the same size.\n",
      "  return F.mse_loss(input, target, reduction=self.reduction)\n"
     ]
    },
    {
     "name": "stdout",
     "output_type": "stream",
     "text": [
      "action:  [1.]\n",
      "Shares held:  [75.32425]\n",
      "Cash balance:  [[1579.79681902]]\n",
      "Portfolio value:  [[10310.25393038]]\n",
      "num_shares:  [61.869083]\n",
      "current_price:  [[116.01]]\n"
     ]
    },
    {
     "name": "stderr",
     "output_type": "stream",
     "text": [
      "/Library/Frameworks/Python.framework/Versions/3.11/lib/python3.11/site-packages/torch/nn/modules/loss.py:535: UserWarning: Using a target size (torch.Size([1, 1])) that is different to the input size (torch.Size([1])). This will likely lead to incorrect results due to broadcasting. Please ensure they have the same size.\n",
      "  return F.mse_loss(input, target, reduction=self.reduction)\n"
     ]
    },
    {
     "name": "stdout",
     "output_type": "stream",
     "text": [
      "action:  [1.]\n",
      "Shares held:  [75.32425]\n",
      "Cash balance:  [[1579.79681902]]\n",
      "Portfolio value:  [[10318.16297655]]\n",
      "num_shares:  [124.26483]\n",
      "current_price:  [[117.27]]\n",
      "action:  [1.]\n",
      "Shares held:  [75.32425]\n",
      "Cash balance:  [[1579.79681902]]\n",
      "Portfolio value:  [[10413.07153063]]\n",
      "num_shares:  [77.468544]\n",
      "current_price:  [[117.78]]\n"
     ]
    },
    {
     "name": "stderr",
     "output_type": "stream",
     "text": [
      "/Library/Frameworks/Python.framework/Versions/3.11/lib/python3.11/site-packages/torch/nn/modules/loss.py:535: UserWarning: Using a target size (torch.Size([1, 1])) that is different to the input size (torch.Size([1])). This will likely lead to incorrect results due to broadcasting. Please ensure they have the same size.\n",
      "  return F.mse_loss(input, target, reduction=self.reduction)\n",
      "/Library/Frameworks/Python.framework/Versions/3.11/lib/python3.11/site-packages/torch/nn/modules/loss.py:535: UserWarning: Using a target size (torch.Size([1, 1])) that is different to the input size (torch.Size([1])). This will likely lead to incorrect results due to broadcasting. Please ensure they have the same size.\n",
      "  return F.mse_loss(input, target, reduction=self.reduction)\n"
     ]
    },
    {
     "name": "stdout",
     "output_type": "stream",
     "text": [
      "action:  [1.]\n",
      "Shares held:  [75.32425]\n",
      "Cash balance:  [[1579.79681902]]\n",
      "Portfolio value:  [[10451.48689776]]\n",
      "num_shares:  [38.298054]\n",
      "current_price:  [[117.63]]\n",
      "action:  [1.]\n",
      "Shares held:  [75.32425]\n",
      "Cash balance:  [[1579.79681902]]\n",
      "Portfolio value:  [[10440.18826037]]\n",
      "num_shares:  [25.63284]\n",
      "current_price:  [[118.29]]\n",
      "action:  [1.]\n",
      "Shares held:  [75.32425]\n",
      "Cash balance:  [[1579.79681902]]\n",
      "Portfolio value:  [[10489.90226488]]\n",
      "num_shares:  [96.14275]\n",
      "current_price:  [[118.22]]\n"
     ]
    },
    {
     "name": "stderr",
     "output_type": "stream",
     "text": [
      "/Library/Frameworks/Python.framework/Versions/3.11/lib/python3.11/site-packages/torch/nn/modules/loss.py:535: UserWarning: Using a target size (torch.Size([1, 1])) that is different to the input size (torch.Size([1])). This will likely lead to incorrect results due to broadcasting. Please ensure they have the same size.\n",
      "  return F.mse_loss(input, target, reduction=self.reduction)\n",
      "/Library/Frameworks/Python.framework/Versions/3.11/lib/python3.11/site-packages/torch/nn/modules/loss.py:535: UserWarning: Using a target size (torch.Size([1, 1])) that is different to the input size (torch.Size([1])). This will likely lead to incorrect results due to broadcasting. Please ensure they have the same size.\n",
      "  return F.mse_loss(input, target, reduction=self.reduction)\n",
      "/Library/Frameworks/Python.framework/Versions/3.11/lib/python3.11/site-packages/torch/nn/modules/loss.py:535: UserWarning: Using a target size (torch.Size([1, 1])) that is different to the input size (torch.Size([1])). This will likely lead to incorrect results due to broadcasting. Please ensure they have the same size.\n",
      "  return F.mse_loss(input, target, reduction=self.reduction)\n"
     ]
    },
    {
     "name": "stdout",
     "output_type": "stream",
     "text": [
      "action:  [1.]\n",
      "Shares held:  [75.32425]\n",
      "Cash balance:  [[1579.79681902]]\n",
      "Portfolio value:  [[10484.62956744]]\n",
      "num_shares:  [87.98987]\n",
      "current_price:  [[118.535]]\n",
      "action:  [1.]\n",
      "Shares held:  [75.32425]\n",
      "Cash balance:  [[1579.79681902]]\n",
      "Portfolio value:  [[10508.35670595]]\n",
      "num_shares:  [56.63727]\n",
      "current_price:  [[118.2368]]\n",
      "action:  [1.]\n",
      "Shares held:  [75.32425]\n",
      "Cash balance:  [[1579.79681902]]\n",
      "Portfolio value:  [[10485.89501482]]\n",
      "num_shares:  [117.53662]\n",
      "current_price:  [[118.45]]\n"
     ]
    },
    {
     "name": "stderr",
     "output_type": "stream",
     "text": [
      "/Library/Frameworks/Python.framework/Versions/3.11/lib/python3.11/site-packages/torch/nn/modules/loss.py:535: UserWarning: Using a target size (torch.Size([1, 1])) that is different to the input size (torch.Size([1])). This will likely lead to incorrect results due to broadcasting. Please ensure they have the same size.\n",
      "  return F.mse_loss(input, target, reduction=self.reduction)\n",
      "/Library/Frameworks/Python.framework/Versions/3.11/lib/python3.11/site-packages/torch/nn/modules/loss.py:535: UserWarning: Using a target size (torch.Size([1, 1])) that is different to the input size (torch.Size([1])). This will likely lead to incorrect results due to broadcasting. Please ensure they have the same size.\n",
      "  return F.mse_loss(input, target, reduction=self.reduction)\n",
      "/Library/Frameworks/Python.framework/Versions/3.11/lib/python3.11/site-packages/torch/nn/modules/loss.py:535: UserWarning: Using a target size (torch.Size([1, 1])) that is different to the input size (torch.Size([1])). This will likely lead to incorrect results due to broadcasting. Please ensure they have the same size.\n",
      "  return F.mse_loss(input, target, reduction=self.reduction)\n"
     ]
    },
    {
     "ename": "KeyboardInterrupt",
     "evalue": "",
     "output_type": "error",
     "traceback": [
      "\u001b[0;31m---------------------------------------------------------------------------\u001b[0m",
      "\u001b[0;31mKeyboardInterrupt\u001b[0m                         Traceback (most recent call last)",
      "Cell \u001b[0;32mIn[326], line 141\u001b[0m\n\u001b[1;32m    138\u001b[0m \u001b[38;5;66;03m# Execute action 𝐴, observe reward 𝑅 and next-state 𝑆′\u001b[39;00m\n\u001b[1;32m    139\u001b[0m new_state, reward, terminated, info \u001b[38;5;241m=\u001b[39m DDPG_agent\u001b[38;5;241m.\u001b[39menv\u001b[38;5;241m.\u001b[39mstep(action)\n\u001b[0;32m--> 141\u001b[0m \u001b[43mDDPG_agent\u001b[49m\u001b[38;5;241;43m.\u001b[39;49m\u001b[43mlearn\u001b[49m\u001b[43m(\u001b[49m\u001b[43mstate\u001b[49m\u001b[43m,\u001b[49m\u001b[43m \u001b[49m\u001b[43maction\u001b[49m\u001b[43m,\u001b[49m\u001b[43m \u001b[49m\u001b[43mreward\u001b[49m\u001b[43m,\u001b[49m\u001b[43m \u001b[49m\u001b[43mnew_state\u001b[49m\u001b[43m,\u001b[49m\u001b[43m \u001b[49m\u001b[43mterminated\u001b[49m\u001b[43m)\u001b[49m\n\u001b[1;32m    143\u001b[0m \u001b[38;5;66;03m# Update state\u001b[39;00m\n\u001b[1;32m    144\u001b[0m state \u001b[38;5;241m=\u001b[39m new_state\n",
      "Cell \u001b[0;32mIn[326], line 118\u001b[0m, in \u001b[0;36mDDPG.learn\u001b[0;34m(self, state, action, reward, new_state, terminated)\u001b[0m\n\u001b[1;32m    115\u001b[0m \u001b[38;5;28;01mfor\u001b[39;00m transition \u001b[38;5;129;01min\u001b[39;00m minibatch_sampled_from_D:\n\u001b[1;32m    116\u001b[0m     \u001b[38;5;66;03m# 𝑦←𝑅𝑗+𝛾𝑞̂ 2(𝑆′𝑗,𝜋̂ 2(𝑆′𝑗,𝒘2),𝜽2)\u001b[39;00m\n\u001b[1;32m    117\u001b[0m     state, action, reward, new_state \u001b[38;5;241m=\u001b[39m transition\n\u001b[0;32m--> 118\u001b[0m     \u001b[38;5;28;43mself\u001b[39;49m\u001b[38;5;241;43m.\u001b[39;49m\u001b[43mupdate_critic\u001b[49m\u001b[43m(\u001b[49m\u001b[43mstate\u001b[49m\u001b[43m,\u001b[49m\u001b[43m \u001b[49m\u001b[43maction\u001b[49m\u001b[43m,\u001b[49m\u001b[43m \u001b[49m\u001b[43mreward\u001b[49m\u001b[43m,\u001b[49m\u001b[43m \u001b[49m\u001b[43mnew_state\u001b[49m\u001b[43m)\u001b[49m\n\u001b[1;32m    119\u001b[0m     \u001b[38;5;28mself\u001b[39m\u001b[38;5;241m.\u001b[39mupdate_actor(state)\n\u001b[1;32m    120\u001b[0m \u001b[38;5;28mself\u001b[39m\u001b[38;5;241m.\u001b[39mupdate_target_network_parameters()\n",
      "Cell \u001b[0;32mIn[326], line 92\u001b[0m, in \u001b[0;36mDDPG.update_critic\u001b[0;34m(self, state, action, reward, new_state)\u001b[0m\n\u001b[1;32m     90\u001b[0m critic_loss \u001b[38;5;241m=\u001b[39m nn\u001b[38;5;241m.\u001b[39mMSELoss()\u001b[38;5;241m.\u001b[39mto(\u001b[38;5;28mself\u001b[39m\u001b[38;5;241m.\u001b[39mdevice)(critic_output, y\u001b[38;5;241m.\u001b[39mdetach())\n\u001b[1;32m     91\u001b[0m \u001b[38;5;28mself\u001b[39m\u001b[38;5;241m.\u001b[39moptimizer_critic\u001b[38;5;241m.\u001b[39mzero_grad()\n\u001b[0;32m---> 92\u001b[0m \u001b[43mcritic_loss\u001b[49m\u001b[38;5;241;43m.\u001b[39;49m\u001b[43mbackward\u001b[49m\u001b[43m(\u001b[49m\u001b[43m)\u001b[49m\n\u001b[1;32m     93\u001b[0m \u001b[38;5;28mself\u001b[39m\u001b[38;5;241m.\u001b[39moptimizer_critic\u001b[38;5;241m.\u001b[39mstep()\n",
      "File \u001b[0;32m/Library/Frameworks/Python.framework/Versions/3.11/lib/python3.11/site-packages/torch/_tensor.py:492\u001b[0m, in \u001b[0;36mTensor.backward\u001b[0;34m(self, gradient, retain_graph, create_graph, inputs)\u001b[0m\n\u001b[1;32m    482\u001b[0m \u001b[38;5;28;01mif\u001b[39;00m has_torch_function_unary(\u001b[38;5;28mself\u001b[39m):\n\u001b[1;32m    483\u001b[0m     \u001b[38;5;28;01mreturn\u001b[39;00m handle_torch_function(\n\u001b[1;32m    484\u001b[0m         Tensor\u001b[38;5;241m.\u001b[39mbackward,\n\u001b[1;32m    485\u001b[0m         (\u001b[38;5;28mself\u001b[39m,),\n\u001b[0;32m   (...)\u001b[0m\n\u001b[1;32m    490\u001b[0m         inputs\u001b[38;5;241m=\u001b[39minputs,\n\u001b[1;32m    491\u001b[0m     )\n\u001b[0;32m--> 492\u001b[0m \u001b[43mtorch\u001b[49m\u001b[38;5;241;43m.\u001b[39;49m\u001b[43mautograd\u001b[49m\u001b[38;5;241;43m.\u001b[39;49m\u001b[43mbackward\u001b[49m\u001b[43m(\u001b[49m\n\u001b[1;32m    493\u001b[0m \u001b[43m    \u001b[49m\u001b[38;5;28;43mself\u001b[39;49m\u001b[43m,\u001b[49m\u001b[43m \u001b[49m\u001b[43mgradient\u001b[49m\u001b[43m,\u001b[49m\u001b[43m \u001b[49m\u001b[43mretain_graph\u001b[49m\u001b[43m,\u001b[49m\u001b[43m \u001b[49m\u001b[43mcreate_graph\u001b[49m\u001b[43m,\u001b[49m\u001b[43m \u001b[49m\u001b[43minputs\u001b[49m\u001b[38;5;241;43m=\u001b[39;49m\u001b[43minputs\u001b[49m\n\u001b[1;32m    494\u001b[0m \u001b[43m\u001b[49m\u001b[43m)\u001b[49m\n",
      "File \u001b[0;32m/Library/Frameworks/Python.framework/Versions/3.11/lib/python3.11/site-packages/torch/autograd/__init__.py:251\u001b[0m, in \u001b[0;36mbackward\u001b[0;34m(tensors, grad_tensors, retain_graph, create_graph, grad_variables, inputs)\u001b[0m\n\u001b[1;32m    246\u001b[0m     retain_graph \u001b[38;5;241m=\u001b[39m create_graph\n\u001b[1;32m    248\u001b[0m \u001b[38;5;66;03m# The reason we repeat the same comment below is that\u001b[39;00m\n\u001b[1;32m    249\u001b[0m \u001b[38;5;66;03m# some Python versions print out the first line of a multi-line function\u001b[39;00m\n\u001b[1;32m    250\u001b[0m \u001b[38;5;66;03m# calls in the traceback and some print out the last line\u001b[39;00m\n\u001b[0;32m--> 251\u001b[0m \u001b[43mVariable\u001b[49m\u001b[38;5;241;43m.\u001b[39;49m\u001b[43m_execution_engine\u001b[49m\u001b[38;5;241;43m.\u001b[39;49m\u001b[43mrun_backward\u001b[49m\u001b[43m(\u001b[49m\u001b[43m  \u001b[49m\u001b[38;5;66;43;03m# Calls into the C++ engine to run the backward pass\u001b[39;49;00m\n\u001b[1;32m    252\u001b[0m \u001b[43m    \u001b[49m\u001b[43mtensors\u001b[49m\u001b[43m,\u001b[49m\n\u001b[1;32m    253\u001b[0m \u001b[43m    \u001b[49m\u001b[43mgrad_tensors_\u001b[49m\u001b[43m,\u001b[49m\n\u001b[1;32m    254\u001b[0m \u001b[43m    \u001b[49m\u001b[43mretain_graph\u001b[49m\u001b[43m,\u001b[49m\n\u001b[1;32m    255\u001b[0m \u001b[43m    \u001b[49m\u001b[43mcreate_graph\u001b[49m\u001b[43m,\u001b[49m\n\u001b[1;32m    256\u001b[0m \u001b[43m    \u001b[49m\u001b[43minputs\u001b[49m\u001b[43m,\u001b[49m\n\u001b[1;32m    257\u001b[0m \u001b[43m    \u001b[49m\u001b[43mallow_unreachable\u001b[49m\u001b[38;5;241;43m=\u001b[39;49m\u001b[38;5;28;43;01mTrue\u001b[39;49;00m\u001b[43m,\u001b[49m\n\u001b[1;32m    258\u001b[0m \u001b[43m    \u001b[49m\u001b[43maccumulate_grad\u001b[49m\u001b[38;5;241;43m=\u001b[39;49m\u001b[38;5;28;43;01mTrue\u001b[39;49;00m\u001b[43m,\u001b[49m\n\u001b[1;32m    259\u001b[0m \u001b[43m\u001b[49m\u001b[43m)\u001b[49m\n",
      "\u001b[0;31mKeyboardInterrupt\u001b[0m: "
     ]
    }
   ],
   "source": [
    "# Because DDPG is an off-policy actor-critic policy-gradient algorithm, this means that the critic\n",
    "# evaluates the actor, but because they are off-policy, the agents act according to their own\n",
    "# policy but learn according to the target policy.\n",
    "\n",
    "class DDPG:\n",
    "    def __init__(self, df):\n",
    "        self.device = torch.device(\"cuda\" if torch.cuda.is_available() else \"cpu\")\n",
    "        # Initialise environment:\n",
    "        self.env = DDPGTradingEnv(df)\n",
    "        # Pseudocode line 1:\n",
    "        # Initialize replay memory 𝐷 to capacity 𝑁\n",
    "        self.N = 1000\n",
    "        self.replay_memory = []\n",
    "        # replay_memory = deque(maxlen=N)\n",
    "        # Initialise minibatch size\n",
    "        self.minibatch_size = 50\n",
    "        # Pseudocode line 2 & 3:\n",
    "        # Initialize actor network 𝜋̂ 1 with parameters 𝒘1 arbitrarily\n",
    "        # Initialize target actor network 𝜋̂ 2 with parameters 𝒘2=𝒘1\n",
    "        self.state_dim = 5\n",
    "        self.action_dim = 1\n",
    "        self.actor_model = Actor(self.state_dim, self.action_dim)\n",
    "        self.target_actor_model = Actor(self.state_dim, self.action_dim)\n",
    "        # Pseudocode line 4 & 5:\n",
    "        # Initialize critic network 𝑞̂ 1 with parameters 𝜽1 arbitrarily\n",
    "        # Initialize target critic network 𝑞̂ 2 with parameters 𝜽2=𝜽1\n",
    "        self.critic_model = Critic(self.state_dim, self.action_dim)\n",
    "        self.target_critic_model = Critic(self.state_dim, self.action_dim)\n",
    "\n",
    "        # Initialise random process ϵ for action exploration\n",
    "        self.epsilon = 0.5\n",
    "        # Pseudocode line 6: Algorithm parameters: target network learning rate 𝛽>0\n",
    "        self.beta = 0.005\n",
    "        # Gamma is the discount factor (importance of future rewards)\n",
    "        self.gamma = 0.9\n",
    "        # This is for the gradient descent\n",
    "        self.lr = 0.005\n",
    "        # Optimizers\n",
    "        self.optimizer_critic = optim.Adam(self.critic_model.parameters(), lr=self.lr)\n",
    "        self.optimizer_actor = optim.Adam(self.actor_model.parameters(), lr=self.lr)\n",
    "\n",
    "    # policy\n",
    "    def select_action(self, state):\n",
    "        # Select action 𝐴←𝜋̂ 1(𝑆,𝒘1)+\n",
    "        action = self.actor_model(torch.FloatTensor(state).to(self.device))\n",
    "        action = action.detach().to('cpu').numpy()\n",
    "        print(\"action: \", action)\n",
    "        # Add exploration noise (optional). Adds dampened value within action space\n",
    "        # action += self.epsilon * np.random.randn(self.action_dim)\n",
    "\n",
    "        # UCOMMENT BELOW TO SEE WHAT I MEAN\n",
    "        # e - greedy exploration\n",
    "        # if np.random.random() < self.epsilon:\n",
    "        #     action = np.random.uniform(-1, 1)\n",
    "\n",
    "        \n",
    "        return action\n",
    "    \n",
    "    def store_transition(self, state, action, reward, new_state):\n",
    "        # Store transition (𝑆,𝐴,𝑅,𝑆′) in 𝐷\n",
    "        # transition = (state, action, reward, new_state)\n",
    "        transition = (torch.FloatTensor(state), torch.FloatTensor(action), torch.FloatTensor(reward), torch.FloatTensor(new_state))\n",
    "        self.replay_memory.append(transition)\n",
    "    \n",
    "    # Allows you to perform updates more frequently & helps with regularisation\n",
    "    def sample_minibatch(self):\n",
    "        if len(self.replay_memory) <= self.minibatch_size:\n",
    "            return self.replay_memory\n",
    "        else:\n",
    "            return random.sample(self.replay_memory, self.minibatch_size)\n",
    "        \n",
    "    def update_critic(self, state, action, reward, new_state):\n",
    "        # Makes sure state and action are on same device\n",
    "        state = state.to(self.device)\n",
    "        action = action.to(self.device)\n",
    "        new_state_tensor = torch.FloatTensor(new_state).to(self.device)\n",
    "\n",
    "        # 𝜋̂ 2(𝑆′𝑗,𝒘2)\n",
    "        target_actor_output = self.target_actor_model(new_state_tensor)\n",
    "        # y is the TD target value (improved Q-value) for the critic (calculated using actor)\n",
    "        y = reward + self.gamma * self.target_critic_model(new_state_tensor, target_actor_output)\n",
    "        \n",
    "        # Perform gradient descent step ∇𝜽1(𝑦−𝑞̂ 1(𝑆𝑗,𝐴𝑗,𝜽1))2 for critic (critic learning from target critic)\n",
    "        critic_output = self.critic_model(state, action)\n",
    "        # critic_loss = F.mse_loss(critic_output, y)\n",
    "        # y.detach removes tensor\n",
    "        critic_loss = nn.MSELoss().to(self.device)(critic_output, y.detach())\n",
    "        self.optimizer_critic.zero_grad()\n",
    "        critic_loss.backward()\n",
    "        self.optimizer_critic.step()\n",
    "    \n",
    "    def update_actor(self, state):\n",
    "        # Perform gradient ascent step ∇𝑤1𝐸[𝑞̂ 1(𝑆𝑗,𝜋̂ 1(𝑆𝑗,𝒘1),𝜽1)] for actor (actor learning from critic)\n",
    "        actor_output = self.actor_model(state)\n",
    "        actor_loss = -torch.mean(self.critic_model(state, actor_output))\n",
    "        self.optimizer_actor.zero_grad()\n",
    "        actor_loss.backward()\n",
    "        self.optimizer_actor.step()\n",
    "\n",
    "    def update_target_network_parameters(self):\n",
    "        # Update target actor network parameters 𝒘2←𝛽𝒘1+(1−𝛽)𝒘2\n",
    "        for target_param, param in zip(self.target_actor_model.parameters(), self.actor_model.parameters()):\n",
    "            target_param.data.copy_(self.beta * param.data + (1 - self.beta) * target_param.data)    \n",
    "        # Update target critic network parameters 𝜽2←𝛽𝜽1+(1−𝛽)𝜽2\n",
    "        for target_param, param in zip(self.target_critic_model.parameters(), self.critic_model.parameters()):\n",
    "            target_param.data.copy_(self.beta * param.data + (1 - self.beta) * target_param.data)\n",
    "\n",
    "    def learn(self, state, action, reward, new_state, terminated):\n",
    "        self.store_transition(state, action, reward, new_state)\n",
    "        minibatch_sampled_from_D = self.sample_minibatch()\n",
    "        # For each transition (𝑆𝑗,𝐴𝑗,𝑅𝑗,𝑆′𝑗) in minibatch sampled from 𝐷:\n",
    "        for transition in minibatch_sampled_from_D:\n",
    "            # 𝑦←𝑅𝑗+𝛾𝑞̂ 2(𝑆′𝑗,𝜋̂ 2(𝑆′𝑗,𝒘2),𝜽2)\n",
    "            state, action, reward, new_state = transition\n",
    "            self.update_critic(state, action, reward, new_state)\n",
    "            self.update_actor(state)\n",
    "        self.update_target_network_parameters()\n",
    "\n",
    "\n",
    "# Loop for each episode:\n",
    "num_episodes = 1\n",
    "DDPG_agent = DDPG(df)\n",
    "\n",
    "for i in range(num_episodes):\n",
    "\n",
    "    # Initialise S\n",
    "    state = DDPG_agent.env.reset()\n",
    "\n",
    "    # Loop for each step of episode (each time step in df)\n",
    "    terminated = False\n",
    "    while not terminated:\n",
    "        \n",
    "        action = DDPG_agent.select_action(state)\n",
    "        \n",
    "        # Execute action 𝐴, observe reward 𝑅 and next-state 𝑆′\n",
    "        new_state, reward, terminated, info = DDPG_agent.env.step(action)\n",
    "        \n",
    "        DDPG_agent.learn(state, action, reward, new_state, terminated)\n",
    "\n",
    "        # Update state\n",
    "        state = new_state\n"
   ]
  },
  {
   "cell_type": "code",
   "execution_count": null,
   "metadata": {},
   "outputs": [
    {
     "ename": "ValueError",
     "evalue": "x and y can be no greater than 2D, but have shapes (650,) and (650, 1, 1)",
     "output_type": "error",
     "traceback": [
      "\u001b[0;31m---------------------------------------------------------------------------\u001b[0m",
      "\u001b[0;31mValueError\u001b[0m                                Traceback (most recent call last)",
      "Cell \u001b[0;32mIn[266], line 3\u001b[0m\n\u001b[1;32m      1\u001b[0m \u001b[38;5;28;01mimport\u001b[39;00m \u001b[38;5;21;01mmatplotlib\u001b[39;00m\u001b[38;5;21;01m.\u001b[39;00m\u001b[38;5;21;01mpyplot\u001b[39;00m \u001b[38;5;28;01mas\u001b[39;00m \u001b[38;5;21;01mplt\u001b[39;00m\n\u001b[0;32m----> 3\u001b[0m \u001b[43mplt\u001b[49m\u001b[38;5;241;43m.\u001b[39;49m\u001b[43mplot\u001b[49m\u001b[43m(\u001b[49m\u001b[43mDDPG_agent\u001b[49m\u001b[38;5;241;43m.\u001b[39;49m\u001b[43menv\u001b[49m\u001b[38;5;241;43m.\u001b[39;49m\u001b[43mportfolio_history\u001b[49m\u001b[43m[\u001b[49m\u001b[38;5;241;43m1\u001b[39;49m\u001b[43m:\u001b[49m\u001b[43m]\u001b[49m\u001b[43m)\u001b[49m\n\u001b[1;32m      4\u001b[0m \u001b[38;5;28mprint\u001b[39m(DDPG_agent\u001b[38;5;241m.\u001b[39menv\u001b[38;5;241m.\u001b[39mportfolio_history)\n\u001b[1;32m      5\u001b[0m plt\u001b[38;5;241m.\u001b[39mtitle(\u001b[38;5;124m\"\u001b[39m\u001b[38;5;124mPortfolio Change Over Time\u001b[39m\u001b[38;5;124m\"\u001b[39m)\n",
      "File \u001b[0;32m/Library/Frameworks/Python.framework/Versions/3.11/lib/python3.11/site-packages/matplotlib/pyplot.py:2812\u001b[0m, in \u001b[0;36mplot\u001b[0;34m(scalex, scaley, data, *args, **kwargs)\u001b[0m\n\u001b[1;32m   2810\u001b[0m \u001b[38;5;129m@_copy_docstring_and_deprecators\u001b[39m(Axes\u001b[38;5;241m.\u001b[39mplot)\n\u001b[1;32m   2811\u001b[0m \u001b[38;5;28;01mdef\u001b[39;00m \u001b[38;5;21mplot\u001b[39m(\u001b[38;5;241m*\u001b[39margs, scalex\u001b[38;5;241m=\u001b[39m\u001b[38;5;28;01mTrue\u001b[39;00m, scaley\u001b[38;5;241m=\u001b[39m\u001b[38;5;28;01mTrue\u001b[39;00m, data\u001b[38;5;241m=\u001b[39m\u001b[38;5;28;01mNone\u001b[39;00m, \u001b[38;5;241m*\u001b[39m\u001b[38;5;241m*\u001b[39mkwargs):\n\u001b[0;32m-> 2812\u001b[0m     \u001b[38;5;28;01mreturn\u001b[39;00m \u001b[43mgca\u001b[49m\u001b[43m(\u001b[49m\u001b[43m)\u001b[49m\u001b[38;5;241;43m.\u001b[39;49m\u001b[43mplot\u001b[49m\u001b[43m(\u001b[49m\n\u001b[1;32m   2813\u001b[0m \u001b[43m        \u001b[49m\u001b[38;5;241;43m*\u001b[39;49m\u001b[43margs\u001b[49m\u001b[43m,\u001b[49m\u001b[43m \u001b[49m\u001b[43mscalex\u001b[49m\u001b[38;5;241;43m=\u001b[39;49m\u001b[43mscalex\u001b[49m\u001b[43m,\u001b[49m\u001b[43m \u001b[49m\u001b[43mscaley\u001b[49m\u001b[38;5;241;43m=\u001b[39;49m\u001b[43mscaley\u001b[49m\u001b[43m,\u001b[49m\n\u001b[1;32m   2814\u001b[0m \u001b[43m        \u001b[49m\u001b[38;5;241;43m*\u001b[39;49m\u001b[38;5;241;43m*\u001b[39;49m\u001b[43m(\u001b[49m\u001b[43m{\u001b[49m\u001b[38;5;124;43m\"\u001b[39;49m\u001b[38;5;124;43mdata\u001b[39;49m\u001b[38;5;124;43m\"\u001b[39;49m\u001b[43m:\u001b[49m\u001b[43m \u001b[49m\u001b[43mdata\u001b[49m\u001b[43m}\u001b[49m\u001b[43m \u001b[49m\u001b[38;5;28;43;01mif\u001b[39;49;00m\u001b[43m \u001b[49m\u001b[43mdata\u001b[49m\u001b[43m \u001b[49m\u001b[38;5;129;43;01mis\u001b[39;49;00m\u001b[43m \u001b[49m\u001b[38;5;129;43;01mnot\u001b[39;49;00m\u001b[43m \u001b[49m\u001b[38;5;28;43;01mNone\u001b[39;49;00m\u001b[43m \u001b[49m\u001b[38;5;28;43;01melse\u001b[39;49;00m\u001b[43m \u001b[49m\u001b[43m{\u001b[49m\u001b[43m}\u001b[49m\u001b[43m)\u001b[49m\u001b[43m,\u001b[49m\u001b[43m \u001b[49m\u001b[38;5;241;43m*\u001b[39;49m\u001b[38;5;241;43m*\u001b[39;49m\u001b[43mkwargs\u001b[49m\u001b[43m)\u001b[49m\n",
      "File \u001b[0;32m/Library/Frameworks/Python.framework/Versions/3.11/lib/python3.11/site-packages/matplotlib/axes/_axes.py:1688\u001b[0m, in \u001b[0;36mAxes.plot\u001b[0;34m(self, scalex, scaley, data, *args, **kwargs)\u001b[0m\n\u001b[1;32m   1445\u001b[0m \u001b[38;5;250m\u001b[39m\u001b[38;5;124;03m\"\"\"\u001b[39;00m\n\u001b[1;32m   1446\u001b[0m \u001b[38;5;124;03mPlot y versus x as lines and/or markers.\u001b[39;00m\n\u001b[1;32m   1447\u001b[0m \n\u001b[0;32m   (...)\u001b[0m\n\u001b[1;32m   1685\u001b[0m \u001b[38;5;124;03m(``'green'``) or hex strings (``'#008000'``).\u001b[39;00m\n\u001b[1;32m   1686\u001b[0m \u001b[38;5;124;03m\"\"\"\u001b[39;00m\n\u001b[1;32m   1687\u001b[0m kwargs \u001b[38;5;241m=\u001b[39m cbook\u001b[38;5;241m.\u001b[39mnormalize_kwargs(kwargs, mlines\u001b[38;5;241m.\u001b[39mLine2D)\n\u001b[0;32m-> 1688\u001b[0m lines \u001b[38;5;241m=\u001b[39m [\u001b[38;5;241m*\u001b[39m\u001b[38;5;28mself\u001b[39m\u001b[38;5;241m.\u001b[39m_get_lines(\u001b[38;5;241m*\u001b[39margs, data\u001b[38;5;241m=\u001b[39mdata, \u001b[38;5;241m*\u001b[39m\u001b[38;5;241m*\u001b[39mkwargs)]\n\u001b[1;32m   1689\u001b[0m \u001b[38;5;28;01mfor\u001b[39;00m line \u001b[38;5;129;01min\u001b[39;00m lines:\n\u001b[1;32m   1690\u001b[0m     \u001b[38;5;28mself\u001b[39m\u001b[38;5;241m.\u001b[39madd_line(line)\n",
      "File \u001b[0;32m/Library/Frameworks/Python.framework/Versions/3.11/lib/python3.11/site-packages/matplotlib/axes/_base.py:311\u001b[0m, in \u001b[0;36m_process_plot_var_args.__call__\u001b[0;34m(self, data, *args, **kwargs)\u001b[0m\n\u001b[1;32m    309\u001b[0m     this \u001b[38;5;241m+\u001b[39m\u001b[38;5;241m=\u001b[39m args[\u001b[38;5;241m0\u001b[39m],\n\u001b[1;32m    310\u001b[0m     args \u001b[38;5;241m=\u001b[39m args[\u001b[38;5;241m1\u001b[39m:]\n\u001b[0;32m--> 311\u001b[0m \u001b[38;5;28;01myield from\u001b[39;00m \u001b[38;5;28;43mself\u001b[39;49m\u001b[38;5;241;43m.\u001b[39;49m\u001b[43m_plot_args\u001b[49m\u001b[43m(\u001b[49m\n\u001b[1;32m    312\u001b[0m \u001b[43m    \u001b[49m\u001b[43mthis\u001b[49m\u001b[43m,\u001b[49m\u001b[43m \u001b[49m\u001b[43mkwargs\u001b[49m\u001b[43m,\u001b[49m\u001b[43m \u001b[49m\u001b[43mambiguous_fmt_datakey\u001b[49m\u001b[38;5;241;43m=\u001b[39;49m\u001b[43mambiguous_fmt_datakey\u001b[49m\u001b[43m)\u001b[49m\n",
      "File \u001b[0;32m/Library/Frameworks/Python.framework/Versions/3.11/lib/python3.11/site-packages/matplotlib/axes/_base.py:507\u001b[0m, in \u001b[0;36m_process_plot_var_args._plot_args\u001b[0;34m(self, tup, kwargs, return_kwargs, ambiguous_fmt_datakey)\u001b[0m\n\u001b[1;32m    504\u001b[0m     \u001b[38;5;28;01mraise\u001b[39;00m \u001b[38;5;167;01mValueError\u001b[39;00m(\u001b[38;5;124mf\u001b[39m\u001b[38;5;124m\"\u001b[39m\u001b[38;5;124mx and y must have same first dimension, but \u001b[39m\u001b[38;5;124m\"\u001b[39m\n\u001b[1;32m    505\u001b[0m                      \u001b[38;5;124mf\u001b[39m\u001b[38;5;124m\"\u001b[39m\u001b[38;5;124mhave shapes \u001b[39m\u001b[38;5;132;01m{\u001b[39;00mx\u001b[38;5;241m.\u001b[39mshape\u001b[38;5;132;01m}\u001b[39;00m\u001b[38;5;124m and \u001b[39m\u001b[38;5;132;01m{\u001b[39;00my\u001b[38;5;241m.\u001b[39mshape\u001b[38;5;132;01m}\u001b[39;00m\u001b[38;5;124m\"\u001b[39m)\n\u001b[1;32m    506\u001b[0m \u001b[38;5;28;01mif\u001b[39;00m x\u001b[38;5;241m.\u001b[39mndim \u001b[38;5;241m>\u001b[39m \u001b[38;5;241m2\u001b[39m \u001b[38;5;129;01mor\u001b[39;00m y\u001b[38;5;241m.\u001b[39mndim \u001b[38;5;241m>\u001b[39m \u001b[38;5;241m2\u001b[39m:\n\u001b[0;32m--> 507\u001b[0m     \u001b[38;5;28;01mraise\u001b[39;00m \u001b[38;5;167;01mValueError\u001b[39;00m(\u001b[38;5;124mf\u001b[39m\u001b[38;5;124m\"\u001b[39m\u001b[38;5;124mx and y can be no greater than 2D, but have \u001b[39m\u001b[38;5;124m\"\u001b[39m\n\u001b[1;32m    508\u001b[0m                      \u001b[38;5;124mf\u001b[39m\u001b[38;5;124m\"\u001b[39m\u001b[38;5;124mshapes \u001b[39m\u001b[38;5;132;01m{\u001b[39;00mx\u001b[38;5;241m.\u001b[39mshape\u001b[38;5;132;01m}\u001b[39;00m\u001b[38;5;124m and \u001b[39m\u001b[38;5;132;01m{\u001b[39;00my\u001b[38;5;241m.\u001b[39mshape\u001b[38;5;132;01m}\u001b[39;00m\u001b[38;5;124m\"\u001b[39m)\n\u001b[1;32m    509\u001b[0m \u001b[38;5;28;01mif\u001b[39;00m x\u001b[38;5;241m.\u001b[39mndim \u001b[38;5;241m==\u001b[39m \u001b[38;5;241m1\u001b[39m:\n\u001b[1;32m    510\u001b[0m     x \u001b[38;5;241m=\u001b[39m x[:, np\u001b[38;5;241m.\u001b[39mnewaxis]\n",
      "\u001b[0;31mValueError\u001b[0m: x and y can be no greater than 2D, but have shapes (650,) and (650, 1, 1)"
     ]
    },
    {
     "data": {
      "image/png": "[encoded data removed]",
      "text/plain": [
       "<Figure size 640x480 with 1 Axes>"
      ]
     },
     "metadata": {},
     "output_type": "display_data"
    }
   ],
   "source": [
    "import matplotlib.pyplot as plt\n",
    "\n",
    "plt.plot(DDPG_agent.env.portfolio_history[1:])\n",
    "print(DDPG_agent.env.portfolio_history)\n",
    "plt.title(\"Portfolio Change Over Time\")\n",
    "plt.xlabel(\"Steps\")\n",
    "plt.ylabel(\"Portfolio value\")\n",
    "plt.show()"
   ]
  }
 ],
 "metadata": {
  "colab": {
   "collapsed_sections": [],
   "name": "Convolution Lab.ipynb",
   "provenance": []
  },
  "kernelspec": {
   "display_name": "Python 3",
   "language": "python",
   "name": "python3"
  },
  "language_info": {
   "codemirror_mode": {
    "name": "ipython",
    "version": 3
   },
   "file_extension": ".py",
   "mimetype": "text/x-python",
   "name": "python",
   "nbconvert_exporter": "python",
   "pygments_lexer": "ipython3",
   "version": "3.11.2"
  }
 },
 "nbformat": 4,
 "nbformat_minor": 1
}
