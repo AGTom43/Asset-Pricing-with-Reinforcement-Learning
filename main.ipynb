{
  "cells": [
    {
      "cell_type": "markdown",
      "metadata": {
        "id": "p4KBt_tG2LrH"
      },
      "source": [
        "# DDPG Main"
      ]
    },
    {
      "cell_type": "markdown",
      "metadata": {
        "id": "bqS-dA2W2LrP"
      },
      "source": [
        "## Data Preprocessing"
      ]
    },
    {
      "cell_type": "code",
      "source": [
        "!pip install gymnasium"
      ],
      "metadata": {
        "colab": {
          "base_uri": "https://localhost:8080/"
        },
        "id": "r47yqz3R2pmZ",
        "outputId": "5a66ad7d-a452-4be7-f7ed-f6686649a737"
      },
      "execution_count": 2,
      "outputs": [
        {
          "output_type": "stream",
          "name": "stdout",
          "text": [
            "Collecting gymnasium\n",
            "  Downloading gymnasium-0.29.1-py3-none-any.whl (953 kB)\n",
            "\u001b[2K     \u001b[90m━━━━━━━━━━━━━━━━━━━━━━━━━━━━━━━━━━━━━━━━\u001b[0m \u001b[32m953.9/953.9 kB\u001b[0m \u001b[31m6.1 MB/s\u001b[0m eta \u001b[36m0:00:00\u001b[0m\n",
            "\u001b[?25hRequirement already satisfied: numpy>=1.21.0 in /usr/local/lib/python3.10/dist-packages (from gymnasium) (1.23.5)\n",
            "Requirement already satisfied: cloudpickle>=1.2.0 in /usr/local/lib/python3.10/dist-packages (from gymnasium) (2.2.1)\n",
            "Requirement already satisfied: typing-extensions>=4.3.0 in /usr/local/lib/python3.10/dist-packages (from gymnasium) (4.5.0)\n",
            "Collecting farama-notifications>=0.0.1 (from gymnasium)\n",
            "  Downloading Farama_Notifications-0.0.4-py3-none-any.whl (2.5 kB)\n",
            "Installing collected packages: farama-notifications, gymnasium\n",
            "Successfully installed farama-notifications-0.0.4 gymnasium-0.29.1\n"
          ]
        }
      ]
    },
    {
      "cell_type": "code",
      "execution_count": 3,
      "metadata": {
        "colab": {
          "base_uri": "https://localhost:8080/"
        },
        "id": "AWP9qig52LrR",
        "outputId": "890faaac-e38a-4bb2-a62d-5fcbd5575c2b"
      },
      "outputs": [
        {
          "output_type": "stream",
          "name": "stdout",
          "text": [
            "                    Date  Last Price    Volume  SMAVG (15)\n",
            "2331 2023-03-07 20:00:00    0.596608  0.049707    0.072420\n",
            "2330 2023-03-07 20:30:00    0.606681  0.165330    0.086878\n",
            "2329 2023-03-08 14:30:00    0.634154  0.134774    0.099523\n",
            "2328 2023-03-08 15:00:00    0.608055  0.086473    0.077523\n",
            "2327 2023-03-08 15:30:00    0.571654  0.099766    0.067301\n",
            "...                  ...         ...       ...         ...\n",
            "473  2023-09-29 20:30:00    0.881409  0.306496    0.180971\n",
            "472  2023-10-02 14:30:00    0.794870  0.171930    0.194260\n",
            "471  2023-10-02 15:00:00    0.755034  0.144825    0.184963\n",
            "470  2023-10-02 15:30:00    0.762818  0.113712    0.166506\n",
            "469  2023-10-02 16:00:00    0.764192  0.092697    0.157100\n",
            "\n",
            "[1863 rows x 4 columns]\n"
          ]
        }
      ],
      "source": [
        "import pandas as pd\n",
        "from sklearn.preprocessing import MinMaxScaler\n",
        "\n",
        "# Load data\n",
        "#C:\\Users\\rohit\\OneDrive\\Documents\\Asset-Pricing-with-Reinforcement-Learning\\XOM_30_minute_6_month_data.csv\n",
        "df = pd.read_csv('XOM_30_minute_6_month_data.csv', parse_dates=['Date'])\n",
        "df.sort_values('Date', inplace=True)\n",
        "\n",
        "# Normalize\n",
        "scaler = MinMaxScaler()\n",
        "\n",
        "df[['Last Price', 'Volume', 'SMAVG (15)']] = scaler.fit_transform(df[['Last Price', 'Volume', 'SMAVG (15)']])\n",
        "\n",
        "# Split into training and testing sets\n",
        "train_size = int(len(df) * 0.8)\n",
        "train_df = df[:train_size]\n",
        "test_df = df[train_size:]\n",
        "\n",
        "print(train_df[10:])"
      ]
    },
    {
      "cell_type": "markdown",
      "metadata": {
        "id": "C2PfLWJ-2LrZ"
      },
      "source": [
        "## Environment"
      ]
    },
    {
      "cell_type": "code",
      "execution_count": 4,
      "metadata": {
        "id": "q1ytSK2k2Lra"
      },
      "outputs": [],
      "source": [
        "import numpy as np\n",
        "import gymnasium\n",
        "from gymnasium import spaces\n",
        "\n",
        "class DDPGTradingEnv(gymnasium.Env):\n",
        "  def __init__(self, df):\n",
        "    super().__init__()\n",
        "\n",
        "    self.df = df\n",
        "    self.current_step = 0\n",
        "    self.total_steps = len(df) - 1\n",
        "\n",
        "    # Negatives mean quantity to sell, 0 is hold, positives mean buy\n",
        "    self.action_space = spaces.Box(low=-1, high=1, shape=(1, ), dtype=np.float32)\n",
        "    # Observation space: normalized last price, normalized shares held, normalized cash balance\n",
        "    self.observation_space = spaces.Box(low=0, high=1, shape=(3,), dtype=np.float32)\n",
        "\n",
        "    self.reset()\n",
        "\n",
        "  def reset(self):\n",
        "    self.current_step = 0\n",
        "    self.total_profit = 0\n",
        "    self.initial_balance = 10000\n",
        "    self.cash_balance = self.initial_balance\n",
        "    self.shares_held = 0\n",
        "    self.portfolio_value = self.cash_balance\n",
        "\n",
        "    self.previous_portfolio_value = self.portfolio_value\n",
        "    # For plotting\n",
        "    self.portfolio_history = [self.portfolio_value]\n",
        "\n",
        "    return self.get_observation()\n",
        "\n",
        "  def get_observation(self):\n",
        "    current_price = self.df.loc[self.current_step, 'Last Price']\n",
        "    return np.array([current_price, self.shares_held, self.cash_balance])\n",
        "\n",
        "  # Action space is one number between -1 and 1.\n",
        "  def take_action(self, action_value):\n",
        "    current_price = self.df.loc[self.current_step, 'Last Price']\n",
        "    if action_value > 0:\n",
        "      self.buy_stock(action_value, current_price)\n",
        "    elif action_value < 0:\n",
        "      self.sell_stock(action_value, current_price)\n",
        "    # Update the portfolio value\n",
        "    self.previous_portfolio_value = self.portfolio_value\n",
        "    self.portfolio_value = self.cash_balance + (self.shares_held * current_price)\n",
        "\n",
        "  def buy_stock(self, action_value, current_price):\n",
        "    action_value = min(action_value, 1)\n",
        "    num_stocks = np.round((self.cash_balance // current_price) * action_value)\n",
        "    self.cash_balance -= (num_stocks * current_price)\n",
        "    self.shares_held += num_stocks\n",
        "\n",
        "  def sell_stock(self, action_value, current_price):\n",
        "    action_value = max(action_value, -1)\n",
        "    num_stocks = np.round(self.shares_held * -action_value)\n",
        "    self.cash_balance += (num_stocks * current_price)\n",
        "    self.shares_held -= num_stocks\n",
        "\n",
        "  def step(self, action):\n",
        "    self.current_step += 1\n",
        "    self.take_action(action)\n",
        "    reward = self.calculate_reward()\n",
        "    terminated = (self.current_step >= self.total_steps)\n",
        "    observation = self.get_observation()\n",
        "    info = {'current_step': self.current_step, 'portfolio_value': self.portfolio_value}\n",
        "    self.portfolio_history.append(self.portfolio_value)\n",
        "    return observation, reward, terminated, info\n",
        "\n",
        "  def render(self, mode='human'):\n",
        "    if mode == 'human':\n",
        "      print(f\"Step: {self.current_step}, Portfolio Value: {self.portfolio_value}\")\n",
        "\n",
        "  # The reward is the change in portfolio value the next time_step\n",
        "  def calculate_reward(self):\n",
        "    reward = self.portfolio_value - self.previous_portfolio_value\n",
        "    if reward > 0:\n",
        "      reward = reward * 3\n",
        "    return reward"
      ]
    },
    {
      "cell_type": "markdown",
      "metadata": {
        "id": "u7lmJMcB2Lrd"
      },
      "source": [
        "\n",
        "## DDPG Classes"
      ]
    },
    {
      "cell_type": "code",
      "execution_count": 5,
      "metadata": {
        "id": "45Wi-p1R2Lri"
      },
      "outputs": [],
      "source": [
        "import random\n",
        "from collections import deque\n",
        "import torch\n",
        "import torch.nn as nn\n",
        "import torch.nn.functional as F\n",
        "import torch.optim as optim\n",
        "\n",
        "class Actor(nn.Module):\n",
        "    def __init__(self, state_dim, action_dim, hidden1_units, hidden2_units):\n",
        "        super(Actor, self).__init__()\n",
        "        self.fc1 = nn.Linear(state_dim, hidden1_units)\n",
        "        self.fc2 = nn.Linear(hidden1_units, hidden2_units)\n",
        "        self.fc3 = nn.Linear(hidden2_units, action_dim)\n",
        "\n",
        "    def forward(self, state):\n",
        "        x = F.relu(self.fc1(state))\n",
        "        x = F.relu(self.fc2(x))\n",
        "        x = torch.tanh(self.fc3(x))  # Output with tanh activation for bounded actions\n",
        "        return x"
      ]
    },
    {
      "cell_type": "code",
      "execution_count": 6,
      "metadata": {
        "id": "bsVk4Mcv2Lrk"
      },
      "outputs": [],
      "source": [
        "class Critic(nn.Module):\n",
        "    def __init__(self, state_dim, action_dim, hidden1_units, hidden2_units):\n",
        "        super(Critic, self).__init__()\n",
        "        self.fc1_state = nn.Linear(state_dim, hidden1_units)\n",
        "        self.fc2_state = nn.Linear(hidden1_units, hidden2_units)\n",
        "\n",
        "        self.fc2_action = nn.Linear(action_dim, hidden2_units)\n",
        "\n",
        "        self.fc3 = nn.Linear(hidden2_units * 2, 1)  # Combined layer\n",
        "\n",
        "    def forward(self, state, action):\n",
        "        x_state = F.relu(self.fc1_state(state))\n",
        "        x_state = F.relu(self.fc2_state(x_state))\n",
        "\n",
        "        x_action = F.relu(self.fc2_action(action))\n",
        "\n",
        "        x = torch.cat((x_state, x_action), dim=0)\n",
        "        x = F.relu(x)\n",
        "        x = self.fc3(x)  # Q-value output\n",
        "        return x"
      ]
    },
    {
      "cell_type": "code",
      "execution_count": 9,
      "metadata": {
        "colab": {
          "base_uri": "https://localhost:8080/",
          "height": 1000
        },
        "id": "HqO-tDig2Lre",
        "outputId": "3959ecbf-0d01-4ae0-afdc-b01221d00119"
      },
      "outputs": [
        {
          "output_type": "stream",
          "name": "stdout",
          "text": [
            "[-1.]\n",
            "{'current_step': 1, 'portfolio_value': array([10000.], dtype=float32)}\n",
            "[-1.]\n",
            "{'current_step': 2, 'portfolio_value': array([10000.], dtype=float32)}\n",
            "[-1.]\n",
            "{'current_step': 3, 'portfolio_value': array([10000.], dtype=float32)}\n",
            "[-1.]\n",
            "{'current_step': 4, 'portfolio_value': array([10000.], dtype=float32)}\n",
            "[-1.]\n",
            "{'current_step': 5, 'portfolio_value': array([10000.], dtype=float32)}\n",
            "[-1.]\n",
            "{'current_step': 6, 'portfolio_value': array([10000.], dtype=float32)}\n"
          ]
        },
        {
          "output_type": "stream",
          "name": "stderr",
          "text": [
            "<ipython-input-4-8685b993fc0c>:36: VisibleDeprecationWarning: Creating an ndarray from ragged nested sequences (which is a list-or-tuple of lists-or-tuples-or ndarrays with different lengths or shapes) is deprecated. If you meant to do this, you must specify 'dtype=object' when creating the ndarray.\n",
            "  return np.array([current_price, self.shares_held, self.cash_balance])\n"
          ]
        },
        {
          "output_type": "stream",
          "name": "stdout",
          "text": [
            "[-1.]\n",
            "{'current_step': 7, 'portfolio_value': array([10000.], dtype=float32)}\n",
            "[-1.]\n",
            "{'current_step': 8, 'portfolio_value': array([10000.], dtype=float32)}\n",
            "[-1.]\n",
            "{'current_step': 9, 'portfolio_value': array([10000.], dtype=float32)}\n",
            "[-1.]\n",
            "{'current_step': 10, 'portfolio_value': array([10000.], dtype=float32)}\n",
            "[-1.]\n",
            "{'current_step': 11, 'portfolio_value': array([10000.], dtype=float32)}\n",
            "[-1.]\n",
            "{'current_step': 12, 'portfolio_value': array([10000.], dtype=float32)}\n",
            "[-1.]\n",
            "{'current_step': 13, 'portfolio_value': array([10000.], dtype=float32)}\n",
            "[-1.]\n",
            "{'current_step': 14, 'portfolio_value': array([10000.], dtype=float32)}\n",
            "[-1.]\n",
            "{'current_step': 15, 'portfolio_value': array([10000.], dtype=float32)}\n",
            "[-1.]\n",
            "{'current_step': 16, 'portfolio_value': array([10000.], dtype=float32)}\n",
            "[-1.]\n",
            "{'current_step': 17, 'portfolio_value': array([10000.], dtype=float32)}\n",
            "[-1.]\n",
            "{'current_step': 18, 'portfolio_value': array([10000.], dtype=float32)}\n",
            "[-1.]\n",
            "{'current_step': 19, 'portfolio_value': array([10000.], dtype=float32)}\n",
            "[-1.]\n",
            "{'current_step': 20, 'portfolio_value': array([10000.], dtype=float32)}\n",
            "[-1.]\n",
            "{'current_step': 21, 'portfolio_value': array([10000.], dtype=float32)}\n",
            "[-1.]\n",
            "{'current_step': 22, 'portfolio_value': array([10000.], dtype=float32)}\n",
            "[-1.]\n",
            "{'current_step': 23, 'portfolio_value': array([10000.], dtype=float32)}\n",
            "[-1.]\n",
            "{'current_step': 24, 'portfolio_value': array([10000.], dtype=float32)}\n",
            "[-1.]\n",
            "{'current_step': 25, 'portfolio_value': array([10000.], dtype=float32)}\n",
            "[-1.]\n",
            "{'current_step': 26, 'portfolio_value': array([10000.], dtype=float32)}\n",
            "[-1.]\n",
            "{'current_step': 27, 'portfolio_value': array([10000.], dtype=float32)}\n",
            "[-1.]\n",
            "{'current_step': 28, 'portfolio_value': array([10000.], dtype=float32)}\n",
            "[-1.]\n",
            "{'current_step': 29, 'portfolio_value': array([10000.], dtype=float32)}\n",
            "[-1.]\n",
            "{'current_step': 30, 'portfolio_value': array([10000.], dtype=float32)}\n",
            "[-1.]\n",
            "{'current_step': 31, 'portfolio_value': array([10000.], dtype=float32)}\n",
            "[-1.]\n",
            "{'current_step': 32, 'portfolio_value': array([10000.], dtype=float32)}\n",
            "[-1.]\n",
            "{'current_step': 33, 'portfolio_value': array([10000.], dtype=float32)}\n",
            "[-1.]\n",
            "{'current_step': 34, 'portfolio_value': array([10000.], dtype=float32)}\n"
          ]
        },
        {
          "output_type": "error",
          "ename": "KeyboardInterrupt",
          "evalue": "ignored",
          "traceback": [
            "\u001b[0;31m---------------------------------------------------------------------------\u001b[0m",
            "\u001b[0;31mKeyboardInterrupt\u001b[0m                         Traceback (most recent call last)",
            "\u001b[0;32m<ipython-input-9-e3dd536aa6ac>\u001b[0m in \u001b[0;36m<cell line: 38>\u001b[0;34m()\u001b[0m\n\u001b[1;32m     66\u001b[0m       \u001b[0mnew_state_tensor\u001b[0m \u001b[0;34m=\u001b[0m \u001b[0mtorch\u001b[0m\u001b[0;34m.\u001b[0m\u001b[0mFloatTensor\u001b[0m\u001b[0;34m(\u001b[0m\u001b[0mnew_state\u001b[0m\u001b[0;34m)\u001b[0m\u001b[0;34m.\u001b[0m\u001b[0mto\u001b[0m\u001b[0;34m(\u001b[0m\u001b[0mdevice\u001b[0m\u001b[0;34m)\u001b[0m\u001b[0;34m\u001b[0m\u001b[0;34m\u001b[0m\u001b[0m\n\u001b[1;32m     67\u001b[0m \u001b[0;34m\u001b[0m\u001b[0m\n\u001b[0;32m---> 68\u001b[0;31m       \u001b[0mtarget_actor_output\u001b[0m \u001b[0;34m=\u001b[0m \u001b[0mtarget_actor_model\u001b[0m\u001b[0;34m(\u001b[0m\u001b[0mnew_state_tensor\u001b[0m\u001b[0;34m)\u001b[0m\u001b[0;34m\u001b[0m\u001b[0;34m\u001b[0m\u001b[0m\n\u001b[0m\u001b[1;32m     69\u001b[0m       \u001b[0mreward_tensor\u001b[0m \u001b[0;34m=\u001b[0m \u001b[0mreward\u001b[0m\u001b[0;34m.\u001b[0m\u001b[0mto\u001b[0m\u001b[0;34m(\u001b[0m\u001b[0mdevice\u001b[0m\u001b[0;34m)\u001b[0m\u001b[0;34m\u001b[0m\u001b[0;34m\u001b[0m\u001b[0m\n\u001b[1;32m     70\u001b[0m       \u001b[0my\u001b[0m \u001b[0;34m=\u001b[0m \u001b[0mreward_tensor\u001b[0m \u001b[0;34m+\u001b[0m \u001b[0mgamma\u001b[0m \u001b[0;34m*\u001b[0m \u001b[0mtarget_critic_model\u001b[0m\u001b[0;34m(\u001b[0m\u001b[0mnew_state_tensor\u001b[0m\u001b[0;34m,\u001b[0m \u001b[0mtarget_actor_output\u001b[0m\u001b[0;34m)\u001b[0m\u001b[0;34m\u001b[0m\u001b[0;34m\u001b[0m\u001b[0m\n",
            "\u001b[0;32m/usr/local/lib/python3.10/dist-packages/torch/nn/modules/module.py\u001b[0m in \u001b[0;36m_wrapped_call_impl\u001b[0;34m(self, *args, **kwargs)\u001b[0m\n\u001b[1;32m   1516\u001b[0m             \u001b[0;32mreturn\u001b[0m \u001b[0mself\u001b[0m\u001b[0;34m.\u001b[0m\u001b[0m_compiled_call_impl\u001b[0m\u001b[0;34m(\u001b[0m\u001b[0;34m*\u001b[0m\u001b[0margs\u001b[0m\u001b[0;34m,\u001b[0m \u001b[0;34m**\u001b[0m\u001b[0mkwargs\u001b[0m\u001b[0;34m)\u001b[0m  \u001b[0;31m# type: ignore[misc]\u001b[0m\u001b[0;34m\u001b[0m\u001b[0;34m\u001b[0m\u001b[0m\n\u001b[1;32m   1517\u001b[0m         \u001b[0;32melse\u001b[0m\u001b[0;34m:\u001b[0m\u001b[0;34m\u001b[0m\u001b[0;34m\u001b[0m\u001b[0m\n\u001b[0;32m-> 1518\u001b[0;31m             \u001b[0;32mreturn\u001b[0m \u001b[0mself\u001b[0m\u001b[0;34m.\u001b[0m\u001b[0m_call_impl\u001b[0m\u001b[0;34m(\u001b[0m\u001b[0;34m*\u001b[0m\u001b[0margs\u001b[0m\u001b[0;34m,\u001b[0m \u001b[0;34m**\u001b[0m\u001b[0mkwargs\u001b[0m\u001b[0;34m)\u001b[0m\u001b[0;34m\u001b[0m\u001b[0;34m\u001b[0m\u001b[0m\n\u001b[0m\u001b[1;32m   1519\u001b[0m \u001b[0;34m\u001b[0m\u001b[0m\n\u001b[1;32m   1520\u001b[0m     \u001b[0;32mdef\u001b[0m \u001b[0m_call_impl\u001b[0m\u001b[0;34m(\u001b[0m\u001b[0mself\u001b[0m\u001b[0;34m,\u001b[0m \u001b[0;34m*\u001b[0m\u001b[0margs\u001b[0m\u001b[0;34m,\u001b[0m \u001b[0;34m**\u001b[0m\u001b[0mkwargs\u001b[0m\u001b[0;34m)\u001b[0m\u001b[0;34m:\u001b[0m\u001b[0;34m\u001b[0m\u001b[0;34m\u001b[0m\u001b[0m\n",
            "\u001b[0;32m/usr/local/lib/python3.10/dist-packages/torch/nn/modules/module.py\u001b[0m in \u001b[0;36m_call_impl\u001b[0;34m(self, *args, **kwargs)\u001b[0m\n\u001b[1;32m   1525\u001b[0m                 \u001b[0;32mor\u001b[0m \u001b[0m_global_backward_pre_hooks\u001b[0m \u001b[0;32mor\u001b[0m \u001b[0m_global_backward_hooks\u001b[0m\u001b[0;34m\u001b[0m\u001b[0;34m\u001b[0m\u001b[0m\n\u001b[1;32m   1526\u001b[0m                 or _global_forward_hooks or _global_forward_pre_hooks):\n\u001b[0;32m-> 1527\u001b[0;31m             \u001b[0;32mreturn\u001b[0m \u001b[0mforward_call\u001b[0m\u001b[0;34m(\u001b[0m\u001b[0;34m*\u001b[0m\u001b[0margs\u001b[0m\u001b[0;34m,\u001b[0m \u001b[0;34m**\u001b[0m\u001b[0mkwargs\u001b[0m\u001b[0;34m)\u001b[0m\u001b[0;34m\u001b[0m\u001b[0;34m\u001b[0m\u001b[0m\n\u001b[0m\u001b[1;32m   1528\u001b[0m \u001b[0;34m\u001b[0m\u001b[0m\n\u001b[1;32m   1529\u001b[0m         \u001b[0;32mtry\u001b[0m\u001b[0;34m:\u001b[0m\u001b[0;34m\u001b[0m\u001b[0;34m\u001b[0m\u001b[0m\n",
            "\u001b[0;32m<ipython-input-5-47df8928abe5>\u001b[0m in \u001b[0;36mforward\u001b[0;34m(self, state)\u001b[0m\n\u001b[1;32m     14\u001b[0m \u001b[0;34m\u001b[0m\u001b[0m\n\u001b[1;32m     15\u001b[0m     \u001b[0;32mdef\u001b[0m \u001b[0mforward\u001b[0m\u001b[0;34m(\u001b[0m\u001b[0mself\u001b[0m\u001b[0;34m,\u001b[0m \u001b[0mstate\u001b[0m\u001b[0;34m)\u001b[0m\u001b[0;34m:\u001b[0m\u001b[0;34m\u001b[0m\u001b[0;34m\u001b[0m\u001b[0m\n\u001b[0;32m---> 16\u001b[0;31m         \u001b[0mx\u001b[0m \u001b[0;34m=\u001b[0m \u001b[0mF\u001b[0m\u001b[0;34m.\u001b[0m\u001b[0mrelu\u001b[0m\u001b[0;34m(\u001b[0m\u001b[0mself\u001b[0m\u001b[0;34m.\u001b[0m\u001b[0mfc1\u001b[0m\u001b[0;34m(\u001b[0m\u001b[0mstate\u001b[0m\u001b[0;34m)\u001b[0m\u001b[0;34m)\u001b[0m\u001b[0;34m\u001b[0m\u001b[0;34m\u001b[0m\u001b[0m\n\u001b[0m\u001b[1;32m     17\u001b[0m         \u001b[0mx\u001b[0m \u001b[0;34m=\u001b[0m \u001b[0mF\u001b[0m\u001b[0;34m.\u001b[0m\u001b[0mrelu\u001b[0m\u001b[0;34m(\u001b[0m\u001b[0mself\u001b[0m\u001b[0;34m.\u001b[0m\u001b[0mfc2\u001b[0m\u001b[0;34m(\u001b[0m\u001b[0mx\u001b[0m\u001b[0;34m)\u001b[0m\u001b[0;34m)\u001b[0m\u001b[0;34m\u001b[0m\u001b[0;34m\u001b[0m\u001b[0m\n\u001b[1;32m     18\u001b[0m         \u001b[0mx\u001b[0m \u001b[0;34m=\u001b[0m \u001b[0mtorch\u001b[0m\u001b[0;34m.\u001b[0m\u001b[0mtanh\u001b[0m\u001b[0;34m(\u001b[0m\u001b[0mself\u001b[0m\u001b[0;34m.\u001b[0m\u001b[0mfc3\u001b[0m\u001b[0;34m(\u001b[0m\u001b[0mx\u001b[0m\u001b[0;34m)\u001b[0m\u001b[0;34m)\u001b[0m  \u001b[0;31m# Output with tanh activation for bounded actions\u001b[0m\u001b[0;34m\u001b[0m\u001b[0;34m\u001b[0m\u001b[0m\n",
            "\u001b[0;32m/usr/local/lib/python3.10/dist-packages/torch/nn/modules/module.py\u001b[0m in \u001b[0;36m_wrapped_call_impl\u001b[0;34m(self, *args, **kwargs)\u001b[0m\n\u001b[1;32m   1516\u001b[0m             \u001b[0;32mreturn\u001b[0m \u001b[0mself\u001b[0m\u001b[0;34m.\u001b[0m\u001b[0m_compiled_call_impl\u001b[0m\u001b[0;34m(\u001b[0m\u001b[0;34m*\u001b[0m\u001b[0margs\u001b[0m\u001b[0;34m,\u001b[0m \u001b[0;34m**\u001b[0m\u001b[0mkwargs\u001b[0m\u001b[0;34m)\u001b[0m  \u001b[0;31m# type: ignore[misc]\u001b[0m\u001b[0;34m\u001b[0m\u001b[0;34m\u001b[0m\u001b[0m\n\u001b[1;32m   1517\u001b[0m         \u001b[0;32melse\u001b[0m\u001b[0;34m:\u001b[0m\u001b[0;34m\u001b[0m\u001b[0;34m\u001b[0m\u001b[0m\n\u001b[0;32m-> 1518\u001b[0;31m             \u001b[0;32mreturn\u001b[0m \u001b[0mself\u001b[0m\u001b[0;34m.\u001b[0m\u001b[0m_call_impl\u001b[0m\u001b[0;34m(\u001b[0m\u001b[0;34m*\u001b[0m\u001b[0margs\u001b[0m\u001b[0;34m,\u001b[0m \u001b[0;34m**\u001b[0m\u001b[0mkwargs\u001b[0m\u001b[0;34m)\u001b[0m\u001b[0;34m\u001b[0m\u001b[0;34m\u001b[0m\u001b[0m\n\u001b[0m\u001b[1;32m   1519\u001b[0m \u001b[0;34m\u001b[0m\u001b[0m\n\u001b[1;32m   1520\u001b[0m     \u001b[0;32mdef\u001b[0m \u001b[0m_call_impl\u001b[0m\u001b[0;34m(\u001b[0m\u001b[0mself\u001b[0m\u001b[0;34m,\u001b[0m \u001b[0;34m*\u001b[0m\u001b[0margs\u001b[0m\u001b[0;34m,\u001b[0m \u001b[0;34m**\u001b[0m\u001b[0mkwargs\u001b[0m\u001b[0;34m)\u001b[0m\u001b[0;34m:\u001b[0m\u001b[0;34m\u001b[0m\u001b[0;34m\u001b[0m\u001b[0m\n",
            "\u001b[0;32m/usr/local/lib/python3.10/dist-packages/torch/nn/modules/module.py\u001b[0m in \u001b[0;36m_call_impl\u001b[0;34m(self, *args, **kwargs)\u001b[0m\n\u001b[1;32m   1525\u001b[0m                 \u001b[0;32mor\u001b[0m \u001b[0m_global_backward_pre_hooks\u001b[0m \u001b[0;32mor\u001b[0m \u001b[0m_global_backward_hooks\u001b[0m\u001b[0;34m\u001b[0m\u001b[0;34m\u001b[0m\u001b[0m\n\u001b[1;32m   1526\u001b[0m                 or _global_forward_hooks or _global_forward_pre_hooks):\n\u001b[0;32m-> 1527\u001b[0;31m             \u001b[0;32mreturn\u001b[0m \u001b[0mforward_call\u001b[0m\u001b[0;34m(\u001b[0m\u001b[0;34m*\u001b[0m\u001b[0margs\u001b[0m\u001b[0;34m,\u001b[0m \u001b[0;34m**\u001b[0m\u001b[0mkwargs\u001b[0m\u001b[0;34m)\u001b[0m\u001b[0;34m\u001b[0m\u001b[0;34m\u001b[0m\u001b[0m\n\u001b[0m\u001b[1;32m   1528\u001b[0m \u001b[0;34m\u001b[0m\u001b[0m\n\u001b[1;32m   1529\u001b[0m         \u001b[0;32mtry\u001b[0m\u001b[0;34m:\u001b[0m\u001b[0;34m\u001b[0m\u001b[0;34m\u001b[0m\u001b[0m\n",
            "\u001b[0;32m/usr/local/lib/python3.10/dist-packages/torch/nn/modules/linear.py\u001b[0m in \u001b[0;36mforward\u001b[0;34m(self, input)\u001b[0m\n\u001b[1;32m    112\u001b[0m \u001b[0;34m\u001b[0m\u001b[0m\n\u001b[1;32m    113\u001b[0m     \u001b[0;32mdef\u001b[0m \u001b[0mforward\u001b[0m\u001b[0;34m(\u001b[0m\u001b[0mself\u001b[0m\u001b[0;34m,\u001b[0m \u001b[0minput\u001b[0m\u001b[0;34m:\u001b[0m \u001b[0mTensor\u001b[0m\u001b[0;34m)\u001b[0m \u001b[0;34m->\u001b[0m \u001b[0mTensor\u001b[0m\u001b[0;34m:\u001b[0m\u001b[0;34m\u001b[0m\u001b[0;34m\u001b[0m\u001b[0m\n\u001b[0;32m--> 114\u001b[0;31m         \u001b[0;32mreturn\u001b[0m \u001b[0mF\u001b[0m\u001b[0;34m.\u001b[0m\u001b[0mlinear\u001b[0m\u001b[0;34m(\u001b[0m\u001b[0minput\u001b[0m\u001b[0;34m,\u001b[0m \u001b[0mself\u001b[0m\u001b[0;34m.\u001b[0m\u001b[0mweight\u001b[0m\u001b[0;34m,\u001b[0m \u001b[0mself\u001b[0m\u001b[0;34m.\u001b[0m\u001b[0mbias\u001b[0m\u001b[0;34m)\u001b[0m\u001b[0;34m\u001b[0m\u001b[0;34m\u001b[0m\u001b[0m\n\u001b[0m\u001b[1;32m    115\u001b[0m \u001b[0;34m\u001b[0m\u001b[0m\n\u001b[1;32m    116\u001b[0m     \u001b[0;32mdef\u001b[0m \u001b[0mextra_repr\u001b[0m\u001b[0;34m(\u001b[0m\u001b[0mself\u001b[0m\u001b[0;34m)\u001b[0m \u001b[0;34m->\u001b[0m \u001b[0mstr\u001b[0m\u001b[0;34m:\u001b[0m\u001b[0;34m\u001b[0m\u001b[0;34m\u001b[0m\u001b[0m\n",
            "\u001b[0;32m/usr/local/lib/python3.10/dist-packages/torch/nn/modules/module.py\u001b[0m in \u001b[0;36m__getattr__\u001b[0;34m(self, name)\u001b[0m\n\u001b[1;32m   1680\u001b[0m     \u001b[0;31m# See full discussion on the problems with returning `Union` here\u001b[0m\u001b[0;34m\u001b[0m\u001b[0;34m\u001b[0m\u001b[0m\n\u001b[1;32m   1681\u001b[0m     \u001b[0;31m# https://github.com/microsoft/pyright/issues/4213\u001b[0m\u001b[0;34m\u001b[0m\u001b[0;34m\u001b[0m\u001b[0m\n\u001b[0;32m-> 1682\u001b[0;31m     \u001b[0;32mdef\u001b[0m \u001b[0m__getattr__\u001b[0m\u001b[0;34m(\u001b[0m\u001b[0mself\u001b[0m\u001b[0;34m,\u001b[0m \u001b[0mname\u001b[0m\u001b[0;34m:\u001b[0m \u001b[0mstr\u001b[0m\u001b[0;34m)\u001b[0m \u001b[0;34m->\u001b[0m \u001b[0mAny\u001b[0m\u001b[0;34m:\u001b[0m\u001b[0;34m\u001b[0m\u001b[0;34m\u001b[0m\u001b[0m\n\u001b[0m\u001b[1;32m   1683\u001b[0m         \u001b[0;32mif\u001b[0m \u001b[0;34m'_parameters'\u001b[0m \u001b[0;32min\u001b[0m \u001b[0mself\u001b[0m\u001b[0;34m.\u001b[0m\u001b[0m__dict__\u001b[0m\u001b[0;34m:\u001b[0m\u001b[0;34m\u001b[0m\u001b[0;34m\u001b[0m\u001b[0m\n\u001b[1;32m   1684\u001b[0m             \u001b[0m_parameters\u001b[0m \u001b[0;34m=\u001b[0m \u001b[0mself\u001b[0m\u001b[0;34m.\u001b[0m\u001b[0m__dict__\u001b[0m\u001b[0;34m[\u001b[0m\u001b[0;34m'_parameters'\u001b[0m\u001b[0;34m]\u001b[0m\u001b[0;34m\u001b[0m\u001b[0;34m\u001b[0m\u001b[0m\n",
            "\u001b[0;31mKeyboardInterrupt\u001b[0m: "
          ]
        }
      ],
      "source": [
        "device = torch.device(\"cuda\" if torch.cuda.is_available() else \"cpu\")\n",
        "\n",
        "# Initialize networks\n",
        "state_dim = 3\n",
        "action_dim = 1\n",
        "hidden1_units = 64  # Number of units in the first hidden layer\n",
        "hidden2_units = 64  # Number of units in the second hidden layer\n",
        "actor_model = Actor(state_dim, action_dim, hidden1_units, hidden2_units)\n",
        "critic_model = Critic(state_dim, action_dim, hidden1_units, hidden2_units)\n",
        "\n",
        "target_actor_model = Actor(state_dim, action_dim, hidden1_units, hidden2_units)\n",
        "target_critic_model = Critic(state_dim, action_dim, hidden1_units, hidden2_units)\n",
        "\n",
        "# Set target networks' parameters equal to the main networks' parameters\n",
        "target_actor_model.load_state_dict(actor_model.state_dict())\n",
        "target_critic_model.load_state_dict(critic_model.state_dict())\n",
        "\n",
        "actor_model.to(device)\n",
        "critic_model.to(device)\n",
        "target_actor_model.to(device)\n",
        "target_critic_model.to(device)\n",
        "\n",
        "# Define algorithm parameters\n",
        "beta = 0.005\n",
        "gamma = 0.9\n",
        "lr = 0.005\n",
        "weight_decay = 1e-10\n",
        "optimizer_critic = optim.Adam(critic_model.parameters(), lr=lr,weight_decay=weight_decay)\n",
        "optimizer_actor = optim.Adam(actor_model.parameters(), lr=lr,weight_decay=weight_decay)\n",
        "\n",
        "# Initialize environment and replay memory\n",
        "env = DDPGTradingEnv(df)  # Initialize your environment\n",
        "replay_memory = []  # Initialize your replay memory\n",
        "\n",
        "num_episodes = 1\n",
        "minibatch_size = 16\n",
        "\n",
        "for i in range(num_episodes):\n",
        "  epsilon = 0.1\n",
        "  state = env.reset()\n",
        "  terminated = False\n",
        "\n",
        "  while not terminated:\n",
        "    action = actor_model(torch.FloatTensor(state).to(device))\n",
        "    action = action.detach().to('cpu').numpy()\n",
        "    print(action)\n",
        "    # Add exploration noise (optional)\n",
        "    action += epsilon * np.random.randn(action_dim)\n",
        "    new_state, reward, terminated, info = env.step(action)\n",
        "    print(info)\n",
        "    # print(action)\n",
        "    transition = (torch.FloatTensor(state), torch.FloatTensor(action), torch.FloatTensor(reward), torch.FloatTensor(new_state.astype(np.float64)))\n",
        "    replay_memory.append(transition)\n",
        "\n",
        "    # Sample a minibatch from the replay memory\n",
        "    if len(replay_memory) <= minibatch_size:\n",
        "        minibatch_sampled_from_D = replay_memory\n",
        "    else:\n",
        "        minibatch_sampled_from_D = random.sample(replay_memory, minibatch_size)\n",
        "\n",
        "    for transition in minibatch_sampled_from_D:\n",
        "      state, action, reward, new_state = transition\n",
        "      state = state.to(device)\n",
        "      action = action.to(device)\n",
        "\n",
        "      new_state_tensor = torch.FloatTensor(new_state).to(device)\n",
        "\n",
        "      target_actor_output = target_actor_model(new_state_tensor)\n",
        "      reward_tensor = reward.to(device)\n",
        "      y = reward_tensor + gamma * target_critic_model(new_state_tensor, target_actor_output)\n",
        "\n",
        "      critic_output = critic_model(state, action)\n",
        "      critic_loss = nn.MSELoss().to(device)(critic_output, y.detach())\n",
        "\n",
        "      optimizer_critic.zero_grad()\n",
        "      critic_loss.backward()\n",
        "      optimizer_critic.step()\n",
        "\n",
        "      # Update actor\n",
        "      actor_output = actor_model(state)\n",
        "      actor_loss = -torch.mean(critic_model(state, actor_output))\n",
        "\n",
        "      optimizer_actor.zero_grad()\n",
        "      actor_loss.backward()\n",
        "      optimizer_actor.step()\n",
        "\n",
        "    # Soft update of target networks\n",
        "    for target_param, param in zip(target_actor_model.parameters(), actor_model.parameters()):\n",
        "        target_param.data.copy_(beta * param.data + (1 - beta) * target_param.data)\n",
        "\n",
        "    for target_param, param in zip(target_critic_model.parameters(), critic_model.parameters()):\n",
        "        target_param.data.copy_(beta * param.data + (1 - beta) * target_param.data)\n",
        "\n",
        "    state = new_state  # Update the current state"
      ]
    },
    {
      "cell_type": "markdown",
      "metadata": {
        "id": "X_ndn1d32Lrh"
      },
      "source": [
        "### Actor Class TEST"
      ]
    },
    {
      "cell_type": "markdown",
      "metadata": {
        "id": "ITKvlb-V2Lrj"
      },
      "source": [
        "### Critic Class TEST"
      ]
    },
    {
      "cell_type": "markdown",
      "metadata": {
        "id": "y7l26r8L2Lrm"
      },
      "source": [
        "## Training TEST"
      ]
    },
    {
      "cell_type": "code",
      "execution_count": null,
      "metadata": {
        "id": "LD_IxIk52Lrm"
      },
      "outputs": [],
      "source": [
        "# # Intialise environment\n",
        "# env = DDPGTradingEnv(df)\n",
        "\n",
        "# # State space shape\n",
        "# state_dim = env.observation_space.shape\n",
        "# # Action space shape (should be 1)\n",
        "# action_dim = env.action_space.shape\n",
        "\n",
        "# # Initialise models\n",
        "# actor_model = Actor(input_dim=state_dim, output_dim=action_dim)\n",
        "# critic_model = Critic(input_dim=state_dim, output_dim=1)\n",
        "\n",
        "# # Example forward pass\n",
        "# state = torch.FloatTensor(\n",
        "#     env._get_observation())  # Assuming _get_observation() returns the state\n",
        "# action = actor_model.forward(state)\n",
        "# value_estimate = critic_model.forward(state, action)\n",
        "\n",
        "# print(value_estimate)"
      ]
    },
    {
      "cell_type": "code",
      "execution_count": 39,
      "metadata": {
        "colab": {
          "base_uri": "https://localhost:8080/",
          "height": 528
        },
        "id": "0B6zlKCe2Lrn",
        "outputId": "fd6940b5-7b6f-42c8-c848-93d2474ba468"
      },
      "outputs": [
        {
          "output_type": "stream",
          "name": "stderr",
          "text": [
            "/usr/local/lib/python3.10/dist-packages/numpy/core/shape_base.py:65: VisibleDeprecationWarning: Creating an ndarray from ragged nested sequences (which is a list-or-tuple of lists-or-tuples-or ndarrays with different lengths or shapes) is deprecated. If you meant to do this, you must specify 'dtype=object' when creating the ndarray.\n",
            "  ary = asanyarray(ary)\n"
          ]
        },
        {
          "output_type": "display_data",
          "data": {
            "text/plain": [
              "<Figure size 640x480 with 1 Axes>"
            ],
            "image/png": "[encoded data removed]"
          },
          "metadata": {}
        }
      ],
      "source": [
        "import matplotlib.pyplot as plt\n",
        "\n",
        "# Plotting the profit change\n",
        "plt.plot(env.portfolio_history)\n",
        "plt.title(\"Profit Change Over Time\")\n",
        "plt.xlabel(\"Steps\")\n",
        "plt.ylabel(\"Total Profit\")\n",
        "plt.show()"
      ]
    },
    {
      "cell_type": "code",
      "source": [],
      "metadata": {
        "id": "tkDKA_qV8Tif"
      },
      "execution_count": null,
      "outputs": []
    }
  ],
  "metadata": {
    "colab": {
      "provenance": [],
      "gpuType": "T4"
    },
    "kernelspec": {
      "display_name": "Python 3",
      "name": "python3"
    },
    "language_info": {
      "codemirror_mode": {
        "name": "ipython",
        "version": 3
      },
      "file_extension": ".py",
      "mimetype": "text/x-python",
      "name": "python",
      "nbconvert_exporter": "python",
      "pygments_lexer": "ipython3",
      "version": "3.11.2"
    },
    "accelerator": "GPU"
  },
  "nbformat": 4,
  "nbformat_minor": 0
}